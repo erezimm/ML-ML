{
  "nbformat": 4,
  "nbformat_minor": 0,
  "metadata": {
    "kernelspec": {
      "display_name": "Python 3",
      "language": "python",
      "name": "python3"
    },
    "language_info": {
      "codemirror_mode": {
        "name": "ipython",
        "version": 3
      },
      "file_extension": ".py",
      "mimetype": "text/x-python",
      "name": "python",
      "nbconvert_exporter": "python",
      "pygments_lexer": "ipython3",
      "version": "3.8.2"
    },
    "colab": {
      "name": "CNN final project.ipynb",
      "provenance": [],
      "collapsed_sections": [],
      "toc_visible": true,
      "include_colab_link": true
    },
    "accelerator": "GPU",
    "widgets": {
      "application/vnd.jupyter.widget-state+json": {
        "3036825b0d9c4d7c84ab2757faf8e0fa": {
          "model_module": "@jupyter-widgets/controls",
          "model_name": "HBoxModel",
          "state": {
            "_view_name": "HBoxView",
            "_dom_classes": [],
            "_model_name": "HBoxModel",
            "_view_module": "@jupyter-widgets/controls",
            "_model_module_version": "1.5.0",
            "_view_count": null,
            "_view_module_version": "1.5.0",
            "box_style": "",
            "layout": "IPY_MODEL_1a4a1aea28fc440e90a4caff2a3f985e",
            "_model_module": "@jupyter-widgets/controls",
            "children": [
              "IPY_MODEL_922589bb8717430ba1e29f0f789785f3",
              "IPY_MODEL_c7b1a60f2049420aac013ba50e5ad6df"
            ]
          }
        },
        "1a4a1aea28fc440e90a4caff2a3f985e": {
          "model_module": "@jupyter-widgets/base",
          "model_name": "LayoutModel",
          "state": {
            "_view_name": "LayoutView",
            "grid_template_rows": null,
            "right": null,
            "justify_content": null,
            "_view_module": "@jupyter-widgets/base",
            "overflow": null,
            "_model_module_version": "1.2.0",
            "_view_count": null,
            "flex_flow": null,
            "width": null,
            "min_width": null,
            "border": null,
            "align_items": null,
            "bottom": null,
            "_model_module": "@jupyter-widgets/base",
            "top": null,
            "grid_column": null,
            "overflow_y": null,
            "overflow_x": null,
            "grid_auto_flow": null,
            "grid_area": null,
            "grid_template_columns": null,
            "flex": null,
            "_model_name": "LayoutModel",
            "justify_items": null,
            "grid_row": null,
            "max_height": null,
            "align_content": null,
            "visibility": null,
            "align_self": null,
            "height": null,
            "min_height": null,
            "padding": null,
            "grid_auto_rows": null,
            "grid_gap": null,
            "max_width": null,
            "order": null,
            "_view_module_version": "1.2.0",
            "grid_template_areas": null,
            "object_position": null,
            "object_fit": null,
            "grid_auto_columns": null,
            "margin": null,
            "display": null,
            "left": null
          }
        },
        "922589bb8717430ba1e29f0f789785f3": {
          "model_module": "@jupyter-widgets/controls",
          "model_name": "FloatProgressModel",
          "state": {
            "_view_name": "ProgressView",
            "style": "IPY_MODEL_c01450ea979540cea6973c7a5f1ab07b",
            "_dom_classes": [],
            "description": "100%",
            "_model_name": "FloatProgressModel",
            "bar_style": "success",
            "max": 50,
            "_view_module": "@jupyter-widgets/controls",
            "_model_module_version": "1.5.0",
            "value": 50,
            "_view_count": null,
            "_view_module_version": "1.5.0",
            "orientation": "horizontal",
            "min": 0,
            "description_tooltip": null,
            "_model_module": "@jupyter-widgets/controls",
            "layout": "IPY_MODEL_2408a70e8b2540509832010c363b2e08"
          }
        },
        "c7b1a60f2049420aac013ba50e5ad6df": {
          "model_module": "@jupyter-widgets/controls",
          "model_name": "HTMLModel",
          "state": {
            "_view_name": "HTMLView",
            "style": "IPY_MODEL_d8e3e7e7f0a24d6bb17656b2229c52b0",
            "_dom_classes": [],
            "description": "",
            "_model_name": "HTMLModel",
            "placeholder": "​",
            "_view_module": "@jupyter-widgets/controls",
            "_model_module_version": "1.5.0",
            "value": " 50/50 [1:23:53&lt;00:00, 100.67s/it]",
            "_view_count": null,
            "_view_module_version": "1.5.0",
            "description_tooltip": null,
            "_model_module": "@jupyter-widgets/controls",
            "layout": "IPY_MODEL_3e4070511d4a4c94a08e4078ade42467"
          }
        },
        "c01450ea979540cea6973c7a5f1ab07b": {
          "model_module": "@jupyter-widgets/controls",
          "model_name": "ProgressStyleModel",
          "state": {
            "_view_name": "StyleView",
            "_model_name": "ProgressStyleModel",
            "description_width": "initial",
            "_view_module": "@jupyter-widgets/base",
            "_model_module_version": "1.5.0",
            "_view_count": null,
            "_view_module_version": "1.2.0",
            "bar_color": null,
            "_model_module": "@jupyter-widgets/controls"
          }
        },
        "2408a70e8b2540509832010c363b2e08": {
          "model_module": "@jupyter-widgets/base",
          "model_name": "LayoutModel",
          "state": {
            "_view_name": "LayoutView",
            "grid_template_rows": null,
            "right": null,
            "justify_content": null,
            "_view_module": "@jupyter-widgets/base",
            "overflow": null,
            "_model_module_version": "1.2.0",
            "_view_count": null,
            "flex_flow": null,
            "width": null,
            "min_width": null,
            "border": null,
            "align_items": null,
            "bottom": null,
            "_model_module": "@jupyter-widgets/base",
            "top": null,
            "grid_column": null,
            "overflow_y": null,
            "overflow_x": null,
            "grid_auto_flow": null,
            "grid_area": null,
            "grid_template_columns": null,
            "flex": null,
            "_model_name": "LayoutModel",
            "justify_items": null,
            "grid_row": null,
            "max_height": null,
            "align_content": null,
            "visibility": null,
            "align_self": null,
            "height": null,
            "min_height": null,
            "padding": null,
            "grid_auto_rows": null,
            "grid_gap": null,
            "max_width": null,
            "order": null,
            "_view_module_version": "1.2.0",
            "grid_template_areas": null,
            "object_position": null,
            "object_fit": null,
            "grid_auto_columns": null,
            "margin": null,
            "display": null,
            "left": null
          }
        },
        "d8e3e7e7f0a24d6bb17656b2229c52b0": {
          "model_module": "@jupyter-widgets/controls",
          "model_name": "DescriptionStyleModel",
          "state": {
            "_view_name": "StyleView",
            "_model_name": "DescriptionStyleModel",
            "description_width": "",
            "_view_module": "@jupyter-widgets/base",
            "_model_module_version": "1.5.0",
            "_view_count": null,
            "_view_module_version": "1.2.0",
            "_model_module": "@jupyter-widgets/controls"
          }
        },
        "3e4070511d4a4c94a08e4078ade42467": {
          "model_module": "@jupyter-widgets/base",
          "model_name": "LayoutModel",
          "state": {
            "_view_name": "LayoutView",
            "grid_template_rows": null,
            "right": null,
            "justify_content": null,
            "_view_module": "@jupyter-widgets/base",
            "overflow": null,
            "_model_module_version": "1.2.0",
            "_view_count": null,
            "flex_flow": null,
            "width": null,
            "min_width": null,
            "border": null,
            "align_items": null,
            "bottom": null,
            "_model_module": "@jupyter-widgets/base",
            "top": null,
            "grid_column": null,
            "overflow_y": null,
            "overflow_x": null,
            "grid_auto_flow": null,
            "grid_area": null,
            "grid_template_columns": null,
            "flex": null,
            "_model_name": "LayoutModel",
            "justify_items": null,
            "grid_row": null,
            "max_height": null,
            "align_content": null,
            "visibility": null,
            "align_self": null,
            "height": null,
            "min_height": null,
            "padding": null,
            "grid_auto_rows": null,
            "grid_gap": null,
            "max_width": null,
            "order": null,
            "_view_module_version": "1.2.0",
            "grid_template_areas": null,
            "object_position": null,
            "object_fit": null,
            "grid_auto_columns": null,
            "margin": null,
            "display": null,
            "left": null
          }
        }
      }
    }
  },
  "cells": [
    {
      "cell_type": "markdown",
      "metadata": {
        "id": "view-in-github",
        "colab_type": "text"
      },
      "source": [
        "<a href=\"https://colab.research.google.com/github/erezimm/ML-ML/blob/master/CNN_final_project.ipynb\" target=\"_parent\"><img src=\"https://colab.research.google.com/assets/colab-badge.svg\" alt=\"Open In Colab\"/></a>"
      ]
    },
    {
      "cell_type": "markdown",
      "metadata": {
        "id": "OCU4DoTLIIoO",
        "colab_type": "text"
      },
      "source": [
        "# Main notebook, to be run on Google Colab"
      ]
    },
    {
      "cell_type": "markdown",
      "metadata": {
        "id": "PWYU8-BTJ-XN",
        "colab_type": "text"
      },
      "source": [
        "## Import dependencies and download dataset"
      ]
    },
    {
      "cell_type": "code",
      "metadata": {
        "id": "L5E9Y_nnn3m8",
        "colab_type": "code",
        "colab": {
          "base_uri": "https://localhost:8080/",
          "height": 486
        },
        "outputId": "190a15da-ed2f-451c-ef71-8e397cde516b"
      },
      "source": [
        "!pip install dgl\n",
        "\n",
        "import glob\n",
        "import os\n",
        "import shutil\n",
        "from datetime import datetime\n",
        "\n",
        "import astropy.io.ascii\n",
        "import dgl\n",
        "import matplotlib.pyplot as plt\n",
        "import networkx as nx\n",
        "import numpy as np\n",
        "import torch\n",
        "import torch.nn as nn\n",
        "import torch.optim as optim\n",
        "from torch.utils.data import Dataset, DataLoader\n",
        "from tqdm.notebook import tqdm\n",
        "\n",
        "if not torch.cuda.is_available():\n",
        "    raise Exception('Cuda unavailable, turn it on under Runtime>Change runtime type>GPU')\n",
        "# device = torch.device('cude')\n",
        "\n",
        "training_path = '/content/training_set'\n",
        "validation_path = '/content/validation_set'\n",
        "for path in (training_path, validation_path):\n",
        "    if not os.path.isdir(path):\n",
        "        os.makedirs(path)\n",
        "\n",
        "!wget -O data.zip https://github.com/erezimm/ML-ML/raw/master/data.zip\n",
        "!unzip -o -q data.zip -d /content/\n",
        "data_path = '/content/data'\n",
        "microlist = glob.glob(data_path+'/microlensedconst_*')\n",
        "varlist = glob.glob(data_path+'/cleanvar_*')\n",
        "for typelist in (microlist, varlist):\n",
        "    for i, f in enumerate(typelist):\n",
        "        dest = training_path if i<len(microlist)/2 else validation_path\n",
        "        shutil.move(f, os.path.join(dest, os.path.basename(f)))"
      ],
      "execution_count": 9,
      "outputs": [
        {
          "output_type": "stream",
          "text": [
            "Requirement already satisfied: dgl in /usr/local/lib/python3.6/dist-packages (0.4.3.post2)\n",
            "Requirement already satisfied: requests>=2.19.0 in /usr/local/lib/python3.6/dist-packages (from dgl) (2.23.0)\n",
            "Requirement already satisfied: scipy>=1.1.0 in /usr/local/lib/python3.6/dist-packages (from dgl) (1.4.1)\n",
            "Requirement already satisfied: networkx>=2.1 in /usr/local/lib/python3.6/dist-packages (from dgl) (2.4)\n",
            "Requirement already satisfied: numpy>=1.14.0 in /usr/local/lib/python3.6/dist-packages (from dgl) (1.18.5)\n",
            "Requirement already satisfied: certifi>=2017.4.17 in /usr/local/lib/python3.6/dist-packages (from requests>=2.19.0->dgl) (2020.6.20)\n",
            "Requirement already satisfied: chardet<4,>=3.0.2 in /usr/local/lib/python3.6/dist-packages (from requests>=2.19.0->dgl) (3.0.4)\n",
            "Requirement already satisfied: urllib3!=1.25.0,!=1.25.1,<1.26,>=1.21.1 in /usr/local/lib/python3.6/dist-packages (from requests>=2.19.0->dgl) (1.24.3)\n",
            "Requirement already satisfied: idna<3,>=2.5 in /usr/local/lib/python3.6/dist-packages (from requests>=2.19.0->dgl) (2.10)\n",
            "Requirement already satisfied: decorator>=4.3.0 in /usr/local/lib/python3.6/dist-packages (from networkx>=2.1->dgl) (4.4.2)\n",
            "--2020-08-12 06:56:08--  https://github.com/erezimm/ML-ML/raw/master/data.zip\n",
            "Resolving github.com (github.com)... 140.82.118.3\n",
            "Connecting to github.com (github.com)|140.82.118.3|:443... connected.\n",
            "HTTP request sent, awaiting response... 302 Found\n",
            "Location: https://raw.githubusercontent.com/erezimm/ML-ML/master/data.zip [following]\n",
            "--2020-08-12 06:56:08--  https://raw.githubusercontent.com/erezimm/ML-ML/master/data.zip\n",
            "Resolving raw.githubusercontent.com (raw.githubusercontent.com)... 151.101.0.133, 151.101.64.133, 151.101.128.133, ...\n",
            "Connecting to raw.githubusercontent.com (raw.githubusercontent.com)|151.101.0.133|:443... connected.\n",
            "HTTP request sent, awaiting response... 200 OK\n",
            "Length: 6541642 (6.2M) [application/zip]\n",
            "Saving to: ‘data.zip’\n",
            "\n",
            "data.zip            100%[===================>]   6.24M  --.-KB/s    in 0.1s    \n",
            "\n",
            "2020-08-12 06:56:08 (47.5 MB/s) - ‘data.zip’ saved [6541642/6541642]\n",
            "\n"
          ],
          "name": "stdout"
        }
      ]
    },
    {
      "cell_type": "markdown",
      "metadata": {
        "id": "ff2ASGtVn3nB",
        "colab_type": "text"
      },
      "source": [
        "## Create Datasets"
      ]
    },
    {
      "cell_type": "code",
      "metadata": {
        "id": "0t1TdUs4psGT",
        "colab_type": "code",
        "colab": {}
      },
      "source": [
        "import pandas as pd\n",
        "from PIL import Image\n",
        "\n",
        "path = training_path\n",
        "dm_grid = [-8.0,-5.0,-3.0,-2.5,-2.0,-1.5,-1.0,-0.5,-0.3,-0.2,-0.1,0,0.1,0.2,0.3,0.5,1,1.5,2,2.5,3,5,8]\n",
        "dt_grid = [1/145,2/145,3/145,4/145,1/25,2/25,3/25,1.5,2.5,3.5,4.5,5.5,7,10,20,30,60,90,120,240,600,960,2000]\n",
        "\n",
        "class CustomDataset(Dataset):\n",
        "    def __init__(self, path,dm_grid,dt_grid):\n",
        "\n",
        "      self.filelist = glob.glob(path+'/*')\n",
        "      self.labels = self.get_labels()\n",
        "      \n",
        "    def __len__(self):\n",
        "        return len(self.filelist)\n",
        "\n",
        "    def __getitem__(self, idx):\n",
        "        fname = self.filelist[idx]\n",
        "        df = pd.read_csv(fname,delimiter=' ',names=['times', 'mags','errs']).sort_values('times').reindex()\n",
        "        n = len(df)\n",
        "        dts = pd.cut(np.diff(df['times'].to_numpy()),dt_grid)\n",
        "        dms = pd.cut(np.diff(df['mags'].to_numpy()),dm_grid)\n",
        "        grid = np.zeros([len(dms.categories),len(dts.categories)])\n",
        "        for i in range(len(dts)):\n",
        "            if dts[i] != None:\n",
        "                dt_cat = np.where((dts[i] == dts.categories))[0]\n",
        "                dm_cat = np.where((dms[i] == dms.categories))[0]\n",
        "                grid[dm_cat,dt_cat]+=1\n",
        "            else:\n",
        "                n = n-1\n",
        "        p = n*(n-1)/2\n",
        "        grid = (((255*grid)/p)+0.999999).astype(int)\n",
        "        label = self.labels[idx]\n",
        "        return torch.FloatTensor(grid).unsqueeze(0),label\n",
        "\n",
        "    def get_labels(self):\n",
        "        labels = []\n",
        "        for fname in self.filelist:\n",
        "            filebasename = os.path.basename(fname)\n",
        "            if filebasename.startswith('cleanvar'):\n",
        "                labels.append(0)\n",
        "            elif filebasename.startswith('microlensedconst'):\n",
        "                labels.append(1)\n",
        "            else:\n",
        "                raise Exception('Filename ' + fname + ' not clean_* or microlensed_*')\n",
        "        return torch.LongTensor(labels)"
      ],
      "execution_count": 10,
      "outputs": []
    },
    {
      "cell_type": "code",
      "metadata": {
        "id": "J4bQFrn-QmCq",
        "colab_type": "code",
        "colab": {}
      },
      "source": [
        "train_ds = CustomDataset(training_path,dm_grid,dt_grid)\n",
        "valid_ds = CustomDataset(validation_path,dm_grid,dt_grid)"
      ],
      "execution_count": 11,
      "outputs": []
    },
    {
      "cell_type": "code",
      "metadata": {
        "id": "2J_jnTtpy9Xt",
        "colab_type": "code",
        "colab": {
          "base_uri": "https://localhost:8080/",
          "height": 299
        },
        "outputId": "f316cf7c-b8c8-4269-8690-b0674f6a5965"
      },
      "source": [
        "import matplotlib.pyplot as plt\n",
        "\n",
        "x,y = train_ds[100]\n",
        "print(x.shape)\n",
        "plt.imshow(x[0])"
      ],
      "execution_count": 12,
      "outputs": [
        {
          "output_type": "stream",
          "text": [
            "torch.Size([1, 22, 22])\n"
          ],
          "name": "stdout"
        },
        {
          "output_type": "execute_result",
          "data": {
            "text/plain": [
              "<matplotlib.image.AxesImage at 0x7f9bca361978>"
            ]
          },
          "metadata": {
            "tags": []
          },
          "execution_count": 12
        },
        {
          "output_type": "display_data",
          "data": {
            "image/png": "[encoded data removed]",
            "text/plain": [
              "<Figure size 432x288 with 1 Axes>"
            ]
          },
          "metadata": {
            "tags": [],
            "needs_background": "light"
          }
        }
      ]
    },
    {
      "cell_type": "markdown",
      "metadata": {
        "id": "FGDTIcKIuGW2",
        "colab_type": "text"
      },
      "source": [
        "## The Newtwork"
      ]
    },
    {
      "cell_type": "code",
      "metadata": {
        "id": "fs14d7QUn3nL",
        "colab_type": "code",
        "colab": {}
      },
      "source": [
        "class ImageClassifier(nn.Module):\n",
        "\n",
        "    def __init__(self):\n",
        "        super(ImageClassifier, self).__init__()\n",
        "\n",
        "        self.conv1 = nn.Sequential(nn.Conv2d(1,64,3),nn.LeakyReLU(),nn.MaxPool2d(2,stride=2),nn.Dropout(0.1))\n",
        "        self.conv2 = nn.Sequential(nn.Conv2d(64,128, 5),nn.LeakyReLU())\n",
        "        self.conv3 = nn.Sequential(nn.Conv2d(128,256, 5),nn.LeakyReLU())\n",
        "        self.linear = nn.Sequential(nn.Linear(1024,512),nn.Dropout(0.3),nn.Linear(512,256),nn.Linear(256,2),nn.Softmax())\n",
        "        \n",
        "    def forward(self, x):\n",
        "        out = self.conv1(x)\n",
        "        # print(out.s3hape)    \n",
        "        out = self.conv2(out)\n",
        "        # print(out.shape)\n",
        "        out = self.conv3(out)\n",
        "        # print(out.shape)\n",
        "        out = torch.flatten(out,1)\n",
        "        # print(out.shape)\n",
        "        out = self.linear(out)\n",
        "        return out"
      ],
      "execution_count": 30,
      "outputs": []
    },
    {
      "cell_type": "code",
      "metadata": {
        "id": "hotC6mzFVlN_",
        "colab_type": "code",
        "colab": {}
      },
      "source": [
        "net = ImageClassifier()\n",
        "if torch.cuda.is_available():\n",
        "   net = net.cuda()"
      ],
      "execution_count": 31,
      "outputs": []
    },
    {
      "cell_type": "markdown",
      "metadata": {
        "id": "6x-ALDRlwBDo",
        "colab_type": "text"
      },
      "source": [
        "## Train"
      ]
    },
    {
      "cell_type": "code",
      "metadata": {
        "id": "qxDdXXaLZjAe",
        "colab_type": "code",
        "colab": {}
      },
      "source": [
        "data_loader = DataLoader(train_ds, batch_size=1000)\n",
        "loss_func = nn.CrossEntropyLoss()\n",
        "opt = optim.Adam(net.parameters(), lr=0.0002)\n",
        "exp_lr_scheduler = torch.optim.lr_scheduler.StepLR(opt, step_size=50, gamma=0.1)\n",
        "valid_dl = DataLoader(valid_ds, batch_size=1000)"
      ],
      "execution_count": 34,
      "outputs": []
    },
    {
      "cell_type": "code",
      "metadata": {
        "id": "KkqG3FJ1ZOjw",
        "colab_type": "code",
        "colab": {
          "base_uri": "https://localhost:8080/",
          "height": 985,
          "referenced_widgets": [
            "3036825b0d9c4d7c84ab2757faf8e0fa",
            "1a4a1aea28fc440e90a4caff2a3f985e",
            "922589bb8717430ba1e29f0f789785f3",
            "c7b1a60f2049420aac013ba50e5ad6df",
            "c01450ea979540cea6973c7a5f1ab07b",
            "2408a70e8b2540509832010c363b2e08",
            "d8e3e7e7f0a24d6bb17656b2229c52b0",
            "3e4070511d4a4c94a08e4078ade42467"
          ]
        },
        "outputId": "0036f22b-9aec-4273-c72c-71b3a23c8175"
      },
      "source": [
        "n_epochs = 50\n",
        "losses = []\n",
        "valid_losses = []\n",
        "for epoch in tqdm( range(n_epochs)):\n",
        "    epoch_loss = []\n",
        "    epoch_valid_loss = []\n",
        "    net.train()\n",
        "    for x,y in data_loader:\n",
        "        if torch.cuda.is_available():\n",
        "            x = x.to(torch.device('cuda'))\n",
        "            y = y.cuda()\n",
        "        pred = net(x)\n",
        "        loss = loss_func(pred,y)\n",
        "        epoch_loss.append(loss.cpu().data.numpy())\n",
        "\n",
        "        loss.backward()\n",
        "        opt.step()\n",
        "        opt.zero_grad()\n",
        "\n",
        "    net.eval()\n",
        "    for x,y in valid_dl:\n",
        "        if torch.cuda.is_available():\n",
        "            x = x.to(torch.device('cuda'))\n",
        "            y = y.cuda()\n",
        "        pred = net(x)\n",
        "        valid_loss = loss_func(pred,y)\n",
        "        epoch_valid_loss.append(loss.cpu().data.numpy())\n",
        "\n",
        "    losses.append(np.mean(epoch_loss))\n",
        "    valid_losses.append(np.mean(epoch_valid_loss))\n",
        "\n",
        "    print(epoch,\"training loss is \",np.mean(epoch_loss),\"validation loss is \",np.mean(epoch_valid_loss))"
      ],
      "execution_count": 35,
      "outputs": [
        {
          "output_type": "display_data",
          "data": {
            "application/vnd.jupyter.widget-view+json": {
              "model_id": "3036825b0d9c4d7c84ab2757faf8e0fa",
              "version_minor": 0,
              "version_major": 2
            },
            "text/plain": [
              "HBox(children=(FloatProgress(value=0.0, max=50.0), HTML(value='')))"
            ]
          },
          "metadata": {
            "tags": []
          }
        },
        {
          "output_type": "stream",
          "text": [
            "/usr/local/lib/python3.6/dist-packages/torch/nn/modules/container.py:117: UserWarning: Implicit dimension choice for softmax has been deprecated. Change the call to include dim=X as an argument.\n",
            "  input = module(input)\n"
          ],
          "name": "stderr"
        },
        {
          "output_type": "stream",
          "text": [
            "0 training loss is  0.6734761 validation loss is  0.65528\n",
            "1 training loss is  0.6344211 validation loss is  0.64213395\n",
            "2 training loss is  0.62757826 validation loss is  0.6218972\n",
            "3 training loss is  0.6234039 validation loss is  0.6180375\n",
            "4 training loss is  0.6061055 validation loss is  0.5977911\n",
            "5 training loss is  0.5967316 validation loss is  0.5840461\n",
            "6 training loss is  0.5896205 validation loss is  0.5765843\n",
            "7 training loss is  0.5765554 validation loss is  0.5658507\n",
            "8 training loss is  0.5652857 validation loss is  0.5476843\n",
            "9 training loss is  0.55731297 validation loss is  0.5465241\n",
            "10 training loss is  0.5482223 validation loss is  0.5332413\n",
            "11 training loss is  0.538746 validation loss is  0.5250792\n",
            "12 training loss is  0.5312268 validation loss is  0.5187498\n",
            "13 training loss is  0.52446675 validation loss is  0.5088616\n",
            "14 training loss is  0.52149385 validation loss is  0.5120432\n",
            "15 training loss is  0.51961464 validation loss is  0.5026453\n",
            "16 training loss is  0.51052827 validation loss is  0.4944164\n",
            "17 training loss is  0.5096811 validation loss is  0.49355856\n",
            "18 training loss is  0.50729734 validation loss is  0.48600903\n",
            "19 training loss is  0.49873567 validation loss is  0.4831378\n",
            "20 training loss is  0.49782753 validation loss is  0.47433877\n",
            "21 training loss is  0.4940076 validation loss is  0.4757248\n",
            "22 training loss is  0.4912344 validation loss is  0.4723572\n",
            "23 training loss is  0.49073362 validation loss is  0.47255445\n",
            "24 training loss is  0.4878048 validation loss is  0.46531034\n",
            "25 training loss is  0.48313951 validation loss is  0.47196293\n",
            "26 training loss is  0.48970357 validation loss is  0.47183356\n",
            "27 training loss is  0.49905452 validation loss is  0.50926447\n",
            "28 training loss is  0.5000162 validation loss is  0.46999568\n",
            "29 training loss is  0.5068561 validation loss is  0.4841\n",
            "30 training loss is  0.47979674 validation loss is  0.47790712\n",
            "31 training loss is  0.47650462 validation loss is  0.4500843\n",
            "32 training loss is  0.4761278 validation loss is  0.46081766\n",
            "33 training loss is  0.46597052 validation loss is  0.45041618\n",
            "34 training loss is  0.46315894 validation loss is  0.4542183\n",
            "35 training loss is  0.46073872 validation loss is  0.4508384\n",
            "36 training loss is  0.46219057 validation loss is  0.43797976\n",
            "37 training loss is  0.4588533 validation loss is  0.43811426\n",
            "38 training loss is  0.4543128 validation loss is  0.43389064\n",
            "39 training loss is  0.4490765 validation loss is  0.43109375\n",
            "40 training loss is  0.44328436 validation loss is  0.43176222\n",
            "41 training loss is  0.4416644 validation loss is  0.43634814\n",
            "42 training loss is  0.43823403 validation loss is  0.42650014\n",
            "43 training loss is  0.43791914 validation loss is  0.42102724\n",
            "44 training loss is  0.4335087 validation loss is  0.42291242\n",
            "45 training loss is  0.43146586 validation loss is  0.41920596\n",
            "46 training loss is  0.42667302 validation loss is  0.4165164\n",
            "47 training loss is  0.4223938 validation loss is  0.410703\n",
            "48 training loss is  0.42380008 validation loss is  0.4127229\n",
            "49 training loss is  0.42594013 validation loss is  0.41143513\n",
            "\n"
          ],
          "name": "stdout"
        }
      ]
    },
    {
      "cell_type": "code",
      "metadata": {
        "id": "gY_s_-6z1qbY",
        "colab_type": "code",
        "colab": {
          "base_uri": "https://localhost:8080/",
          "height": 265
        },
        "outputId": "235083a6-f1e4-4837-d910-1d4dbd6d5666"
      },
      "source": [
        "plt.plot(losses,label='training loss')\n",
        "plt.plot(valid_losses,label='validation loss')\n",
        "plt.legend()\n",
        "plt.show()"
      ],
      "execution_count": 36,
      "outputs": [
        {
          "output_type": "display_data",
          "data": {
            "image/png": "[encoded data removed]",
            "text/plain": [
              "<Figure size 432x288 with 1 Axes>"
            ]
          },
          "metadata": {
            "tags": [],
            "needs_background": "light"
          }
        }
      ]
    },
    {
      "cell_type": "code",
      "metadata": {
        "id": "vW76my_ZaOjm",
        "colab_type": "code",
        "colab": {}
      },
      "source": [
        "torch.save(net.state_dict(), 'model_50.pt')"
      ],
      "execution_count": 24,
      "outputs": []
    },
    {
      "cell_type": "code",
      "metadata": {
        "id": "FNwkZkhG1zME",
        "colab_type": "code",
        "colab": {}
      },
      "source": [
        "def evaluate(net, validation_ds):\n",
        "    test_data_loader = DataLoader(validation_ds, batch_size=100)\n",
        "\n",
        "    net.cpu()\n",
        "    net.eval()\n",
        "\n",
        "    true_positive = 0\n",
        "    false_positive = 0\n",
        "    true_negative = 0\n",
        "    false_negative = 0\n",
        "    total_positives = 0\n",
        "    total_negatives = 0\n",
        "\n",
        "    for i, (x,y) in enumerate(test_data_loader):\n",
        "            y = y.data.numpy()\n",
        "            prediction = net(x).cpu().data.numpy()\n",
        "\n",
        "            pred = (prediction[:,1]>prediction[:,0]/1)\n",
        "\n",
        "            total_positives+=len(np.where( y==1 )[0])\n",
        "            total_negatives+=len(np.where( y==0 )[0])\n",
        "            \n",
        "            true_positive+= len(np.where( (pred==y) & (y==1) )[0])\n",
        "            false_positive+= len(np.where( (pred!=y) & (y==0) )[0])\n",
        "                    \n",
        "    print('Probability of detection:', true_positive/total_positives)  # probability of recognizing a microlensing when you see it\n",
        "    print('Probability of false alarm:', false_positive/total_negatives)  # probability for misclassification of a variable star as microlensing"
      ],
      "execution_count": 37,
      "outputs": []
    },
    {
      "cell_type": "code",
      "metadata": {
        "id": "nWS7eQN3waFP",
        "colab_type": "code",
        "colab": {
          "base_uri": "https://localhost:8080/",
          "height": 106
        },
        "outputId": "0f42e705-8ebe-4d32-8a9d-2d043b6ff7c4"
      },
      "source": [
        "evaluate(net,valid_ds)"
      ],
      "execution_count": 38,
      "outputs": [
        {
          "output_type": "stream",
          "text": [
            "/usr/local/lib/python3.6/dist-packages/torch/nn/modules/container.py:117: UserWarning: Implicit dimension choice for softmax has been deprecated. Change the call to include dim=X as an argument.\n",
            "  input = module(input)\n"
          ],
          "name": "stderr"
        },
        {
          "output_type": "stream",
          "text": [
            "Probability of detection: 0.8096\n",
            "Probability of false alarm: 0.184\n"
          ],
          "name": "stdout"
        }
      ]
    },
    {
      "cell_type": "code",
      "metadata": {
        "id": "EafwjMy6lpLT",
        "colab_type": "code",
        "colab": {}
      },
      "source": [
        "net = ImageClassifier()\n",
        "net.load_state_dict(torch.load('model_1.pt'))\n",
        "net.eval()"
      ],
      "execution_count": null,
      "outputs": []
    }
  ]
}