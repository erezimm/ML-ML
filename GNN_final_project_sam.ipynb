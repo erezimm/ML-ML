{
  "nbformat": 4,
  "nbformat_minor": 0,
  "metadata": {
    "kernelspec": {
      "display_name": "Python 3",
      "language": "python",
      "name": "python3"
    },
    "language_info": {
      "codemirror_mode": {
        "name": "ipython",
        "version": 3
      },
      "file_extension": ".py",
      "mimetype": "text/x-python",
      "name": "python",
      "nbconvert_exporter": "python",
      "pygments_lexer": "ipython3",
      "version": "3.8.2"
    },
    "colab": {
      "name": "Copy of GNN final project.ipynb",
      "provenance": [],
      "collapsed_sections": [],
      "include_colab_link": true
    },
    "accelerator": "GPU",
    "widgets": {
      "application/vnd.jupyter.widget-state+json": {
        "d0b42b7cc20f4a608e989e2b4b8291ac": {
          "model_module": "@jupyter-widgets/controls",
          "model_name": "HBoxModel",
          "state": {
            "_view_name": "HBoxView",
            "_dom_classes": [],
            "_model_name": "HBoxModel",
            "_view_module": "@jupyter-widgets/controls",
            "_model_module_version": "1.5.0",
            "_view_count": null,
            "_view_module_version": "1.5.0",
            "box_style": "",
            "layout": "IPY_MODEL_9aed0fa9d4e44ae7a7a562d1d1cba9f5",
            "_model_module": "@jupyter-widgets/controls",
            "children": [
              "IPY_MODEL_0853b719f8cd4fcfa163ce8c522e279e",
              "IPY_MODEL_b0a17a7c11c5407d96be37845a3e6ae4"
            ]
          }
        },
        "9aed0fa9d4e44ae7a7a562d1d1cba9f5": {
          "model_module": "@jupyter-widgets/base",
          "model_name": "LayoutModel",
          "state": {
            "_view_name": "LayoutView",
            "grid_template_rows": null,
            "right": null,
            "justify_content": null,
            "_view_module": "@jupyter-widgets/base",
            "overflow": null,
            "_model_module_version": "1.2.0",
            "_view_count": null,
            "flex_flow": null,
            "width": null,
            "min_width": null,
            "border": null,
            "align_items": null,
            "bottom": null,
            "_model_module": "@jupyter-widgets/base",
            "top": null,
            "grid_column": null,
            "overflow_y": null,
            "overflow_x": null,
            "grid_auto_flow": null,
            "grid_area": null,
            "grid_template_columns": null,
            "flex": null,
            "_model_name": "LayoutModel",
            "justify_items": null,
            "grid_row": null,
            "max_height": null,
            "align_content": null,
            "visibility": null,
            "align_self": null,
            "height": null,
            "min_height": null,
            "padding": null,
            "grid_auto_rows": null,
            "grid_gap": null,
            "max_width": null,
            "order": null,
            "_view_module_version": "1.2.0",
            "grid_template_areas": null,
            "object_position": null,
            "object_fit": null,
            "grid_auto_columns": null,
            "margin": null,
            "display": null,
            "left": null
          }
        },
        "0853b719f8cd4fcfa163ce8c522e279e": {
          "model_module": "@jupyter-widgets/controls",
          "model_name": "FloatProgressModel",
          "state": {
            "_view_name": "ProgressView",
            "style": "IPY_MODEL_5329bd4764d4474b8affbf5c7eae8bb7",
            "_dom_classes": [],
            "description": "100%",
            "_model_name": "FloatProgressModel",
            "bar_style": "success",
            "max": 5000,
            "_view_module": "@jupyter-widgets/controls",
            "_model_module_version": "1.5.0",
            "value": 5000,
            "_view_count": null,
            "_view_module_version": "1.5.0",
            "orientation": "horizontal",
            "min": 0,
            "description_tooltip": null,
            "_model_module": "@jupyter-widgets/controls",
            "layout": "IPY_MODEL_ec75d6d5013b4f0da0055719b8198a14"
          }
        },
        "b0a17a7c11c5407d96be37845a3e6ae4": {
          "model_module": "@jupyter-widgets/controls",
          "model_name": "HTMLModel",
          "state": {
            "_view_name": "HTMLView",
            "style": "IPY_MODEL_c242c619b67b4d1a8f05ac6b92247f20",
            "_dom_classes": [],
            "description": "",
            "_model_name": "HTMLModel",
            "placeholder": "​",
            "_view_module": "@jupyter-widgets/controls",
            "_model_module_version": "1.5.0",
            "value": " 5000/5000 [00:31&lt;00:00, 159.56it/s]",
            "_view_count": null,
            "_view_module_version": "1.5.0",
            "description_tooltip": null,
            "_model_module": "@jupyter-widgets/controls",
            "layout": "IPY_MODEL_f36132ef409e4fcaa182bac7a8a3e1aa"
          }
        },
        "5329bd4764d4474b8affbf5c7eae8bb7": {
          "model_module": "@jupyter-widgets/controls",
          "model_name": "ProgressStyleModel",
          "state": {
            "_view_name": "StyleView",
            "_model_name": "ProgressStyleModel",
            "description_width": "initial",
            "_view_module": "@jupyter-widgets/base",
            "_model_module_version": "1.5.0",
            "_view_count": null,
            "_view_module_version": "1.2.0",
            "bar_color": null,
            "_model_module": "@jupyter-widgets/controls"
          }
        },
        "ec75d6d5013b4f0da0055719b8198a14": {
          "model_module": "@jupyter-widgets/base",
          "model_name": "LayoutModel",
          "state": {
            "_view_name": "LayoutView",
            "grid_template_rows": null,
            "right": null,
            "justify_content": null,
            "_view_module": "@jupyter-widgets/base",
            "overflow": null,
            "_model_module_version": "1.2.0",
            "_view_count": null,
            "flex_flow": null,
            "width": null,
            "min_width": null,
            "border": null,
            "align_items": null,
            "bottom": null,
            "_model_module": "@jupyter-widgets/base",
            "top": null,
            "grid_column": null,
            "overflow_y": null,
            "overflow_x": null,
            "grid_auto_flow": null,
            "grid_area": null,
            "grid_template_columns": null,
            "flex": null,
            "_model_name": "LayoutModel",
            "justify_items": null,
            "grid_row": null,
            "max_height": null,
            "align_content": null,
            "visibility": null,
            "align_self": null,
            "height": null,
            "min_height": null,
            "padding": null,
            "grid_auto_rows": null,
            "grid_gap": null,
            "max_width": null,
            "order": null,
            "_view_module_version": "1.2.0",
            "grid_template_areas": null,
            "object_position": null,
            "object_fit": null,
            "grid_auto_columns": null,
            "margin": null,
            "display": null,
            "left": null
          }
        },
        "c242c619b67b4d1a8f05ac6b92247f20": {
          "model_module": "@jupyter-widgets/controls",
          "model_name": "DescriptionStyleModel",
          "state": {
            "_view_name": "StyleView",
            "_model_name": "DescriptionStyleModel",
            "description_width": "",
            "_view_module": "@jupyter-widgets/base",
            "_model_module_version": "1.5.0",
            "_view_count": null,
            "_view_module_version": "1.2.0",
            "_model_module": "@jupyter-widgets/controls"
          }
        },
        "f36132ef409e4fcaa182bac7a8a3e1aa": {
          "model_module": "@jupyter-widgets/base",
          "model_name": "LayoutModel",
          "state": {
            "_view_name": "LayoutView",
            "grid_template_rows": null,
            "right": null,
            "justify_content": null,
            "_view_module": "@jupyter-widgets/base",
            "overflow": null,
            "_model_module_version": "1.2.0",
            "_view_count": null,
            "flex_flow": null,
            "width": null,
            "min_width": null,
            "border": null,
            "align_items": null,
            "bottom": null,
            "_model_module": "@jupyter-widgets/base",
            "top": null,
            "grid_column": null,
            "overflow_y": null,
            "overflow_x": null,
            "grid_auto_flow": null,
            "grid_area": null,
            "grid_template_columns": null,
            "flex": null,
            "_model_name": "LayoutModel",
            "justify_items": null,
            "grid_row": null,
            "max_height": null,
            "align_content": null,
            "visibility": null,
            "align_self": null,
            "height": null,
            "min_height": null,
            "padding": null,
            "grid_auto_rows": null,
            "grid_gap": null,
            "max_width": null,
            "order": null,
            "_view_module_version": "1.2.0",
            "grid_template_areas": null,
            "object_position": null,
            "object_fit": null,
            "grid_auto_columns": null,
            "margin": null,
            "display": null,
            "left": null
          }
        },
        "6d21208456494f4382222ccd83b66c44": {
          "model_module": "@jupyter-widgets/controls",
          "model_name": "HBoxModel",
          "state": {
            "_view_name": "HBoxView",
            "_dom_classes": [],
            "_model_name": "HBoxModel",
            "_view_module": "@jupyter-widgets/controls",
            "_model_module_version": "1.5.0",
            "_view_count": null,
            "_view_module_version": "1.5.0",
            "box_style": "",
            "layout": "IPY_MODEL_beec691f09bc49c3a9a2eadcd82a2f8f",
            "_model_module": "@jupyter-widgets/controls",
            "children": [
              "IPY_MODEL_bb88fb75dbaa442cb389a45fb5e70859",
              "IPY_MODEL_5139259cac864ce98fec751d7650621c"
            ]
          }
        },
        "beec691f09bc49c3a9a2eadcd82a2f8f": {
          "model_module": "@jupyter-widgets/base",
          "model_name": "LayoutModel",
          "state": {
            "_view_name": "LayoutView",
            "grid_template_rows": null,
            "right": null,
            "justify_content": null,
            "_view_module": "@jupyter-widgets/base",
            "overflow": null,
            "_model_module_version": "1.2.0",
            "_view_count": null,
            "flex_flow": null,
            "width": null,
            "min_width": null,
            "border": null,
            "align_items": null,
            "bottom": null,
            "_model_module": "@jupyter-widgets/base",
            "top": null,
            "grid_column": null,
            "overflow_y": null,
            "overflow_x": null,
            "grid_auto_flow": null,
            "grid_area": null,
            "grid_template_columns": null,
            "flex": null,
            "_model_name": "LayoutModel",
            "justify_items": null,
            "grid_row": null,
            "max_height": null,
            "align_content": null,
            "visibility": null,
            "align_self": null,
            "height": null,
            "min_height": null,
            "padding": null,
            "grid_auto_rows": null,
            "grid_gap": null,
            "max_width": null,
            "order": null,
            "_view_module_version": "1.2.0",
            "grid_template_areas": null,
            "object_position": null,
            "object_fit": null,
            "grid_auto_columns": null,
            "margin": null,
            "display": null,
            "left": null
          }
        },
        "bb88fb75dbaa442cb389a45fb5e70859": {
          "model_module": "@jupyter-widgets/controls",
          "model_name": "FloatProgressModel",
          "state": {
            "_view_name": "ProgressView",
            "style": "IPY_MODEL_df200a395ed44cf29852283c1962b468",
            "_dom_classes": [],
            "description": "100%",
            "_model_name": "FloatProgressModel",
            "bar_style": "success",
            "max": 5000,
            "_view_module": "@jupyter-widgets/controls",
            "_model_module_version": "1.5.0",
            "value": 5000,
            "_view_count": null,
            "_view_module_version": "1.5.0",
            "orientation": "horizontal",
            "min": 0,
            "description_tooltip": null,
            "_model_module": "@jupyter-widgets/controls",
            "layout": "IPY_MODEL_8edf2b1d187b4e26b2dcc86857231aa9"
          }
        },
        "5139259cac864ce98fec751d7650621c": {
          "model_module": "@jupyter-widgets/controls",
          "model_name": "HTMLModel",
          "state": {
            "_view_name": "HTMLView",
            "style": "IPY_MODEL_dc30caad31294c80924e7a5d4d067c80",
            "_dom_classes": [],
            "description": "",
            "_model_name": "HTMLModel",
            "placeholder": "​",
            "_view_module": "@jupyter-widgets/controls",
            "_model_module_version": "1.5.0",
            "value": " 5000/5000 [00:52&lt;00:00, 94.41it/s]",
            "_view_count": null,
            "_view_module_version": "1.5.0",
            "description_tooltip": null,
            "_model_module": "@jupyter-widgets/controls",
            "layout": "IPY_MODEL_683ac486ec4c491f866f18e1e1f6dda2"
          }
        },
        "df200a395ed44cf29852283c1962b468": {
          "model_module": "@jupyter-widgets/controls",
          "model_name": "ProgressStyleModel",
          "state": {
            "_view_name": "StyleView",
            "_model_name": "ProgressStyleModel",
            "description_width": "initial",
            "_view_module": "@jupyter-widgets/base",
            "_model_module_version": "1.5.0",
            "_view_count": null,
            "_view_module_version": "1.2.0",
            "bar_color": null,
            "_model_module": "@jupyter-widgets/controls"
          }
        },
        "8edf2b1d187b4e26b2dcc86857231aa9": {
          "model_module": "@jupyter-widgets/base",
          "model_name": "LayoutModel",
          "state": {
            "_view_name": "LayoutView",
            "grid_template_rows": null,
            "right": null,
            "justify_content": null,
            "_view_module": "@jupyter-widgets/base",
            "overflow": null,
            "_model_module_version": "1.2.0",
            "_view_count": null,
            "flex_flow": null,
            "width": null,
            "min_width": null,
            "border": null,
            "align_items": null,
            "bottom": null,
            "_model_module": "@jupyter-widgets/base",
            "top": null,
            "grid_column": null,
            "overflow_y": null,
            "overflow_x": null,
            "grid_auto_flow": null,
            "grid_area": null,
            "grid_template_columns": null,
            "flex": null,
            "_model_name": "LayoutModel",
            "justify_items": null,
            "grid_row": null,
            "max_height": null,
            "align_content": null,
            "visibility": null,
            "align_self": null,
            "height": null,
            "min_height": null,
            "padding": null,
            "grid_auto_rows": null,
            "grid_gap": null,
            "max_width": null,
            "order": null,
            "_view_module_version": "1.2.0",
            "grid_template_areas": null,
            "object_position": null,
            "object_fit": null,
            "grid_auto_columns": null,
            "margin": null,
            "display": null,
            "left": null
          }
        },
        "dc30caad31294c80924e7a5d4d067c80": {
          "model_module": "@jupyter-widgets/controls",
          "model_name": "DescriptionStyleModel",
          "state": {
            "_view_name": "StyleView",
            "_model_name": "DescriptionStyleModel",
            "description_width": "",
            "_view_module": "@jupyter-widgets/base",
            "_model_module_version": "1.5.0",
            "_view_count": null,
            "_view_module_version": "1.2.0",
            "_model_module": "@jupyter-widgets/controls"
          }
        },
        "683ac486ec4c491f866f18e1e1f6dda2": {
          "model_module": "@jupyter-widgets/base",
          "model_name": "LayoutModel",
          "state": {
            "_view_name": "LayoutView",
            "grid_template_rows": null,
            "right": null,
            "justify_content": null,
            "_view_module": "@jupyter-widgets/base",
            "overflow": null,
            "_model_module_version": "1.2.0",
            "_view_count": null,
            "flex_flow": null,
            "width": null,
            "min_width": null,
            "border": null,
            "align_items": null,
            "bottom": null,
            "_model_module": "@jupyter-widgets/base",
            "top": null,
            "grid_column": null,
            "overflow_y": null,
            "overflow_x": null,
            "grid_auto_flow": null,
            "grid_area": null,
            "grid_template_columns": null,
            "flex": null,
            "_model_name": "LayoutModel",
            "justify_items": null,
            "grid_row": null,
            "max_height": null,
            "align_content": null,
            "visibility": null,
            "align_self": null,
            "height": null,
            "min_height": null,
            "padding": null,
            "grid_auto_rows": null,
            "grid_gap": null,
            "max_width": null,
            "order": null,
            "_view_module_version": "1.2.0",
            "grid_template_areas": null,
            "object_position": null,
            "object_fit": null,
            "grid_auto_columns": null,
            "margin": null,
            "display": null,
            "left": null
          }
        },
        "c17efa129fdc4ca59cebf65576307c55": {
          "model_module": "@jupyter-widgets/controls",
          "model_name": "HBoxModel",
          "state": {
            "_view_name": "HBoxView",
            "_dom_classes": [],
            "_model_name": "HBoxModel",
            "_view_module": "@jupyter-widgets/controls",
            "_model_module_version": "1.5.0",
            "_view_count": null,
            "_view_module_version": "1.5.0",
            "box_style": "",
            "layout": "IPY_MODEL_701b46e2e23642fa83b6e74f1a39b09b",
            "_model_module": "@jupyter-widgets/controls",
            "children": [
              "IPY_MODEL_6cdee7967e2a41d7a41c7c93ddef9f6a",
              "IPY_MODEL_ebbd755bec1b42c3ab545fbdbf915ed1"
            ]
          }
        },
        "701b46e2e23642fa83b6e74f1a39b09b": {
          "model_module": "@jupyter-widgets/base",
          "model_name": "LayoutModel",
          "state": {
            "_view_name": "LayoutView",
            "grid_template_rows": null,
            "right": null,
            "justify_content": null,
            "_view_module": "@jupyter-widgets/base",
            "overflow": null,
            "_model_module_version": "1.2.0",
            "_view_count": null,
            "flex_flow": null,
            "width": null,
            "min_width": null,
            "border": null,
            "align_items": null,
            "bottom": null,
            "_model_module": "@jupyter-widgets/base",
            "top": null,
            "grid_column": null,
            "overflow_y": null,
            "overflow_x": null,
            "grid_auto_flow": null,
            "grid_area": null,
            "grid_template_columns": null,
            "flex": null,
            "_model_name": "LayoutModel",
            "justify_items": null,
            "grid_row": null,
            "max_height": null,
            "align_content": null,
            "visibility": null,
            "align_self": null,
            "height": null,
            "min_height": null,
            "padding": null,
            "grid_auto_rows": null,
            "grid_gap": null,
            "max_width": null,
            "order": null,
            "_view_module_version": "1.2.0",
            "grid_template_areas": null,
            "object_position": null,
            "object_fit": null,
            "grid_auto_columns": null,
            "margin": null,
            "display": null,
            "left": null
          }
        },
        "6cdee7967e2a41d7a41c7c93ddef9f6a": {
          "model_module": "@jupyter-widgets/controls",
          "model_name": "FloatProgressModel",
          "state": {
            "_view_name": "ProgressView",
            "style": "IPY_MODEL_eb70f6da98774305b8cebe74b46a5e1e",
            "_dom_classes": [],
            "description": "100%",
            "_model_name": "FloatProgressModel",
            "bar_style": "success",
            "max": 200,
            "_view_module": "@jupyter-widgets/controls",
            "_model_module_version": "1.5.0",
            "value": 200,
            "_view_count": null,
            "_view_module_version": "1.5.0",
            "orientation": "horizontal",
            "min": 0,
            "description_tooltip": null,
            "_model_module": "@jupyter-widgets/controls",
            "layout": "IPY_MODEL_3322097e4d1c4d479ffdc4f4942d1e49"
          }
        },
        "ebbd755bec1b42c3ab545fbdbf915ed1": {
          "model_module": "@jupyter-widgets/controls",
          "model_name": "HTMLModel",
          "state": {
            "_view_name": "HTMLView",
            "style": "IPY_MODEL_be3ec72b4f9d4006a95389f25c802991",
            "_dom_classes": [],
            "description": "",
            "_model_name": "HTMLModel",
            "placeholder": "​",
            "_view_module": "@jupyter-widgets/controls",
            "_model_module_version": "1.5.0",
            "value": " 200/200 [02:08&lt;00:00,  1.56it/s]",
            "_view_count": null,
            "_view_module_version": "1.5.0",
            "description_tooltip": null,
            "_model_module": "@jupyter-widgets/controls",
            "layout": "IPY_MODEL_4a921efb7cd4458aaafa187cc78f2b7e"
          }
        },
        "eb70f6da98774305b8cebe74b46a5e1e": {
          "model_module": "@jupyter-widgets/controls",
          "model_name": "ProgressStyleModel",
          "state": {
            "_view_name": "StyleView",
            "_model_name": "ProgressStyleModel",
            "description_width": "initial",
            "_view_module": "@jupyter-widgets/base",
            "_model_module_version": "1.5.0",
            "_view_count": null,
            "_view_module_version": "1.2.0",
            "bar_color": null,
            "_model_module": "@jupyter-widgets/controls"
          }
        },
        "3322097e4d1c4d479ffdc4f4942d1e49": {
          "model_module": "@jupyter-widgets/base",
          "model_name": "LayoutModel",
          "state": {
            "_view_name": "LayoutView",
            "grid_template_rows": null,
            "right": null,
            "justify_content": null,
            "_view_module": "@jupyter-widgets/base",
            "overflow": null,
            "_model_module_version": "1.2.0",
            "_view_count": null,
            "flex_flow": null,
            "width": null,
            "min_width": null,
            "border": null,
            "align_items": null,
            "bottom": null,
            "_model_module": "@jupyter-widgets/base",
            "top": null,
            "grid_column": null,
            "overflow_y": null,
            "overflow_x": null,
            "grid_auto_flow": null,
            "grid_area": null,
            "grid_template_columns": null,
            "flex": null,
            "_model_name": "LayoutModel",
            "justify_items": null,
            "grid_row": null,
            "max_height": null,
            "align_content": null,
            "visibility": null,
            "align_self": null,
            "height": null,
            "min_height": null,
            "padding": null,
            "grid_auto_rows": null,
            "grid_gap": null,
            "max_width": null,
            "order": null,
            "_view_module_version": "1.2.0",
            "grid_template_areas": null,
            "object_position": null,
            "object_fit": null,
            "grid_auto_columns": null,
            "margin": null,
            "display": null,
            "left": null
          }
        },
        "be3ec72b4f9d4006a95389f25c802991": {
          "model_module": "@jupyter-widgets/controls",
          "model_name": "DescriptionStyleModel",
          "state": {
            "_view_name": "StyleView",
            "_model_name": "DescriptionStyleModel",
            "description_width": "",
            "_view_module": "@jupyter-widgets/base",
            "_model_module_version": "1.5.0",
            "_view_count": null,
            "_view_module_version": "1.2.0",
            "_model_module": "@jupyter-widgets/controls"
          }
        },
        "4a921efb7cd4458aaafa187cc78f2b7e": {
          "model_module": "@jupyter-widgets/base",
          "model_name": "LayoutModel",
          "state": {
            "_view_name": "LayoutView",
            "grid_template_rows": null,
            "right": null,
            "justify_content": null,
            "_view_module": "@jupyter-widgets/base",
            "overflow": null,
            "_model_module_version": "1.2.0",
            "_view_count": null,
            "flex_flow": null,
            "width": null,
            "min_width": null,
            "border": null,
            "align_items": null,
            "bottom": null,
            "_model_module": "@jupyter-widgets/base",
            "top": null,
            "grid_column": null,
            "overflow_y": null,
            "overflow_x": null,
            "grid_auto_flow": null,
            "grid_area": null,
            "grid_template_columns": null,
            "flex": null,
            "_model_name": "LayoutModel",
            "justify_items": null,
            "grid_row": null,
            "max_height": null,
            "align_content": null,
            "visibility": null,
            "align_self": null,
            "height": null,
            "min_height": null,
            "padding": null,
            "grid_auto_rows": null,
            "grid_gap": null,
            "max_width": null,
            "order": null,
            "_view_module_version": "1.2.0",
            "grid_template_areas": null,
            "object_position": null,
            "object_fit": null,
            "grid_auto_columns": null,
            "margin": null,
            "display": null,
            "left": null
          }
        }
      }
    }
  },
  "cells": [
    {
      "cell_type": "markdown",
      "metadata": {
        "id": "view-in-github",
        "colab_type": "text"
      },
      "source": [
        "<a href=\"https://colab.research.google.com/github/erezimm/ML-ML/blob/master/GNN_final_project_sam.ipynb\" target=\"_parent\"><img src=\"https://colab.research.google.com/assets/colab-badge.svg\" alt=\"Open In Colab\"/></a>"
      ]
    },
    {
      "cell_type": "markdown",
      "metadata": {
        "id": "OCU4DoTLIIoO",
        "colab_type": "text"
      },
      "source": [
        "# Main notebook, to be run on Google Colab"
      ]
    },
    {
      "cell_type": "markdown",
      "metadata": {
        "id": "PWYU8-BTJ-XN",
        "colab_type": "text"
      },
      "source": [
        "## Import dependencies and download dataset"
      ]
    },
    {
      "cell_type": "code",
      "metadata": {
        "id": "L5E9Y_nnn3m8",
        "colab_type": "code",
        "colab": {
          "base_uri": "https://localhost:8080/",
          "height": 587
        },
        "outputId": "7d4914ed-10a0-47b5-8438-91de49bd5df2"
      },
      "source": [
        "!pip install dgl\n",
        "\n",
        "import glob\n",
        "import os\n",
        "import shutil\n",
        "from datetime import datetime\n",
        "\n",
        "import astropy.io.ascii\n",
        "import dgl\n",
        "import matplotlib.pyplot as plt\n",
        "import networkx as nx\n",
        "import numpy as np\n",
        "import torch\n",
        "import torch.nn as nn\n",
        "import torch.optim as optim\n",
        "from torch.utils.data import Dataset, DataLoader\n",
        "from tqdm.notebook import tqdm\n",
        "\n",
        "if not torch.cuda.is_available():\n",
        "    raise Exception('Cuda unavailable, turn it on under Runtime>Change runtime type>GPU')\n",
        "device = torch.device('cpu')\n",
        "\n",
        "training_path = '/content/training_set'\n",
        "validation_path = '/content/validation_set'\n",
        "for path in (training_path, validation_path):\n",
        "    if not os.path.isdir(path):\n",
        "        os.makedirs(path)\n",
        "\n",
        "!wget -O data.zip https://github.com/erezimm/ML-ML/raw/master/data.zip\n",
        "!unzip -o -q data.zip -d /content/\n",
        "data_path = '/content/data'\n",
        "microlist = glob.glob(data_path+'/microlensedconst_*')\n",
        "varlist = glob.glob(data_path+'/cleanvar_*')\n",
        "for typelist in (microlist, varlist):\n",
        "    for i, f in enumerate(typelist):\n",
        "        dest = training_path if i<len(microlist)/2 else validation_path\n",
        "        shutil.move(f, os.path.join(dest, os.path.basename(f)))"
      ],
      "execution_count": 1,
      "outputs": [
        {
          "output_type": "stream",
          "text": [
            "Collecting dgl\n",
            "\u001b[?25l  Downloading https://files.pythonhosted.org/packages/c5/b4/84e4ebd70ef3985181ef5d2d2a366a45af0e3cd18d249fb212ac03f683cf/dgl-0.4.3.post2-cp36-cp36m-manylinux1_x86_64.whl (3.0MB)\n",
            "\u001b[K     |████████████████████████████████| 3.0MB 8.9MB/s \n",
            "\u001b[?25hRequirement already satisfied: numpy>=1.14.0 in /usr/local/lib/python3.6/dist-packages (from dgl) (1.18.5)\n",
            "Requirement already satisfied: networkx>=2.1 in /usr/local/lib/python3.6/dist-packages (from dgl) (2.4)\n",
            "Requirement already satisfied: scipy>=1.1.0 in /usr/local/lib/python3.6/dist-packages (from dgl) (1.4.1)\n",
            "Requirement already satisfied: requests>=2.19.0 in /usr/local/lib/python3.6/dist-packages (from dgl) (2.23.0)\n",
            "Requirement already satisfied: decorator>=4.3.0 in /usr/local/lib/python3.6/dist-packages (from networkx>=2.1->dgl) (4.4.2)\n",
            "Requirement already satisfied: urllib3!=1.25.0,!=1.25.1,<1.26,>=1.21.1 in /usr/local/lib/python3.6/dist-packages (from requests>=2.19.0->dgl) (1.24.3)\n",
            "Requirement already satisfied: chardet<4,>=3.0.2 in /usr/local/lib/python3.6/dist-packages (from requests>=2.19.0->dgl) (3.0.4)\n",
            "Requirement already satisfied: certifi>=2017.4.17 in /usr/local/lib/python3.6/dist-packages (from requests>=2.19.0->dgl) (2020.6.20)\n",
            "Requirement already satisfied: idna<3,>=2.5 in /usr/local/lib/python3.6/dist-packages (from requests>=2.19.0->dgl) (2.10)\n",
            "Installing collected packages: dgl\n",
            "Successfully installed dgl-0.4.3.post2\n"
          ],
          "name": "stdout"
        },
        {
          "output_type": "stream",
          "text": [
            "DGL backend not selected or invalid.  Assuming PyTorch for now.\n",
            "Using backend: pytorch\n"
          ],
          "name": "stderr"
        },
        {
          "output_type": "stream",
          "text": [
            "Setting the default backend to \"pytorch\". You can change it in the ~/.dgl/config.json file or export the DGLBACKEND environment variable.  Valid options are: pytorch, mxnet, tensorflow (all lowercase)\n",
            "--2020-08-16 09:40:33--  https://github.com/erezimm/ML-ML/raw/master/data.zip\n",
            "Resolving github.com (github.com)... 140.82.118.4\n",
            "Connecting to github.com (github.com)|140.82.118.4|:443... connected.\n",
            "HTTP request sent, awaiting response... 302 Found\n",
            "Location: https://raw.githubusercontent.com/erezimm/ML-ML/master/data.zip [following]\n",
            "--2020-08-16 09:40:34--  https://raw.githubusercontent.com/erezimm/ML-ML/master/data.zip\n",
            "Resolving raw.githubusercontent.com (raw.githubusercontent.com)... 151.101.0.133, 151.101.64.133, 151.101.128.133, ...\n",
            "Connecting to raw.githubusercontent.com (raw.githubusercontent.com)|151.101.0.133|:443... connected.\n",
            "HTTP request sent, awaiting response... 200 OK\n",
            "Length: 6541642 (6.2M) [application/zip]\n",
            "Saving to: ‘data.zip’\n",
            "\n",
            "data.zip            100%[===================>]   6.24M  --.-KB/s    in 0.1s    \n",
            "\n",
            "2020-08-16 09:40:35 (48.7 MB/s) - ‘data.zip’ saved [6541642/6541642]\n",
            "\n"
          ],
          "name": "stdout"
        }
      ]
    },
    {
      "cell_type": "markdown",
      "metadata": {
        "id": "ff2ASGtVn3nB",
        "colab_type": "text"
      },
      "source": [
        "## Create Datasets\n",
        "Class CustomDataset loads all files and converts them to a list of graphs.\n",
        "Each node in a graph is a data point, i.e. node features are days since start, mag, magerr"
      ]
    },
    {
      "cell_type": "code",
      "metadata": {
        "id": "zSLI4uNYn3nB",
        "colab_type": "code",
        "colab": {
          "base_uri": "https://localhost:8080/",
          "height": 469,
          "referenced_widgets": [
            "d0b42b7cc20f4a608e989e2b4b8291ac",
            "9aed0fa9d4e44ae7a7a562d1d1cba9f5",
            "0853b719f8cd4fcfa163ce8c522e279e",
            "b0a17a7c11c5407d96be37845a3e6ae4",
            "5329bd4764d4474b8affbf5c7eae8bb7",
            "ec75d6d5013b4f0da0055719b8198a14",
            "c242c619b67b4d1a8f05ac6b92247f20",
            "f36132ef409e4fcaa182bac7a8a3e1aa",
            "6d21208456494f4382222ccd83b66c44",
            "beec691f09bc49c3a9a2eadcd82a2f8f",
            "bb88fb75dbaa442cb389a45fb5e70859",
            "5139259cac864ce98fec751d7650621c",
            "df200a395ed44cf29852283c1962b468",
            "8edf2b1d187b4e26b2dcc86857231aa9",
            "dc30caad31294c80924e7a5d4d067c80",
            "683ac486ec4c491f866f18e1e1f6dda2"
          ]
        },
        "outputId": "9af656a7-6cdc-4a59-e9c8-7619648d0004"
      },
      "source": [
        "class CustomDataset(Dataset):\n",
        "    def __init__(self, path):\n",
        "        filelist = glob.glob(path+'/*')\n",
        "        \n",
        "        self.graphs = []\n",
        "        self.isMicrolensed = []\n",
        "        for fname in tqdm(filelist):\n",
        "            filebasename = os.path.basename(fname)\n",
        "            if filebasename.startswith('cleanvar'):\n",
        "                microlensed = torch.tensor([0])\n",
        "            elif filebasename.startswith('microlensedconst'):\n",
        "                microlensed = torch.tensor([1])\n",
        "            else:\n",
        "                raise Exception('Filename ' + fname + ' not clean_* or microlensed_*')\n",
        "            \n",
        "            with open(fname) as f:\n",
        "                data = astropy.io.ascii.read(f.read())\n",
        "                times, mags, magerrs = data['col1'], [], data['col3']\n",
        "                for m, err in zip(data['col2'], magerrs):\n",
        "                    mags.append(round(m, len(str(err).split('.')[1])))\n",
        "                zipped = list(zip(times, mags, magerrs))\n",
        "                zipped.sort(key=lambda tup: tup[0])\n",
        "                times, mags, magerrs = zip(*zipped)\n",
        "                times, mags, magerrs =torch.tensor(times), torch.tensor(mags), torch.tensor(magerrs)\n",
        "                \n",
        "                times = times - min(times)\n",
        "                flux = 10 ** (mags/(-2.5))\n",
        "                medflux = torch.median(flux)\n",
        "                flux = flux/medflux\n",
        "                fluxerr = flux * magerrs * np.log(10) * 0.4 / medflux\n",
        "\n",
        "                n = len(times)\n",
        "                g = dgl.DGLGraph()\n",
        "                g.add_nodes(n)\n",
        "                g.ndata['time'] = torch.tensor(times).float()  # days\n",
        "                g.ndata['mag'] = torch.tensor(flux).float()\n",
        "                g.ndata['magerr'] = torch.tensor(fluxerr).float()\n",
        "\n",
        "\n",
        "                #g.add_edges([i for i in range(n)], [(i+1)%n for i in range(n)])\n",
        "                #g.add_edges([i for i in range(n)], [(i-1)%n for i in range(n)])\n",
        "                \n",
        "                self.graphs.append(g)\n",
        "                self.isMicrolensed.append(microlensed)\n",
        "        \n",
        "    def __len__(self):\n",
        "        return len(self.graphs)\n",
        "\n",
        "    def __getitem__(self, idx):\n",
        "        return self.graphs[idx], self.isMicrolensed[idx]\n",
        "\n",
        "\n",
        "train_ds = CustomDataset(training_path)\n",
        "validation_ds = CustomDataset(validation_path)\n",
        "\n",
        "nx.draw(dgl.to_networkx(train_ds[20][0]))"
      ],
      "execution_count": 2,
      "outputs": [
        {
          "output_type": "display_data",
          "data": {
            "application/vnd.jupyter.widget-view+json": {
              "model_id": "d0b42b7cc20f4a608e989e2b4b8291ac",
              "version_minor": 0,
              "version_major": 2
            },
            "text/plain": [
              "HBox(children=(FloatProgress(value=0.0, max=5000.0), HTML(value='')))"
            ]
          },
          "metadata": {
            "tags": []
          }
        },
        {
          "output_type": "stream",
          "text": [
            "/usr/local/lib/python3.6/dist-packages/ipykernel_launcher.py:35: UserWarning: To copy construct from a tensor, it is recommended to use sourceTensor.clone().detach() or sourceTensor.clone().detach().requires_grad_(True), rather than torch.tensor(sourceTensor).\n",
            "/usr/local/lib/python3.6/dist-packages/ipykernel_launcher.py:36: UserWarning: To copy construct from a tensor, it is recommended to use sourceTensor.clone().detach() or sourceTensor.clone().detach().requires_grad_(True), rather than torch.tensor(sourceTensor).\n",
            "/usr/local/lib/python3.6/dist-packages/ipykernel_launcher.py:37: UserWarning: To copy construct from a tensor, it is recommended to use sourceTensor.clone().detach() or sourceTensor.clone().detach().requires_grad_(True), rather than torch.tensor(sourceTensor).\n"
          ],
          "name": "stderr"
        },
        {
          "output_type": "stream",
          "text": [
            "\n"
          ],
          "name": "stdout"
        },
        {
          "output_type": "display_data",
          "data": {
            "application/vnd.jupyter.widget-view+json": {
              "model_id": "6d21208456494f4382222ccd83b66c44",
              "version_minor": 0,
              "version_major": 2
            },
            "text/plain": [
              "HBox(children=(FloatProgress(value=0.0, max=5000.0), HTML(value='')))"
            ]
          },
          "metadata": {
            "tags": []
          }
        },
        {
          "output_type": "stream",
          "text": [
            "\n"
          ],
          "name": "stdout"
        },
        {
          "output_type": "display_data",
          "data": {
            "image/png": "[encoded data removed]",
            "text/plain": [
              "<Figure size 432x288 with 1 Axes>"
            ]
          },
          "metadata": {
            "tags": []
          }
        }
      ]
    },
    {
      "cell_type": "code",
      "metadata": {
        "id": "KnD7mWfjn3nK",
        "colab_type": "code",
        "colab": {}
      },
      "source": [
        "def collate(samples):\n",
        "    # The input `samples` is a list, a batch of whatever comes out of your dataset object\n",
        "    graphs = [x[0] for x in samples]\n",
        "    labels = [x[1] for x in samples]\n",
        "    \n",
        "    batched_graph = dgl.batch(graphs, node_attrs=['time', 'mag', 'magerr'])\n",
        "    targets = torch.cat(labels)\n",
        "    \n",
        "    return batched_graph, targets.unsqueeze(1).float()"
      ],
      "execution_count": 3,
      "outputs": []
    },
    {
      "cell_type": "markdown",
      "metadata": {
        "id": "FGDTIcKIuGW2",
        "colab_type": "text"
      },
      "source": [
        "## The Network"
      ]
    },
    {
      "cell_type": "code",
      "metadata": {
        "id": "soJyGlbvMErI",
        "colab_type": "code",
        "colab": {}
      },
      "source": [
        "layers = [10,10]  # hidden layers in the DeepSetLayer\n",
        "outputsize = 7  # length of the representation passed to the final network\n",
        "cllayers = [10,5,5]  # hidden layers in the final network (takes outputsize, returns a scalar which is the classification)"
      ],
      "execution_count": 4,
      "outputs": []
    },
    {
      "cell_type": "code",
      "metadata": {
        "id": "Xb2gAmYhiELn",
        "colab_type": "code",
        "colab": {}
      },
      "source": [
        "def build_layers(inp,out,sizes):\n",
        "    sizes = [inp]+sizes+[out]\n",
        "    layers = []\n",
        "    for i in range(len(sizes)-1):\n",
        "        layers.extend([nn.Linear(sizes[i], sizes[i+1]), nn.LeakyReLU()])\n",
        "    \n",
        "    return layers"
      ],
      "execution_count": 5,
      "outputs": []
    },
    {
      "cell_type": "code",
      "metadata": {
        "id": "iO90uxpOLy76",
        "colab_type": "code",
        "colab": {}
      },
      "source": [
        "# #Deep Set\n",
        "\n",
        "class DeepSet(nn.Module):\n",
        "\n",
        "    def __init__(self, config):\n",
        "        super(DeepSet, self).__init__()\n",
        "\n",
        "        self.config = config\n",
        "\n",
        "        self.layers = nn.ModuleList()\n",
        "\n",
        "        self.layers.append(DeepSetLayer(config['inputsize'], config['layers'][0], config['inputs'], config['output'] ))\n",
        "\n",
        "        n_layers = len(config['layers'])\n",
        "\n",
        "        for i in range(n_layers - 1):\n",
        "\n",
        "            self.layers.append(DeepSetLayer(config['inputsize']+ config['layers'][i],\n",
        "                                            config['layers'][i+1], \n",
        "                                            config['inputs'] + [config['output']], \n",
        "                                            config['output']))\n",
        "            \n",
        "\n",
        "        self.layers.append(DeepSetLayer(config['inputsize']+ config['layers'][-1],\n",
        "                                            config['outputsize'], \n",
        "                                            config['inputs'] + [config['output']],\n",
        "                                            config['output']))  \n",
        "\n",
        "        layers = build_layers(config['outputsize'], 2, config['cllayers'])  # OFEK chnaged to output=2\n",
        "        self.classifier = nn.Sequential(*(layers+ [nn.Softmax()]))  # OFEK added SoftMax\n",
        "    \n",
        "    def forward(self, g):\n",
        "\n",
        "        for layer in self.layers:\n",
        "            \n",
        "            g = layer(g) \n",
        "\n",
        "        mean_nodes= dgl.mean_nodes(g, 'node_embed', weight = None)\n",
        "        output = self.classifier(mean_nodes)\n",
        "\n",
        "\n",
        "        return output \n"
      ],
      "execution_count": 6,
      "outputs": []
    },
    {
      "cell_type": "code",
      "metadata": {
        "id": "2TODvj6AMLJP",
        "colab_type": "code",
        "colab": {}
      },
      "source": [
        "class DeepSetLayer(nn.Module):\n",
        "    def __init__(self, inputsize, outputsize, inputnames, outputname):\n",
        "        \n",
        "\n",
        "\n",
        "        super(DeepSetLayer,self).__init__()\n",
        "\n",
        "        self.inputs      = inputnames\n",
        "        self.outputname = outputname\n",
        "\n",
        "\n",
        "  \n",
        "\n",
        "        layers = build_layers(inputsize, outputsize, [int(0.5*(outputsize + inputsize)   )])\n",
        "\n",
        "        self.node_embedd = nn.Sequential(*layers)\n",
        "\n",
        "        layers = build_layers(outputsize + inputsize, outputsize,[ int( 0.5*(outputsize + inputsize)) ] )\n",
        "\n",
        "        self.node_update = nn.Sequential(*layers)\n",
        "\n",
        "\n",
        "\n",
        "    def forward(self, g):\n",
        "\n",
        "        gn = [g.ndata[inputname] for inputname in self.inputs]\n",
        "        unsqdim = max(max([len(n.shape) for n in gn]),2)\n",
        "        tocat = []\n",
        "        for n in gn:\n",
        "            t = n\n",
        "            for _ in range(unsqdim-len(n.shape)):\n",
        "                t = t.unsqueeze(-1)\n",
        "            tocat.append(t)\n",
        "            # print(t.shape)\n",
        "        node_data = torch.cat(tocat, dim=1)\n",
        "\n",
        "        g.ndata['node_embed'] = self.node_embedd(node_data)\n",
        "\n",
        "\n",
        "        node_sum = dgl.mean_nodes(g, 'node_embed', weight = None)  #Global representation of graph \n",
        "\n",
        "        g.ndata['mean_nodes'] = dgl.broadcast_nodes(g, node_sum)\n",
        "        \n",
        "        \n",
        "\n",
        "        gn = [g.ndata[inputname] for inputname in self.inputs] + [g.ndata['mean_nodes']]\n",
        "        unsqdim = max(max([len(n.shape) for n in gn]),2)\n",
        "        tocat = []\n",
        "        for n in gn:\n",
        "            t = n\n",
        "            for _ in range(unsqdim-len(n.shape)):\n",
        "                t = t.unsqueeze(-1)\n",
        "            tocat.append(t)\n",
        "            # print(t.shape)\n",
        "        node_update_input = torch.cat( tocat, dim=1  )\n",
        "\n",
        "        g.ndata[self.outputname] = self.node_update(node_update_input)\n",
        "\n",
        "\n",
        "        return g #contains global information \n"
      ],
      "execution_count": 7,
      "outputs": []
    },
    {
      "cell_type": "code",
      "metadata": {
        "id": "EZc6nI6TkmSC",
        "colab_type": "code",
        "colab": {
          "base_uri": "https://localhost:8080/",
          "height": 1000
        },
        "outputId": "39cc72c9-c8ff-4586-e421-16457a52fe4d"
      },
      "source": [
        "net = DeepSet({'inputsize':3 , 'outputsize':outputsize, 'inputs':['time', 'mag', 'magerr'], 'output':'finalrep', 'layers':layers, 'cllayers':cllayers})\n",
        "net.to(device)"
      ],
      "execution_count": 30,
      "outputs": [
        {
          "output_type": "execute_result",
          "data": {
            "text/plain": [
              "DeepSet(\n",
              "  (layers): ModuleList(\n",
              "    (0): DeepSetLayer(\n",
              "      (node_embedd): Sequential(\n",
              "        (0): Linear(in_features=3, out_features=6, bias=True)\n",
              "        (1): LeakyReLU(negative_slope=0.01)\n",
              "        (2): Linear(in_features=6, out_features=10, bias=True)\n",
              "        (3): LeakyReLU(negative_slope=0.01)\n",
              "      )\n",
              "      (node_update): Sequential(\n",
              "        (0): Linear(in_features=13, out_features=6, bias=True)\n",
              "        (1): LeakyReLU(negative_slope=0.01)\n",
              "        (2): Linear(in_features=6, out_features=10, bias=True)\n",
              "        (3): LeakyReLU(negative_slope=0.01)\n",
              "      )\n",
              "    )\n",
              "    (1): DeepSetLayer(\n",
              "      (node_embedd): Sequential(\n",
              "        (0): Linear(in_features=13, out_features=11, bias=True)\n",
              "        (1): LeakyReLU(negative_slope=0.01)\n",
              "        (2): Linear(in_features=11, out_features=10, bias=True)\n",
              "        (3): LeakyReLU(negative_slope=0.01)\n",
              "      )\n",
              "      (node_update): Sequential(\n",
              "        (0): Linear(in_features=23, out_features=11, bias=True)\n",
              "        (1): LeakyReLU(negative_slope=0.01)\n",
              "        (2): Linear(in_features=11, out_features=10, bias=True)\n",
              "        (3): LeakyReLU(negative_slope=0.01)\n",
              "      )\n",
              "    )\n",
              "    (2): DeepSetLayer(\n",
              "      (node_embedd): Sequential(\n",
              "        (0): Linear(in_features=13, out_features=10, bias=True)\n",
              "        (1): LeakyReLU(negative_slope=0.01)\n",
              "        (2): Linear(in_features=10, out_features=7, bias=True)\n",
              "        (3): LeakyReLU(negative_slope=0.01)\n",
              "      )\n",
              "      (node_update): Sequential(\n",
              "        (0): Linear(in_features=20, out_features=10, bias=True)\n",
              "        (1): LeakyReLU(negative_slope=0.01)\n",
              "        (2): Linear(in_features=10, out_features=7, bias=True)\n",
              "        (3): LeakyReLU(negative_slope=0.01)\n",
              "      )\n",
              "    )\n",
              "  )\n",
              "  (classifier): Sequential(\n",
              "    (0): Linear(in_features=7, out_features=10, bias=True)\n",
              "    (1): LeakyReLU(negative_slope=0.01)\n",
              "    (2): Linear(in_features=10, out_features=5, bias=True)\n",
              "    (3): LeakyReLU(negative_slope=0.01)\n",
              "    (4): Linear(in_features=5, out_features=5, bias=True)\n",
              "    (5): LeakyReLU(negative_slope=0.01)\n",
              "    (6): Linear(in_features=5, out_features=2, bias=True)\n",
              "    (7): LeakyReLU(negative_slope=0.01)\n",
              "    (8): Softmax(dim=None)\n",
              "  )\n",
              ")"
            ]
          },
          "metadata": {
            "tags": []
          },
          "execution_count": 30
        }
      ]
    },
    {
      "cell_type": "markdown",
      "metadata": {
        "id": "6x-ALDRlwBDo",
        "colab_type": "text"
      },
      "source": [
        "## Train"
      ]
    },
    {
      "cell_type": "code",
      "metadata": {
        "id": "XgrXh0Jdn3nb",
        "colab_type": "code",
        "colab": {}
      },
      "source": [
        "def evaluate(net, validation_ds):\n",
        "    test_data_loader = DataLoader(validation_ds, batch_size=1000, shuffle=True, collate_fn=collate)\n",
        "\n",
        "    net.cpu()\n",
        "    net.eval()\n",
        "\n",
        "    true_positive = 0\n",
        "    false_positive = 0\n",
        "    true_negative = 0\n",
        "    false_negative = 0\n",
        "    total_positives = 0\n",
        "    total_negatives = 0\n",
        "\n",
        "    for i, (x,y) in enumerate(test_data_loader):\n",
        "            y = y.data.numpy()\n",
        "            y = y.transpose()\n",
        "            prediction = net(x).cpu().data.numpy()\n",
        "            pred = (prediction[:,1]<prediction[:,0])\n",
        "            \n",
        "            total_positives+=len(np.where( y==1 )[0])\n",
        "            total_negatives+=len(np.where( y==0 )[0])\n",
        "            \n",
        "            true_positive+= len(np.where( (pred==1) & (y==1) )[0])\n",
        "            false_positive+= len(np.where( (pred==1) & (y==0) )[0])\n",
        "                    \n",
        "    print('Probability of detection:', true_positive/total_positives)  # probability of recognizing a microlensing when you see it\n",
        "    print('Probability of false alarm:', false_positive/total_negatives)  # probability for misclassification of a variable star as microlensing"
      ],
      "execution_count": 31,
      "outputs": []
    },
    {
      "cell_type": "code",
      "metadata": {
        "id": "dBHUZcTcXPO5",
        "colab_type": "code",
        "colab": {
          "base_uri": "https://localhost:8080/",
          "height": 1000,
          "referenced_widgets": [
            "c17efa129fdc4ca59cebf65576307c55",
            "701b46e2e23642fa83b6e74f1a39b09b",
            "6cdee7967e2a41d7a41c7c93ddef9f6a",
            "ebbd755bec1b42c3ab545fbdbf915ed1",
            "eb70f6da98774305b8cebe74b46a5e1e",
            "3322097e4d1c4d479ffdc4f4942d1e49",
            "be3ec72b4f9d4006a95389f25c802991",
            "4a921efb7cd4458aaafa187cc78f2b7e"
          ]
        },
        "outputId": "284adf34-b131-42e7-99de-17b0ca47fc4b"
      },
      "source": [
        "# options:\n",
        "# loss_func = nn.BCEWithLogitsLoss()\n",
        "# loss_func = nn.L1Loss()\n",
        "loss_func = nn.CrossEntropyLoss()\n",
        "#optimizer = optim.Adadelta(net.parameters(), lr=1)\n",
        "#optimizer = optim.SGD(net.parameters(), lr=0.01)\n",
        "optimizer = optim.Adam(net.parameters(), lr=0.001)\n",
        "\n",
        "n_epochs = 200\n",
        "\n",
        "losses = []\n",
        "\n",
        "data_loader = DataLoader(train_ds, batch_size=1000, shuffle=True, collate_fn=collate)\n",
        "for epoch in tqdm(range(n_epochs)):\n",
        "    net.train()\n",
        "    this_losses = []\n",
        "    for x,y in data_loader:\n",
        "        x, y = x.to(device), y.to(device)\n",
        "        optimizer.zero_grad()\n",
        "        output = net(x)\n",
        "        output = torch.cat((1-output, output), dim=1)\n",
        "        loss = loss_func(output.squeeze(), y.long().squeeze())\n",
        "        this_losses.append(float(loss))\n",
        "        loss.backward()\n",
        "        optimizer.step()\n",
        "\n",
        "    losses.append(np.mean(this_losses))\n",
        "    print('Epoch:', epoch, 'Loss:', round(losses[-1], 4))  # for some real-time indication (couldn't manage to get this to dynamically plot)\n"
      ],
      "execution_count": 32,
      "outputs": [
        {
          "output_type": "display_data",
          "data": {
            "application/vnd.jupyter.widget-view+json": {
              "model_id": "c17efa129fdc4ca59cebf65576307c55",
              "version_minor": 0,
              "version_major": 2
            },
            "text/plain": [
              "HBox(children=(FloatProgress(value=0.0, max=200.0), HTML(value='')))"
            ]
          },
          "metadata": {
            "tags": []
          }
        },
        {
          "output_type": "stream",
          "text": [
            "/usr/local/lib/python3.6/dist-packages/torch/nn/modules/container.py:117: UserWarning: Implicit dimension choice for softmax has been deprecated. Change the call to include dim=X as an argument.\n",
            "  input = module(input)\n"
          ],
          "name": "stderr"
        },
        {
          "output_type": "stream",
          "text": [
            "Epoch: 0 Loss: 1.4966\n",
            "Epoch: 1 Loss: 1.4839\n",
            "Epoch: 2 Loss: 1.4801\n",
            "Epoch: 3 Loss: 1.4776\n",
            "Epoch: 4 Loss: 1.4684\n",
            "Epoch: 5 Loss: 1.3656\n",
            "Epoch: 6 Loss: 1.3495\n",
            "Epoch: 7 Loss: 1.3489\n",
            "Epoch: 8 Loss: 1.3512\n",
            "Epoch: 9 Loss: 1.3477\n",
            "Epoch: 10 Loss: 1.3471\n",
            "Epoch: 11 Loss: 1.3464\n",
            "Epoch: 12 Loss: 1.3457\n",
            "Epoch: 13 Loss: 1.3453\n",
            "Epoch: 14 Loss: 1.3449\n",
            "Epoch: 15 Loss: 1.3443\n",
            "Epoch: 16 Loss: 1.3437\n",
            "Epoch: 17 Loss: 1.3433\n",
            "Epoch: 18 Loss: 1.3428\n",
            "Epoch: 19 Loss: 1.3426\n",
            "Epoch: 20 Loss: 1.3422\n",
            "Epoch: 21 Loss: 1.3417\n",
            "Epoch: 22 Loss: 1.3418\n",
            "Epoch: 23 Loss: 1.3409\n",
            "Epoch: 24 Loss: 1.3407\n",
            "Epoch: 25 Loss: 1.34\n",
            "Epoch: 26 Loss: 1.3395\n",
            "Epoch: 27 Loss: 1.3388\n",
            "Epoch: 28 Loss: 1.3381\n",
            "Epoch: 29 Loss: 1.3377\n",
            "Epoch: 30 Loss: 1.3369\n",
            "Epoch: 31 Loss: 1.3354\n",
            "Epoch: 32 Loss: 1.3345\n",
            "Epoch: 33 Loss: 1.3331\n",
            "Epoch: 34 Loss: 1.3319\n",
            "Epoch: 35 Loss: 1.3291\n",
            "Epoch: 36 Loss: 1.3263\n",
            "Epoch: 37 Loss: 1.3196\n",
            "Epoch: 38 Loss: 1.3123\n",
            "Epoch: 39 Loss: 1.3002\n",
            "Epoch: 40 Loss: 1.2663\n",
            "Epoch: 41 Loss: 1.2654\n",
            "Epoch: 42 Loss: 1.2573\n",
            "Epoch: 43 Loss: 1.2533\n",
            "Epoch: 44 Loss: 1.2522\n",
            "Epoch: 45 Loss: 1.2517\n",
            "Epoch: 46 Loss: 1.2494\n",
            "Epoch: 47 Loss: 1.2455\n",
            "Epoch: 48 Loss: 1.2376\n",
            "Epoch: 49 Loss: 1.2431\n",
            "Epoch: 50 Loss: 1.2318\n",
            "Epoch: 51 Loss: 1.2241\n",
            "Epoch: 52 Loss: 1.2197\n",
            "Epoch: 53 Loss: 1.2138\n",
            "Epoch: 54 Loss: 1.2068\n",
            "Epoch: 55 Loss: 1.2095\n",
            "Epoch: 56 Loss: 1.1947\n",
            "Epoch: 57 Loss: 1.2022\n",
            "Epoch: 58 Loss: 1.2258\n",
            "Epoch: 59 Loss: 1.1876\n",
            "Epoch: 60 Loss: 1.1823\n",
            "Epoch: 61 Loss: 1.1769\n",
            "Epoch: 62 Loss: 1.1855\n",
            "Epoch: 63 Loss: 1.1814\n",
            "Epoch: 64 Loss: 1.1716\n",
            "Epoch: 65 Loss: 1.1695\n",
            "Epoch: 66 Loss: 1.1682\n",
            "Epoch: 67 Loss: 1.1629\n",
            "Epoch: 68 Loss: 1.2015\n",
            "Epoch: 69 Loss: 1.2945\n",
            "Epoch: 70 Loss: 1.223\n",
            "Epoch: 71 Loss: 1.2079\n",
            "Epoch: 72 Loss: 1.1946\n",
            "Epoch: 73 Loss: 1.1822\n",
            "Epoch: 74 Loss: 1.1742\n",
            "Epoch: 75 Loss: 1.1661\n",
            "Epoch: 76 Loss: 1.159\n",
            "Epoch: 77 Loss: 1.157\n",
            "Epoch: 78 Loss: 1.1475\n",
            "Epoch: 79 Loss: 1.1468\n",
            "Epoch: 80 Loss: 1.1449\n",
            "Epoch: 81 Loss: 1.1448\n",
            "Epoch: 82 Loss: 1.1439\n",
            "Epoch: 83 Loss: 1.1431\n",
            "Epoch: 84 Loss: 1.1399\n",
            "Epoch: 85 Loss: 1.1989\n",
            "Epoch: 86 Loss: 1.1756\n",
            "Epoch: 87 Loss: 1.1729\n",
            "Epoch: 88 Loss: 1.1686\n",
            "Epoch: 89 Loss: 1.1688\n",
            "Epoch: 90 Loss: 1.1616\n",
            "Epoch: 91 Loss: 1.1497\n",
            "Epoch: 92 Loss: 1.1435\n",
            "Epoch: 93 Loss: 1.1361\n",
            "Epoch: 94 Loss: 1.1312\n",
            "Epoch: 95 Loss: 1.1269\n",
            "Epoch: 96 Loss: 1.121\n",
            "Epoch: 97 Loss: 1.1196\n",
            "Epoch: 98 Loss: 1.119\n",
            "Epoch: 99 Loss: 1.1244\n",
            "Epoch: 100 Loss: 1.1288\n",
            "Epoch: 101 Loss: 1.1521\n",
            "Epoch: 102 Loss: 1.128\n",
            "Epoch: 103 Loss: 1.1197\n",
            "Epoch: 104 Loss: 1.1164\n",
            "Epoch: 105 Loss: 1.1196\n",
            "Epoch: 106 Loss: 1.1127\n",
            "Epoch: 107 Loss: 1.1127\n",
            "Epoch: 108 Loss: 1.1066\n",
            "Epoch: 109 Loss: 1.1035\n",
            "Epoch: 110 Loss: 1.1109\n",
            "Epoch: 111 Loss: 1.122\n",
            "Epoch: 112 Loss: 1.1263\n",
            "Epoch: 113 Loss: 1.1204\n",
            "Epoch: 114 Loss: 1.1115\n",
            "Epoch: 115 Loss: 1.1073\n",
            "Epoch: 116 Loss: 1.1056\n",
            "Epoch: 117 Loss: 1.0998\n",
            "Epoch: 118 Loss: 1.0954\n",
            "Epoch: 119 Loss: 1.0938\n",
            "Epoch: 120 Loss: 1.0985\n",
            "Epoch: 121 Loss: 1.0977\n",
            "Epoch: 122 Loss: 1.0921\n",
            "Epoch: 123 Loss: 1.0917\n",
            "Epoch: 124 Loss: 1.0898\n",
            "Epoch: 125 Loss: 1.0989\n",
            "Epoch: 126 Loss: 1.1002\n",
            "Epoch: 127 Loss: 1.1228\n",
            "Epoch: 128 Loss: 1.2332\n",
            "Epoch: 129 Loss: 1.143\n",
            "Epoch: 130 Loss: 1.1279\n",
            "Epoch: 131 Loss: 1.1074\n",
            "Epoch: 132 Loss: 1.0982\n",
            "Epoch: 133 Loss: 1.0918\n",
            "Epoch: 134 Loss: 1.0878\n",
            "Epoch: 135 Loss: 1.0898\n",
            "Epoch: 136 Loss: 1.0896\n",
            "Epoch: 137 Loss: 1.0864\n",
            "Epoch: 138 Loss: 1.0909\n",
            "Epoch: 139 Loss: 1.0827\n",
            "Epoch: 140 Loss: 1.0917\n",
            "Epoch: 141 Loss: 1.0948\n",
            "Epoch: 142 Loss: 1.1043\n",
            "Epoch: 143 Loss: 1.1041\n",
            "Epoch: 144 Loss: 1.1\n",
            "Epoch: 145 Loss: 1.1016\n",
            "Epoch: 146 Loss: 1.1002\n",
            "Epoch: 147 Loss: 1.1013\n",
            "Epoch: 148 Loss: 1.1\n",
            "Epoch: 149 Loss: 1.0831\n",
            "Epoch: 150 Loss: 1.153\n",
            "Epoch: 151 Loss: 1.1981\n",
            "Epoch: 152 Loss: 1.1172\n",
            "Epoch: 153 Loss: 1.1108\n",
            "Epoch: 154 Loss: 1.0928\n",
            "Epoch: 155 Loss: 1.0896\n",
            "Epoch: 156 Loss: 1.0902\n",
            "Epoch: 157 Loss: 1.0822\n",
            "Epoch: 158 Loss: 1.0814\n",
            "Epoch: 159 Loss: 1.081\n",
            "Epoch: 160 Loss: 1.0809\n",
            "Epoch: 161 Loss: 1.0795\n",
            "Epoch: 162 Loss: 1.0782\n",
            "Epoch: 163 Loss: 1.0875\n",
            "Epoch: 164 Loss: 1.0772\n",
            "Epoch: 165 Loss: 1.0767\n",
            "Epoch: 166 Loss: 1.0765\n",
            "Epoch: 167 Loss: 1.0828\n",
            "Epoch: 168 Loss: 1.0813\n",
            "Epoch: 169 Loss: 1.077\n",
            "Epoch: 170 Loss: 1.0818\n",
            "Epoch: 171 Loss: 1.0876\n",
            "Epoch: 172 Loss: 1.0796\n",
            "Epoch: 173 Loss: 1.074\n",
            "Epoch: 174 Loss: 1.0787\n",
            "Epoch: 175 Loss: 1.0743\n",
            "Epoch: 176 Loss: 1.0745\n",
            "Epoch: 177 Loss: 1.0747\n",
            "Epoch: 178 Loss: 1.0739\n",
            "Epoch: 179 Loss: 1.0771\n",
            "Epoch: 180 Loss: 1.091\n",
            "Epoch: 181 Loss: 1.0893\n",
            "Epoch: 182 Loss: 1.0783\n",
            "Epoch: 183 Loss: 1.1094\n",
            "Epoch: 184 Loss: 1.0937\n",
            "Epoch: 185 Loss: 1.0877\n",
            "Epoch: 186 Loss: 1.0832\n",
            "Epoch: 187 Loss: 1.0764\n",
            "Epoch: 188 Loss: 1.0765\n",
            "Epoch: 189 Loss: 1.0739\n",
            "Epoch: 190 Loss: 1.0752\n",
            "Epoch: 191 Loss: 1.0754\n",
            "Epoch: 192 Loss: 1.0762\n",
            "Epoch: 193 Loss: 1.088\n",
            "Epoch: 194 Loss: 1.0843\n",
            "Epoch: 195 Loss: 1.0907\n",
            "Epoch: 196 Loss: 1.0845\n",
            "Epoch: 197 Loss: 1.0834\n",
            "Epoch: 198 Loss: 1.0746\n",
            "Epoch: 199 Loss: 1.0741\n",
            "\n"
          ],
          "name": "stdout"
        }
      ]
    },
    {
      "cell_type": "code",
      "metadata": {
        "id": "rU3-bAMS-D-I",
        "colab_type": "code",
        "colab": {
          "base_uri": "https://localhost:8080/",
          "height": 350
        },
        "outputId": "a705bd33-cc6e-465a-c12f-a1e773c83010"
      },
      "source": [
        "  # plot the printed losses:\n",
        "losses = np.array(losses)\n",
        "plt.plot(losses[1:],label='training loss')\n",
        "plt.xlabel('Epoch')\n",
        "plt.legend()\n",
        "plt.grid()\n",
        "plt.show()\n",
        "\n",
        "evaluate(net, validation_ds)  # show P_D, P_FA TODO: CHANGE SU IT RUNS"
      ],
      "execution_count": 33,
      "outputs": [
        {
          "output_type": "display_data",
          "data": {
            "image/png": "[encoded data removed]",
            "text/plain": [
              "<Figure size 432x288 with 1 Axes>"
            ]
          },
          "metadata": {
            "tags": [],
            "needs_background": "light"
          }
        },
        {
          "output_type": "stream",
          "text": [
            "/usr/local/lib/python3.6/dist-packages/torch/nn/modules/container.py:117: UserWarning: Implicit dimension choice for softmax has been deprecated. Change the call to include dim=X as an argument.\n",
            "  input = module(input)\n"
          ],
          "name": "stderr"
        },
        {
          "output_type": "stream",
          "text": [
            "Probability of detection: 0.9396\n",
            "Probability of false alarm: 0.0768\n"
          ],
          "name": "stdout"
        }
      ]
    },
    {
      "cell_type": "markdown",
      "metadata": {
        "id": "2VfHxWg7aL98",
        "colab_type": "text"
      },
      "source": [
        "## Save\n",
        "Don't forget to download"
      ]
    },
    {
      "cell_type": "code",
      "metadata": {
        "id": "2cVQVmottKTu",
        "colab_type": "code",
        "colab": {}
      },
      "source": [
        "timestamp = datetime.now().strftime(\"%d-%m-%Y_%H-%M-%S\")\n",
        "torch.save(net.state_dict(), 'model_' + timestamp + '.pt')"
      ],
      "execution_count": null,
      "outputs": []
    },
    {
      "cell_type": "code",
      "metadata": {
        "id": "eomLQW_E0eaY",
        "colab_type": "code",
        "colab": {}
      },
      "source": [
        ""
      ],
      "execution_count": null,
      "outputs": []
    }
  ]
}