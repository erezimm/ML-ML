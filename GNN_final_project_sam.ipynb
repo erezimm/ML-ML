{
  "nbformat": 4,
  "nbformat_minor": 0,
  "metadata": {
    "kernelspec": {
      "display_name": "Python 3",
      "language": "python",
      "name": "python3"
    },
    "language_info": {
      "codemirror_mode": {
        "name": "ipython",
        "version": 3
      },
      "file_extension": ".py",
      "mimetype": "text/x-python",
      "name": "python",
      "nbconvert_exporter": "python",
      "pygments_lexer": "ipython3",
      "version": "3.8.2"
    },
    "colab": {
      "name": "Copy of GNN final project.ipynb",
      "provenance": [],
      "collapsed_sections": [],
      "toc_visible": true,
      "include_colab_link": true
    },
    "accelerator": "GPU",
    "widgets": {
      "application/vnd.jupyter.widget-state+json": {
        "8111116a19264e88ae2567e6eae6e4f6": {
          "model_module": "@jupyter-widgets/controls",
          "model_name": "HBoxModel",
          "state": {
            "_view_name": "HBoxView",
            "_dom_classes": [],
            "_model_name": "HBoxModel",
            "_view_module": "@jupyter-widgets/controls",
            "_model_module_version": "1.5.0",
            "_view_count": null,
            "_view_module_version": "1.5.0",
            "box_style": "",
            "layout": "IPY_MODEL_c41872d1e27a4df29b698d985940c26f",
            "_model_module": "@jupyter-widgets/controls",
            "children": [
              "IPY_MODEL_b832185624ca40eaaeafd9df5aeb2f89",
              "IPY_MODEL_9ea0cf0e13da4198b9c23a2f074d32d3"
            ]
          }
        },
        "c41872d1e27a4df29b698d985940c26f": {
          "model_module": "@jupyter-widgets/base",
          "model_name": "LayoutModel",
          "state": {
            "_view_name": "LayoutView",
            "grid_template_rows": null,
            "right": null,
            "justify_content": null,
            "_view_module": "@jupyter-widgets/base",
            "overflow": null,
            "_model_module_version": "1.2.0",
            "_view_count": null,
            "flex_flow": null,
            "width": null,
            "min_width": null,
            "border": null,
            "align_items": null,
            "bottom": null,
            "_model_module": "@jupyter-widgets/base",
            "top": null,
            "grid_column": null,
            "overflow_y": null,
            "overflow_x": null,
            "grid_auto_flow": null,
            "grid_area": null,
            "grid_template_columns": null,
            "flex": null,
            "_model_name": "LayoutModel",
            "justify_items": null,
            "grid_row": null,
            "max_height": null,
            "align_content": null,
            "visibility": null,
            "align_self": null,
            "height": null,
            "min_height": null,
            "padding": null,
            "grid_auto_rows": null,
            "grid_gap": null,
            "max_width": null,
            "order": null,
            "_view_module_version": "1.2.0",
            "grid_template_areas": null,
            "object_position": null,
            "object_fit": null,
            "grid_auto_columns": null,
            "margin": null,
            "display": null,
            "left": null
          }
        },
        "b832185624ca40eaaeafd9df5aeb2f89": {
          "model_module": "@jupyter-widgets/controls",
          "model_name": "FloatProgressModel",
          "state": {
            "_view_name": "ProgressView",
            "style": "IPY_MODEL_7719102d7f3844aabaccd2628b02eb17",
            "_dom_classes": [],
            "description": "100%",
            "_model_name": "FloatProgressModel",
            "bar_style": "success",
            "max": 5000,
            "_view_module": "@jupyter-widgets/controls",
            "_model_module_version": "1.5.0",
            "value": 5000,
            "_view_count": null,
            "_view_module_version": "1.5.0",
            "orientation": "horizontal",
            "min": 0,
            "description_tooltip": null,
            "_model_module": "@jupyter-widgets/controls",
            "layout": "IPY_MODEL_033f51346d144a91b4c88169bde80046"
          }
        },
        "9ea0cf0e13da4198b9c23a2f074d32d3": {
          "model_module": "@jupyter-widgets/controls",
          "model_name": "HTMLModel",
          "state": {
            "_view_name": "HTMLView",
            "style": "IPY_MODEL_8e72207d339343b4b1beb94530ff2cd0",
            "_dom_classes": [],
            "description": "",
            "_model_name": "HTMLModel",
            "placeholder": "​",
            "_view_module": "@jupyter-widgets/controls",
            "_model_module_version": "1.5.0",
            "value": " 5000/5000 [00:38&lt;00:00, 131.46it/s]",
            "_view_count": null,
            "_view_module_version": "1.5.0",
            "description_tooltip": null,
            "_model_module": "@jupyter-widgets/controls",
            "layout": "IPY_MODEL_3365e83653194d4599672fac0a60b01c"
          }
        },
        "7719102d7f3844aabaccd2628b02eb17": {
          "model_module": "@jupyter-widgets/controls",
          "model_name": "ProgressStyleModel",
          "state": {
            "_view_name": "StyleView",
            "_model_name": "ProgressStyleModel",
            "description_width": "initial",
            "_view_module": "@jupyter-widgets/base",
            "_model_module_version": "1.5.0",
            "_view_count": null,
            "_view_module_version": "1.2.0",
            "bar_color": null,
            "_model_module": "@jupyter-widgets/controls"
          }
        },
        "033f51346d144a91b4c88169bde80046": {
          "model_module": "@jupyter-widgets/base",
          "model_name": "LayoutModel",
          "state": {
            "_view_name": "LayoutView",
            "grid_template_rows": null,
            "right": null,
            "justify_content": null,
            "_view_module": "@jupyter-widgets/base",
            "overflow": null,
            "_model_module_version": "1.2.0",
            "_view_count": null,
            "flex_flow": null,
            "width": null,
            "min_width": null,
            "border": null,
            "align_items": null,
            "bottom": null,
            "_model_module": "@jupyter-widgets/base",
            "top": null,
            "grid_column": null,
            "overflow_y": null,
            "overflow_x": null,
            "grid_auto_flow": null,
            "grid_area": null,
            "grid_template_columns": null,
            "flex": null,
            "_model_name": "LayoutModel",
            "justify_items": null,
            "grid_row": null,
            "max_height": null,
            "align_content": null,
            "visibility": null,
            "align_self": null,
            "height": null,
            "min_height": null,
            "padding": null,
            "grid_auto_rows": null,
            "grid_gap": null,
            "max_width": null,
            "order": null,
            "_view_module_version": "1.2.0",
            "grid_template_areas": null,
            "object_position": null,
            "object_fit": null,
            "grid_auto_columns": null,
            "margin": null,
            "display": null,
            "left": null
          }
        },
        "8e72207d339343b4b1beb94530ff2cd0": {
          "model_module": "@jupyter-widgets/controls",
          "model_name": "DescriptionStyleModel",
          "state": {
            "_view_name": "StyleView",
            "_model_name": "DescriptionStyleModel",
            "description_width": "",
            "_view_module": "@jupyter-widgets/base",
            "_model_module_version": "1.5.0",
            "_view_count": null,
            "_view_module_version": "1.2.0",
            "_model_module": "@jupyter-widgets/controls"
          }
        },
        "3365e83653194d4599672fac0a60b01c": {
          "model_module": "@jupyter-widgets/base",
          "model_name": "LayoutModel",
          "state": {
            "_view_name": "LayoutView",
            "grid_template_rows": null,
            "right": null,
            "justify_content": null,
            "_view_module": "@jupyter-widgets/base",
            "overflow": null,
            "_model_module_version": "1.2.0",
            "_view_count": null,
            "flex_flow": null,
            "width": null,
            "min_width": null,
            "border": null,
            "align_items": null,
            "bottom": null,
            "_model_module": "@jupyter-widgets/base",
            "top": null,
            "grid_column": null,
            "overflow_y": null,
            "overflow_x": null,
            "grid_auto_flow": null,
            "grid_area": null,
            "grid_template_columns": null,
            "flex": null,
            "_model_name": "LayoutModel",
            "justify_items": null,
            "grid_row": null,
            "max_height": null,
            "align_content": null,
            "visibility": null,
            "align_self": null,
            "height": null,
            "min_height": null,
            "padding": null,
            "grid_auto_rows": null,
            "grid_gap": null,
            "max_width": null,
            "order": null,
            "_view_module_version": "1.2.0",
            "grid_template_areas": null,
            "object_position": null,
            "object_fit": null,
            "grid_auto_columns": null,
            "margin": null,
            "display": null,
            "left": null
          }
        },
        "8c844ff781fe419d81f60bfd2e8313f5": {
          "model_module": "@jupyter-widgets/controls",
          "model_name": "HBoxModel",
          "state": {
            "_view_name": "HBoxView",
            "_dom_classes": [],
            "_model_name": "HBoxModel",
            "_view_module": "@jupyter-widgets/controls",
            "_model_module_version": "1.5.0",
            "_view_count": null,
            "_view_module_version": "1.5.0",
            "box_style": "",
            "layout": "IPY_MODEL_288dff5130d7461a8b198fab26aee1af",
            "_model_module": "@jupyter-widgets/controls",
            "children": [
              "IPY_MODEL_9e7a28b06420475294422a84a18d9623",
              "IPY_MODEL_3cc6dbb345e443a7a396545c3d8d03cf"
            ]
          }
        },
        "288dff5130d7461a8b198fab26aee1af": {
          "model_module": "@jupyter-widgets/base",
          "model_name": "LayoutModel",
          "state": {
            "_view_name": "LayoutView",
            "grid_template_rows": null,
            "right": null,
            "justify_content": null,
            "_view_module": "@jupyter-widgets/base",
            "overflow": null,
            "_model_module_version": "1.2.0",
            "_view_count": null,
            "flex_flow": null,
            "width": null,
            "min_width": null,
            "border": null,
            "align_items": null,
            "bottom": null,
            "_model_module": "@jupyter-widgets/base",
            "top": null,
            "grid_column": null,
            "overflow_y": null,
            "overflow_x": null,
            "grid_auto_flow": null,
            "grid_area": null,
            "grid_template_columns": null,
            "flex": null,
            "_model_name": "LayoutModel",
            "justify_items": null,
            "grid_row": null,
            "max_height": null,
            "align_content": null,
            "visibility": null,
            "align_self": null,
            "height": null,
            "min_height": null,
            "padding": null,
            "grid_auto_rows": null,
            "grid_gap": null,
            "max_width": null,
            "order": null,
            "_view_module_version": "1.2.0",
            "grid_template_areas": null,
            "object_position": null,
            "object_fit": null,
            "grid_auto_columns": null,
            "margin": null,
            "display": null,
            "left": null
          }
        },
        "9e7a28b06420475294422a84a18d9623": {
          "model_module": "@jupyter-widgets/controls",
          "model_name": "FloatProgressModel",
          "state": {
            "_view_name": "ProgressView",
            "style": "IPY_MODEL_dee2fd66ed81421ba2ba860a43da120a",
            "_dom_classes": [],
            "description": "100%",
            "_model_name": "FloatProgressModel",
            "bar_style": "success",
            "max": 5000,
            "_view_module": "@jupyter-widgets/controls",
            "_model_module_version": "1.5.0",
            "value": 5000,
            "_view_count": null,
            "_view_module_version": "1.5.0",
            "orientation": "horizontal",
            "min": 0,
            "description_tooltip": null,
            "_model_module": "@jupyter-widgets/controls",
            "layout": "IPY_MODEL_2f672b8eb9cd48a489879282508c26d4"
          }
        },
        "3cc6dbb345e443a7a396545c3d8d03cf": {
          "model_module": "@jupyter-widgets/controls",
          "model_name": "HTMLModel",
          "state": {
            "_view_name": "HTMLView",
            "style": "IPY_MODEL_b990ac84fbca408e8d99862f7bf46fa2",
            "_dom_classes": [],
            "description": "",
            "_model_name": "HTMLModel",
            "placeholder": "​",
            "_view_module": "@jupyter-widgets/controls",
            "_model_module_version": "1.5.0",
            "value": " 5000/5000 [04:00&lt;00:00, 20.78it/s]",
            "_view_count": null,
            "_view_module_version": "1.5.0",
            "description_tooltip": null,
            "_model_module": "@jupyter-widgets/controls",
            "layout": "IPY_MODEL_5c776591d99244fc91e42f60f98dc13b"
          }
        },
        "dee2fd66ed81421ba2ba860a43da120a": {
          "model_module": "@jupyter-widgets/controls",
          "model_name": "ProgressStyleModel",
          "state": {
            "_view_name": "StyleView",
            "_model_name": "ProgressStyleModel",
            "description_width": "initial",
            "_view_module": "@jupyter-widgets/base",
            "_model_module_version": "1.5.0",
            "_view_count": null,
            "_view_module_version": "1.2.0",
            "bar_color": null,
            "_model_module": "@jupyter-widgets/controls"
          }
        },
        "2f672b8eb9cd48a489879282508c26d4": {
          "model_module": "@jupyter-widgets/base",
          "model_name": "LayoutModel",
          "state": {
            "_view_name": "LayoutView",
            "grid_template_rows": null,
            "right": null,
            "justify_content": null,
            "_view_module": "@jupyter-widgets/base",
            "overflow": null,
            "_model_module_version": "1.2.0",
            "_view_count": null,
            "flex_flow": null,
            "width": null,
            "min_width": null,
            "border": null,
            "align_items": null,
            "bottom": null,
            "_model_module": "@jupyter-widgets/base",
            "top": null,
            "grid_column": null,
            "overflow_y": null,
            "overflow_x": null,
            "grid_auto_flow": null,
            "grid_area": null,
            "grid_template_columns": null,
            "flex": null,
            "_model_name": "LayoutModel",
            "justify_items": null,
            "grid_row": null,
            "max_height": null,
            "align_content": null,
            "visibility": null,
            "align_self": null,
            "height": null,
            "min_height": null,
            "padding": null,
            "grid_auto_rows": null,
            "grid_gap": null,
            "max_width": null,
            "order": null,
            "_view_module_version": "1.2.0",
            "grid_template_areas": null,
            "object_position": null,
            "object_fit": null,
            "grid_auto_columns": null,
            "margin": null,
            "display": null,
            "left": null
          }
        },
        "b990ac84fbca408e8d99862f7bf46fa2": {
          "model_module": "@jupyter-widgets/controls",
          "model_name": "DescriptionStyleModel",
          "state": {
            "_view_name": "StyleView",
            "_model_name": "DescriptionStyleModel",
            "description_width": "",
            "_view_module": "@jupyter-widgets/base",
            "_model_module_version": "1.5.0",
            "_view_count": null,
            "_view_module_version": "1.2.0",
            "_model_module": "@jupyter-widgets/controls"
          }
        },
        "5c776591d99244fc91e42f60f98dc13b": {
          "model_module": "@jupyter-widgets/base",
          "model_name": "LayoutModel",
          "state": {
            "_view_name": "LayoutView",
            "grid_template_rows": null,
            "right": null,
            "justify_content": null,
            "_view_module": "@jupyter-widgets/base",
            "overflow": null,
            "_model_module_version": "1.2.0",
            "_view_count": null,
            "flex_flow": null,
            "width": null,
            "min_width": null,
            "border": null,
            "align_items": null,
            "bottom": null,
            "_model_module": "@jupyter-widgets/base",
            "top": null,
            "grid_column": null,
            "overflow_y": null,
            "overflow_x": null,
            "grid_auto_flow": null,
            "grid_area": null,
            "grid_template_columns": null,
            "flex": null,
            "_model_name": "LayoutModel",
            "justify_items": null,
            "grid_row": null,
            "max_height": null,
            "align_content": null,
            "visibility": null,
            "align_self": null,
            "height": null,
            "min_height": null,
            "padding": null,
            "grid_auto_rows": null,
            "grid_gap": null,
            "max_width": null,
            "order": null,
            "_view_module_version": "1.2.0",
            "grid_template_areas": null,
            "object_position": null,
            "object_fit": null,
            "grid_auto_columns": null,
            "margin": null,
            "display": null,
            "left": null
          }
        },
        "f9dac5b2c1a846bf8625f766a6edee34": {
          "model_module": "@jupyter-widgets/controls",
          "model_name": "HBoxModel",
          "state": {
            "_view_name": "HBoxView",
            "_dom_classes": [],
            "_model_name": "HBoxModel",
            "_view_module": "@jupyter-widgets/controls",
            "_model_module_version": "1.5.0",
            "_view_count": null,
            "_view_module_version": "1.5.0",
            "box_style": "",
            "layout": "IPY_MODEL_e90dbddfa95247119288dc4d05525c53",
            "_model_module": "@jupyter-widgets/controls",
            "children": [
              "IPY_MODEL_acf896f8a17449b3834b754cdcc6d6ca",
              "IPY_MODEL_24813205eefe46b7be118707677902c3"
            ]
          }
        },
        "e90dbddfa95247119288dc4d05525c53": {
          "model_module": "@jupyter-widgets/base",
          "model_name": "LayoutModel",
          "state": {
            "_view_name": "LayoutView",
            "grid_template_rows": null,
            "right": null,
            "justify_content": null,
            "_view_module": "@jupyter-widgets/base",
            "overflow": null,
            "_model_module_version": "1.2.0",
            "_view_count": null,
            "flex_flow": null,
            "width": null,
            "min_width": null,
            "border": null,
            "align_items": null,
            "bottom": null,
            "_model_module": "@jupyter-widgets/base",
            "top": null,
            "grid_column": null,
            "overflow_y": null,
            "overflow_x": null,
            "grid_auto_flow": null,
            "grid_area": null,
            "grid_template_columns": null,
            "flex": null,
            "_model_name": "LayoutModel",
            "justify_items": null,
            "grid_row": null,
            "max_height": null,
            "align_content": null,
            "visibility": null,
            "align_self": null,
            "height": null,
            "min_height": null,
            "padding": null,
            "grid_auto_rows": null,
            "grid_gap": null,
            "max_width": null,
            "order": null,
            "_view_module_version": "1.2.0",
            "grid_template_areas": null,
            "object_position": null,
            "object_fit": null,
            "grid_auto_columns": null,
            "margin": null,
            "display": null,
            "left": null
          }
        },
        "acf896f8a17449b3834b754cdcc6d6ca": {
          "model_module": "@jupyter-widgets/controls",
          "model_name": "FloatProgressModel",
          "state": {
            "_view_name": "ProgressView",
            "style": "IPY_MODEL_14f8767e717d4eb3bd4c9cc4a6ac86b5",
            "_dom_classes": [],
            "description": "100%",
            "_model_name": "FloatProgressModel",
            "bar_style": "success",
            "max": 10,
            "_view_module": "@jupyter-widgets/controls",
            "_model_module_version": "1.5.0",
            "value": 10,
            "_view_count": null,
            "_view_module_version": "1.5.0",
            "orientation": "horizontal",
            "min": 0,
            "description_tooltip": null,
            "_model_module": "@jupyter-widgets/controls",
            "layout": "IPY_MODEL_0c3c75bd4d3d4510b27a68831d5479bf"
          }
        },
        "24813205eefe46b7be118707677902c3": {
          "model_module": "@jupyter-widgets/controls",
          "model_name": "HTMLModel",
          "state": {
            "_view_name": "HTMLView",
            "style": "IPY_MODEL_574dd83851c0445f99fb809b9796dc3f",
            "_dom_classes": [],
            "description": "",
            "_model_name": "HTMLModel",
            "placeholder": "​",
            "_view_module": "@jupyter-widgets/controls",
            "_model_module_version": "1.5.0",
            "value": " 10/10 [01:19&lt;00:00,  7.99s/it]",
            "_view_count": null,
            "_view_module_version": "1.5.0",
            "description_tooltip": null,
            "_model_module": "@jupyter-widgets/controls",
            "layout": "IPY_MODEL_b74b8c916ee945d381be7dc356b759d6"
          }
        },
        "14f8767e717d4eb3bd4c9cc4a6ac86b5": {
          "model_module": "@jupyter-widgets/controls",
          "model_name": "ProgressStyleModel",
          "state": {
            "_view_name": "StyleView",
            "_model_name": "ProgressStyleModel",
            "description_width": "initial",
            "_view_module": "@jupyter-widgets/base",
            "_model_module_version": "1.5.0",
            "_view_count": null,
            "_view_module_version": "1.2.0",
            "bar_color": null,
            "_model_module": "@jupyter-widgets/controls"
          }
        },
        "0c3c75bd4d3d4510b27a68831d5479bf": {
          "model_module": "@jupyter-widgets/base",
          "model_name": "LayoutModel",
          "state": {
            "_view_name": "LayoutView",
            "grid_template_rows": null,
            "right": null,
            "justify_content": null,
            "_view_module": "@jupyter-widgets/base",
            "overflow": null,
            "_model_module_version": "1.2.0",
            "_view_count": null,
            "flex_flow": null,
            "width": null,
            "min_width": null,
            "border": null,
            "align_items": null,
            "bottom": null,
            "_model_module": "@jupyter-widgets/base",
            "top": null,
            "grid_column": null,
            "overflow_y": null,
            "overflow_x": null,
            "grid_auto_flow": null,
            "grid_area": null,
            "grid_template_columns": null,
            "flex": null,
            "_model_name": "LayoutModel",
            "justify_items": null,
            "grid_row": null,
            "max_height": null,
            "align_content": null,
            "visibility": null,
            "align_self": null,
            "height": null,
            "min_height": null,
            "padding": null,
            "grid_auto_rows": null,
            "grid_gap": null,
            "max_width": null,
            "order": null,
            "_view_module_version": "1.2.0",
            "grid_template_areas": null,
            "object_position": null,
            "object_fit": null,
            "grid_auto_columns": null,
            "margin": null,
            "display": null,
            "left": null
          }
        },
        "574dd83851c0445f99fb809b9796dc3f": {
          "model_module": "@jupyter-widgets/controls",
          "model_name": "DescriptionStyleModel",
          "state": {
            "_view_name": "StyleView",
            "_model_name": "DescriptionStyleModel",
            "description_width": "",
            "_view_module": "@jupyter-widgets/base",
            "_model_module_version": "1.5.0",
            "_view_count": null,
            "_view_module_version": "1.2.0",
            "_model_module": "@jupyter-widgets/controls"
          }
        },
        "b74b8c916ee945d381be7dc356b759d6": {
          "model_module": "@jupyter-widgets/base",
          "model_name": "LayoutModel",
          "state": {
            "_view_name": "LayoutView",
            "grid_template_rows": null,
            "right": null,
            "justify_content": null,
            "_view_module": "@jupyter-widgets/base",
            "overflow": null,
            "_model_module_version": "1.2.0",
            "_view_count": null,
            "flex_flow": null,
            "width": null,
            "min_width": null,
            "border": null,
            "align_items": null,
            "bottom": null,
            "_model_module": "@jupyter-widgets/base",
            "top": null,
            "grid_column": null,
            "overflow_y": null,
            "overflow_x": null,
            "grid_auto_flow": null,
            "grid_area": null,
            "grid_template_columns": null,
            "flex": null,
            "_model_name": "LayoutModel",
            "justify_items": null,
            "grid_row": null,
            "max_height": null,
            "align_content": null,
            "visibility": null,
            "align_self": null,
            "height": null,
            "min_height": null,
            "padding": null,
            "grid_auto_rows": null,
            "grid_gap": null,
            "max_width": null,
            "order": null,
            "_view_module_version": "1.2.0",
            "grid_template_areas": null,
            "object_position": null,
            "object_fit": null,
            "grid_auto_columns": null,
            "margin": null,
            "display": null,
            "left": null
          }
        }
      }
    }
  },
  "cells": [
    {
      "cell_type": "markdown",
      "metadata": {
        "id": "view-in-github",
        "colab_type": "text"
      },
      "source": [
        "<a href=\"https://colab.research.google.com/github/erezimm/ML-ML/blob/master/GNN_final_project_sam.ipynb\" target=\"_parent\"><img src=\"https://colab.research.google.com/assets/colab-badge.svg\" alt=\"Open In Colab\"/></a>"
      ]
    },
    {
      "cell_type": "markdown",
      "metadata": {
        "id": "OCU4DoTLIIoO",
        "colab_type": "text"
      },
      "source": [
        "# Main notebook, to be run on Google Colab"
      ]
    },
    {
      "cell_type": "markdown",
      "metadata": {
        "id": "PWYU8-BTJ-XN",
        "colab_type": "text"
      },
      "source": [
        "## Import dependencies and download dataset"
      ]
    },
    {
      "cell_type": "code",
      "metadata": {
        "id": "L5E9Y_nnn3m8",
        "colab_type": "code",
        "colab": {
          "base_uri": "https://localhost:8080/",
          "height": 598
        },
        "outputId": "8c0903d0-21ce-41c2-8c26-a2c104a4a25c"
      },
      "source": [
        "!pip install dgl\n",
        "\n",
        "import glob\n",
        "import os\n",
        "import shutil\n",
        "from datetime import datetime\n",
        "\n",
        "import astropy.io.ascii\n",
        "import dgl\n",
        "import matplotlib.pyplot as plt\n",
        "import networkx as nx\n",
        "import numpy as np\n",
        "import torch\n",
        "import torch.nn as nn\n",
        "import torch.optim as optim\n",
        "from torch.utils.data import Dataset, DataLoader\n",
        "from tqdm.notebook import tqdm\n",
        "\n",
        "if not torch.cuda.is_available():\n",
        "    raise Exception('Cuda unavailable, turn it on under Runtime>Change runtime type>GPU')\n",
        "device = torch.device('cpu')\n",
        "\n",
        "training_path = '/content/training_set'\n",
        "validation_path = '/content/validation_set'\n",
        "for path in (training_path, validation_path):\n",
        "    if not os.path.isdir(path):\n",
        "        os.makedirs(path)\n",
        "\n",
        "!wget -O data.zip https://github.com/erezimm/ML-ML/raw/master/data.zip\n",
        "!unzip -o -q data.zip -d /content/\n",
        "data_path = '/content/data'\n",
        "microlist = glob.glob(data_path+'/microlensedconst_*')\n",
        "varlist = glob.glob(data_path+'/cleanvar_*')\n",
        "for typelist in (microlist, varlist):\n",
        "    for i, f in enumerate(typelist):\n",
        "        dest = training_path if i<len(microlist)/2 else validation_path\n",
        "        shutil.move(f, os.path.join(dest, os.path.basename(f)))"
      ],
      "execution_count": 1,
      "outputs": [
        {
          "output_type": "stream",
          "text": [
            "Collecting dgl\n",
            "\u001b[?25l  Downloading https://files.pythonhosted.org/packages/c5/b4/84e4ebd70ef3985181ef5d2d2a366a45af0e3cd18d249fb212ac03f683cf/dgl-0.4.3.post2-cp36-cp36m-manylinux1_x86_64.whl (3.0MB)\n",
            "\r\u001b[K     |                                | 10kB 24.5MB/s eta 0:00:01\r\u001b[K     |▏                               | 20kB 3.4MB/s eta 0:00:01\r\u001b[K     |▎                               | 30kB 4.6MB/s eta 0:00:01\r\u001b[K     |▍                               | 40kB 5.0MB/s eta 0:00:01\r\u001b[K     |▌                               | 51kB 4.0MB/s eta 0:00:01\r\u001b[K     |▋                               | 61kB 4.4MB/s eta 0:00:01\r\u001b[K     |▊                               | 71kB 4.9MB/s eta 0:00:01\r\u001b[K     |▉                               | 81kB 5.3MB/s eta 0:00:01\r\u001b[K     |█                               | 92kB 5.7MB/s eta 0:00:01\r\u001b[K     |█                               | 102kB 5.4MB/s eta 0:00:01\r\u001b[K     |█▏                              | 112kB 5.4MB/s eta 0:00:01\r\u001b[K     |█▎                              | 122kB 5.4MB/s eta 0:00:01\r\u001b[K     |█▍                              | 133kB 5.4MB/s eta 0:00:01\r\u001b[K     |█▌                              | 143kB 5.4MB/s eta 0:00:01\r\u001b[K     |█▋                              | 153kB 5.4MB/s eta 0:00:01\r\u001b[K     |█▊                              | 163kB 5.4MB/s eta 0:00:01\r\u001b[K     |█▉                              | 174kB 5.4MB/s eta 0:00:01\r\u001b[K     |██                              | 184kB 5.4MB/s eta 0:00:01\r\u001b[K     |██                              | 194kB 5.4MB/s eta 0:00:01\r\u001b[K     |██▏                             | 204kB 5.4MB/s eta 0:00:01\r\u001b[K     |██▎                             | 215kB 5.4MB/s eta 0:00:01\r\u001b[K     |██▍                             | 225kB 5.4MB/s eta 0:00:01\r\u001b[K     |██▌                             | 235kB 5.4MB/s eta 0:00:01\r\u001b[K     |██▋                             | 245kB 5.4MB/s eta 0:00:01\r\u001b[K     |██▊                             | 256kB 5.4MB/s eta 0:00:01\r\u001b[K     |██▉                             | 266kB 5.4MB/s eta 0:00:01\r\u001b[K     |███                             | 276kB 5.4MB/s eta 0:00:01\r\u001b[K     |███                             | 286kB 5.4MB/s eta 0:00:01\r\u001b[K     |███▏                            | 296kB 5.4MB/s eta 0:00:01\r\u001b[K     |███▎                            | 307kB 5.4MB/s eta 0:00:01\r\u001b[K     |███▍                            | 317kB 5.4MB/s eta 0:00:01\r\u001b[K     |███▌                            | 327kB 5.4MB/s eta 0:00:01\r\u001b[K     |███▋                            | 337kB 5.4MB/s eta 0:00:01\r\u001b[K     |███▊                            | 348kB 5.4MB/s eta 0:00:01\r\u001b[K     |███▉                            | 358kB 5.4MB/s eta 0:00:01\r\u001b[K     |████                            | 368kB 5.4MB/s eta 0:00:01\r\u001b[K     |████                            | 378kB 5.4MB/s eta 0:00:01\r\u001b[K     |████▏                           | 389kB 5.4MB/s eta 0:00:01\r\u001b[K     |████▎                           | 399kB 5.4MB/s eta 0:00:01\r\u001b[K     |████▍                           | 409kB 5.4MB/s eta 0:00:01\r\u001b[K     |████▌                           | 419kB 5.4MB/s eta 0:00:01\r\u001b[K     |████▋                           | 430kB 5.4MB/s eta 0:00:01\r\u001b[K     |████▊                           | 440kB 5.4MB/s eta 0:00:01\r\u001b[K     |████▉                           | 450kB 5.4MB/s eta 0:00:01\r\u001b[K     |█████                           | 460kB 5.4MB/s eta 0:00:01\r\u001b[K     |█████                           | 471kB 5.4MB/s eta 0:00:01\r\u001b[K     |█████▏                          | 481kB 5.4MB/s eta 0:00:01\r\u001b[K     |█████▎                          | 491kB 5.4MB/s eta 0:00:01\r\u001b[K     |█████▍                          | 501kB 5.4MB/s eta 0:00:01\r\u001b[K     |█████▌                          | 512kB 5.4MB/s eta 0:00:01\r\u001b[K     |█████▋                          | 522kB 5.4MB/s eta 0:00:01\r\u001b[K     |█████▊                          | 532kB 5.4MB/s eta 0:00:01\r\u001b[K     |█████▉                          | 542kB 5.4MB/s eta 0:00:01\r\u001b[K     |██████                          | 552kB 5.4MB/s eta 0:00:01\r\u001b[K     |██████                          | 563kB 5.4MB/s eta 0:00:01\r\u001b[K     |██████▏                         | 573kB 5.4MB/s eta 0:00:01\r\u001b[K     |██████▎                         | 583kB 5.4MB/s eta 0:00:01\r\u001b[K     |██████▍                         | 593kB 5.4MB/s eta 0:00:01\r\u001b[K     |██████▌                         | 604kB 5.4MB/s eta 0:00:01\r\u001b[K     |██████▋                         | 614kB 5.4MB/s eta 0:00:01\r\u001b[K     |██████▊                         | 624kB 5.4MB/s eta 0:00:01\r\u001b[K     |██████▉                         | 634kB 5.4MB/s eta 0:00:01\r\u001b[K     |███████                         | 645kB 5.4MB/s eta 0:00:01\r\u001b[K     |███████                         | 655kB 5.4MB/s eta 0:00:01\r\u001b[K     |███████▏                        | 665kB 5.4MB/s eta 0:00:01\r\u001b[K     |███████▎                        | 675kB 5.4MB/s eta 0:00:01\r\u001b[K     |███████▍                        | 686kB 5.4MB/s eta 0:00:01\r\u001b[K     |███████▌                        | 696kB 5.4MB/s eta 0:00:01\r\u001b[K     |███████▋                        | 706kB 5.4MB/s eta 0:00:01\r\u001b[K     |███████▊                        | 716kB 5.4MB/s eta 0:00:01\r\u001b[K     |███████▉                        | 727kB 5.4MB/s eta 0:00:01\r\u001b[K     |████████                        | 737kB 5.4MB/s eta 0:00:01\r\u001b[K     |████████                        | 747kB 5.4MB/s eta 0:00:01\r\u001b[K     |████████▏                       | 757kB 5.4MB/s eta 0:00:01\r\u001b[K     |████████▎                       | 768kB 5.4MB/s eta 0:00:01\r\u001b[K     |████████▍                       | 778kB 5.4MB/s eta 0:00:01\r\u001b[K     |████████▌                       | 788kB 5.4MB/s eta 0:00:01\r\u001b[K     |████████▋                       | 798kB 5.4MB/s eta 0:00:01\r\u001b[K     |████████▊                       | 808kB 5.4MB/s eta 0:00:01\r\u001b[K     |████████▉                       | 819kB 5.4MB/s eta 0:00:01\r\u001b[K     |█████████                       | 829kB 5.4MB/s eta 0:00:01\r\u001b[K     |█████████                       | 839kB 5.4MB/s eta 0:00:01\r\u001b[K     |█████████▏                      | 849kB 5.4MB/s eta 0:00:01\r\u001b[K     |█████████▎                      | 860kB 5.4MB/s eta 0:00:01\r\u001b[K     |█████████▍                      | 870kB 5.4MB/s eta 0:00:01\r\u001b[K     |█████████▌                      | 880kB 5.4MB/s eta 0:00:01\r\u001b[K     |█████████▋                      | 890kB 5.4MB/s eta 0:00:01\r\u001b[K     |█████████▊                      | 901kB 5.4MB/s eta 0:00:01\r\u001b[K     |█████████▉                      | 911kB 5.4MB/s eta 0:00:01\r\u001b[K     |██████████                      | 921kB 5.4MB/s eta 0:00:01\r\u001b[K     |██████████                      | 931kB 5.4MB/s eta 0:00:01\r\u001b[K     |██████████▏                     | 942kB 5.4MB/s eta 0:00:01\r\u001b[K     |██████████▎                     | 952kB 5.4MB/s eta 0:00:01\r\u001b[K     |██████████▍                     | 962kB 5.4MB/s eta 0:00:01\r\u001b[K     |██████████▌                     | 972kB 5.4MB/s eta 0:00:01\r\u001b[K     |██████████▋                     | 983kB 5.4MB/s eta 0:00:01\r\u001b[K     |██████████▊                     | 993kB 5.4MB/s eta 0:00:01\r\u001b[K     |██████████▉                     | 1.0MB 5.4MB/s eta 0:00:01\r\u001b[K     |███████████                     | 1.0MB 5.4MB/s eta 0:00:01\r\u001b[K     |███████████                     | 1.0MB 5.4MB/s eta 0:00:01\r\u001b[K     |███████████▏                    | 1.0MB 5.4MB/s eta 0:00:01\r\u001b[K     |███████████▎                    | 1.0MB 5.4MB/s eta 0:00:01\r\u001b[K     |███████████▍                    | 1.1MB 5.4MB/s eta 0:00:01\r\u001b[K     |███████████▌                    | 1.1MB 5.4MB/s eta 0:00:01\r\u001b[K     |███████████▋                    | 1.1MB 5.4MB/s eta 0:00:01\r\u001b[K     |███████████▊                    | 1.1MB 5.4MB/s eta 0:00:01\r\u001b[K     |███████████▉                    | 1.1MB 5.4MB/s eta 0:00:01\r\u001b[K     |████████████                    | 1.1MB 5.4MB/s eta 0:00:01\r\u001b[K     |████████████                    | 1.1MB 5.4MB/s eta 0:00:01\r\u001b[K     |████████████▏                   | 1.1MB 5.4MB/s eta 0:00:01\r\u001b[K     |████████████▎                   | 1.1MB 5.4MB/s eta 0:00:01\r\u001b[K     |████████████▍                   | 1.1MB 5.4MB/s eta 0:00:01\r\u001b[K     |████████████▌                   | 1.2MB 5.4MB/s eta 0:00:01\r\u001b[K     |████████████▋                   | 1.2MB 5.4MB/s eta 0:00:01\r\u001b[K     |████████████▊                   | 1.2MB 5.4MB/s eta 0:00:01\r\u001b[K     |████████████▉                   | 1.2MB 5.4MB/s eta 0:00:01\r\u001b[K     |█████████████                   | 1.2MB 5.4MB/s eta 0:00:01\r\u001b[K     |█████████████                   | 1.2MB 5.4MB/s eta 0:00:01\r\u001b[K     |█████████████▏                  | 1.2MB 5.4MB/s eta 0:00:01\r\u001b[K     |█████████████▎                  | 1.2MB 5.4MB/s eta 0:00:01\r\u001b[K     |█████████████▍                  | 1.2MB 5.4MB/s eta 0:00:01\r\u001b[K     |█████████████▌                  | 1.2MB 5.4MB/s eta 0:00:01\r\u001b[K     |█████████████▋                  | 1.3MB 5.4MB/s eta 0:00:01\r\u001b[K     |█████████████▊                  | 1.3MB 5.4MB/s eta 0:00:01\r\u001b[K     |█████████████▉                  | 1.3MB 5.4MB/s eta 0:00:01\r\u001b[K     |██████████████                  | 1.3MB 5.4MB/s eta 0:00:01\r\u001b[K     |██████████████                  | 1.3MB 5.4MB/s eta 0:00:01\r\u001b[K     |██████████████▏                 | 1.3MB 5.4MB/s eta 0:00:01\r\u001b[K     |██████████████▎                 | 1.3MB 5.4MB/s eta 0:00:01\r\u001b[K     |██████████████▍                 | 1.3MB 5.4MB/s eta 0:00:01\r\u001b[K     |██████████████▌                 | 1.3MB 5.4MB/s eta 0:00:01\r\u001b[K     |██████████████▋                 | 1.4MB 5.4MB/s eta 0:00:01\r\u001b[K     |██████████████▊                 | 1.4MB 5.4MB/s eta 0:00:01\r\u001b[K     |██████████████▉                 | 1.4MB 5.4MB/s eta 0:00:01\r\u001b[K     |███████████████                 | 1.4MB 5.4MB/s eta 0:00:01\r\u001b[K     |███████████████                 | 1.4MB 5.4MB/s eta 0:00:01\r\u001b[K     |███████████████▏                | 1.4MB 5.4MB/s eta 0:00:01\r\u001b[K     |███████████████▎                | 1.4MB 5.4MB/s eta 0:00:01\r\u001b[K     |███████████████▍                | 1.4MB 5.4MB/s eta 0:00:01\r\u001b[K     |███████████████▌                | 1.4MB 5.4MB/s eta 0:00:01\r\u001b[K     |███████████████▋                | 1.4MB 5.4MB/s eta 0:00:01\r\u001b[K     |███████████████▊                | 1.5MB 5.4MB/s eta 0:00:01\r\u001b[K     |███████████████▉                | 1.5MB 5.4MB/s eta 0:00:01\r\u001b[K     |████████████████                | 1.5MB 5.4MB/s eta 0:00:01\r\u001b[K     |████████████████                | 1.5MB 5.4MB/s eta 0:00:01\r\u001b[K     |████████████████▏               | 1.5MB 5.4MB/s eta 0:00:01\r\u001b[K     |████████████████▎               | 1.5MB 5.4MB/s eta 0:00:01\r\u001b[K     |████████████████▍               | 1.5MB 5.4MB/s eta 0:00:01\r\u001b[K     |████████████████▌               | 1.5MB 5.4MB/s eta 0:00:01\r\u001b[K     |████████████████▋               | 1.5MB 5.4MB/s eta 0:00:01\r\u001b[K     |████████████████▊               | 1.5MB 5.4MB/s eta 0:00:01\r\u001b[K     |████████████████▉               | 1.6MB 5.4MB/s eta 0:00:01\r\u001b[K     |█████████████████               | 1.6MB 5.4MB/s eta 0:00:01\r\u001b[K     |█████████████████               | 1.6MB 5.4MB/s eta 0:00:01\r\u001b[K     |█████████████████▏              | 1.6MB 5.4MB/s eta 0:00:01\r\u001b[K     |█████████████████▎              | 1.6MB 5.4MB/s eta 0:00:01\r\u001b[K     |█████████████████▍              | 1.6MB 5.4MB/s eta 0:00:01\r\u001b[K     |█████████████████▌              | 1.6MB 5.4MB/s eta 0:00:01\r\u001b[K     |█████████████████▋              | 1.6MB 5.4MB/s eta 0:00:01\r\u001b[K     |█████████████████▋              | 1.6MB 5.4MB/s eta 0:00:01\r\u001b[K     |█████████████████▊              | 1.6MB 5.4MB/s eta 0:00:01\r\u001b[K     |█████████████████▉              | 1.7MB 5.4MB/s eta 0:00:01\r\u001b[K     |██████████████████              | 1.7MB 5.4MB/s eta 0:00:01\r\u001b[K     |██████████████████              | 1.7MB 5.4MB/s eta 0:00:01\r\u001b[K     |██████████████████▏             | 1.7MB 5.4MB/s eta 0:00:01\r\u001b[K     |██████████████████▎             | 1.7MB 5.4MB/s eta 0:00:01\r\u001b[K     |██████████████████▍             | 1.7MB 5.4MB/s eta 0:00:01\r\u001b[K     |██████████████████▌             | 1.7MB 5.4MB/s eta 0:00:01\r\u001b[K     |██████████████████▋             | 1.7MB 5.4MB/s eta 0:00:01\r\u001b[K     |██████████████████▊             | 1.7MB 5.4MB/s eta 0:00:01\r\u001b[K     |██████████████████▉             | 1.8MB 5.4MB/s eta 0:00:01\r\u001b[K     |███████████████████             | 1.8MB 5.4MB/s eta 0:00:01\r\u001b[K     |███████████████████             | 1.8MB 5.4MB/s eta 0:00:01\r\u001b[K     |███████████████████▏            | 1.8MB 5.4MB/s eta 0:00:01\r\u001b[K     |███████████████████▎            | 1.8MB 5.4MB/s eta 0:00:01\r\u001b[K     |███████████████████▍            | 1.8MB 5.4MB/s eta 0:00:01\r\u001b[K     |███████████████████▌            | 1.8MB 5.4MB/s eta 0:00:01\r\u001b[K     |███████████████████▋            | 1.8MB 5.4MB/s eta 0:00:01\r\u001b[K     |███████████████████▊            | 1.8MB 5.4MB/s eta 0:00:01\r\u001b[K     |███████████████████▉            | 1.8MB 5.4MB/s eta 0:00:01\r\u001b[K     |████████████████████            | 1.9MB 5.4MB/s eta 0:00:01\r\u001b[K     |████████████████████            | 1.9MB 5.4MB/s eta 0:00:01\r\u001b[K     |████████████████████▏           | 1.9MB 5.4MB/s eta 0:00:01\r\u001b[K     |████████████████████▎           | 1.9MB 5.4MB/s eta 0:00:01\r\u001b[K     |████████████████████▍           | 1.9MB 5.4MB/s eta 0:00:01\r\u001b[K     |████████████████████▌           | 1.9MB 5.4MB/s eta 0:00:01\r\u001b[K     |████████████████████▋           | 1.9MB 5.4MB/s eta 0:00:01\r\u001b[K     |████████████████████▊           | 1.9MB 5.4MB/s eta 0:00:01\r\u001b[K     |████████████████████▉           | 1.9MB 5.4MB/s eta 0:00:01\r\u001b[K     |█████████████████████           | 1.9MB 5.4MB/s eta 0:00:01\r\u001b[K     |█████████████████████           | 2.0MB 5.4MB/s eta 0:00:01\r\u001b[K     |█████████████████████▏          | 2.0MB 5.4MB/s eta 0:00:01\r\u001b[K     |█████████████████████▎          | 2.0MB 5.4MB/s eta 0:00:01\r\u001b[K     |█████████████████████▍          | 2.0MB 5.4MB/s eta 0:00:01\r\u001b[K     |█████████████████████▌          | 2.0MB 5.4MB/s eta 0:00:01\r\u001b[K     |█████████████████████▋          | 2.0MB 5.4MB/s eta 0:00:01\r\u001b[K     |█████████████████████▊          | 2.0MB 5.4MB/s eta 0:00:01\r\u001b[K     |█████████████████████▉          | 2.0MB 5.4MB/s eta 0:00:01\r\u001b[K     |██████████████████████          | 2.0MB 5.4MB/s eta 0:00:01\r\u001b[K     |██████████████████████          | 2.0MB 5.4MB/s eta 0:00:01\r\u001b[K     |██████████████████████▏         | 2.1MB 5.4MB/s eta 0:00:01\r\u001b[K     |██████████████████████▎         | 2.1MB 5.4MB/s eta 0:00:01\r\u001b[K     |██████████████████████▍         | 2.1MB 5.4MB/s eta 0:00:01\r\u001b[K     |██████████████████████▌         | 2.1MB 5.4MB/s eta 0:00:01\r\u001b[K     |██████████████████████▋         | 2.1MB 5.4MB/s eta 0:00:01\r\u001b[K     |██████████████████████▊         | 2.1MB 5.4MB/s eta 0:00:01\r\u001b[K     |██████████████████████▉         | 2.1MB 5.4MB/s eta 0:00:01\r\u001b[K     |███████████████████████         | 2.1MB 5.4MB/s eta 0:00:01\r\u001b[K     |███████████████████████         | 2.1MB 5.4MB/s eta 0:00:01\r\u001b[K     |███████████████████████▏        | 2.2MB 5.4MB/s eta 0:00:01\r\u001b[K     |███████████████████████▎        | 2.2MB 5.4MB/s eta 0:00:01\r\u001b[K     |███████████████████████▍        | 2.2MB 5.4MB/s eta 0:00:01\r\u001b[K     |███████████████████████▌        | 2.2MB 5.4MB/s eta 0:00:01\r\u001b[K     |███████████████████████▋        | 2.2MB 5.4MB/s eta 0:00:01\r\u001b[K     |███████████████████████▊        | 2.2MB 5.4MB/s eta 0:00:01\r\u001b[K     |███████████████████████▉        | 2.2MB 5.4MB/s eta 0:00:01\r\u001b[K     |████████████████████████        | 2.2MB 5.4MB/s eta 0:00:01\r\u001b[K     |████████████████████████        | 2.2MB 5.4MB/s eta 0:00:01\r\u001b[K     |████████████████████████▏       | 2.2MB 5.4MB/s eta 0:00:01\r\u001b[K     |████████████████████████▎       | 2.3MB 5.4MB/s eta 0:00:01\r\u001b[K     |████████████████████████▍       | 2.3MB 5.4MB/s eta 0:00:01\r\u001b[K     |████████████████████████▌       | 2.3MB 5.4MB/s eta 0:00:01\r\u001b[K     |████████████████████████▋       | 2.3MB 5.4MB/s eta 0:00:01\r\u001b[K     |████████████████████████▊       | 2.3MB 5.4MB/s eta 0:00:01\r\u001b[K     |████████████████████████▉       | 2.3MB 5.4MB/s eta 0:00:01\r\u001b[K     |█████████████████████████       | 2.3MB 5.4MB/s eta 0:00:01\r\u001b[K     |█████████████████████████       | 2.3MB 5.4MB/s eta 0:00:01\r\u001b[K     |█████████████████████████▏      | 2.3MB 5.4MB/s eta 0:00:01\r\u001b[K     |█████████████████████████▎      | 2.3MB 5.4MB/s eta 0:00:01\r\u001b[K     |█████████████████████████▍      | 2.4MB 5.4MB/s eta 0:00:01\r\u001b[K     |█████████████████████████▌      | 2.4MB 5.4MB/s eta 0:00:01\r\u001b[K     |█████████████████████████▋      | 2.4MB 5.4MB/s eta 0:00:01\r\u001b[K     |█████████████████████████▊      | 2.4MB 5.4MB/s eta 0:00:01\r\u001b[K     |█████████████████████████▉      | 2.4MB 5.4MB/s eta 0:00:01\r\u001b[K     |██████████████████████████      | 2.4MB 5.4MB/s eta 0:00:01\r\u001b[K     |██████████████████████████      | 2.4MB 5.4MB/s eta 0:00:01\r\u001b[K     |██████████████████████████▏     | 2.4MB 5.4MB/s eta 0:00:01\r\u001b[K     |██████████████████████████▎     | 2.4MB 5.4MB/s eta 0:00:01\r\u001b[K     |██████████████████████████▍     | 2.4MB 5.4MB/s eta 0:00:01\r\u001b[K     |██████████████████████████▌     | 2.5MB 5.4MB/s eta 0:00:01\r\u001b[K     |██████████████████████████▋     | 2.5MB 5.4MB/s eta 0:00:01\r\u001b[K     |██████████████████████████▊     | 2.5MB 5.4MB/s eta 0:00:01\r\u001b[K     |██████████████████████████▉     | 2.5MB 5.4MB/s eta 0:00:01\r\u001b[K     |███████████████████████████     | 2.5MB 5.4MB/s eta 0:00:01\r\u001b[K     |███████████████████████████     | 2.5MB 5.4MB/s eta 0:00:01\r\u001b[K     |███████████████████████████▏    | 2.5MB 5.4MB/s eta 0:00:01\r\u001b[K     |███████████████████████████▎    | 2.5MB 5.4MB/s eta 0:00:01\r\u001b[K     |███████████████████████████▍    | 2.5MB 5.4MB/s eta 0:00:01\r\u001b[K     |███████████████████████████▌    | 2.5MB 5.4MB/s eta 0:00:01\r\u001b[K     |███████████████████████████▋    | 2.6MB 5.4MB/s eta 0:00:01\r\u001b[K     |███████████████████████████▊    | 2.6MB 5.4MB/s eta 0:00:01\r\u001b[K     |███████████████████████████▉    | 2.6MB 5.4MB/s eta 0:00:01\r\u001b[K     |████████████████████████████    | 2.6MB 5.4MB/s eta 0:00:01\r\u001b[K     |████████████████████████████    | 2.6MB 5.4MB/s eta 0:00:01\r\u001b[K     |████████████████████████████▏   | 2.6MB 5.4MB/s eta 0:00:01\r\u001b[K     |████████████████████████████▎   | 2.6MB 5.4MB/s eta 0:00:01\r\u001b[K     |████████████████████████████▍   | 2.6MB 5.4MB/s eta 0:00:01\r\u001b[K     |████████████████████████████▌   | 2.6MB 5.4MB/s eta 0:00:01\r\u001b[K     |████████████████████████████▋   | 2.7MB 5.4MB/s eta 0:00:01\r\u001b[K     |████████████████████████████▊   | 2.7MB 5.4MB/s eta 0:00:01\r\u001b[K     |████████████████████████████▉   | 2.7MB 5.4MB/s eta 0:00:01\r\u001b[K     |█████████████████████████████   | 2.7MB 5.4MB/s eta 0:00:01\r\u001b[K     |█████████████████████████████   | 2.7MB 5.4MB/s eta 0:00:01\r\u001b[K     |█████████████████████████████▏  | 2.7MB 5.4MB/s eta 0:00:01\r\u001b[K     |█████████████████████████████▎  | 2.7MB 5.4MB/s eta 0:00:01\r\u001b[K     |█████████████████████████████▍  | 2.7MB 5.4MB/s eta 0:00:01\r\u001b[K     |█████████████████████████████▌  | 2.7MB 5.4MB/s eta 0:00:01\r\u001b[K     |█████████████████████████████▋  | 2.7MB 5.4MB/s eta 0:00:01\r\u001b[K     |█████████████████████████████▊  | 2.8MB 5.4MB/s eta 0:00:01\r\u001b[K     |█████████████████████████████▉  | 2.8MB 5.4MB/s eta 0:00:01\r\u001b[K     |██████████████████████████████  | 2.8MB 5.4MB/s eta 0:00:01\r\u001b[K     |██████████████████████████████  | 2.8MB 5.4MB/s eta 0:00:01\r\u001b[K     |██████████████████████████████▏ | 2.8MB 5.4MB/s eta 0:00:01\r\u001b[K     |██████████████████████████████▎ | 2.8MB 5.4MB/s eta 0:00:01\r\u001b[K     |██████████████████████████████▍ | 2.8MB 5.4MB/s eta 0:00:01\r\u001b[K     |██████████████████████████████▌ | 2.8MB 5.4MB/s eta 0:00:01\r\u001b[K     |██████████████████████████████▋ | 2.8MB 5.4MB/s eta 0:00:01\r\u001b[K     |██████████████████████████████▊ | 2.8MB 5.4MB/s eta 0:00:01\r\u001b[K     |██████████████████████████████▉ | 2.9MB 5.4MB/s eta 0:00:01\r\u001b[K     |███████████████████████████████ | 2.9MB 5.4MB/s eta 0:00:01\r\u001b[K     |███████████████████████████████ | 2.9MB 5.4MB/s eta 0:00:01\r\u001b[K     |███████████████████████████████▏| 2.9MB 5.4MB/s eta 0:00:01\r\u001b[K     |███████████████████████████████▎| 2.9MB 5.4MB/s eta 0:00:01\r\u001b[K     |███████████████████████████████▍| 2.9MB 5.4MB/s eta 0:00:01\r\u001b[K     |███████████████████████████████▌| 2.9MB 5.4MB/s eta 0:00:01\r\u001b[K     |███████████████████████████████▋| 2.9MB 5.4MB/s eta 0:00:01\r\u001b[K     |███████████████████████████████▊| 2.9MB 5.4MB/s eta 0:00:01\r\u001b[K     |███████████████████████████████▉| 2.9MB 5.4MB/s eta 0:00:01\r\u001b[K     |████████████████████████████████| 3.0MB 5.4MB/s eta 0:00:01\r\u001b[K     |████████████████████████████████| 3.0MB 5.4MB/s \n",
            "\u001b[?25hRequirement already satisfied: scipy>=1.1.0 in /usr/local/lib/python3.6/dist-packages (from dgl) (1.4.1)\n",
            "Requirement already satisfied: requests>=2.19.0 in /usr/local/lib/python3.6/dist-packages (from dgl) (2.23.0)\n",
            "Requirement already satisfied: numpy>=1.14.0 in /usr/local/lib/python3.6/dist-packages (from dgl) (1.18.5)\n",
            "Requirement already satisfied: networkx>=2.1 in /usr/local/lib/python3.6/dist-packages (from dgl) (2.4)\n",
            "Requirement already satisfied: certifi>=2017.4.17 in /usr/local/lib/python3.6/dist-packages (from requests>=2.19.0->dgl) (2020.6.20)\n",
            "Requirement already satisfied: idna<3,>=2.5 in /usr/local/lib/python3.6/dist-packages (from requests>=2.19.0->dgl) (2.10)\n",
            "Requirement already satisfied: chardet<4,>=3.0.2 in /usr/local/lib/python3.6/dist-packages (from requests>=2.19.0->dgl) (3.0.4)\n",
            "Requirement already satisfied: urllib3!=1.25.0,!=1.25.1,<1.26,>=1.21.1 in /usr/local/lib/python3.6/dist-packages (from requests>=2.19.0->dgl) (1.24.3)\n",
            "Requirement already satisfied: decorator>=4.3.0 in /usr/local/lib/python3.6/dist-packages (from networkx>=2.1->dgl) (4.4.2)\n",
            "Installing collected packages: dgl\n",
            "Successfully installed dgl-0.4.3.post2\n"
          ],
          "name": "stdout"
        },
        {
          "output_type": "stream",
          "text": [
            "DGL backend not selected or invalid.  Assuming PyTorch for now.\n",
            "Using backend: pytorch\n"
          ],
          "name": "stderr"
        },
        {
          "output_type": "stream",
          "text": [
            "Setting the default backend to \"pytorch\". You can change it in the ~/.dgl/config.json file or export the DGLBACKEND environment variable.  Valid options are: pytorch, mxnet, tensorflow (all lowercase)\n",
            "--2020-08-10 07:38:58--  https://github.com/erezimm/ML-ML/raw/master/data.zip\n",
            "Resolving github.com (github.com)... 192.30.255.113\n",
            "Connecting to github.com (github.com)|192.30.255.113|:443... connected.\n",
            "HTTP request sent, awaiting response... 302 Found\n",
            "Location: https://raw.githubusercontent.com/erezimm/ML-ML/master/data.zip [following]\n",
            "--2020-08-10 07:38:58--  https://raw.githubusercontent.com/erezimm/ML-ML/master/data.zip\n",
            "Resolving raw.githubusercontent.com (raw.githubusercontent.com)... 151.101.0.133, 151.101.64.133, 151.101.128.133, ...\n",
            "Connecting to raw.githubusercontent.com (raw.githubusercontent.com)|151.101.0.133|:443... connected.\n",
            "HTTP request sent, awaiting response... 200 OK\n",
            "Length: 6541642 (6.2M) [application/zip]\n",
            "Saving to: ‘data.zip’\n",
            "\n",
            "data.zip            100%[===================>]   6.24M  33.6MB/s    in 0.2s    \n",
            "\n",
            "2020-08-10 07:38:59 (33.6 MB/s) - ‘data.zip’ saved [6541642/6541642]\n",
            "\n"
          ],
          "name": "stdout"
        }
      ]
    },
    {
      "cell_type": "markdown",
      "metadata": {
        "id": "ff2ASGtVn3nB",
        "colab_type": "text"
      },
      "source": [
        "## Create Datasets\n",
        "Class CustomDataset loads all files and converts them to a list of graphs.\n",
        "Each node in a graph is a data point, i.e. node features are days since start, mag, magerr"
      ]
    },
    {
      "cell_type": "code",
      "metadata": {
        "id": "zSLI4uNYn3nB",
        "colab_type": "code",
        "colab": {
          "base_uri": "https://localhost:8080/",
          "height": 417,
          "referenced_widgets": [
            "8111116a19264e88ae2567e6eae6e4f6",
            "c41872d1e27a4df29b698d985940c26f",
            "b832185624ca40eaaeafd9df5aeb2f89",
            "9ea0cf0e13da4198b9c23a2f074d32d3",
            "7719102d7f3844aabaccd2628b02eb17",
            "033f51346d144a91b4c88169bde80046",
            "8e72207d339343b4b1beb94530ff2cd0",
            "3365e83653194d4599672fac0a60b01c",
            "8c844ff781fe419d81f60bfd2e8313f5",
            "288dff5130d7461a8b198fab26aee1af",
            "9e7a28b06420475294422a84a18d9623",
            "3cc6dbb345e443a7a396545c3d8d03cf",
            "dee2fd66ed81421ba2ba860a43da120a",
            "2f672b8eb9cd48a489879282508c26d4",
            "b990ac84fbca408e8d99862f7bf46fa2",
            "5c776591d99244fc91e42f60f98dc13b"
          ]
        },
        "outputId": "39592841-087f-4ef5-ffe5-c773ef7d90f2"
      },
      "source": [
        "class CustomDataset(Dataset):\n",
        "    def __init__(self, path):\n",
        "        filelist = glob.glob(path+'/*')\n",
        "        \n",
        "        self.graphs = []\n",
        "        self.isMicrolensed = []\n",
        "        for fname in tqdm(filelist):\n",
        "            filebasename = os.path.basename(fname)\n",
        "            if filebasename.startswith('cleanvar'):\n",
        "                microlensed = torch.tensor([0])\n",
        "            elif filebasename.startswith('microlensedconst'):\n",
        "                microlensed = torch.tensor([1])\n",
        "            else:\n",
        "                raise Exception('Filename ' + fname + ' not clean_* or microlensed_*')\n",
        "            \n",
        "            with open(fname) as f:\n",
        "                data = astropy.io.ascii.read(f.read())\n",
        "                times, mags, magerrs = data['col1'], [], data['col3']\n",
        "                for m, err in zip(data['col2'], magerrs):\n",
        "                    mags.append(round(m, len(str(err).split('.')[1])))\n",
        "                zipped = list(zip(times, mags, magerrs))\n",
        "                zipped.sort(key=lambda tup: tup[0])\n",
        "                times, mags, magerrs = zip(*zipped)\n",
        "\n",
        "                n = len(times)\n",
        "                g = dgl.DGLGraph()\n",
        "                g.add_nodes(n)\n",
        "                g.ndata['time'] = torch.tensor(times).float()  # days\n",
        "                g.ndata['mag'] = torch.tensor(mags).float()\n",
        "                g.ndata['magerr'] = torch.tensor(magerrs).float()\n",
        "                #g.add_edges([i for i in range(n)], [(i+1)%n for i in range(n)])\n",
        "                #g.add_edges([i for i in range(n)], [(i-1)%n for i in range(n)])\n",
        "                \n",
        "                self.graphs.append(g)\n",
        "                self.isMicrolensed.append(microlensed)\n",
        "        \n",
        "    def __len__(self):\n",
        "        return len(self.graphs)\n",
        "\n",
        "    def __getitem__(self, idx):\n",
        "        return self.graphs[idx], self.isMicrolensed[idx]\n",
        "\n",
        "\n",
        "train_ds = CustomDataset(training_path)\n",
        "validation_ds = CustomDataset(validation_path)\n",
        "\n",
        "nx.draw(dgl.to_networkx(train_ds[20][0]))"
      ],
      "execution_count": 2,
      "outputs": [
        {
          "output_type": "display_data",
          "data": {
            "application/vnd.jupyter.widget-view+json": {
              "model_id": "8111116a19264e88ae2567e6eae6e4f6",
              "version_minor": 0,
              "version_major": 2
            },
            "text/plain": [
              "HBox(children=(FloatProgress(value=0.0, max=5000.0), HTML(value='')))"
            ]
          },
          "metadata": {
            "tags": []
          }
        },
        {
          "output_type": "stream",
          "text": [
            "\n"
          ],
          "name": "stdout"
        },
        {
          "output_type": "display_data",
          "data": {
            "application/vnd.jupyter.widget-view+json": {
              "model_id": "8c844ff781fe419d81f60bfd2e8313f5",
              "version_minor": 0,
              "version_major": 2
            },
            "text/plain": [
              "HBox(children=(FloatProgress(value=0.0, max=5000.0), HTML(value='')))"
            ]
          },
          "metadata": {
            "tags": []
          }
        },
        {
          "output_type": "stream",
          "text": [
            "\n"
          ],
          "name": "stdout"
        },
        {
          "output_type": "display_data",
          "data": {
            "image/png": "[encoded data removed]",
            "text/plain": [
              "<Figure size 432x288 with 1 Axes>"
            ]
          },
          "metadata": {
            "tags": []
          }
        }
      ]
    },
    {
      "cell_type": "code",
      "metadata": {
        "id": "KnD7mWfjn3nK",
        "colab_type": "code",
        "colab": {}
      },
      "source": [
        "def collate(samples):\n",
        "    # The input `samples` is a list, a batch of whatever comes out of your dataset object\n",
        "    graphs = [x[0] for x in samples]\n",
        "    labels = [x[1] for x in samples]\n",
        "    \n",
        "    batched_graph = dgl.batch(graphs, node_attrs=['time', 'mag', 'magerr'])\n",
        "    targets = torch.cat(labels)\n",
        "    \n",
        "    return batched_graph, targets.unsqueeze(1).float()"
      ],
      "execution_count": 3,
      "outputs": []
    },
    {
      "cell_type": "markdown",
      "metadata": {
        "id": "FGDTIcKIuGW2",
        "colab_type": "text"
      },
      "source": [
        "## The Newtwork"
      ]
    },
    {
      "cell_type": "code",
      "metadata": {
        "id": "fs14d7QUn3nL",
        "colab_type": "code",
        "colab": {
          "base_uri": "https://localhost:8080/",
          "height": 120
        },
        "outputId": "ca52ae0a-39f9-458e-c119-610732457e4b"
      },
      "source": [
        "n_ft = 3  # number of node features (time, mag, magerr)\n",
        "\n",
        "\n",
        "'''\n",
        "\n",
        "class EdgeNetwork(nn.Module):\n",
        "    def __init__(self, node_hidrep, edge_hidrep):\n",
        "        super(EdgeNetwork, self).__init__()\n",
        "        n_in = 2*node_hidrep\n",
        "        \n",
        "        # network:\n",
        "        sizes = [n_in] + [] + [edge_hidrep]\n",
        "\n",
        "        layers = []\n",
        "        for i in range(len(sizes)-1):\n",
        "            layers.extend([nn.Linear(sizes[i], sizes[i+1]), nn.ReLu()])\n",
        "        self.network = nn.Sequential(*layers)\n",
        "    \n",
        "    def forward(self, x):\n",
        "        input = torch.cat((x.dst['node_hidrep'], x.src['node_hidrep']), dim=1)\n",
        "        output = self.network(input)\n",
        "        return {'edge_hidrep': output }\n",
        "\n",
        "\n",
        "\n",
        "class NodeNetwork(nn.Module):\n",
        "    def __init__(self, node_hidrep):\n",
        "        super(NodeNetwork, self).__init__()\n",
        "        n_in = node_hidrep\n",
        "\n",
        "        # network:\n",
        "        sizes = [n_in] + [] + [node_hidrep]\n",
        "\n",
        "        layers = []\n",
        "        for i in range(len(sizes)-1):\n",
        "            layers.extend([nn.Linear(sizes[i], sizes[i+1]), nn.ReLU() ])\n",
        "        self.network = nn.Sequential(*layers)\n",
        "    \n",
        "    def forward(self, x):\n",
        "        #mb = torch.mean( x.mailbox['edge_hidrep'] , dim=1 )\n",
        "        #input = torch.cat((mb, x.data['node_hidrep']), dim=1)\n",
        "        \n",
        "\n",
        "\n",
        "        out = self.network(x)\n",
        "        return {'node_hidrep': out }\n",
        "\n",
        "\n",
        "class Classifier(nn.Module):\n",
        "    def __init__(self):\n",
        "        super(Classifier, self).__init__()\n",
        "\n",
        "        # networks:\n",
        "        node_hidrep = 10\n",
        "        sizes_nodeinit = [n_ft] + [] + [node_hidrep]\n",
        "        self.update_loop_length = 20\n",
        "\n",
        "        layers = []\n",
        "        for i in range(len(sizes_nodeinit)-1):\n",
        "            layers.extend([nn.Linear(sizes_nodeinit[i], sizes_nodeinit[i+1]), nn.ReLU()])\n",
        "        self.node_init = nn.Sequential(*layers)\n",
        "        #self.edge_network = EdgeNetwork(node_hidrep, edge_hidrep)\n",
        "        self.node_network = NodeNetwork(node_hidrep)\n",
        "        \n",
        "    def forward(self, g):\n",
        "        features = torch.tensor(list(zip(g.ndata['time'], g.ndata['mag'], g.ndata['magerr'])))\n",
        "        g.ndata['node_hidrep'] = self.node_init(features)\n",
        "\n",
        "        for i in range(self.update_loop_length):\n",
        "            g.update_all(self.node_network)\n",
        "        \n",
        "        # eventually take max of all entries in all nodes (?), maybe you can apply functions with dgl.function ?\n",
        "        output = dgl.max_nodes(g, 'node_hidrep')\n",
        "        output = torch.max(output, 1, keepdim=True)[0]\n",
        "\n",
        "\n",
        "        return output\n",
        "\n",
        "\n",
        "'''"
      ],
      "execution_count": 4,
      "outputs": [
        {
          "output_type": "execute_result",
          "data": {
            "application/vnd.google.colaboratory.intrinsic+json": {
              "type": "string"
            },
            "text/plain": [
              "\"\\n\\nclass EdgeNetwork(nn.Module):\\n    def __init__(self, node_hidrep, edge_hidrep):\\n        super(EdgeNetwork, self).__init__()\\n        n_in = 2*node_hidrep\\n        \\n        # network:\\n        sizes = [n_in] + [] + [edge_hidrep]\\n\\n        layers = []\\n        for i in range(len(sizes)-1):\\n            layers.extend([nn.Linear(sizes[i], sizes[i+1]), nn.ReLu()])\\n        self.network = nn.Sequential(*layers)\\n    \\n    def forward(self, x):\\n        input = torch.cat((x.dst['node_hidrep'], x.src['node_hidrep']), dim=1)\\n        output = self.network(input)\\n        return {'edge_hidrep': output }\\n\\n\\n\\nclass NodeNetwork(nn.Module):\\n    def __init__(self, node_hidrep):\\n        super(NodeNetwork, self).__init__()\\n        n_in = node_hidrep\\n\\n        # network:\\n        sizes = [n_in] + [] + [node_hidrep]\\n\\n        layers = []\\n        for i in range(len(sizes)-1):\\n            layers.extend([nn.Linear(sizes[i], sizes[i+1]), nn.ReLU() ])\\n        self.network = nn.Sequential(*layers)\\n    \\n    def forward(self, x):\\n        #mb = torch.mean( x.mailbox['edge_hidrep'] , dim=1 )\\n        #input = torch.cat((mb, x.data['node_hidrep']), dim=1)\\n        \\n\\n\\n        out = self.network(x)\\n        return {'node_hidrep': out }\\n\\n\\nclass Classifier(nn.Module):\\n    def __init__(self):\\n        super(Classifier, self).__init__()\\n\\n        # networks:\\n        node_hidrep = 10\\n        sizes_nodeinit = [n_ft] + [] + [node_hidrep]\\n        self.update_loop_length = 20\\n\\n        layers = []\\n        for i in range(len(sizes_nodeinit)-1):\\n            layers.extend([nn.Linear(sizes_nodeinit[i], sizes_nodeinit[i+1]), nn.ReLU()])\\n        self.node_init = nn.Sequential(*layers)\\n        #self.edge_network = EdgeNetwork(node_hidrep, edge_hidrep)\\n        self.node_network = NodeNetwork(node_hidrep)\\n        \\n    def forward(self, g):\\n        features = torch.tensor(list(zip(g.ndata['time'], g.ndata['mag'], g.ndata['magerr'])))\\n        g.ndata['node_hidrep'] = self.node_init(features)\\n\\n        for i in range(self.update_loop_length):\\n            g.update_all(self.node_network)\\n        \\n        # eventually take max of all entries in all nodes (?), maybe you can apply functions with dgl.function ?\\n        output = dgl.max_nodes(g, 'node_hidrep')\\n        output = torch.max(output, 1, keepdim=True)[0]\\n\\n\\n        return output\\n\\n\\n\""
            ]
          },
          "metadata": {
            "tags": []
          },
          "execution_count": 4
        }
      ]
    },
    {
      "cell_type": "code",
      "metadata": {
        "id": "soJyGlbvMErI",
        "colab_type": "code",
        "colab": {}
      },
      "source": [
        "class DeepSet(nn.Module):\n",
        "\n",
        "    def _init_(self, config):\n",
        "\n",
        "        super(DeepSet, self)._init_()\n",
        "\n",
        "        self.layers = nn.ModuleList()\n",
        "\n",
        "        \n"
      ],
      "execution_count": 5,
      "outputs": []
    },
    {
      "cell_type": "code",
      "metadata": {
        "id": "2TODvj6AMLJP",
        "colab_type": "code",
        "colab": {}
      },
      "source": [
        ""
      ],
      "execution_count": 9,
      "outputs": []
    },
    {
      "cell_type": "code",
      "metadata": {
        "id": "arEZzPc-VKI2",
        "colab_type": "code",
        "colab": {}
      },
      "source": [
        "\n",
        "\n",
        "class NodeNetwork(nn.Module):\n",
        "    def __init__(self, node_hidrep):\n",
        "        super(NodeNetwork, self).__init__()\n",
        "        n_in =  node_hidrep\n",
        "\n",
        "        # network:\n",
        "        sizes = [n_in] + [10,10] + [node_hidrep]\n",
        "        \n",
        "        #sizes = [n_in] + [] + [node_hidrep]\n",
        "\n",
        "\n",
        "        layers = []\n",
        "        for i in range(len(sizes)-1):\n",
        "            layers.extend([nn.Linear(sizes[i], sizes[i+1]), nn.ReLU()])\n",
        "        self.network = nn.Sequential(*layers)\n",
        "    \n",
        "    def forward(self, x):\n",
        "\n",
        "        #mb = torch.mean( x.mailbox['edge_hidrep'] , dim=1 )\n",
        "        \n",
        "        #input = torch.cat((x.data['node_hidrep']), dim=1)\n",
        "        \n",
        "        input = x.data['node_hidrep']\n",
        "\n",
        "\n",
        "        out = self.network(input)  # OFEK here we forgot to change x to input inside the call\n",
        "        return {'node_hidrep': out }\n",
        "\n",
        "\n",
        "class Classifier(nn.Module):\n",
        "    def __init__(self):\n",
        "        super(Classifier, self).__init__()\n",
        "\n",
        "        # networks:\n",
        "        node_hidrep = 20\n",
        "        sizes_nodeinit = [n_ft] + [] + [node_hidrep]\n",
        "        self.update_loop_length = 50\n",
        "\n",
        "        layers = []\n",
        "        for i in range(len(sizes_nodeinit)-1):\n",
        "            layers.extend([nn.Linear(sizes_nodeinit[i], sizes_nodeinit[i+1]), nn.ReLU()])\n",
        "\n",
        "        self.node_init = nn.Sequential(*layers)\n",
        "        #self.edge_network = EdgeNetwork(node_hidrep, edge_hidrep)\n",
        "        self.node_network = NodeNetwork(node_hidrep)\n",
        "        \n",
        "    def forward(self, g):\n",
        "        # OFEK use times starting from t=0 days, fluxes devided by median\n",
        "        # times = g.ndata['time'] - min(g.ndata['time'])\n",
        "        # flux = 10 ** (g.ndata['mag']/(-2.5))\n",
        "        # medflux = torch.median(flux)\n",
        "        # flux = flux/medflux\n",
        "        # fluxerr = flux * g.ndata['magerr'] * np.log(10) * 0.4 / medflux\n",
        "        # features = torch.tensor(list(zip(times, flux, fluxerr)))\n",
        "        # you can comment the next line and uncomment those above in order to use relative time + flux instead of mag\n",
        "        features = torch.tensor(list(zip(g.ndata['time'], torch.exp(g.ndata['mag']/(-2.5)), g.ndata['magerr'])))\n",
        "        g.ndata['node_hidrep'] = self.node_init(features)\n",
        "\n",
        "    #Make sure to give node neetwork and not edge\n",
        "\n",
        "        for i in range(self.update_loop_length):\n",
        "            \n",
        "\n",
        "            g.apply_nodes(self.node_network)  # OFEK here we needed to use the 'apply_nodes' function instead of 'apply_all'\n",
        "        \n",
        "        \n",
        "        output = dgl.mean_nodes(g, 'node_hidrep')  # maybe you can apply functions with dgl.function ?\n",
        "        output = torch.mean(output, 1, keepdim=True)  # torch.max(output, 1, keepdim=True)[0]\n",
        "        return output\n"
      ],
      "execution_count": 14,
      "outputs": []
    },
    {
      "cell_type": "code",
      "metadata": {
        "id": "zfX86zSVMDiU",
        "colab_type": "code",
        "colab": {}
      },
      "source": [
        ""
      ],
      "execution_count": 10,
      "outputs": []
    },
    {
      "cell_type": "code",
      "metadata": {
        "id": "ddlu-kVsuqGu",
        "colab_type": "code",
        "colab": {
          "base_uri": "https://localhost:8080/",
          "height": 289
        },
        "outputId": "dcda1d37-077e-4709-a82a-be293ea5d37b"
      },
      "source": [
        "net = Classifier()\n",
        "net.to(device)"
      ],
      "execution_count": 15,
      "outputs": [
        {
          "output_type": "execute_result",
          "data": {
            "text/plain": [
              "Classifier(\n",
              "  (node_init): Sequential(\n",
              "    (0): Linear(in_features=3, out_features=20, bias=True)\n",
              "    (1): ReLU()\n",
              "  )\n",
              "  (node_network): NodeNetwork(\n",
              "    (network): Sequential(\n",
              "      (0): Linear(in_features=20, out_features=10, bias=True)\n",
              "      (1): ReLU()\n",
              "      (2): Linear(in_features=10, out_features=10, bias=True)\n",
              "      (3): ReLU()\n",
              "      (4): Linear(in_features=10, out_features=20, bias=True)\n",
              "      (5): ReLU()\n",
              "    )\n",
              "  )\n",
              ")"
            ]
          },
          "metadata": {
            "tags": []
          },
          "execution_count": 15
        }
      ]
    },
    {
      "cell_type": "markdown",
      "metadata": {
        "id": "6x-ALDRlwBDo",
        "colab_type": "text"
      },
      "source": [
        "## Train"
      ]
    },
    {
      "cell_type": "code",
      "metadata": {
        "id": "XgrXh0Jdn3nb",
        "colab_type": "code",
        "colab": {}
      },
      "source": [
        "def evaluate(net, validation_ds):\n",
        "    test_data_loader = DataLoader(validation_ds, batch_size=20, shuffle=True, collate_fn=collate)\n",
        "\n",
        "    net.cpu()\n",
        "    net.eval()\n",
        "\n",
        "    true_positive = 0\n",
        "    false_positive = 0\n",
        "    true_negative = 0\n",
        "    false_negative = 0\n",
        "    total_positives = 0\n",
        "    total_negatives = 0\n",
        "\n",
        "    for i, (x,y) in enumerate(test_data_loader):\n",
        "            y = y.data.numpy()\n",
        "            prediction = net(x).cpu().data.numpy()\n",
        "            \n",
        "            prediction[prediction >= 0.5] = 1\n",
        "            prediction[prediction < 0.5] = 0\n",
        "            \n",
        "            total_positives+=len(np.where( y==1 )[0])\n",
        "            total_negatives+=len(np.where( y==0 )[0])\n",
        "            \n",
        "            true_positive+= len(np.where( (prediction==y) & (y==1) )[0])\n",
        "            # true_negative+= len(np.where( (prediction==y) & (y==0) )[0])\n",
        "            false_positive+= len(np.where( (prediction!=y) & (y==0) )[0])\n",
        "            # false_negative+= len(np.where( (prediction!=y) & (y==1) )[0])\n",
        "                    \n",
        "    print('Probability of detection:', true_positive/total_positives)  # probability of recognizing a microlensing when you see it\n",
        "    print('Probability of false alarm:', false_positive/total_negatives)  # probability for misclassification of a variable star as microlensing"
      ],
      "execution_count": 16,
      "outputs": []
    },
    {
      "cell_type": "code",
      "metadata": {
        "id": "dBHUZcTcXPO5",
        "colab_type": "code",
        "colab": {
          "base_uri": "https://localhost:8080/",
          "height": 236,
          "referenced_widgets": [
            "f9dac5b2c1a846bf8625f766a6edee34",
            "e90dbddfa95247119288dc4d05525c53",
            "acf896f8a17449b3834b754cdcc6d6ca",
            "24813205eefe46b7be118707677902c3",
            "14f8767e717d4eb3bd4c9cc4a6ac86b5",
            "0c3c75bd4d3d4510b27a68831d5479bf",
            "574dd83851c0445f99fb809b9796dc3f",
            "b74b8c916ee945d381be7dc356b759d6"
          ]
        },
        "outputId": "df5b4b1c-e5b8-4a03-d4bc-86d8e972fb0e"
      },
      "source": [
        "# options:\n",
        "# loss_func = nn.BCEWithLogitsLoss()\n",
        "# loss_func = nn.L1Loss()\n",
        "loss_func = nn.CrossEntropyLoss()\n",
        "#optimizer = optim.Adadelta(net.parameters(), lr=0.1)\n",
        "#optimizer = optim.SGD(net.parameters(), lr=0.01)\n",
        "optimizer = optim.Adam(net.parameters(), lr=0.0001)\n",
        "\n",
        "n_epochs = 10\n",
        "\n",
        "losses = []\n",
        "\n",
        "data_loader = DataLoader(train_ds, batch_size=30, shuffle=True, collate_fn=collate)\n",
        "for epoch in tqdm(range(n_epochs)):\n",
        "    net.train()\n",
        "    this_losses = []\n",
        "    for x,y in data_loader:\n",
        "        x, y = x.to(device), y.to(device)\n",
        "        optimizer.zero_grad()\n",
        "        output = net(x)\n",
        "        output = torch.cat((1-output, output), dim=1)\n",
        "        loss = loss_func(output.squeeze(), y.long().squeeze())\n",
        "        this_losses.append(float(loss))\n",
        "        loss.backward()\n",
        "        optimizer.step()\n",
        "\n",
        "    losses.append(np.mean(this_losses))\n",
        "    print('Epoch:', epoch, 'Loss:', round(losses[-1], 4))  # for some real-time indication (couldn't manage to get this to dynamically plot)\n"
      ],
      "execution_count": 17,
      "outputs": [
        {
          "output_type": "display_data",
          "data": {
            "application/vnd.jupyter.widget-view+json": {
              "model_id": "f9dac5b2c1a846bf8625f766a6edee34",
              "version_minor": 0,
              "version_major": 2
            },
            "text/plain": [
              "HBox(children=(FloatProgress(value=0.0, max=10.0), HTML(value='')))"
            ]
          },
          "metadata": {
            "tags": []
          }
        },
        {
          "output_type": "stream",
          "text": [
            "Epoch: 0 Loss: 0.7826\n",
            "Epoch: 1 Loss: 0.7696\n",
            "Epoch: 2 Loss: 0.7521\n",
            "Epoch: 3 Loss: 0.7282\n",
            "Epoch: 4 Loss: 0.6993\n",
            "Epoch: 5 Loss: 0.6934\n",
            "Epoch: 6 Loss: 0.6934\n",
            "Epoch: 7 Loss: 0.6933\n",
            "Epoch: 8 Loss: 0.6933\n",
            "Epoch: 9 Loss: 0.6933\n",
            "\n"
          ],
          "name": "stdout"
        }
      ]
    },
    {
      "cell_type": "code",
      "metadata": {
        "id": "rU3-bAMS-D-I",
        "colab_type": "code",
        "colab": {}
      },
      "source": [
        "# plot the printed losses:\n",
        "losses = np.array(losses)\n",
        "plt.plot(losses[1:],label='training loss')\n",
        "plt.xlabel('Epoch')\n",
        "plt.legend()\n",
        "plt.grid()\n",
        "plt.show()\n",
        "\n",
        "evaluate(net, validation_ds)  # show P_D, P_FA"
      ],
      "execution_count": null,
      "outputs": []
    },
    {
      "cell_type": "markdown",
      "metadata": {
        "id": "2VfHxWg7aL98",
        "colab_type": "text"
      },
      "source": [
        "## Save\n",
        "Don't forget to download"
      ]
    },
    {
      "cell_type": "code",
      "metadata": {
        "id": "2cVQVmottKTu",
        "colab_type": "code",
        "colab": {}
      },
      "source": [
        "timestamp = datetime.now().strftime(\"%d-%m-%Y_%H-%M-%S\")\n",
        "torch.save(net.state_dict(), 'model_' + timestamp + '.pt')"
      ],
      "execution_count": null,
      "outputs": []
    },
    {
      "cell_type": "code",
      "metadata": {
        "id": "eomLQW_E0eaY",
        "colab_type": "code",
        "colab": {}
      },
      "source": [
        ""
      ],
      "execution_count": null,
      "outputs": []
    }
  ]
}