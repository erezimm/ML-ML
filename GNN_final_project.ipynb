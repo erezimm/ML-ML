{
  "nbformat": 4,
  "nbformat_minor": 0,
  "metadata": {
    "kernelspec": {
      "display_name": "Python 3",
      "language": "python",
      "name": "python3"
    },
    "language_info": {
      "codemirror_mode": {
        "name": "ipython",
        "version": 3
      },
      "file_extension": ".py",
      "mimetype": "text/x-python",
      "name": "python",
      "nbconvert_exporter": "python",
      "pygments_lexer": "ipython3",
      "version": "3.8.2"
    },
    "colab": {
      "name": "GNN final project.ipynb",
      "provenance": [],
      "collapsed_sections": [],
      "toc_visible": true,
      "include_colab_link": true
    },
    "widgets": {
      "application/vnd.jupyter.widget-state+json": {
        "4f8a2c676ea24062928c444b767be779": {
          "model_module": "@jupyter-widgets/controls",
          "model_name": "HBoxModel",
          "state": {
            "_view_name": "HBoxView",
            "_dom_classes": [],
            "_model_name": "HBoxModel",
            "_view_module": "@jupyter-widgets/controls",
            "_model_module_version": "1.5.0",
            "_view_count": null,
            "_view_module_version": "1.5.0",
            "box_style": "",
            "layout": "IPY_MODEL_ca48cfdfc1b04e5a90da7f934711137e",
            "_model_module": "@jupyter-widgets/controls",
            "children": [
              "IPY_MODEL_a4b0e00752b2415d9033516afe6f295f",
              "IPY_MODEL_826f8ba7875b4325964145cbecc2269b"
            ]
          }
        },
        "ca48cfdfc1b04e5a90da7f934711137e": {
          "model_module": "@jupyter-widgets/base",
          "model_name": "LayoutModel",
          "state": {
            "_view_name": "LayoutView",
            "grid_template_rows": null,
            "right": null,
            "justify_content": null,
            "_view_module": "@jupyter-widgets/base",
            "overflow": null,
            "_model_module_version": "1.2.0",
            "_view_count": null,
            "flex_flow": null,
            "width": null,
            "min_width": null,
            "border": null,
            "align_items": null,
            "bottom": null,
            "_model_module": "@jupyter-widgets/base",
            "top": null,
            "grid_column": null,
            "overflow_y": null,
            "overflow_x": null,
            "grid_auto_flow": null,
            "grid_area": null,
            "grid_template_columns": null,
            "flex": null,
            "_model_name": "LayoutModel",
            "justify_items": null,
            "grid_row": null,
            "max_height": null,
            "align_content": null,
            "visibility": null,
            "align_self": null,
            "height": null,
            "min_height": null,
            "padding": null,
            "grid_auto_rows": null,
            "grid_gap": null,
            "max_width": null,
            "order": null,
            "_view_module_version": "1.2.0",
            "grid_template_areas": null,
            "object_position": null,
            "object_fit": null,
            "grid_auto_columns": null,
            "margin": null,
            "display": null,
            "left": null
          }
        },
        "a4b0e00752b2415d9033516afe6f295f": {
          "model_module": "@jupyter-widgets/controls",
          "model_name": "FloatProgressModel",
          "state": {
            "_view_name": "ProgressView",
            "style": "IPY_MODEL_7862498bfa9e4e7cae01910c600da1df",
            "_dom_classes": [],
            "description": "100%",
            "_model_name": "FloatProgressModel",
            "bar_style": "success",
            "max": 100,
            "_view_module": "@jupyter-widgets/controls",
            "_model_module_version": "1.5.0",
            "value": 100,
            "_view_count": null,
            "_view_module_version": "1.5.0",
            "orientation": "horizontal",
            "min": 0,
            "description_tooltip": null,
            "_model_module": "@jupyter-widgets/controls",
            "layout": "IPY_MODEL_a678d2a3448a4595abb25a97d252ae42"
          }
        },
        "826f8ba7875b4325964145cbecc2269b": {
          "model_module": "@jupyter-widgets/controls",
          "model_name": "HTMLModel",
          "state": {
            "_view_name": "HTMLView",
            "style": "IPY_MODEL_1b1527a05b224f9e8d84a359a20a9470",
            "_dom_classes": [],
            "description": "",
            "_model_name": "HTMLModel",
            "placeholder": "​",
            "_view_module": "@jupyter-widgets/controls",
            "_model_module_version": "1.5.0",
            "value": " 100/100 [00:01&lt;00:00, 82.98it/s]",
            "_view_count": null,
            "_view_module_version": "1.5.0",
            "description_tooltip": null,
            "_model_module": "@jupyter-widgets/controls",
            "layout": "IPY_MODEL_5db523a41c6f405eb785f9dff339056c"
          }
        },
        "7862498bfa9e4e7cae01910c600da1df": {
          "model_module": "@jupyter-widgets/controls",
          "model_name": "ProgressStyleModel",
          "state": {
            "_view_name": "StyleView",
            "_model_name": "ProgressStyleModel",
            "description_width": "initial",
            "_view_module": "@jupyter-widgets/base",
            "_model_module_version": "1.5.0",
            "_view_count": null,
            "_view_module_version": "1.2.0",
            "bar_color": null,
            "_model_module": "@jupyter-widgets/controls"
          }
        },
        "a678d2a3448a4595abb25a97d252ae42": {
          "model_module": "@jupyter-widgets/base",
          "model_name": "LayoutModel",
          "state": {
            "_view_name": "LayoutView",
            "grid_template_rows": null,
            "right": null,
            "justify_content": null,
            "_view_module": "@jupyter-widgets/base",
            "overflow": null,
            "_model_module_version": "1.2.0",
            "_view_count": null,
            "flex_flow": null,
            "width": null,
            "min_width": null,
            "border": null,
            "align_items": null,
            "bottom": null,
            "_model_module": "@jupyter-widgets/base",
            "top": null,
            "grid_column": null,
            "overflow_y": null,
            "overflow_x": null,
            "grid_auto_flow": null,
            "grid_area": null,
            "grid_template_columns": null,
            "flex": null,
            "_model_name": "LayoutModel",
            "justify_items": null,
            "grid_row": null,
            "max_height": null,
            "align_content": null,
            "visibility": null,
            "align_self": null,
            "height": null,
            "min_height": null,
            "padding": null,
            "grid_auto_rows": null,
            "grid_gap": null,
            "max_width": null,
            "order": null,
            "_view_module_version": "1.2.0",
            "grid_template_areas": null,
            "object_position": null,
            "object_fit": null,
            "grid_auto_columns": null,
            "margin": null,
            "display": null,
            "left": null
          }
        },
        "1b1527a05b224f9e8d84a359a20a9470": {
          "model_module": "@jupyter-widgets/controls",
          "model_name": "DescriptionStyleModel",
          "state": {
            "_view_name": "StyleView",
            "_model_name": "DescriptionStyleModel",
            "description_width": "",
            "_view_module": "@jupyter-widgets/base",
            "_model_module_version": "1.5.0",
            "_view_count": null,
            "_view_module_version": "1.2.0",
            "_model_module": "@jupyter-widgets/controls"
          }
        },
        "5db523a41c6f405eb785f9dff339056c": {
          "model_module": "@jupyter-widgets/base",
          "model_name": "LayoutModel",
          "state": {
            "_view_name": "LayoutView",
            "grid_template_rows": null,
            "right": null,
            "justify_content": null,
            "_view_module": "@jupyter-widgets/base",
            "overflow": null,
            "_model_module_version": "1.2.0",
            "_view_count": null,
            "flex_flow": null,
            "width": null,
            "min_width": null,
            "border": null,
            "align_items": null,
            "bottom": null,
            "_model_module": "@jupyter-widgets/base",
            "top": null,
            "grid_column": null,
            "overflow_y": null,
            "overflow_x": null,
            "grid_auto_flow": null,
            "grid_area": null,
            "grid_template_columns": null,
            "flex": null,
            "_model_name": "LayoutModel",
            "justify_items": null,
            "grid_row": null,
            "max_height": null,
            "align_content": null,
            "visibility": null,
            "align_self": null,
            "height": null,
            "min_height": null,
            "padding": null,
            "grid_auto_rows": null,
            "grid_gap": null,
            "max_width": null,
            "order": null,
            "_view_module_version": "1.2.0",
            "grid_template_areas": null,
            "object_position": null,
            "object_fit": null,
            "grid_auto_columns": null,
            "margin": null,
            "display": null,
            "left": null
          }
        },
        "d0d7c3c9a3ae4b3fa7cb3684c989bb6c": {
          "model_module": "@jupyter-widgets/controls",
          "model_name": "HBoxModel",
          "state": {
            "_view_name": "HBoxView",
            "_dom_classes": [],
            "_model_name": "HBoxModel",
            "_view_module": "@jupyter-widgets/controls",
            "_model_module_version": "1.5.0",
            "_view_count": null,
            "_view_module_version": "1.5.0",
            "box_style": "",
            "layout": "IPY_MODEL_66c9682a68fd4ddaa511f709566e452c",
            "_model_module": "@jupyter-widgets/controls",
            "children": [
              "IPY_MODEL_62ac8a9d0c4a4e61987c53244499bab6",
              "IPY_MODEL_99c67f786db6449f812af1188737ce36"
            ]
          }
        },
        "66c9682a68fd4ddaa511f709566e452c": {
          "model_module": "@jupyter-widgets/base",
          "model_name": "LayoutModel",
          "state": {
            "_view_name": "LayoutView",
            "grid_template_rows": null,
            "right": null,
            "justify_content": null,
            "_view_module": "@jupyter-widgets/base",
            "overflow": null,
            "_model_module_version": "1.2.0",
            "_view_count": null,
            "flex_flow": null,
            "width": null,
            "min_width": null,
            "border": null,
            "align_items": null,
            "bottom": null,
            "_model_module": "@jupyter-widgets/base",
            "top": null,
            "grid_column": null,
            "overflow_y": null,
            "overflow_x": null,
            "grid_auto_flow": null,
            "grid_area": null,
            "grid_template_columns": null,
            "flex": null,
            "_model_name": "LayoutModel",
            "justify_items": null,
            "grid_row": null,
            "max_height": null,
            "align_content": null,
            "visibility": null,
            "align_self": null,
            "height": null,
            "min_height": null,
            "padding": null,
            "grid_auto_rows": null,
            "grid_gap": null,
            "max_width": null,
            "order": null,
            "_view_module_version": "1.2.0",
            "grid_template_areas": null,
            "object_position": null,
            "object_fit": null,
            "grid_auto_columns": null,
            "margin": null,
            "display": null,
            "left": null
          }
        },
        "62ac8a9d0c4a4e61987c53244499bab6": {
          "model_module": "@jupyter-widgets/controls",
          "model_name": "FloatProgressModel",
          "state": {
            "_view_name": "ProgressView",
            "style": "IPY_MODEL_9b192211813f47dfb0ad958d567e7509",
            "_dom_classes": [],
            "description": "  0%",
            "_model_name": "FloatProgressModel",
            "bar_style": "danger",
            "max": 50,
            "_view_module": "@jupyter-widgets/controls",
            "_model_module_version": "1.5.0",
            "value": 0,
            "_view_count": null,
            "_view_module_version": "1.5.0",
            "orientation": "horizontal",
            "min": 0,
            "description_tooltip": null,
            "_model_module": "@jupyter-widgets/controls",
            "layout": "IPY_MODEL_6f7b0e964f764963b8c30833ee0e6469"
          }
        },
        "99c67f786db6449f812af1188737ce36": {
          "model_module": "@jupyter-widgets/controls",
          "model_name": "HTMLModel",
          "state": {
            "_view_name": "HTMLView",
            "style": "IPY_MODEL_51920f22b0184d9d9bf5d47f55be7024",
            "_dom_classes": [],
            "description": "",
            "_model_name": "HTMLModel",
            "placeholder": "​",
            "_view_module": "@jupyter-widgets/controls",
            "_model_module_version": "1.5.0",
            "value": " 0/50 [00:00&lt;?, ?it/s]",
            "_view_count": null,
            "_view_module_version": "1.5.0",
            "description_tooltip": null,
            "_model_module": "@jupyter-widgets/controls",
            "layout": "IPY_MODEL_7a797392a779435ba48b699be621f303"
          }
        },
        "9b192211813f47dfb0ad958d567e7509": {
          "model_module": "@jupyter-widgets/controls",
          "model_name": "ProgressStyleModel",
          "state": {
            "_view_name": "StyleView",
            "_model_name": "ProgressStyleModel",
            "description_width": "initial",
            "_view_module": "@jupyter-widgets/base",
            "_model_module_version": "1.5.0",
            "_view_count": null,
            "_view_module_version": "1.2.0",
            "bar_color": null,
            "_model_module": "@jupyter-widgets/controls"
          }
        },
        "6f7b0e964f764963b8c30833ee0e6469": {
          "model_module": "@jupyter-widgets/base",
          "model_name": "LayoutModel",
          "state": {
            "_view_name": "LayoutView",
            "grid_template_rows": null,
            "right": null,
            "justify_content": null,
            "_view_module": "@jupyter-widgets/base",
            "overflow": null,
            "_model_module_version": "1.2.0",
            "_view_count": null,
            "flex_flow": null,
            "width": null,
            "min_width": null,
            "border": null,
            "align_items": null,
            "bottom": null,
            "_model_module": "@jupyter-widgets/base",
            "top": null,
            "grid_column": null,
            "overflow_y": null,
            "overflow_x": null,
            "grid_auto_flow": null,
            "grid_area": null,
            "grid_template_columns": null,
            "flex": null,
            "_model_name": "LayoutModel",
            "justify_items": null,
            "grid_row": null,
            "max_height": null,
            "align_content": null,
            "visibility": null,
            "align_self": null,
            "height": null,
            "min_height": null,
            "padding": null,
            "grid_auto_rows": null,
            "grid_gap": null,
            "max_width": null,
            "order": null,
            "_view_module_version": "1.2.0",
            "grid_template_areas": null,
            "object_position": null,
            "object_fit": null,
            "grid_auto_columns": null,
            "margin": null,
            "display": null,
            "left": null
          }
        },
        "51920f22b0184d9d9bf5d47f55be7024": {
          "model_module": "@jupyter-widgets/controls",
          "model_name": "DescriptionStyleModel",
          "state": {
            "_view_name": "StyleView",
            "_model_name": "DescriptionStyleModel",
            "description_width": "",
            "_view_module": "@jupyter-widgets/base",
            "_model_module_version": "1.5.0",
            "_view_count": null,
            "_view_module_version": "1.2.0",
            "_model_module": "@jupyter-widgets/controls"
          }
        },
        "7a797392a779435ba48b699be621f303": {
          "model_module": "@jupyter-widgets/base",
          "model_name": "LayoutModel",
          "state": {
            "_view_name": "LayoutView",
            "grid_template_rows": null,
            "right": null,
            "justify_content": null,
            "_view_module": "@jupyter-widgets/base",
            "overflow": null,
            "_model_module_version": "1.2.0",
            "_view_count": null,
            "flex_flow": null,
            "width": null,
            "min_width": null,
            "border": null,
            "align_items": null,
            "bottom": null,
            "_model_module": "@jupyter-widgets/base",
            "top": null,
            "grid_column": null,
            "overflow_y": null,
            "overflow_x": null,
            "grid_auto_flow": null,
            "grid_area": null,
            "grid_template_columns": null,
            "flex": null,
            "_model_name": "LayoutModel",
            "justify_items": null,
            "grid_row": null,
            "max_height": null,
            "align_content": null,
            "visibility": null,
            "align_self": null,
            "height": null,
            "min_height": null,
            "padding": null,
            "grid_auto_rows": null,
            "grid_gap": null,
            "max_width": null,
            "order": null,
            "_view_module_version": "1.2.0",
            "grid_template_areas": null,
            "object_position": null,
            "object_fit": null,
            "grid_auto_columns": null,
            "margin": null,
            "display": null,
            "left": null
          }
        }
      }
    }
  },
  "cells": [
    {
      "cell_type": "markdown",
      "metadata": {
        "id": "view-in-github",
        "colab_type": "text"
      },
      "source": [
        "<a href=\"https://colab.research.google.com/github/erezimm/ML-ML/blob/master/GNN_final_project.ipynb\" target=\"_parent\"><img src=\"https://colab.research.google.com/assets/colab-badge.svg\" alt=\"Open In Colab\"/></a>"
      ]
    },
    {
      "cell_type": "markdown",
      "metadata": {
        "id": "OCU4DoTLIIoO",
        "colab_type": "text"
      },
      "source": [
        "# Main notebook, to be run on Google Colab"
      ]
    },
    {
      "cell_type": "markdown",
      "metadata": {
        "id": "PWYU8-BTJ-XN",
        "colab_type": "text"
      },
      "source": [
        "## Import dependencies and download datasets"
      ]
    },
    {
      "cell_type": "code",
      "metadata": {
        "id": "L5E9Y_nnn3m8",
        "colab_type": "code",
        "colab": {
          "base_uri": "https://localhost:8080/",
          "height": 459
        },
        "outputId": "995bb5e8-3847-48ba-f566-30610ee682da"
      },
      "source": [
        "!pip install dgl\n",
        "\n",
        "from datetime import date\n",
        "import dgl\n",
        "import dgl.function as fn\n",
        "import torch\n",
        "import torch.nn as nn\n",
        "import torch.nn.functional as F\n",
        "from dgl import DGLGraph\n",
        "from torch.utils.data import Dataset, DataLoader\n",
        "import glob\n",
        "import json\n",
        "from tqdm.notebook import tqdm\n",
        "import torch.optim as optim\n",
        "import numpy as np\n",
        "import networkx as nx\n",
        "import astropy.io.ascii\n",
        "import torch.nn as nn\n",
        "import torch.nn.functional as F\n",
        "from os.path import basename\n",
        "\n",
        "import matplotlib.pyplot as plt\n",
        "\n",
        "# if not torch.cuda.is_available():\n",
        "#     raise Exception('Cuda unavailable, turn it on under Runtime>Change runtime type')\n",
        "device = torch.device('cpu')\n",
        "\n",
        "!wget -O data.zip https://github.com/erezimm/ML-ML/raw/master/data.zip\n",
        "!unzip -o -q data.zip -d ./data\n",
        "training_path = '/content/data/training_set'\n",
        "validation_path = '/content/data/validation_set'"
      ],
      "execution_count": 34,
      "outputs": [
        {
          "output_type": "stream",
          "text": [
            "Requirement already satisfied: dgl in /usr/local/lib/python3.6/dist-packages (0.4.3.post2)\n",
            "Requirement already satisfied: requests>=2.19.0 in /usr/local/lib/python3.6/dist-packages (from dgl) (2.23.0)\n",
            "Requirement already satisfied: scipy>=1.1.0 in /usr/local/lib/python3.6/dist-packages (from dgl) (1.4.1)\n",
            "Requirement already satisfied: numpy>=1.14.0 in /usr/local/lib/python3.6/dist-packages (from dgl) (1.18.5)\n",
            "Requirement already satisfied: networkx>=2.1 in /usr/local/lib/python3.6/dist-packages (from dgl) (2.4)\n",
            "Requirement already satisfied: idna<3,>=2.5 in /usr/local/lib/python3.6/dist-packages (from requests>=2.19.0->dgl) (2.10)\n",
            "Requirement already satisfied: certifi>=2017.4.17 in /usr/local/lib/python3.6/dist-packages (from requests>=2.19.0->dgl) (2020.6.20)\n",
            "Requirement already satisfied: chardet<4,>=3.0.2 in /usr/local/lib/python3.6/dist-packages (from requests>=2.19.0->dgl) (3.0.4)\n",
            "Requirement already satisfied: urllib3!=1.25.0,!=1.25.1,<1.26,>=1.21.1 in /usr/local/lib/python3.6/dist-packages (from requests>=2.19.0->dgl) (1.24.3)\n",
            "Requirement already satisfied: decorator>=4.3.0 in /usr/local/lib/python3.6/dist-packages (from networkx>=2.1->dgl) (4.4.2)\n",
            "--2020-08-05 15:47:22--  https://github.com/erezimm/ML-ML/raw/master/data.zip\n",
            "Resolving github.com (github.com)... 140.82.118.4\n",
            "Connecting to github.com (github.com)|140.82.118.4|:443... connected.\n",
            "HTTP request sent, awaiting response... 302 Found\n",
            "Location: https://raw.githubusercontent.com/erezimm/ML-ML/master/data.zip [following]\n",
            "--2020-08-05 15:47:22--  https://raw.githubusercontent.com/erezimm/ML-ML/master/data.zip\n",
            "Resolving raw.githubusercontent.com (raw.githubusercontent.com)... 151.101.0.133, 151.101.64.133, 151.101.128.133, ...\n",
            "Connecting to raw.githubusercontent.com (raw.githubusercontent.com)|151.101.0.133|:443... connected.\n",
            "HTTP request sent, awaiting response... 200 OK\n",
            "Length: 59777 (58K) [application/zip]\n",
            "Saving to: ‘data.zip’\n",
            "\n",
            "data.zip            100%[===================>]  58.38K  --.-KB/s    in 0.008s  \n",
            "\n",
            "2020-08-05 15:47:22 (7.38 MB/s) - ‘data.zip’ saved [59777/59777]\n",
            "\n"
          ],
          "name": "stdout"
        }
      ]
    },
    {
      "cell_type": "markdown",
      "metadata": {
        "id": "ff2ASGtVn3nB",
        "colab_type": "text"
      },
      "source": [
        "## Create Datasets\n",
        "Class CustomDataset loads all files and converts them to a list of graphs.\n",
        "Each node in a graph is a data point, i.e. node features are days since start, mag, magerr"
      ]
    },
    {
      "cell_type": "code",
      "metadata": {
        "id": "zSLI4uNYn3nB",
        "colab_type": "code",
        "colab": {
          "base_uri": "https://localhost:8080/",
          "height": 1000,
          "referenced_widgets": [
            "4f8a2c676ea24062928c444b767be779",
            "ca48cfdfc1b04e5a90da7f934711137e",
            "a4b0e00752b2415d9033516afe6f295f",
            "826f8ba7875b4325964145cbecc2269b",
            "7862498bfa9e4e7cae01910c600da1df",
            "a678d2a3448a4595abb25a97d252ae42",
            "1b1527a05b224f9e8d84a359a20a9470",
            "5db523a41c6f405eb785f9dff339056c"
          ]
        },
        "outputId": "492b1f5e-1252-45f9-984a-0067834b5017"
      },
      "source": [
        "class CustomDataset(Dataset):\n",
        "    def __init__(self, path):\n",
        "        filelist = glob.glob(path+'/*')\n",
        "        \n",
        "        self.graphs = []\n",
        "        self.isMicrolensed = []\n",
        "        for fname in tqdm(filelist):\n",
        "            filebasename = basename(fname)\n",
        "            if filebasename.startswith('clean'):\n",
        "                microlensed = torch.tensor([0])\n",
        "            elif filebasename.startswith('microlensed'):\n",
        "                microlensed = torch.tensor([1])\n",
        "            else:\n",
        "                raise Exception('Filename ' + fname + ' not clean_* or microlensed_*')\n",
        "            \n",
        "            with open(fname) as f:\n",
        "                data = astropy.io.ascii.read(f.read())\n",
        "                times, mags, magerrs = data['col1'], [], data['col3']\n",
        "                for m, err in zip(data['col2'], magerrs):\n",
        "                    mags.append(round(m, len(str(err).split('.')[1])))\n",
        "                    # print(m, err, mags[-1])\n",
        "                zipped = list(zip(times, mags, magerrs))\n",
        "                zipped.sort(key=lambda tup: tup[0])\n",
        "                times, mags, magerrs = zip(*zipped)\n",
        "\n",
        "                n = len(times)\n",
        "                g = dgl.DGLGraph()\n",
        "                g.add_nodes(n)\n",
        "                g.ndata['time'] = torch.tensor(times).float()  # days\n",
        "                g.ndata['mag'] = torch.tensor(mags).float()\n",
        "                g.ndata['magerr'] = torch.tensor(magerrs).float()\n",
        "                g.add_edges([i for i in range(n)], [(i+1)%n for i in range(n)])\n",
        "                g.add_edges([i for i in range(n)], [(i-1)%n for i in range(n)])\n",
        "                \n",
        "                self.graphs.append(g)\n",
        "                self.isMicrolensed.append(microlensed)\n",
        "        \n",
        "    def __len__(self):\n",
        "        return len(self.graphs)\n",
        "\n",
        "    def __getitem__(self, idx):\n",
        "        return self.graphs[idx], self.isMicrolensed[idx]\n",
        "\n",
        "\n",
        "train_ds = CustomDataset(training_path)\n",
        "# validation_ds = CustomDataset(validation_path)\n",
        "\n",
        "nx.draw(dgl.to_networkx(train_ds[20][0]))"
      ],
      "execution_count": 41,
      "outputs": [
        {
          "output_type": "display_data",
          "data": {
            "application/vnd.jupyter.widget-view+json": {
              "model_id": "4f8a2c676ea24062928c444b767be779",
              "version_minor": 0,
              "version_major": 2
            },
            "text/plain": [
              "HBox(children=(FloatProgress(value=0.0), HTML(value='')))"
            ]
          },
          "metadata": {
            "tags": []
          }
        },
        {
          "output_type": "stream",
          "text": [
            "35\n",
            "28\n",
            "26\n",
            "33\n",
            "34\n",
            "35\n",
            "32\n",
            "21\n",
            "27\n",
            "21\n",
            "28\n",
            "36\n",
            "35\n",
            "21\n",
            "21\n",
            "25\n",
            "31\n",
            "35\n",
            "32\n",
            "36\n",
            "34\n",
            "36\n",
            "32\n",
            "36\n",
            "34\n",
            "29\n",
            "31\n",
            "28\n",
            "35\n",
            "36\n",
            "35\n",
            "34\n",
            "35\n",
            "37\n",
            "37\n",
            "34\n",
            "25\n",
            "34\n",
            "34\n",
            "30\n",
            "27\n",
            "29\n",
            "34\n",
            "29\n",
            "36\n",
            "31\n",
            "34\n",
            "22\n",
            "32\n",
            "34\n",
            "35\n",
            "22\n",
            "24\n",
            "35\n",
            "33\n",
            "23\n",
            "30\n",
            "25\n",
            "21\n",
            "29\n",
            "29\n",
            "37\n",
            "36\n",
            "35\n",
            "33\n",
            "35\n",
            "26\n",
            "24\n",
            "24\n",
            "27\n",
            "34\n",
            "34\n",
            "25\n",
            "27\n",
            "22\n",
            "34\n",
            "35\n",
            "30\n",
            "35\n",
            "31\n",
            "24\n",
            "23\n",
            "34\n",
            "35\n",
            "31\n",
            "31\n",
            "35\n",
            "35\n",
            "35\n",
            "30\n",
            "35\n",
            "30\n",
            "33\n",
            "24\n",
            "31\n",
            "29\n",
            "22\n",
            "31\n",
            "34\n",
            "29\n",
            "\n"
          ],
          "name": "stdout"
        },
        {
          "output_type": "display_data",
          "data": {
            "image/png": "[encoded data removed]",
            "text/plain": [
              "<Figure size 432x288 with 1 Axes>"
            ]
          },
          "metadata": {
            "tags": []
          }
        }
      ]
    },
    {
      "cell_type": "code",
      "metadata": {
        "id": "KnD7mWfjn3nK",
        "colab_type": "code",
        "colab": {}
      },
      "source": [
        "def collate(samples):\n",
        "    # The input `samples` is a list, a batch of whatever comes out of your dataset object\n",
        "    graphs = [x[0] for x in samples]\n",
        "    labels = [x[1] for x in samples]\n",
        "    \n",
        "    batched_graph = dgl.batch(graphs,node_attrs=['time', 'mag', 'magerr'])\n",
        "    targets = torch.cat(labels)\n",
        "    \n",
        "    return batched_graph, targets.unsqueeze(1).float()"
      ],
      "execution_count": 36,
      "outputs": []
    },
    {
      "cell_type": "markdown",
      "metadata": {
        "id": "FGDTIcKIuGW2",
        "colab_type": "text"
      },
      "source": [
        "## The Newtwork"
      ]
    },
    {
      "cell_type": "code",
      "metadata": {
        "id": "fs14d7QUn3nL",
        "colab_type": "code",
        "colab": {}
      },
      "source": [
        "n_ft = 3  # number of node features (time, mag, magerr)\n",
        "\n",
        "class EdgeNetwork(nn.Module):\n",
        "    def __init__(self, node_hidrep, edge_hidrep):\n",
        "        super(EdgeNetwork, self).__init__()\n",
        "        n_in = 2*(n_ft + node_hidrep)\n",
        "        \n",
        "        # params:\n",
        "        sizes = [n_in] + [] + [edge_hidrep]  # edit middle list, can be empty\n",
        "\n",
        "        # create networks:\n",
        "        layers = []\n",
        "        for i in range(len(sizes)-1):\n",
        "            layers.extend([nn.Linear(sizes[i], sizes[i+1]), nn.ReLU()])\n",
        "        self.network = nn.Sequential(*layers)\n",
        "    \n",
        "    def forward(self, x):\n",
        "        \n",
        "        #your input x is an object with the following properties:\n",
        "        # x.dst['node_features'], x.dst['node_hidden_state']\n",
        "        # x.src['node_features'], x.src['node_hidden_state']\n",
        "        # x.data['distance']\n",
        "        \n",
        "        #put them together with torch.cat\n",
        "\n",
        "        # print( x.dst['time'].shape, x.dst['mag'].shape, x.dst['magerr'].shape, x.dst['node_hidrep'].shape,\n",
        "        #         x.src['time'].shape, x.src['mag'].shape, x.src['magerr'].shape, x.src['node_hidrep'].shape )\n",
        "\n",
        "        input = torch.cat(( x.dst['time'].unsqueeze(1), x.dst['mag'].unsqueeze(1), x.dst['magerr'].unsqueeze(1), x.dst['node_hidrep'],\n",
        "                            x.src['time'].unsqueeze(1), x.src['mag'].unsqueeze(1), x.src['magerr'].unsqueeze(1), x.src['node_hidrep'] ), dim=1)\n",
        "        \n",
        "        #use a neural network to create an edge hidden represetation - \n",
        "\n",
        "        output = self.network(input)\n",
        "\n",
        "        #you return a dictionary with what you want to \"send\" to the reciving node\n",
        "        return {'edge_hidrep': output }\n",
        "\n",
        "    \n",
        "class NodeNetwork(nn.Module):\n",
        "    def __init__(self, node_hidrep, edge_hidrep):\n",
        "        super(NodeNetwork, self).__init__()\n",
        "        n_in = edge_hidrep + node_hidrep + n_ft\n",
        "\n",
        "        # params:\n",
        "        sizes = [n_in] + [] + [node_hidrep]  # edit middle list, can be empty\n",
        "\n",
        "        # create networks:\n",
        "        layers = []\n",
        "        for i in range(len(sizes)-1):\n",
        "            layers.extend([nn.Linear(sizes[i], sizes[i+1]), nn.ReLU()])\n",
        "        self.network = nn.Sequential(*layers)\n",
        "    \n",
        "    def forward(self, x):\n",
        "        \n",
        "        #this time your input x has:\n",
        "        # x.mailbox['edge hidden represetation'] -> this is what you send with the edge update function above - \n",
        "        # it will have the size of the node neighborhood - \n",
        "        # (Batch size, number of nodes in neighborhood, edge hidden rep size), so you need to sum/mean over dim=1 \n",
        "        # x.data['node_hidden_state'] and x.data['node_features'] (this is the existing state of your node)\n",
        "        # you need to torch.cat the message sum, node hidden state, and node features \n",
        "        #- and then apply some fully connected neural network\n",
        "        \n",
        "        mb = torch.mean( x.mailbox['edge_hidrep'] , dim=1 )\n",
        "\n",
        "        input = torch.cat((mb, x.data['node_hidrep'], x.data['time'].unsqueeze(1), x.data['mag'].unsqueeze(1), x.data['magerr'].unsqueeze(1)), dim=1)\n",
        "        out = self.network(input)\n",
        "\n",
        "        # return a new hidden state for the node\n",
        "        return {'node_hidrep': out }\n",
        "\n",
        "\n",
        "class Classifier(nn.Module):\n",
        "    def __init__(self):\n",
        "        super(Classifier, self).__init__()\n",
        "\n",
        "        # params:\n",
        "        node_hidrep, edge_hidrep = 10, 10\n",
        "        sizes_nodeinit = [n_ft] + [] + [node_hidrep]  # edit middle list, can be empty\n",
        "        self.update_loop_length = 20\n",
        "\n",
        "        # create networks:\n",
        "        layers = []\n",
        "        for i in range(len(sizes_nodeinit)-1):\n",
        "            layers.extend([nn.Linear(sizes_nodeinit[i], sizes_nodeinit[i+1]), nn.ReLU()])\n",
        "        self.node_init = nn.Sequential(*layers)\n",
        "        self.edge_network = EdgeNetwork(node_hidrep, edge_hidrep)\n",
        "        self.node_network = NodeNetwork(node_hidrep, edge_hidrep)\n",
        "        \n",
        "    def forward(self, g):\n",
        "        features = torch.tensor(list(zip(g.ndata['time'], g.ndata['mag'], g.ndata['magerr'])))\n",
        "        print(features)\n",
        "        g.ndata['node_hidrep'] = self.node_init(features)\n",
        "        for i in range(self.update_loop_length):\n",
        "            g.update_all(self.edge_network, self.node_network)\n",
        "        \n",
        "        print(g.ndata['node_hidrep'].shape)\n",
        "        out = 0\n",
        "        for x in g.ndata['node_hidrep']:\n",
        "            out = max(out, torch.sum(x))\n",
        "        return torch.tensor([out])"
      ],
      "execution_count": 91,
      "outputs": []
    },
    {
      "cell_type": "code",
      "metadata": {
        "id": "ddlu-kVsuqGu",
        "colab_type": "code",
        "colab": {
          "base_uri": "https://localhost:8080/",
          "height": 323
        },
        "outputId": "2ddb3a61-8cc7-4973-db72-47d033d2f9f5"
      },
      "source": [
        "net = Classifier()\n",
        "net.to(device)"
      ],
      "execution_count": 92,
      "outputs": [
        {
          "output_type": "execute_result",
          "data": {
            "text/plain": [
              "Classifier(\n",
              "  (node_init): Sequential(\n",
              "    (0): Linear(in_features=3, out_features=10, bias=True)\n",
              "    (1): ReLU()\n",
              "  )\n",
              "  (edge_network): EdgeNetwork(\n",
              "    (network): Sequential(\n",
              "      (0): Linear(in_features=26, out_features=10, bias=True)\n",
              "      (1): ReLU()\n",
              "    )\n",
              "  )\n",
              "  (node_network): NodeNetwork(\n",
              "    (network): Sequential(\n",
              "      (0): Linear(in_features=23, out_features=10, bias=True)\n",
              "      (1): ReLU()\n",
              "    )\n",
              "  )\n",
              ")"
            ]
          },
          "metadata": {
            "tags": []
          },
          "execution_count": 92
        }
      ]
    },
    {
      "cell_type": "markdown",
      "metadata": {
        "id": "6x-ALDRlwBDo",
        "colab_type": "text"
      },
      "source": [
        "## Train"
      ]
    },
    {
      "cell_type": "code",
      "metadata": {
        "id": "YvADGO3ZvS9U",
        "colab_type": "code",
        "colab": {}
      },
      "source": [
        "loss_func = nn.BCEWithLogitsLoss()\n",
        "# optimizer = optim.SGD(net.parameters(), lr=0.01)\n",
        "optimizer = optim.Adam(net.parameters(), lr=0.001)"
      ],
      "execution_count": 93,
      "outputs": []
    },
    {
      "cell_type": "code",
      "metadata": {
        "scrolled": false,
        "id": "E0-E3v84n3nU",
        "colab_type": "code",
        "colab": {
          "base_uri": "https://localhost:8080/",
          "height": 1000,
          "referenced_widgets": [
            "d0d7c3c9a3ae4b3fa7cb3684c989bb6c",
            "66c9682a68fd4ddaa511f709566e452c",
            "62ac8a9d0c4a4e61987c53244499bab6",
            "99c67f786db6449f812af1188737ce36",
            "9b192211813f47dfb0ad958d567e7509",
            "6f7b0e964f764963b8c30833ee0e6469",
            "51920f22b0184d9d9bf5d47f55be7024",
            "7a797392a779435ba48b699be621f303"
          ]
        },
        "outputId": "00cefd49-418c-4d7d-9e1a-4f3e0187b322"
      },
      "source": [
        "data_loader = DataLoader(train_ds, batch_size=30, shuffle=True, collate_fn=collate)\n",
        "\n",
        "n_epochs = 50\n",
        "for epoch in tqdm(range(n_epochs)):\n",
        "    net.train()\n",
        "    losses = []\n",
        "    for x,y in data_loader:\n",
        "        x, y = x.to(device), y.to(device)\n",
        "        optimizer.zero_grad()\n",
        "        output = net(x)\n",
        "        # print(output.shape, y.shape)\n",
        "        loss = loss_func(output,y)\n",
        "        losses.append(float(loss))\n",
        "        loss.backward()\n",
        "        optimizer.step()\n",
        "    \n",
        "    print(epoch, ':', np.mean(np.array(losses)))      "
      ],
      "execution_count": 94,
      "outputs": [
        {
          "output_type": "display_data",
          "data": {
            "application/vnd.jupyter.widget-view+json": {
              "model_id": "d0d7c3c9a3ae4b3fa7cb3684c989bb6c",
              "version_minor": 0,
              "version_major": 2
            },
            "text/plain": [
              "HBox(children=(FloatProgress(value=0.0, max=50.0), HTML(value='')))"
            ]
          },
          "metadata": {
            "tags": []
          }
        },
        {
          "output_type": "stream",
          "text": [
            "tensor([[5.8216e+04, 1.8237e+01, 3.9000e-02],\n",
            "        [5.8219e+04, 1.8151e+01, 3.7000e-02],\n",
            "        [5.8219e+04, 1.8217e+01, 3.8000e-02],\n",
            "        ...,\n",
            "        [5.8465e+04, 1.9880e+01, 1.4000e-01],\n",
            "        [5.8468e+04, 2.0112e+01, 1.5900e-01],\n",
            "        [5.8480e+04, 1.9853e+01, 1.2700e-01]])\n",
            "<dgl.utils.LazyDict object at 0x7ff6457949e8>\n",
            "edge_hidrep : torch.Size([922, 2, 10])\n",
            "<dgl.utils.LazyDict object at 0x7ff645723128>\n",
            "edge_hidrep : torch.Size([922, 2, 10])\n",
            "<dgl.utils.LazyDict object at 0x7ff645723208>\n",
            "edge_hidrep : torch.Size([922, 2, 10])\n",
            "<dgl.utils.LazyDict object at 0x7ff6457234a8>\n",
            "edge_hidrep : torch.Size([922, 2, 10])\n",
            "<dgl.utils.LazyDict object at 0x7ff645723630>\n",
            "edge_hidrep : torch.Size([922, 2, 10])\n",
            "<dgl.utils.LazyDict object at 0x7ff645723780>\n",
            "edge_hidrep : torch.Size([922, 2, 10])\n",
            "<dgl.utils.LazyDict object at 0x7ff6457238d0>\n",
            "edge_hidrep : torch.Size([922, 2, 10])\n",
            "<dgl.utils.LazyDict object at 0x7ff645723a20>\n",
            "edge_hidrep : torch.Size([922, 2, 10])\n",
            "<dgl.utils.LazyDict object at 0x7ff645723b70>\n",
            "edge_hidrep : torch.Size([922, 2, 10])\n",
            "<dgl.utils.LazyDict object at 0x7ff645723cc0>\n",
            "edge_hidrep : torch.Size([922, 2, 10])\n",
            "<dgl.utils.LazyDict object at 0x7ff645723e10>\n",
            "edge_hidrep : torch.Size([922, 2, 10])\n",
            "<dgl.utils.LazyDict object at 0x7ff645723f60>\n",
            "edge_hidrep : torch.Size([922, 2, 10])\n",
            "<dgl.utils.LazyDict object at 0x7ff6457510f0>\n",
            "edge_hidrep : torch.Size([922, 2, 10])\n",
            "<dgl.utils.LazyDict object at 0x7ff645751240>\n",
            "edge_hidrep : torch.Size([922, 2, 10])\n",
            "<dgl.utils.LazyDict object at 0x7ff645751390>\n",
            "edge_hidrep : torch.Size([922, 2, 10])\n",
            "<dgl.utils.LazyDict object at 0x7ff6457514e0>\n",
            "edge_hidrep : torch.Size([922, 2, 10])\n",
            "<dgl.utils.LazyDict object at 0x7ff6457515c0>\n",
            "edge_hidrep : torch.Size([922, 2, 10])\n",
            "<dgl.utils.LazyDict object at 0x7ff645751208>\n",
            "edge_hidrep : torch.Size([922, 2, 10])\n",
            "<dgl.utils.LazyDict object at 0x7ff6457514e0>\n",
            "edge_hidrep : torch.Size([922, 2, 10])\n",
            "<dgl.utils.LazyDict object at 0x7ff6457512e8>\n",
            "edge_hidrep : torch.Size([922, 2, 10])\n",
            "torch.Size([922, 10])\n"
          ],
          "name": "stdout"
        },
        {
          "output_type": "error",
          "ename": "ValueError",
          "evalue": "ignored",
          "traceback": [
            "\u001b[0;31m---------------------------------------------------------------------------\u001b[0m",
            "\u001b[0;31mValueError\u001b[0m                                Traceback (most recent call last)",
            "\u001b[0;32m<ipython-input-94-589b757590a9>\u001b[0m in \u001b[0;36m<module>\u001b[0;34m()\u001b[0m\n\u001b[1;32m     10\u001b[0m         \u001b[0moutput\u001b[0m \u001b[0;34m=\u001b[0m \u001b[0mnet\u001b[0m\u001b[0;34m(\u001b[0m\u001b[0mx\u001b[0m\u001b[0;34m)\u001b[0m\u001b[0;34m\u001b[0m\u001b[0;34m\u001b[0m\u001b[0m\n\u001b[1;32m     11\u001b[0m         \u001b[0;31m# print(output.shape, y.shape)\u001b[0m\u001b[0;34m\u001b[0m\u001b[0;34m\u001b[0m\u001b[0;34m\u001b[0m\u001b[0m\n\u001b[0;32m---> 12\u001b[0;31m         \u001b[0mloss\u001b[0m \u001b[0;34m=\u001b[0m \u001b[0mloss_func\u001b[0m\u001b[0;34m(\u001b[0m\u001b[0moutput\u001b[0m\u001b[0;34m,\u001b[0m\u001b[0my\u001b[0m\u001b[0;34m)\u001b[0m\u001b[0;34m\u001b[0m\u001b[0;34m\u001b[0m\u001b[0m\n\u001b[0m\u001b[1;32m     13\u001b[0m         \u001b[0mlosses\u001b[0m\u001b[0;34m.\u001b[0m\u001b[0mappend\u001b[0m\u001b[0;34m(\u001b[0m\u001b[0mfloat\u001b[0m\u001b[0;34m(\u001b[0m\u001b[0mloss\u001b[0m\u001b[0;34m)\u001b[0m\u001b[0;34m)\u001b[0m\u001b[0;34m\u001b[0m\u001b[0;34m\u001b[0m\u001b[0m\n\u001b[1;32m     14\u001b[0m         \u001b[0mloss\u001b[0m\u001b[0;34m.\u001b[0m\u001b[0mbackward\u001b[0m\u001b[0;34m(\u001b[0m\u001b[0;34m)\u001b[0m\u001b[0;34m\u001b[0m\u001b[0;34m\u001b[0m\u001b[0m\n",
            "\u001b[0;32m/usr/local/lib/python3.6/dist-packages/torch/nn/modules/module.py\u001b[0m in \u001b[0;36m_call_impl\u001b[0;34m(self, *input, **kwargs)\u001b[0m\n\u001b[1;32m    720\u001b[0m             \u001b[0mresult\u001b[0m \u001b[0;34m=\u001b[0m \u001b[0mself\u001b[0m\u001b[0;34m.\u001b[0m\u001b[0m_slow_forward\u001b[0m\u001b[0;34m(\u001b[0m\u001b[0;34m*\u001b[0m\u001b[0minput\u001b[0m\u001b[0;34m,\u001b[0m \u001b[0;34m**\u001b[0m\u001b[0mkwargs\u001b[0m\u001b[0;34m)\u001b[0m\u001b[0;34m\u001b[0m\u001b[0;34m\u001b[0m\u001b[0m\n\u001b[1;32m    721\u001b[0m         \u001b[0;32melse\u001b[0m\u001b[0;34m:\u001b[0m\u001b[0;34m\u001b[0m\u001b[0;34m\u001b[0m\u001b[0m\n\u001b[0;32m--> 722\u001b[0;31m             \u001b[0mresult\u001b[0m \u001b[0;34m=\u001b[0m \u001b[0mself\u001b[0m\u001b[0;34m.\u001b[0m\u001b[0mforward\u001b[0m\u001b[0;34m(\u001b[0m\u001b[0;34m*\u001b[0m\u001b[0minput\u001b[0m\u001b[0;34m,\u001b[0m \u001b[0;34m**\u001b[0m\u001b[0mkwargs\u001b[0m\u001b[0;34m)\u001b[0m\u001b[0;34m\u001b[0m\u001b[0;34m\u001b[0m\u001b[0m\n\u001b[0m\u001b[1;32m    723\u001b[0m         for hook in itertools.chain(\n\u001b[1;32m    724\u001b[0m                 \u001b[0m_global_forward_hooks\u001b[0m\u001b[0;34m.\u001b[0m\u001b[0mvalues\u001b[0m\u001b[0;34m(\u001b[0m\u001b[0;34m)\u001b[0m\u001b[0;34m,\u001b[0m\u001b[0;34m\u001b[0m\u001b[0;34m\u001b[0m\u001b[0m\n",
            "\u001b[0;32m/usr/local/lib/python3.6/dist-packages/torch/nn/modules/loss.py\u001b[0m in \u001b[0;36mforward\u001b[0;34m(self, input, target)\u001b[0m\n\u001b[1;32m    629\u001b[0m                                                   \u001b[0mself\u001b[0m\u001b[0;34m.\u001b[0m\u001b[0mweight\u001b[0m\u001b[0;34m,\u001b[0m\u001b[0;34m\u001b[0m\u001b[0;34m\u001b[0m\u001b[0m\n\u001b[1;32m    630\u001b[0m                                                   \u001b[0mpos_weight\u001b[0m\u001b[0;34m=\u001b[0m\u001b[0mself\u001b[0m\u001b[0;34m.\u001b[0m\u001b[0mpos_weight\u001b[0m\u001b[0;34m,\u001b[0m\u001b[0;34m\u001b[0m\u001b[0;34m\u001b[0m\u001b[0m\n\u001b[0;32m--> 631\u001b[0;31m                                                   reduction=self.reduction)\n\u001b[0m\u001b[1;32m    632\u001b[0m \u001b[0;34m\u001b[0m\u001b[0m\n\u001b[1;32m    633\u001b[0m \u001b[0;34m\u001b[0m\u001b[0m\n",
            "\u001b[0;32m/usr/local/lib/python3.6/dist-packages/torch/nn/functional.py\u001b[0m in \u001b[0;36mbinary_cross_entropy_with_logits\u001b[0;34m(input, target, weight, size_average, reduce, reduction, pos_weight)\u001b[0m\n\u001b[1;32m   2536\u001b[0m \u001b[0;34m\u001b[0m\u001b[0m\n\u001b[1;32m   2537\u001b[0m     \u001b[0;32mif\u001b[0m \u001b[0;32mnot\u001b[0m \u001b[0;34m(\u001b[0m\u001b[0mtarget\u001b[0m\u001b[0;34m.\u001b[0m\u001b[0msize\u001b[0m\u001b[0;34m(\u001b[0m\u001b[0;34m)\u001b[0m \u001b[0;34m==\u001b[0m \u001b[0minput\u001b[0m\u001b[0;34m.\u001b[0m\u001b[0msize\u001b[0m\u001b[0;34m(\u001b[0m\u001b[0;34m)\u001b[0m\u001b[0;34m)\u001b[0m\u001b[0;34m:\u001b[0m\u001b[0;34m\u001b[0m\u001b[0;34m\u001b[0m\u001b[0m\n\u001b[0;32m-> 2538\u001b[0;31m         \u001b[0;32mraise\u001b[0m \u001b[0mValueError\u001b[0m\u001b[0;34m(\u001b[0m\u001b[0;34m\"Target size ({}) must be the same as input size ({})\"\u001b[0m\u001b[0;34m.\u001b[0m\u001b[0mformat\u001b[0m\u001b[0;34m(\u001b[0m\u001b[0mtarget\u001b[0m\u001b[0;34m.\u001b[0m\u001b[0msize\u001b[0m\u001b[0;34m(\u001b[0m\u001b[0;34m)\u001b[0m\u001b[0;34m,\u001b[0m \u001b[0minput\u001b[0m\u001b[0;34m.\u001b[0m\u001b[0msize\u001b[0m\u001b[0;34m(\u001b[0m\u001b[0;34m)\u001b[0m\u001b[0;34m)\u001b[0m\u001b[0;34m)\u001b[0m\u001b[0;34m\u001b[0m\u001b[0;34m\u001b[0m\u001b[0m\n\u001b[0m\u001b[1;32m   2539\u001b[0m \u001b[0;34m\u001b[0m\u001b[0m\n\u001b[1;32m   2540\u001b[0m     \u001b[0;32mreturn\u001b[0m \u001b[0mtorch\u001b[0m\u001b[0;34m.\u001b[0m\u001b[0mbinary_cross_entropy_with_logits\u001b[0m\u001b[0;34m(\u001b[0m\u001b[0minput\u001b[0m\u001b[0;34m,\u001b[0m \u001b[0mtarget\u001b[0m\u001b[0;34m,\u001b[0m \u001b[0mweight\u001b[0m\u001b[0;34m,\u001b[0m \u001b[0mpos_weight\u001b[0m\u001b[0;34m,\u001b[0m \u001b[0mreduction_enum\u001b[0m\u001b[0;34m)\u001b[0m\u001b[0;34m\u001b[0m\u001b[0;34m\u001b[0m\u001b[0m\n",
            "\u001b[0;31mValueError\u001b[0m: Target size (torch.Size([30, 1])) must be the same as input size (torch.Size([1]))"
          ]
        }
      ]
    },
    {
      "cell_type": "markdown",
      "metadata": {
        "id": "hUcd0CE9wIXq",
        "colab_type": "text"
      },
      "source": [
        "## Evaluate\n",
        "\n",
        "Once you train your network you can evaluate on the test dataset, and compute the rate of false positive, false negative, etc,\n",
        "\n",
        "train until you reach at least 60% true positive rate while maintaining a 90%+ true negative rate, and submit"
      ]
    },
    {
      "cell_type": "code",
      "metadata": {
        "id": "XgrXh0Jdn3nb",
        "colab_type": "code",
        "colab": {}
      },
      "source": [
        "test_data_loader = DataLoader(test_ds, batch_size=30, shuffle=True, collate_fn=collate)\n",
        "\n",
        "net.cpu()\n",
        "net.eval()\n",
        "\n",
        "true_positive = 0\n",
        "false_positive = 0\n",
        "true_negative = 0\n",
        "false_negative = 0\n",
        "total_positives = 0\n",
        "total_negatives = 0\n",
        "\n",
        "for i, (x,y) in enumerate(test_data_loader):\n",
        "        \n",
        "        y = y.data.numpy()\n",
        "\n",
        "        prediction = net(x).cpu().data.numpy()\n",
        "        \n",
        "        prediction[prediction >= 0.5] = 1\n",
        "        prediction[prediction <0.5] = 0\n",
        "        \n",
        "        total_positives+=len(np.where( y==1 )[0])\n",
        "        total_negatives+=len(np.where( y==0 )[0])\n",
        "        \n",
        "        true_positive+= len(np.where( (prediction==y) & (y==1) )[0])\n",
        "        true_negative+= len(np.where( (prediction==y) & (y==0) )[0])\n",
        "        false_positive+= len(np.where( (prediction!=y) & (y==0) )[0])\n",
        "        false_negative+= len(np.where( (prediction!=y) & (y==1) )[0])\n",
        "        \n",
        "        \n",
        "print('true positive: ', true_positive/total_positives)\n",
        "print(false_negative/total_positives)\n",
        "print('true negative: ', true_negative/total_negatives)\n",
        "print(false_positive/total_negatives)"
      ],
      "execution_count": null,
      "outputs": []
    },
    {
      "cell_type": "markdown",
      "metadata": {
        "id": "2VfHxWg7aL98",
        "colab_type": "text"
      },
      "source": [
        "## Save\n",
        "Don't forget to download"
      ]
    },
    {
      "cell_type": "code",
      "metadata": {
        "id": "2cVQVmottKTu",
        "colab_type": "code",
        "colab": {}
      },
      "source": [
        "torch.save(net.state_dict(), 'model.pt')"
      ],
      "execution_count": null,
      "outputs": []
    }
  ]
}