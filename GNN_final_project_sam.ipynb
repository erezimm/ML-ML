{
  "nbformat": 4,
  "nbformat_minor": 0,
  "metadata": {
    "kernelspec": {
      "display_name": "Python 3",
      "language": "python",
      "name": "python3"
    },
    "language_info": {
      "codemirror_mode": {
        "name": "ipython",
        "version": 3
      },
      "file_extension": ".py",
      "mimetype": "text/x-python",
      "name": "python",
      "nbconvert_exporter": "python",
      "pygments_lexer": "ipython3",
      "version": "3.8.2"
    },
    "colab": {
      "name": "Copy of GNN final project.ipynb",
      "provenance": [],
      "collapsed_sections": [],
      "include_colab_link": true
    },
    "accelerator": "GPU",
    "widgets": {
      "application/vnd.jupyter.widget-state+json": {
        "4f29fe7d99d94c39b9188d92f05ff2b0": {
          "model_module": "@jupyter-widgets/controls",
          "model_name": "HBoxModel",
          "state": {
            "_view_name": "HBoxView",
            "_dom_classes": [],
            "_model_name": "HBoxModel",
            "_view_module": "@jupyter-widgets/controls",
            "_model_module_version": "1.5.0",
            "_view_count": null,
            "_view_module_version": "1.5.0",
            "box_style": "",
            "layout": "IPY_MODEL_5f37f648bf9046ceb4f099fc8c18259d",
            "_model_module": "@jupyter-widgets/controls",
            "children": [
              "IPY_MODEL_2e13c1d9b121472f99e0717d7963a8e2",
              "IPY_MODEL_3e691790499242498e026de6d56564b6"
            ]
          }
        },
        "5f37f648bf9046ceb4f099fc8c18259d": {
          "model_module": "@jupyter-widgets/base",
          "model_name": "LayoutModel",
          "state": {
            "_view_name": "LayoutView",
            "grid_template_rows": null,
            "right": null,
            "justify_content": null,
            "_view_module": "@jupyter-widgets/base",
            "overflow": null,
            "_model_module_version": "1.2.0",
            "_view_count": null,
            "flex_flow": null,
            "width": null,
            "min_width": null,
            "border": null,
            "align_items": null,
            "bottom": null,
            "_model_module": "@jupyter-widgets/base",
            "top": null,
            "grid_column": null,
            "overflow_y": null,
            "overflow_x": null,
            "grid_auto_flow": null,
            "grid_area": null,
            "grid_template_columns": null,
            "flex": null,
            "_model_name": "LayoutModel",
            "justify_items": null,
            "grid_row": null,
            "max_height": null,
            "align_content": null,
            "visibility": null,
            "align_self": null,
            "height": null,
            "min_height": null,
            "padding": null,
            "grid_auto_rows": null,
            "grid_gap": null,
            "max_width": null,
            "order": null,
            "_view_module_version": "1.2.0",
            "grid_template_areas": null,
            "object_position": null,
            "object_fit": null,
            "grid_auto_columns": null,
            "margin": null,
            "display": null,
            "left": null
          }
        },
        "2e13c1d9b121472f99e0717d7963a8e2": {
          "model_module": "@jupyter-widgets/controls",
          "model_name": "FloatProgressModel",
          "state": {
            "_view_name": "ProgressView",
            "style": "IPY_MODEL_e0c1c81a9dd5411798710dd10bafeae6",
            "_dom_classes": [],
            "description": "100%",
            "_model_name": "FloatProgressModel",
            "bar_style": "success",
            "max": 5000,
            "_view_module": "@jupyter-widgets/controls",
            "_model_module_version": "1.5.0",
            "value": 5000,
            "_view_count": null,
            "_view_module_version": "1.5.0",
            "orientation": "horizontal",
            "min": 0,
            "description_tooltip": null,
            "_model_module": "@jupyter-widgets/controls",
            "layout": "IPY_MODEL_58e23df4079f4021bf89d0274b251966"
          }
        },
        "3e691790499242498e026de6d56564b6": {
          "model_module": "@jupyter-widgets/controls",
          "model_name": "HTMLModel",
          "state": {
            "_view_name": "HTMLView",
            "style": "IPY_MODEL_c1b80eb0bc9246eab35f48d47d9f21fa",
            "_dom_classes": [],
            "description": "",
            "_model_name": "HTMLModel",
            "placeholder": "​",
            "_view_module": "@jupyter-widgets/controls",
            "_model_module_version": "1.5.0",
            "value": " 5000/5000 [00:41&lt;00:00, 120.71it/s]",
            "_view_count": null,
            "_view_module_version": "1.5.0",
            "description_tooltip": null,
            "_model_module": "@jupyter-widgets/controls",
            "layout": "IPY_MODEL_37676259eb9c4755b5458e5d825510dd"
          }
        },
        "e0c1c81a9dd5411798710dd10bafeae6": {
          "model_module": "@jupyter-widgets/controls",
          "model_name": "ProgressStyleModel",
          "state": {
            "_view_name": "StyleView",
            "_model_name": "ProgressStyleModel",
            "description_width": "initial",
            "_view_module": "@jupyter-widgets/base",
            "_model_module_version": "1.5.0",
            "_view_count": null,
            "_view_module_version": "1.2.0",
            "bar_color": null,
            "_model_module": "@jupyter-widgets/controls"
          }
        },
        "58e23df4079f4021bf89d0274b251966": {
          "model_module": "@jupyter-widgets/base",
          "model_name": "LayoutModel",
          "state": {
            "_view_name": "LayoutView",
            "grid_template_rows": null,
            "right": null,
            "justify_content": null,
            "_view_module": "@jupyter-widgets/base",
            "overflow": null,
            "_model_module_version": "1.2.0",
            "_view_count": null,
            "flex_flow": null,
            "width": null,
            "min_width": null,
            "border": null,
            "align_items": null,
            "bottom": null,
            "_model_module": "@jupyter-widgets/base",
            "top": null,
            "grid_column": null,
            "overflow_y": null,
            "overflow_x": null,
            "grid_auto_flow": null,
            "grid_area": null,
            "grid_template_columns": null,
            "flex": null,
            "_model_name": "LayoutModel",
            "justify_items": null,
            "grid_row": null,
            "max_height": null,
            "align_content": null,
            "visibility": null,
            "align_self": null,
            "height": null,
            "min_height": null,
            "padding": null,
            "grid_auto_rows": null,
            "grid_gap": null,
            "max_width": null,
            "order": null,
            "_view_module_version": "1.2.0",
            "grid_template_areas": null,
            "object_position": null,
            "object_fit": null,
            "grid_auto_columns": null,
            "margin": null,
            "display": null,
            "left": null
          }
        },
        "c1b80eb0bc9246eab35f48d47d9f21fa": {
          "model_module": "@jupyter-widgets/controls",
          "model_name": "DescriptionStyleModel",
          "state": {
            "_view_name": "StyleView",
            "_model_name": "DescriptionStyleModel",
            "description_width": "",
            "_view_module": "@jupyter-widgets/base",
            "_model_module_version": "1.5.0",
            "_view_count": null,
            "_view_module_version": "1.2.0",
            "_model_module": "@jupyter-widgets/controls"
          }
        },
        "37676259eb9c4755b5458e5d825510dd": {
          "model_module": "@jupyter-widgets/base",
          "model_name": "LayoutModel",
          "state": {
            "_view_name": "LayoutView",
            "grid_template_rows": null,
            "right": null,
            "justify_content": null,
            "_view_module": "@jupyter-widgets/base",
            "overflow": null,
            "_model_module_version": "1.2.0",
            "_view_count": null,
            "flex_flow": null,
            "width": null,
            "min_width": null,
            "border": null,
            "align_items": null,
            "bottom": null,
            "_model_module": "@jupyter-widgets/base",
            "top": null,
            "grid_column": null,
            "overflow_y": null,
            "overflow_x": null,
            "grid_auto_flow": null,
            "grid_area": null,
            "grid_template_columns": null,
            "flex": null,
            "_model_name": "LayoutModel",
            "justify_items": null,
            "grid_row": null,
            "max_height": null,
            "align_content": null,
            "visibility": null,
            "align_self": null,
            "height": null,
            "min_height": null,
            "padding": null,
            "grid_auto_rows": null,
            "grid_gap": null,
            "max_width": null,
            "order": null,
            "_view_module_version": "1.2.0",
            "grid_template_areas": null,
            "object_position": null,
            "object_fit": null,
            "grid_auto_columns": null,
            "margin": null,
            "display": null,
            "left": null
          }
        },
        "3f4ee1473c084256b287ba132015be2b": {
          "model_module": "@jupyter-widgets/controls",
          "model_name": "HBoxModel",
          "state": {
            "_view_name": "HBoxView",
            "_dom_classes": [],
            "_model_name": "HBoxModel",
            "_view_module": "@jupyter-widgets/controls",
            "_model_module_version": "1.5.0",
            "_view_count": null,
            "_view_module_version": "1.5.0",
            "box_style": "",
            "layout": "IPY_MODEL_8488bd7773ac459492921de177373664",
            "_model_module": "@jupyter-widgets/controls",
            "children": [
              "IPY_MODEL_17770d9bb3474f8991022f97fcabb9a5",
              "IPY_MODEL_e9d317d824c04307a6b230ee26e710c2"
            ]
          }
        },
        "8488bd7773ac459492921de177373664": {
          "model_module": "@jupyter-widgets/base",
          "model_name": "LayoutModel",
          "state": {
            "_view_name": "LayoutView",
            "grid_template_rows": null,
            "right": null,
            "justify_content": null,
            "_view_module": "@jupyter-widgets/base",
            "overflow": null,
            "_model_module_version": "1.2.0",
            "_view_count": null,
            "flex_flow": null,
            "width": null,
            "min_width": null,
            "border": null,
            "align_items": null,
            "bottom": null,
            "_model_module": "@jupyter-widgets/base",
            "top": null,
            "grid_column": null,
            "overflow_y": null,
            "overflow_x": null,
            "grid_auto_flow": null,
            "grid_area": null,
            "grid_template_columns": null,
            "flex": null,
            "_model_name": "LayoutModel",
            "justify_items": null,
            "grid_row": null,
            "max_height": null,
            "align_content": null,
            "visibility": null,
            "align_self": null,
            "height": null,
            "min_height": null,
            "padding": null,
            "grid_auto_rows": null,
            "grid_gap": null,
            "max_width": null,
            "order": null,
            "_view_module_version": "1.2.0",
            "grid_template_areas": null,
            "object_position": null,
            "object_fit": null,
            "grid_auto_columns": null,
            "margin": null,
            "display": null,
            "left": null
          }
        },
        "17770d9bb3474f8991022f97fcabb9a5": {
          "model_module": "@jupyter-widgets/controls",
          "model_name": "FloatProgressModel",
          "state": {
            "_view_name": "ProgressView",
            "style": "IPY_MODEL_c30ddc7364a646d4abff25edffe99cf9",
            "_dom_classes": [],
            "description": "100%",
            "_model_name": "FloatProgressModel",
            "bar_style": "success",
            "max": 5000,
            "_view_module": "@jupyter-widgets/controls",
            "_model_module_version": "1.5.0",
            "value": 5000,
            "_view_count": null,
            "_view_module_version": "1.5.0",
            "orientation": "horizontal",
            "min": 0,
            "description_tooltip": null,
            "_model_module": "@jupyter-widgets/controls",
            "layout": "IPY_MODEL_26f4730d83c6490f9f9a817c45efa221"
          }
        },
        "e9d317d824c04307a6b230ee26e710c2": {
          "model_module": "@jupyter-widgets/controls",
          "model_name": "HTMLModel",
          "state": {
            "_view_name": "HTMLView",
            "style": "IPY_MODEL_11c01714ec6b4dab86015e391baf468f",
            "_dom_classes": [],
            "description": "",
            "_model_name": "HTMLModel",
            "placeholder": "​",
            "_view_module": "@jupyter-widgets/controls",
            "_model_module_version": "1.5.0",
            "value": " 5000/5000 [00:46&lt;00:00, 106.98it/s]",
            "_view_count": null,
            "_view_module_version": "1.5.0",
            "description_tooltip": null,
            "_model_module": "@jupyter-widgets/controls",
            "layout": "IPY_MODEL_e8e97d110c8e49d58fc44c027b748a03"
          }
        },
        "c30ddc7364a646d4abff25edffe99cf9": {
          "model_module": "@jupyter-widgets/controls",
          "model_name": "ProgressStyleModel",
          "state": {
            "_view_name": "StyleView",
            "_model_name": "ProgressStyleModel",
            "description_width": "initial",
            "_view_module": "@jupyter-widgets/base",
            "_model_module_version": "1.5.0",
            "_view_count": null,
            "_view_module_version": "1.2.0",
            "bar_color": null,
            "_model_module": "@jupyter-widgets/controls"
          }
        },
        "26f4730d83c6490f9f9a817c45efa221": {
          "model_module": "@jupyter-widgets/base",
          "model_name": "LayoutModel",
          "state": {
            "_view_name": "LayoutView",
            "grid_template_rows": null,
            "right": null,
            "justify_content": null,
            "_view_module": "@jupyter-widgets/base",
            "overflow": null,
            "_model_module_version": "1.2.0",
            "_view_count": null,
            "flex_flow": null,
            "width": null,
            "min_width": null,
            "border": null,
            "align_items": null,
            "bottom": null,
            "_model_module": "@jupyter-widgets/base",
            "top": null,
            "grid_column": null,
            "overflow_y": null,
            "overflow_x": null,
            "grid_auto_flow": null,
            "grid_area": null,
            "grid_template_columns": null,
            "flex": null,
            "_model_name": "LayoutModel",
            "justify_items": null,
            "grid_row": null,
            "max_height": null,
            "align_content": null,
            "visibility": null,
            "align_self": null,
            "height": null,
            "min_height": null,
            "padding": null,
            "grid_auto_rows": null,
            "grid_gap": null,
            "max_width": null,
            "order": null,
            "_view_module_version": "1.2.0",
            "grid_template_areas": null,
            "object_position": null,
            "object_fit": null,
            "grid_auto_columns": null,
            "margin": null,
            "display": null,
            "left": null
          }
        },
        "11c01714ec6b4dab86015e391baf468f": {
          "model_module": "@jupyter-widgets/controls",
          "model_name": "DescriptionStyleModel",
          "state": {
            "_view_name": "StyleView",
            "_model_name": "DescriptionStyleModel",
            "description_width": "",
            "_view_module": "@jupyter-widgets/base",
            "_model_module_version": "1.5.0",
            "_view_count": null,
            "_view_module_version": "1.2.0",
            "_model_module": "@jupyter-widgets/controls"
          }
        },
        "e8e97d110c8e49d58fc44c027b748a03": {
          "model_module": "@jupyter-widgets/base",
          "model_name": "LayoutModel",
          "state": {
            "_view_name": "LayoutView",
            "grid_template_rows": null,
            "right": null,
            "justify_content": null,
            "_view_module": "@jupyter-widgets/base",
            "overflow": null,
            "_model_module_version": "1.2.0",
            "_view_count": null,
            "flex_flow": null,
            "width": null,
            "min_width": null,
            "border": null,
            "align_items": null,
            "bottom": null,
            "_model_module": "@jupyter-widgets/base",
            "top": null,
            "grid_column": null,
            "overflow_y": null,
            "overflow_x": null,
            "grid_auto_flow": null,
            "grid_area": null,
            "grid_template_columns": null,
            "flex": null,
            "_model_name": "LayoutModel",
            "justify_items": null,
            "grid_row": null,
            "max_height": null,
            "align_content": null,
            "visibility": null,
            "align_self": null,
            "height": null,
            "min_height": null,
            "padding": null,
            "grid_auto_rows": null,
            "grid_gap": null,
            "max_width": null,
            "order": null,
            "_view_module_version": "1.2.0",
            "grid_template_areas": null,
            "object_position": null,
            "object_fit": null,
            "grid_auto_columns": null,
            "margin": null,
            "display": null,
            "left": null
          }
        },
        "aa4e53ef96ac4bd3a6d0a799c0ec87d0": {
          "model_module": "@jupyter-widgets/controls",
          "model_name": "HBoxModel",
          "state": {
            "_view_name": "HBoxView",
            "_dom_classes": [],
            "_model_name": "HBoxModel",
            "_view_module": "@jupyter-widgets/controls",
            "_model_module_version": "1.5.0",
            "_view_count": null,
            "_view_module_version": "1.5.0",
            "box_style": "",
            "layout": "IPY_MODEL_864323bc67514da7b89f7d6e2e3eff0d",
            "_model_module": "@jupyter-widgets/controls",
            "children": [
              "IPY_MODEL_bc4b6046471949498bac38170e291488",
              "IPY_MODEL_728ab508b7eb40e995ecdb8bd107492e"
            ]
          }
        },
        "864323bc67514da7b89f7d6e2e3eff0d": {
          "model_module": "@jupyter-widgets/base",
          "model_name": "LayoutModel",
          "state": {
            "_view_name": "LayoutView",
            "grid_template_rows": null,
            "right": null,
            "justify_content": null,
            "_view_module": "@jupyter-widgets/base",
            "overflow": null,
            "_model_module_version": "1.2.0",
            "_view_count": null,
            "flex_flow": null,
            "width": null,
            "min_width": null,
            "border": null,
            "align_items": null,
            "bottom": null,
            "_model_module": "@jupyter-widgets/base",
            "top": null,
            "grid_column": null,
            "overflow_y": null,
            "overflow_x": null,
            "grid_auto_flow": null,
            "grid_area": null,
            "grid_template_columns": null,
            "flex": null,
            "_model_name": "LayoutModel",
            "justify_items": null,
            "grid_row": null,
            "max_height": null,
            "align_content": null,
            "visibility": null,
            "align_self": null,
            "height": null,
            "min_height": null,
            "padding": null,
            "grid_auto_rows": null,
            "grid_gap": null,
            "max_width": null,
            "order": null,
            "_view_module_version": "1.2.0",
            "grid_template_areas": null,
            "object_position": null,
            "object_fit": null,
            "grid_auto_columns": null,
            "margin": null,
            "display": null,
            "left": null
          }
        },
        "bc4b6046471949498bac38170e291488": {
          "model_module": "@jupyter-widgets/controls",
          "model_name": "FloatProgressModel",
          "state": {
            "_view_name": "ProgressView",
            "style": "IPY_MODEL_0a248029e3c04448b3bd058069019840",
            "_dom_classes": [],
            "description": "100%",
            "_model_name": "FloatProgressModel",
            "bar_style": "success",
            "max": 200,
            "_view_module": "@jupyter-widgets/controls",
            "_model_module_version": "1.5.0",
            "value": 200,
            "_view_count": null,
            "_view_module_version": "1.5.0",
            "orientation": "horizontal",
            "min": 0,
            "description_tooltip": null,
            "_model_module": "@jupyter-widgets/controls",
            "layout": "IPY_MODEL_b3e2d09bac7e4bd2b9379410ef21b103"
          }
        },
        "728ab508b7eb40e995ecdb8bd107492e": {
          "model_module": "@jupyter-widgets/controls",
          "model_name": "HTMLModel",
          "state": {
            "_view_name": "HTMLView",
            "style": "IPY_MODEL_e762d947d6de43b282ae1e54503eea47",
            "_dom_classes": [],
            "description": "",
            "_model_name": "HTMLModel",
            "placeholder": "​",
            "_view_module": "@jupyter-widgets/controls",
            "_model_module_version": "1.5.0",
            "value": " 200/200 [02:14&lt;00:00,  1.48it/s]",
            "_view_count": null,
            "_view_module_version": "1.5.0",
            "description_tooltip": null,
            "_model_module": "@jupyter-widgets/controls",
            "layout": "IPY_MODEL_278cf1166b464674970c046b75051768"
          }
        },
        "0a248029e3c04448b3bd058069019840": {
          "model_module": "@jupyter-widgets/controls",
          "model_name": "ProgressStyleModel",
          "state": {
            "_view_name": "StyleView",
            "_model_name": "ProgressStyleModel",
            "description_width": "initial",
            "_view_module": "@jupyter-widgets/base",
            "_model_module_version": "1.5.0",
            "_view_count": null,
            "_view_module_version": "1.2.0",
            "bar_color": null,
            "_model_module": "@jupyter-widgets/controls"
          }
        },
        "b3e2d09bac7e4bd2b9379410ef21b103": {
          "model_module": "@jupyter-widgets/base",
          "model_name": "LayoutModel",
          "state": {
            "_view_name": "LayoutView",
            "grid_template_rows": null,
            "right": null,
            "justify_content": null,
            "_view_module": "@jupyter-widgets/base",
            "overflow": null,
            "_model_module_version": "1.2.0",
            "_view_count": null,
            "flex_flow": null,
            "width": null,
            "min_width": null,
            "border": null,
            "align_items": null,
            "bottom": null,
            "_model_module": "@jupyter-widgets/base",
            "top": null,
            "grid_column": null,
            "overflow_y": null,
            "overflow_x": null,
            "grid_auto_flow": null,
            "grid_area": null,
            "grid_template_columns": null,
            "flex": null,
            "_model_name": "LayoutModel",
            "justify_items": null,
            "grid_row": null,
            "max_height": null,
            "align_content": null,
            "visibility": null,
            "align_self": null,
            "height": null,
            "min_height": null,
            "padding": null,
            "grid_auto_rows": null,
            "grid_gap": null,
            "max_width": null,
            "order": null,
            "_view_module_version": "1.2.0",
            "grid_template_areas": null,
            "object_position": null,
            "object_fit": null,
            "grid_auto_columns": null,
            "margin": null,
            "display": null,
            "left": null
          }
        },
        "e762d947d6de43b282ae1e54503eea47": {
          "model_module": "@jupyter-widgets/controls",
          "model_name": "DescriptionStyleModel",
          "state": {
            "_view_name": "StyleView",
            "_model_name": "DescriptionStyleModel",
            "description_width": "",
            "_view_module": "@jupyter-widgets/base",
            "_model_module_version": "1.5.0",
            "_view_count": null,
            "_view_module_version": "1.2.0",
            "_model_module": "@jupyter-widgets/controls"
          }
        },
        "278cf1166b464674970c046b75051768": {
          "model_module": "@jupyter-widgets/base",
          "model_name": "LayoutModel",
          "state": {
            "_view_name": "LayoutView",
            "grid_template_rows": null,
            "right": null,
            "justify_content": null,
            "_view_module": "@jupyter-widgets/base",
            "overflow": null,
            "_model_module_version": "1.2.0",
            "_view_count": null,
            "flex_flow": null,
            "width": null,
            "min_width": null,
            "border": null,
            "align_items": null,
            "bottom": null,
            "_model_module": "@jupyter-widgets/base",
            "top": null,
            "grid_column": null,
            "overflow_y": null,
            "overflow_x": null,
            "grid_auto_flow": null,
            "grid_area": null,
            "grid_template_columns": null,
            "flex": null,
            "_model_name": "LayoutModel",
            "justify_items": null,
            "grid_row": null,
            "max_height": null,
            "align_content": null,
            "visibility": null,
            "align_self": null,
            "height": null,
            "min_height": null,
            "padding": null,
            "grid_auto_rows": null,
            "grid_gap": null,
            "max_width": null,
            "order": null,
            "_view_module_version": "1.2.0",
            "grid_template_areas": null,
            "object_position": null,
            "object_fit": null,
            "grid_auto_columns": null,
            "margin": null,
            "display": null,
            "left": null
          }
        }
      }
    }
  },
  "cells": [
    {
      "cell_type": "markdown",
      "metadata": {
        "id": "view-in-github",
        "colab_type": "text"
      },
      "source": [
        "<a href=\"https://colab.research.google.com/github/erezimm/ML-ML/blob/master/GNN_final_project_sam.ipynb\" target=\"_parent\"><img src=\"https://colab.research.google.com/assets/colab-badge.svg\" alt=\"Open In Colab\"/></a>"
      ]
    },
    {
      "cell_type": "markdown",
      "metadata": {
        "id": "OCU4DoTLIIoO",
        "colab_type": "text"
      },
      "source": [
        "# Main notebook, to be run on Google Colab"
      ]
    },
    {
      "cell_type": "markdown",
      "metadata": {
        "id": "PWYU8-BTJ-XN",
        "colab_type": "text"
      },
      "source": [
        "## Import dependencies and download dataset"
      ]
    },
    {
      "cell_type": "code",
      "metadata": {
        "id": "L5E9Y_nnn3m8",
        "colab_type": "code",
        "colab": {
          "base_uri": "https://localhost:8080/",
          "height": 484
        },
        "outputId": "a3cbb504-6f20-452a-bda3-de68518541c4"
      },
      "source": [
        "!pip install dgl\n",
        "\n",
        "import glob\n",
        "import os\n",
        "import shutil\n",
        "from datetime import datetime\n",
        "\n",
        "import astropy.io.ascii\n",
        "import dgl\n",
        "import matplotlib.pyplot as plt\n",
        "import networkx as nx\n",
        "import numpy as np\n",
        "import torch\n",
        "import torch.nn as nn\n",
        "import torch.optim as optim\n",
        "from torch.utils.data import Dataset, DataLoader\n",
        "from tqdm.notebook import tqdm\n",
        "\n",
        "if not torch.cuda.is_available():\n",
        "    raise Exception('Cuda unavailable, turn it on under Runtime>Change runtime type>GPU')\n",
        "device = torch.device('cpu')\n",
        "\n",
        "training_path = '/content/training_set'\n",
        "validation_path = '/content/validation_set'\n",
        "for path in (training_path, validation_path):\n",
        "    if not os.path.isdir(path):\n",
        "        os.makedirs(path)\n",
        "\n",
        "!wget -O data.zip https://github.com/erezimm/ML-ML/raw/master/data.zip\n",
        "!unzip -o -q data.zip -d /content/\n",
        "data_path = '/content/data'\n",
        "microlist = glob.glob(data_path+'/microlensedconst_*')\n",
        "varlist = glob.glob(data_path+'/cleanvar_*')\n",
        "for typelist in (microlist, varlist):\n",
        "    for i, f in enumerate(typelist):\n",
        "        dest = training_path if i<len(microlist)/2 else validation_path\n",
        "        shutil.move(f, os.path.join(dest, os.path.basename(f)))"
      ],
      "execution_count": 1,
      "outputs": [
        {
          "output_type": "stream",
          "text": [
            "Requirement already satisfied: dgl in /usr/local/lib/python3.6/dist-packages (0.4.3.post2)\n",
            "Requirement already satisfied: requests>=2.19.0 in /usr/local/lib/python3.6/dist-packages (from dgl) (2.23.0)\n",
            "Requirement already satisfied: scipy>=1.1.0 in /usr/local/lib/python3.6/dist-packages (from dgl) (1.4.1)\n",
            "Requirement already satisfied: numpy>=1.14.0 in /usr/local/lib/python3.6/dist-packages (from dgl) (1.18.5)\n",
            "Requirement already satisfied: networkx>=2.1 in /usr/local/lib/python3.6/dist-packages (from dgl) (2.4)\n",
            "Requirement already satisfied: certifi>=2017.4.17 in /usr/local/lib/python3.6/dist-packages (from requests>=2.19.0->dgl) (2020.6.20)\n",
            "Requirement already satisfied: chardet<4,>=3.0.2 in /usr/local/lib/python3.6/dist-packages (from requests>=2.19.0->dgl) (3.0.4)\n",
            "Requirement already satisfied: idna<3,>=2.5 in /usr/local/lib/python3.6/dist-packages (from requests>=2.19.0->dgl) (2.10)\n",
            "Requirement already satisfied: urllib3!=1.25.0,!=1.25.1,<1.26,>=1.21.1 in /usr/local/lib/python3.6/dist-packages (from requests>=2.19.0->dgl) (1.24.3)\n",
            "Requirement already satisfied: decorator>=4.3.0 in /usr/local/lib/python3.6/dist-packages (from networkx>=2.1->dgl) (4.4.2)\n"
          ],
          "name": "stdout"
        },
        {
          "output_type": "stream",
          "text": [
            "Using backend: pytorch\n"
          ],
          "name": "stderr"
        },
        {
          "output_type": "stream",
          "text": [
            "--2020-08-16 11:37:22--  https://github.com/erezimm/ML-ML/raw/master/data.zip\n",
            "Resolving github.com (github.com)... 140.82.118.3\n",
            "Connecting to github.com (github.com)|140.82.118.3|:443... connected.\n",
            "HTTP request sent, awaiting response... 302 Found\n",
            "Location: https://raw.githubusercontent.com/erezimm/ML-ML/master/data.zip [following]\n",
            "--2020-08-16 11:37:22--  https://raw.githubusercontent.com/erezimm/ML-ML/master/data.zip\n",
            "Resolving raw.githubusercontent.com (raw.githubusercontent.com)... 151.101.0.133, 151.101.64.133, 151.101.128.133, ...\n",
            "Connecting to raw.githubusercontent.com (raw.githubusercontent.com)|151.101.0.133|:443... connected.\n",
            "HTTP request sent, awaiting response... 200 OK\n",
            "Length: 6541642 (6.2M) [application/zip]\n",
            "Saving to: ‘data.zip’\n",
            "\n",
            "\rdata.zip              0%[                    ]       0  --.-KB/s               \rdata.zip            100%[===================>]   6.24M  --.-KB/s    in 0.1s    \n",
            "\n",
            "2020-08-16 11:37:23 (44.2 MB/s) - ‘data.zip’ saved [6541642/6541642]\n",
            "\n"
          ],
          "name": "stdout"
        }
      ]
    },
    {
      "cell_type": "markdown",
      "metadata": {
        "id": "ff2ASGtVn3nB",
        "colab_type": "text"
      },
      "source": [
        "## Create Datasets\n",
        "Class CustomDataset loads all files and converts them to a list of graphs.\n",
        "Each node in a graph is a data point, i.e. node features are days since start, mag, magerr"
      ]
    },
    {
      "cell_type": "code",
      "metadata": {
        "id": "zSLI4uNYn3nB",
        "colab_type": "code",
        "colab": {
          "base_uri": "https://localhost:8080/",
          "height": 469,
          "referenced_widgets": [
            "4f29fe7d99d94c39b9188d92f05ff2b0",
            "5f37f648bf9046ceb4f099fc8c18259d",
            "2e13c1d9b121472f99e0717d7963a8e2",
            "3e691790499242498e026de6d56564b6",
            "e0c1c81a9dd5411798710dd10bafeae6",
            "58e23df4079f4021bf89d0274b251966",
            "c1b80eb0bc9246eab35f48d47d9f21fa",
            "37676259eb9c4755b5458e5d825510dd",
            "3f4ee1473c084256b287ba132015be2b",
            "8488bd7773ac459492921de177373664",
            "17770d9bb3474f8991022f97fcabb9a5",
            "e9d317d824c04307a6b230ee26e710c2",
            "c30ddc7364a646d4abff25edffe99cf9",
            "26f4730d83c6490f9f9a817c45efa221",
            "11c01714ec6b4dab86015e391baf468f",
            "e8e97d110c8e49d58fc44c027b748a03"
          ]
        },
        "outputId": "3856ff68-461a-4adb-b59b-3b6123e97ab6"
      },
      "source": [
        "class CustomDataset(Dataset):\n",
        "    def __init__(self, path):\n",
        "        filelist = glob.glob(path+'/*')\n",
        "        \n",
        "        self.graphs = []\n",
        "        self.isMicrolensed = []\n",
        "        for fname in tqdm(filelist):\n",
        "            filebasename = os.path.basename(fname)\n",
        "            if filebasename.startswith('cleanvar'):\n",
        "                microlensed = torch.tensor([0])\n",
        "            elif filebasename.startswith('microlensedconst'):\n",
        "                microlensed = torch.tensor([1])\n",
        "            else:\n",
        "                raise Exception('Filename ' + fname + ' not clean_* or microlensed_*')\n",
        "            \n",
        "            with open(fname) as f:\n",
        "                data = astropy.io.ascii.read(f.read())\n",
        "                times, mags, magerrs = data['col1'], [], data['col3']\n",
        "                for m, err in zip(data['col2'], magerrs):\n",
        "                    mags.append(round(m, len(str(err).split('.')[1])))\n",
        "                zipped = list(zip(times, mags, magerrs))\n",
        "                zipped.sort(key=lambda tup: tup[0])\n",
        "                times, mags, magerrs = zip(*zipped)\n",
        "                times, mags, magerrs =torch.tensor(times), torch.tensor(mags), torch.tensor(magerrs)\n",
        "                \n",
        "                times = times - min(times)\n",
        "                flux = 10 ** (mags/(-2.5))\n",
        "                medflux = torch.median(flux)\n",
        "                flux = flux/medflux\n",
        "                fluxerr = flux * magerrs * np.log(10) * 0.4 / medflux\n",
        "\n",
        "                n = len(times)\n",
        "                g = dgl.DGLGraph()\n",
        "                g.add_nodes(n)\n",
        "                g.ndata['time'] = torch.tensor(times).float()  # days\n",
        "                g.ndata['mag'] = torch.tensor(flux).float()\n",
        "                g.ndata['magerr'] = torch.tensor(fluxerr).float()\n",
        "\n",
        "\n",
        "                #g.add_edges([i for i in range(n)], [(i+1)%n for i in range(n)])\n",
        "                #g.add_edges([i for i in range(n)], [(i-1)%n for i in range(n)])\n",
        "                \n",
        "                self.graphs.append(g)\n",
        "                self.isMicrolensed.append(microlensed)\n",
        "        \n",
        "    def __len__(self):\n",
        "        return len(self.graphs)\n",
        "\n",
        "    def __getitem__(self, idx):\n",
        "        return self.graphs[idx], self.isMicrolensed[idx]\n",
        "\n",
        "\n",
        "train_ds = CustomDataset(training_path)\n",
        "validation_ds = CustomDataset(validation_path)\n",
        "\n",
        "nx.draw(dgl.to_networkx(train_ds[20][0]))"
      ],
      "execution_count": 2,
      "outputs": [
        {
          "output_type": "display_data",
          "data": {
            "application/vnd.jupyter.widget-view+json": {
              "model_id": "4f29fe7d99d94c39b9188d92f05ff2b0",
              "version_minor": 0,
              "version_major": 2
            },
            "text/plain": [
              "HBox(children=(FloatProgress(value=0.0, max=5000.0), HTML(value='')))"
            ]
          },
          "metadata": {
            "tags": []
          }
        },
        {
          "output_type": "stream",
          "text": [
            "/usr/local/lib/python3.6/dist-packages/ipykernel_launcher.py:35: UserWarning: To copy construct from a tensor, it is recommended to use sourceTensor.clone().detach() or sourceTensor.clone().detach().requires_grad_(True), rather than torch.tensor(sourceTensor).\n",
            "/usr/local/lib/python3.6/dist-packages/ipykernel_launcher.py:36: UserWarning: To copy construct from a tensor, it is recommended to use sourceTensor.clone().detach() or sourceTensor.clone().detach().requires_grad_(True), rather than torch.tensor(sourceTensor).\n",
            "/usr/local/lib/python3.6/dist-packages/ipykernel_launcher.py:37: UserWarning: To copy construct from a tensor, it is recommended to use sourceTensor.clone().detach() or sourceTensor.clone().detach().requires_grad_(True), rather than torch.tensor(sourceTensor).\n"
          ],
          "name": "stderr"
        },
        {
          "output_type": "stream",
          "text": [
            "\n"
          ],
          "name": "stdout"
        },
        {
          "output_type": "display_data",
          "data": {
            "application/vnd.jupyter.widget-view+json": {
              "model_id": "3f4ee1473c084256b287ba132015be2b",
              "version_minor": 0,
              "version_major": 2
            },
            "text/plain": [
              "HBox(children=(FloatProgress(value=0.0, max=5000.0), HTML(value='')))"
            ]
          },
          "metadata": {
            "tags": []
          }
        },
        {
          "output_type": "stream",
          "text": [
            "\n"
          ],
          "name": "stdout"
        },
        {
          "output_type": "display_data",
          "data": {
            "image/png": "[encoded data removed]",
            "text/plain": [
              "<Figure size 432x288 with 1 Axes>"
            ]
          },
          "metadata": {
            "tags": []
          }
        }
      ]
    },
    {
      "cell_type": "code",
      "metadata": {
        "id": "KnD7mWfjn3nK",
        "colab_type": "code",
        "colab": {}
      },
      "source": [
        "def collate(samples):\n",
        "    # The input `samples` is a list, a batch of whatever comes out of your dataset object\n",
        "    graphs = [x[0] for x in samples]\n",
        "    labels = [x[1] for x in samples]\n",
        "    \n",
        "    batched_graph = dgl.batch(graphs, node_attrs=['time', 'mag', 'magerr'])\n",
        "    targets = torch.cat(labels)\n",
        "    \n",
        "    return batched_graph, targets.unsqueeze(1).float()"
      ],
      "execution_count": 3,
      "outputs": []
    },
    {
      "cell_type": "markdown",
      "metadata": {
        "id": "FGDTIcKIuGW2",
        "colab_type": "text"
      },
      "source": [
        "## The Network"
      ]
    },
    {
      "cell_type": "code",
      "metadata": {
        "id": "soJyGlbvMErI",
        "colab_type": "code",
        "colab": {}
      },
      "source": [
        "layers = [10,10]  # hidden layers in the DeepSetLayer\n",
        "outputsize = 7  # length of the representation passed to the final network\n",
        "cllayers = [10,5,5]  # hidden layers in the final network (takes outputsize, returns a scalar which is the classification)"
      ],
      "execution_count": 4,
      "outputs": []
    },
    {
      "cell_type": "code",
      "metadata": {
        "id": "Xb2gAmYhiELn",
        "colab_type": "code",
        "colab": {}
      },
      "source": [
        "def build_layers(inp,out,sizes):\n",
        "    sizes = [inp]+sizes+[out]\n",
        "    layers = []\n",
        "    for i in range(len(sizes)-1):\n",
        "        layers.extend([nn.Linear(sizes[i], sizes[i+1]), nn.LeakyReLU()])\n",
        "    \n",
        "    return layers"
      ],
      "execution_count": 5,
      "outputs": []
    },
    {
      "cell_type": "code",
      "metadata": {
        "id": "iO90uxpOLy76",
        "colab_type": "code",
        "colab": {}
      },
      "source": [
        "# #Deep Set\n",
        "\n",
        "class DeepSet(nn.Module):\n",
        "\n",
        "    def __init__(self, config):\n",
        "        super(DeepSet, self).__init__()\n",
        "\n",
        "        self.config = config\n",
        "\n",
        "        self.layers = nn.ModuleList()\n",
        "\n",
        "        self.layers.append(DeepSetLayer(config['inputsize'], config['layers'][0], config['inputs'], config['output'] ))\n",
        "\n",
        "        n_layers = len(config['layers'])\n",
        "\n",
        "        for i in range(n_layers - 1):\n",
        "\n",
        "            self.layers.append(DeepSetLayer(config['inputsize']+ config['layers'][i],\n",
        "                                            config['layers'][i+1], \n",
        "                                            config['inputs'] + [config['output']], \n",
        "                                            config['output']))\n",
        "            \n",
        "\n",
        "        self.layers.append(DeepSetLayer(config['inputsize']+ config['layers'][-1],\n",
        "                                            config['outputsize'], \n",
        "                                            config['inputs'] + [config['output']],\n",
        "                                            config['output']))  \n",
        "\n",
        "        layers = build_layers(config['outputsize'], 2, config['cllayers'])  # OFEK chnaged to output=2\n",
        "        self.classifier = nn.Sequential(*(layers+ [nn.Softmax()]))  # OFEK added SoftMax\n",
        "    \n",
        "    def forward(self, g):\n",
        "\n",
        "        for layer in self.layers:\n",
        "            \n",
        "            g = layer(g) \n",
        "\n",
        "        mean_nodes= dgl.mean_nodes(g, 'node_embed', weight = None)\n",
        "        output = self.classifier(mean_nodes)\n",
        "\n",
        "\n",
        "        return output \n"
      ],
      "execution_count": 6,
      "outputs": []
    },
    {
      "cell_type": "code",
      "metadata": {
        "id": "2TODvj6AMLJP",
        "colab_type": "code",
        "colab": {}
      },
      "source": [
        "class DeepSetLayer(nn.Module):\n",
        "    def __init__(self, inputsize, outputsize, inputnames, outputname):\n",
        "        \n",
        "\n",
        "\n",
        "        super(DeepSetLayer,self).__init__()\n",
        "\n",
        "        self.inputs      = inputnames\n",
        "        self.outputname = outputname\n",
        "\n",
        "\n",
        "  \n",
        "\n",
        "        layers = build_layers(inputsize, outputsize, [int(0.5*(outputsize + inputsize)   )])\n",
        "\n",
        "        self.node_embedd = nn.Sequential(*layers)\n",
        "\n",
        "        layers = build_layers(outputsize + inputsize, outputsize,[ int( 0.5*(outputsize + inputsize)) ] )\n",
        "\n",
        "        self.node_update = nn.Sequential(*layers)\n",
        "\n",
        "\n",
        "\n",
        "    def forward(self, g):\n",
        "\n",
        "        gn = [g.ndata[inputname] for inputname in self.inputs]\n",
        "        unsqdim = max(max([len(n.shape) for n in gn]),2)\n",
        "        tocat = []\n",
        "        for n in gn:\n",
        "            t = n\n",
        "            for _ in range(unsqdim-len(n.shape)):\n",
        "                t = t.unsqueeze(-1)\n",
        "            tocat.append(t)\n",
        "            # print(t.shape)\n",
        "        node_data = torch.cat(tocat, dim=1)\n",
        "\n",
        "        g.ndata['node_embed'] = self.node_embedd(node_data)\n",
        "\n",
        "\n",
        "        node_sum = dgl.mean_nodes(g, 'node_embed', weight = None)  #Global representation of graph \n",
        "\n",
        "        g.ndata['mean_nodes'] = dgl.broadcast_nodes(g, node_sum)\n",
        "        \n",
        "        \n",
        "\n",
        "        gn = [g.ndata[inputname] for inputname in self.inputs] + [g.ndata['mean_nodes']]\n",
        "        unsqdim = max(max([len(n.shape) for n in gn]),2)\n",
        "        tocat = []\n",
        "        for n in gn:\n",
        "            t = n\n",
        "            for _ in range(unsqdim-len(n.shape)):\n",
        "                t = t.unsqueeze(-1)\n",
        "            tocat.append(t)\n",
        "            # print(t.shape)\n",
        "        node_update_input = torch.cat( tocat, dim=1  )\n",
        "\n",
        "        g.ndata[self.outputname] = self.node_update(node_update_input)\n",
        "\n",
        "\n",
        "        return g #contains global information \n"
      ],
      "execution_count": 7,
      "outputs": []
    },
    {
      "cell_type": "code",
      "metadata": {
        "id": "EZc6nI6TkmSC",
        "colab_type": "code",
        "colab": {
          "base_uri": "https://localhost:8080/",
          "height": 1000
        },
        "outputId": "e26683e3-e763-4eba-b438-4f6670a97c6d"
      },
      "source": [
        "net = DeepSet({'inputsize':3 , 'outputsize':outputsize, 'inputs':['time', 'mag', 'magerr'], 'output':'finalrep', 'layers':layers, 'cllayers':cllayers})\n",
        "net.to(device)"
      ],
      "execution_count": 40,
      "outputs": [
        {
          "output_type": "execute_result",
          "data": {
            "text/plain": [
              "DeepSet(\n",
              "  (layers): ModuleList(\n",
              "    (0): DeepSetLayer(\n",
              "      (node_embedd): Sequential(\n",
              "        (0): Linear(in_features=3, out_features=6, bias=True)\n",
              "        (1): LeakyReLU(negative_slope=0.01)\n",
              "        (2): Linear(in_features=6, out_features=10, bias=True)\n",
              "        (3): LeakyReLU(negative_slope=0.01)\n",
              "      )\n",
              "      (node_update): Sequential(\n",
              "        (0): Linear(in_features=13, out_features=6, bias=True)\n",
              "        (1): LeakyReLU(negative_slope=0.01)\n",
              "        (2): Linear(in_features=6, out_features=10, bias=True)\n",
              "        (3): LeakyReLU(negative_slope=0.01)\n",
              "      )\n",
              "    )\n",
              "    (1): DeepSetLayer(\n",
              "      (node_embedd): Sequential(\n",
              "        (0): Linear(in_features=13, out_features=11, bias=True)\n",
              "        (1): LeakyReLU(negative_slope=0.01)\n",
              "        (2): Linear(in_features=11, out_features=10, bias=True)\n",
              "        (3): LeakyReLU(negative_slope=0.01)\n",
              "      )\n",
              "      (node_update): Sequential(\n",
              "        (0): Linear(in_features=23, out_features=11, bias=True)\n",
              "        (1): LeakyReLU(negative_slope=0.01)\n",
              "        (2): Linear(in_features=11, out_features=10, bias=True)\n",
              "        (3): LeakyReLU(negative_slope=0.01)\n",
              "      )\n",
              "    )\n",
              "    (2): DeepSetLayer(\n",
              "      (node_embedd): Sequential(\n",
              "        (0): Linear(in_features=13, out_features=10, bias=True)\n",
              "        (1): LeakyReLU(negative_slope=0.01)\n",
              "        (2): Linear(in_features=10, out_features=7, bias=True)\n",
              "        (3): LeakyReLU(negative_slope=0.01)\n",
              "      )\n",
              "      (node_update): Sequential(\n",
              "        (0): Linear(in_features=20, out_features=10, bias=True)\n",
              "        (1): LeakyReLU(negative_slope=0.01)\n",
              "        (2): Linear(in_features=10, out_features=7, bias=True)\n",
              "        (3): LeakyReLU(negative_slope=0.01)\n",
              "      )\n",
              "    )\n",
              "  )\n",
              "  (classifier): Sequential(\n",
              "    (0): Linear(in_features=7, out_features=10, bias=True)\n",
              "    (1): LeakyReLU(negative_slope=0.01)\n",
              "    (2): Linear(in_features=10, out_features=5, bias=True)\n",
              "    (3): LeakyReLU(negative_slope=0.01)\n",
              "    (4): Linear(in_features=5, out_features=5, bias=True)\n",
              "    (5): LeakyReLU(negative_slope=0.01)\n",
              "    (6): Linear(in_features=5, out_features=2, bias=True)\n",
              "    (7): LeakyReLU(negative_slope=0.01)\n",
              "    (8): Softmax(dim=None)\n",
              "  )\n",
              ")"
            ]
          },
          "metadata": {
            "tags": []
          },
          "execution_count": 40
        }
      ]
    },
    {
      "cell_type": "markdown",
      "metadata": {
        "id": "6x-ALDRlwBDo",
        "colab_type": "text"
      },
      "source": [
        "## Train"
      ]
    },
    {
      "cell_type": "code",
      "metadata": {
        "id": "XgrXh0Jdn3nb",
        "colab_type": "code",
        "colab": {}
      },
      "source": [
        "def evaluate(net, validation_ds):\n",
        "    test_data_loader = DataLoader(validation_ds, batch_size=1000, shuffle=True, collate_fn=collate)\n",
        "\n",
        "    net.cpu()\n",
        "    net.eval()\n",
        "\n",
        "    true_positive = 0\n",
        "    false_positive = 0\n",
        "    true_negative = 0\n",
        "    false_negative = 0\n",
        "    total_positives = 0\n",
        "    total_negatives = 0\n",
        "\n",
        "    for i, (x,y) in enumerate(test_data_loader):\n",
        "            y = y.data.numpy()\n",
        "            y = y.transpose()\n",
        "            prediction = net(x).cpu().data.numpy()\n",
        "            pred = (prediction[:,1]>prediction[:,0])\n",
        "            \n",
        "            total_positives+=len(np.where( y==1 )[0])\n",
        "            total_negatives+=len(np.where( y==0 )[0])\n",
        "            \n",
        "\n",
        "            true_positive+= len(np.where( (pred==1) & (y==1) )[0])\n",
        "            false_positive+= len(np.where( (pred==1) & (y==0) )[0])\n",
        "    # print(pred, prediction, y)\n",
        "    print('Probability of detection:', true_positive/total_positives)  # probability of recognizing a microlensing when you see it\n",
        "    print('Probability of false alarm:', false_positive/total_negatives)  # probability for misclassification of a variable star as microlensing"
      ],
      "execution_count": 41,
      "outputs": []
    },
    {
      "cell_type": "code",
      "metadata": {
        "id": "dBHUZcTcXPO5",
        "colab_type": "code",
        "colab": {
          "base_uri": "https://localhost:8080/",
          "height": 1000,
          "referenced_widgets": [
            "aa4e53ef96ac4bd3a6d0a799c0ec87d0",
            "864323bc67514da7b89f7d6e2e3eff0d",
            "bc4b6046471949498bac38170e291488",
            "728ab508b7eb40e995ecdb8bd107492e",
            "0a248029e3c04448b3bd058069019840",
            "b3e2d09bac7e4bd2b9379410ef21b103",
            "e762d947d6de43b282ae1e54503eea47",
            "278cf1166b464674970c046b75051768"
          ]
        },
        "outputId": "a2b307a8-0148-4f2e-dbd1-d1519b274c0c"
      },
      "source": [
        "# options:\n",
        "# loss_func = nn.BCEWithLogitsLoss()\n",
        "# loss_func = nn.L1Loss()\n",
        "loss_func = nn.CrossEntropyLoss()\n",
        "#optimizer = optim.Adadelta(net.parameters(), lr=1)\n",
        "#optimizer = optim.SGD(net.parameters(), lr=0.01)\n",
        "optimizer = optim.Adam(net.parameters(), lr=0.001)\n",
        "exp_lr_scheduler = torch.optim.lr_scheduler.StepLR(optimizer, step_size=20, gamma=0.5)\n",
        "\n",
        "n_epochs = 200\n",
        "\n",
        "losses = []\n",
        "\n",
        "data_loader = DataLoader(train_ds, batch_size=1000, shuffle=True, collate_fn=collate)\n",
        "for epoch in tqdm(range(n_epochs)):\n",
        "    net.train()\n",
        "    this_losses = []\n",
        "    for x,y in data_loader:\n",
        "        x, y = x.to(device), y.to(device)\n",
        "        optimizer.zero_grad()\n",
        "        output = net(x)\n",
        "        # print(output)\n",
        "        # output = torch.cat((1-output, output), dim=1)\n",
        "        # print(output)\n",
        "        loss = loss_func(output.squeeze(), y.long().squeeze())\n",
        "        this_losses.append(float(loss))\n",
        "        loss.backward()\n",
        "        optimizer.step()\n",
        "\n",
        "    losses.append(np.mean(this_losses))\n",
        "    print('Epoch:', epoch, 'Loss:', round(losses[-1], 4))  # for some real-time indication (couldn't manage to get this to dynamically plot)\n"
      ],
      "execution_count": 42,
      "outputs": [
        {
          "output_type": "display_data",
          "data": {
            "application/vnd.jupyter.widget-view+json": {
              "model_id": "aa4e53ef96ac4bd3a6d0a799c0ec87d0",
              "version_minor": 0,
              "version_major": 2
            },
            "text/plain": [
              "HBox(children=(FloatProgress(value=0.0, max=200.0), HTML(value='')))"
            ]
          },
          "metadata": {
            "tags": []
          }
        },
        {
          "output_type": "stream",
          "text": [
            "/usr/local/lib/python3.6/dist-packages/torch/nn/modules/container.py:117: UserWarning: Implicit dimension choice for softmax has been deprecated. Change the call to include dim=X as an argument.\n",
            "  input = module(input)\n"
          ],
          "name": "stderr"
        },
        {
          "output_type": "stream",
          "text": [
            "Epoch: 0 Loss: 0.8116\n",
            "Epoch: 1 Loss: 0.8102\n",
            "Epoch: 2 Loss: 0.8081\n",
            "Epoch: 3 Loss: 0.7999\n",
            "Epoch: 4 Loss: 0.7102\n",
            "Epoch: 5 Loss: 0.686\n",
            "Epoch: 6 Loss: 0.7196\n",
            "Epoch: 7 Loss: 0.6662\n",
            "Epoch: 8 Loss: 0.6767\n",
            "Epoch: 9 Loss: 0.6807\n",
            "Epoch: 10 Loss: 0.6793\n",
            "Epoch: 11 Loss: 0.6741\n",
            "Epoch: 12 Loss: 0.6665\n",
            "Epoch: 13 Loss: 0.6615\n",
            "Epoch: 14 Loss: 0.6624\n",
            "Epoch: 15 Loss: 0.6606\n",
            "Epoch: 16 Loss: 0.661\n",
            "Epoch: 17 Loss: 0.6601\n",
            "Epoch: 18 Loss: 0.6602\n",
            "Epoch: 19 Loss: 0.6601\n",
            "Epoch: 20 Loss: 0.66\n",
            "Epoch: 21 Loss: 0.66\n",
            "Epoch: 22 Loss: 0.6599\n",
            "Epoch: 23 Loss: 0.6599\n",
            "Epoch: 24 Loss: 0.6599\n",
            "Epoch: 25 Loss: 0.6598\n",
            "Epoch: 26 Loss: 0.6598\n",
            "Epoch: 27 Loss: 0.6597\n",
            "Epoch: 28 Loss: 0.6597\n",
            "Epoch: 29 Loss: 0.6596\n",
            "Epoch: 30 Loss: 0.6596\n",
            "Epoch: 31 Loss: 0.6595\n",
            "Epoch: 32 Loss: 0.6594\n",
            "Epoch: 33 Loss: 0.6593\n",
            "Epoch: 34 Loss: 0.6592\n",
            "Epoch: 35 Loss: 0.6591\n",
            "Epoch: 36 Loss: 0.659\n",
            "Epoch: 37 Loss: 0.6589\n",
            "Epoch: 38 Loss: 0.6587\n",
            "Epoch: 39 Loss: 0.6586\n",
            "Epoch: 40 Loss: 0.6584\n",
            "Epoch: 41 Loss: 0.6582\n",
            "Epoch: 42 Loss: 0.658\n",
            "Epoch: 43 Loss: 0.6578\n",
            "Epoch: 44 Loss: 0.6574\n",
            "Epoch: 45 Loss: 0.6569\n",
            "Epoch: 46 Loss: 0.6566\n",
            "Epoch: 47 Loss: 0.656\n",
            "Epoch: 48 Loss: 0.6554\n",
            "Epoch: 49 Loss: 0.6547\n",
            "Epoch: 50 Loss: 0.6539\n",
            "Epoch: 51 Loss: 0.6525\n",
            "Epoch: 52 Loss: 0.6511\n",
            "Epoch: 53 Loss: 0.6492\n",
            "Epoch: 54 Loss: 0.6469\n",
            "Epoch: 55 Loss: 0.6442\n",
            "Epoch: 56 Loss: 0.6411\n",
            "Epoch: 57 Loss: 0.6368\n",
            "Epoch: 58 Loss: 0.6318\n",
            "Epoch: 59 Loss: 0.6269\n",
            "Epoch: 60 Loss: 0.6195\n",
            "Epoch: 61 Loss: 0.6097\n",
            "Epoch: 62 Loss: 0.5952\n",
            "Epoch: 63 Loss: 0.5789\n",
            "Epoch: 64 Loss: 0.5605\n",
            "Epoch: 65 Loss: 0.5567\n",
            "Epoch: 66 Loss: 0.5859\n",
            "Epoch: 67 Loss: 0.5827\n",
            "Epoch: 68 Loss: 0.6175\n",
            "Epoch: 69 Loss: 0.7395\n",
            "Epoch: 70 Loss: 0.7325\n",
            "Epoch: 71 Loss: 0.5891\n",
            "Epoch: 72 Loss: 0.5415\n",
            "Epoch: 73 Loss: 0.4821\n",
            "Epoch: 74 Loss: 0.45\n",
            "Epoch: 75 Loss: 0.4569\n",
            "Epoch: 76 Loss: 0.4464\n",
            "Epoch: 77 Loss: 0.429\n",
            "Epoch: 78 Loss: 0.4228\n",
            "Epoch: 79 Loss: 0.4224\n",
            "Epoch: 80 Loss: 0.4179\n",
            "Epoch: 81 Loss: 0.4114\n",
            "Epoch: 82 Loss: 0.4102\n",
            "Epoch: 83 Loss: 0.4255\n",
            "Epoch: 84 Loss: 0.4189\n",
            "Epoch: 85 Loss: 0.4208\n",
            "Epoch: 86 Loss: 0.4121\n",
            "Epoch: 87 Loss: 0.4125\n",
            "Epoch: 88 Loss: 0.4069\n",
            "Epoch: 89 Loss: 0.4142\n",
            "Epoch: 90 Loss: 0.4177\n",
            "Epoch: 91 Loss: 0.4264\n",
            "Epoch: 92 Loss: 0.4159\n",
            "Epoch: 93 Loss: 0.4131\n",
            "Epoch: 94 Loss: 0.4169\n",
            "Epoch: 95 Loss: 0.4107\n",
            "Epoch: 96 Loss: 0.412\n",
            "Epoch: 97 Loss: 0.4197\n",
            "Epoch: 98 Loss: 0.4234\n",
            "Epoch: 99 Loss: 0.4122\n",
            "Epoch: 100 Loss: 0.422\n",
            "Epoch: 101 Loss: 0.4063\n",
            "Epoch: 102 Loss: 0.4094\n",
            "Epoch: 103 Loss: 0.4091\n",
            "Epoch: 104 Loss: 0.4059\n",
            "Epoch: 105 Loss: 0.4016\n",
            "Epoch: 106 Loss: 0.4061\n",
            "Epoch: 107 Loss: 0.408\n",
            "Epoch: 108 Loss: 0.3966\n",
            "Epoch: 109 Loss: 0.4002\n",
            "Epoch: 110 Loss: 0.4035\n",
            "Epoch: 111 Loss: 0.4102\n",
            "Epoch: 112 Loss: 0.4025\n",
            "Epoch: 113 Loss: 0.4017\n",
            "Epoch: 114 Loss: 0.4065\n",
            "Epoch: 115 Loss: 0.4092\n",
            "Epoch: 116 Loss: 0.4178\n",
            "Epoch: 117 Loss: 0.4035\n",
            "Epoch: 118 Loss: 0.4\n",
            "Epoch: 119 Loss: 0.3981\n",
            "Epoch: 120 Loss: 0.4079\n",
            "Epoch: 121 Loss: 0.4093\n",
            "Epoch: 122 Loss: 0.4137\n",
            "Epoch: 123 Loss: 0.4198\n",
            "Epoch: 124 Loss: 0.4171\n",
            "Epoch: 125 Loss: 0.4161\n",
            "Epoch: 126 Loss: 0.4076\n",
            "Epoch: 127 Loss: 0.4105\n",
            "Epoch: 128 Loss: 0.4113\n",
            "Epoch: 129 Loss: 0.4303\n",
            "Epoch: 130 Loss: 0.4098\n",
            "Epoch: 131 Loss: 0.3989\n",
            "Epoch: 132 Loss: 0.3975\n",
            "Epoch: 133 Loss: 0.3996\n",
            "Epoch: 134 Loss: 0.4117\n",
            "Epoch: 135 Loss: 0.4988\n",
            "Epoch: 136 Loss: 0.4411\n",
            "Epoch: 137 Loss: 0.4364\n",
            "Epoch: 138 Loss: 0.536\n",
            "Epoch: 139 Loss: 0.5453\n",
            "Epoch: 140 Loss: 0.4446\n",
            "Epoch: 141 Loss: 0.4327\n",
            "Epoch: 142 Loss: 0.4223\n",
            "Epoch: 143 Loss: 0.4642\n",
            "Epoch: 144 Loss: 0.6742\n",
            "Epoch: 145 Loss: 0.7134\n",
            "Epoch: 146 Loss: 0.6523\n",
            "Epoch: 147 Loss: 0.5687\n",
            "Epoch: 148 Loss: 0.4319\n",
            "Epoch: 149 Loss: 0.4102\n",
            "Epoch: 150 Loss: 0.403\n",
            "Epoch: 151 Loss: 0.4038\n",
            "Epoch: 152 Loss: 0.4128\n",
            "Epoch: 153 Loss: 0.4007\n",
            "Epoch: 154 Loss: 0.3995\n",
            "Epoch: 155 Loss: 0.3959\n",
            "Epoch: 156 Loss: 0.3969\n",
            "Epoch: 157 Loss: 0.3929\n",
            "Epoch: 158 Loss: 0.3931\n",
            "Epoch: 159 Loss: 0.3947\n",
            "Epoch: 160 Loss: 0.4111\n",
            "Epoch: 161 Loss: 0.5227\n",
            "Epoch: 162 Loss: 0.5444\n",
            "Epoch: 163 Loss: 0.4369\n",
            "Epoch: 164 Loss: 0.4417\n",
            "Epoch: 165 Loss: 0.4969\n",
            "Epoch: 166 Loss: 0.4309\n",
            "Epoch: 167 Loss: 0.4151\n",
            "Epoch: 168 Loss: 0.4093\n",
            "Epoch: 169 Loss: 0.4173\n",
            "Epoch: 170 Loss: 0.4016\n",
            "Epoch: 171 Loss: 0.4047\n",
            "Epoch: 172 Loss: 0.3988\n",
            "Epoch: 173 Loss: 0.3958\n",
            "Epoch: 174 Loss: 0.4044\n",
            "Epoch: 175 Loss: 0.4007\n",
            "Epoch: 176 Loss: 0.3911\n",
            "Epoch: 177 Loss: 0.3983\n",
            "Epoch: 178 Loss: 0.4892\n",
            "Epoch: 179 Loss: 0.5514\n",
            "Epoch: 180 Loss: 0.5116\n",
            "Epoch: 181 Loss: 0.4274\n",
            "Epoch: 182 Loss: 0.4948\n",
            "Epoch: 183 Loss: 0.6039\n",
            "Epoch: 184 Loss: 0.6227\n",
            "Epoch: 185 Loss: 0.5684\n",
            "Epoch: 186 Loss: 0.4312\n",
            "Epoch: 187 Loss: 0.4568\n",
            "Epoch: 188 Loss: 0.406\n",
            "Epoch: 189 Loss: 0.4181\n",
            "Epoch: 190 Loss: 0.4145\n",
            "Epoch: 191 Loss: 0.4002\n",
            "Epoch: 192 Loss: 0.406\n",
            "Epoch: 193 Loss: 0.4016\n",
            "Epoch: 194 Loss: 0.3934\n",
            "Epoch: 195 Loss: 0.395\n",
            "Epoch: 196 Loss: 0.4089\n",
            "Epoch: 197 Loss: 0.3965\n",
            "Epoch: 198 Loss: 0.4008\n",
            "Epoch: 199 Loss: 0.395\n",
            "\n"
          ],
          "name": "stdout"
        }
      ]
    },
    {
      "cell_type": "code",
      "metadata": {
        "id": "rU3-bAMS-D-I",
        "colab_type": "code",
        "colab": {
          "base_uri": "https://localhost:8080/",
          "height": 348
        },
        "outputId": "160eac69-a357-4125-9f29-2a2511fae4b4"
      },
      "source": [
        "  # plot the printed losses:\n",
        "losses = np.array(losses)\n",
        "plt.plot(losses[1:],label='training loss')\n",
        "plt.xlabel('Epoch')\n",
        "plt.legend()\n",
        "plt.grid()\n",
        "plt.show()\n",
        "\n",
        "evaluate(net, validation_ds)  # show P_D, P_FA TODO: CHANGE SU IT RUNS"
      ],
      "execution_count": 44,
      "outputs": [
        {
          "output_type": "display_data",
          "data": {
            "image/png": "[encoded data removed]",
            "text/plain": [
              "<Figure size 432x288 with 1 Axes>"
            ]
          },
          "metadata": {
            "tags": [],
            "needs_background": "light"
          }
        },
        {
          "output_type": "stream",
          "text": [
            "/usr/local/lib/python3.6/dist-packages/torch/nn/modules/container.py:117: UserWarning: Implicit dimension choice for softmax has been deprecated. Change the call to include dim=X as an argument.\n",
            "  input = module(input)\n"
          ],
          "name": "stderr"
        },
        {
          "output_type": "stream",
          "text": [
            "Probability of detection: 0.8704\n",
            "Probability of false alarm: 0.044\n"
          ],
          "name": "stdout"
        }
      ]
    },
    {
      "cell_type": "markdown",
      "metadata": {
        "id": "2VfHxWg7aL98",
        "colab_type": "text"
      },
      "source": [
        "## Save\n",
        "Don't forget to download"
      ]
    },
    {
      "cell_type": "code",
      "metadata": {
        "id": "2cVQVmottKTu",
        "colab_type": "code",
        "colab": {}
      },
      "source": [
        "timestamp = datetime.now().strftime(\"%d-%m-%Y_%H-%M-%S\")\n",
        "torch.save(net.state_dict(), 'model_' + timestamp + '.pt')"
      ],
      "execution_count": null,
      "outputs": []
    },
    {
      "cell_type": "code",
      "metadata": {
        "id": "eomLQW_E0eaY",
        "colab_type": "code",
        "colab": {}
      },
      "source": [
        ""
      ],
      "execution_count": null,
      "outputs": []
    }
  ]
}