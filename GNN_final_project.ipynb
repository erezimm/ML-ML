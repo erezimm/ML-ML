{
  "nbformat": 4,
  "nbformat_minor": 0,
  "metadata": {
    "kernelspec": {
      "display_name": "Python 3",
      "language": "python",
      "name": "python3"
    },
    "language_info": {
      "codemirror_mode": {
        "name": "ipython",
        "version": 3
      },
      "file_extension": ".py",
      "mimetype": "text/x-python",
      "name": "python",
      "nbconvert_exporter": "python",
      "pygments_lexer": "ipython3",
      "version": "3.8.2"
    },
    "colab": {
      "name": "GNN final project.ipynb",
      "provenance": [],
      "collapsed_sections": [],
      "toc_visible": true,
      "include_colab_link": true
    },
    "widgets": {
      "application/vnd.jupyter.widget-state+json": {
        "7a1f70be78b0481480f2494ac408099d": {
          "model_module": "@jupyter-widgets/controls",
          "model_name": "HBoxModel",
          "state": {
            "_view_name": "HBoxView",
            "_dom_classes": [],
            "_model_name": "HBoxModel",
            "_view_module": "@jupyter-widgets/controls",
            "_model_module_version": "1.5.0",
            "_view_count": null,
            "_view_module_version": "1.5.0",
            "box_style": "",
            "layout": "IPY_MODEL_cdfeb0eedbc64ce48152f43e44a62221",
            "_model_module": "@jupyter-widgets/controls",
            "children": [
              "IPY_MODEL_e87dfa6738d54ed1a940ddabcc1fd126",
              "IPY_MODEL_a05e5b6453c046c8a27f88de4de4ef0e"
            ]
          }
        },
        "cdfeb0eedbc64ce48152f43e44a62221": {
          "model_module": "@jupyter-widgets/base",
          "model_name": "LayoutModel",
          "state": {
            "_view_name": "LayoutView",
            "grid_template_rows": null,
            "right": null,
            "justify_content": null,
            "_view_module": "@jupyter-widgets/base",
            "overflow": null,
            "_model_module_version": "1.2.0",
            "_view_count": null,
            "flex_flow": null,
            "width": null,
            "min_width": null,
            "border": null,
            "align_items": null,
            "bottom": null,
            "_model_module": "@jupyter-widgets/base",
            "top": null,
            "grid_column": null,
            "overflow_y": null,
            "overflow_x": null,
            "grid_auto_flow": null,
            "grid_area": null,
            "grid_template_columns": null,
            "flex": null,
            "_model_name": "LayoutModel",
            "justify_items": null,
            "grid_row": null,
            "max_height": null,
            "align_content": null,
            "visibility": null,
            "align_self": null,
            "height": null,
            "min_height": null,
            "padding": null,
            "grid_auto_rows": null,
            "grid_gap": null,
            "max_width": null,
            "order": null,
            "_view_module_version": "1.2.0",
            "grid_template_areas": null,
            "object_position": null,
            "object_fit": null,
            "grid_auto_columns": null,
            "margin": null,
            "display": null,
            "left": null
          }
        },
        "e87dfa6738d54ed1a940ddabcc1fd126": {
          "model_module": "@jupyter-widgets/controls",
          "model_name": "FloatProgressModel",
          "state": {
            "_view_name": "ProgressView",
            "style": "IPY_MODEL_6b64e9efc4c842e1a2fe1975f224e213",
            "_dom_classes": [],
            "description": "100%",
            "_model_name": "FloatProgressModel",
            "bar_style": "success",
            "max": 100,
            "_view_module": "@jupyter-widgets/controls",
            "_model_module_version": "1.5.0",
            "value": 100,
            "_view_count": null,
            "_view_module_version": "1.5.0",
            "orientation": "horizontal",
            "min": 0,
            "description_tooltip": null,
            "_model_module": "@jupyter-widgets/controls",
            "layout": "IPY_MODEL_be7e85b92cfa408897dfda678df05146"
          }
        },
        "a05e5b6453c046c8a27f88de4de4ef0e": {
          "model_module": "@jupyter-widgets/controls",
          "model_name": "HTMLModel",
          "state": {
            "_view_name": "HTMLView",
            "style": "IPY_MODEL_2cc52794b8f74a9fb371a2b4365abc65",
            "_dom_classes": [],
            "description": "",
            "_model_name": "HTMLModel",
            "placeholder": "​",
            "_view_module": "@jupyter-widgets/controls",
            "_model_module_version": "1.5.0",
            "value": " 100/100 [00:00&lt;00:00, 108.45it/s]",
            "_view_count": null,
            "_view_module_version": "1.5.0",
            "description_tooltip": null,
            "_model_module": "@jupyter-widgets/controls",
            "layout": "IPY_MODEL_37584083ce8140ae99ca2fd5badde410"
          }
        },
        "6b64e9efc4c842e1a2fe1975f224e213": {
          "model_module": "@jupyter-widgets/controls",
          "model_name": "ProgressStyleModel",
          "state": {
            "_view_name": "StyleView",
            "_model_name": "ProgressStyleModel",
            "description_width": "initial",
            "_view_module": "@jupyter-widgets/base",
            "_model_module_version": "1.5.0",
            "_view_count": null,
            "_view_module_version": "1.2.0",
            "bar_color": null,
            "_model_module": "@jupyter-widgets/controls"
          }
        },
        "be7e85b92cfa408897dfda678df05146": {
          "model_module": "@jupyter-widgets/base",
          "model_name": "LayoutModel",
          "state": {
            "_view_name": "LayoutView",
            "grid_template_rows": null,
            "right": null,
            "justify_content": null,
            "_view_module": "@jupyter-widgets/base",
            "overflow": null,
            "_model_module_version": "1.2.0",
            "_view_count": null,
            "flex_flow": null,
            "width": null,
            "min_width": null,
            "border": null,
            "align_items": null,
            "bottom": null,
            "_model_module": "@jupyter-widgets/base",
            "top": null,
            "grid_column": null,
            "overflow_y": null,
            "overflow_x": null,
            "grid_auto_flow": null,
            "grid_area": null,
            "grid_template_columns": null,
            "flex": null,
            "_model_name": "LayoutModel",
            "justify_items": null,
            "grid_row": null,
            "max_height": null,
            "align_content": null,
            "visibility": null,
            "align_self": null,
            "height": null,
            "min_height": null,
            "padding": null,
            "grid_auto_rows": null,
            "grid_gap": null,
            "max_width": null,
            "order": null,
            "_view_module_version": "1.2.0",
            "grid_template_areas": null,
            "object_position": null,
            "object_fit": null,
            "grid_auto_columns": null,
            "margin": null,
            "display": null,
            "left": null
          }
        },
        "2cc52794b8f74a9fb371a2b4365abc65": {
          "model_module": "@jupyter-widgets/controls",
          "model_name": "DescriptionStyleModel",
          "state": {
            "_view_name": "StyleView",
            "_model_name": "DescriptionStyleModel",
            "description_width": "",
            "_view_module": "@jupyter-widgets/base",
            "_model_module_version": "1.5.0",
            "_view_count": null,
            "_view_module_version": "1.2.0",
            "_model_module": "@jupyter-widgets/controls"
          }
        },
        "37584083ce8140ae99ca2fd5badde410": {
          "model_module": "@jupyter-widgets/base",
          "model_name": "LayoutModel",
          "state": {
            "_view_name": "LayoutView",
            "grid_template_rows": null,
            "right": null,
            "justify_content": null,
            "_view_module": "@jupyter-widgets/base",
            "overflow": null,
            "_model_module_version": "1.2.0",
            "_view_count": null,
            "flex_flow": null,
            "width": null,
            "min_width": null,
            "border": null,
            "align_items": null,
            "bottom": null,
            "_model_module": "@jupyter-widgets/base",
            "top": null,
            "grid_column": null,
            "overflow_y": null,
            "overflow_x": null,
            "grid_auto_flow": null,
            "grid_area": null,
            "grid_template_columns": null,
            "flex": null,
            "_model_name": "LayoutModel",
            "justify_items": null,
            "grid_row": null,
            "max_height": null,
            "align_content": null,
            "visibility": null,
            "align_self": null,
            "height": null,
            "min_height": null,
            "padding": null,
            "grid_auto_rows": null,
            "grid_gap": null,
            "max_width": null,
            "order": null,
            "_view_module_version": "1.2.0",
            "grid_template_areas": null,
            "object_position": null,
            "object_fit": null,
            "grid_auto_columns": null,
            "margin": null,
            "display": null,
            "left": null
          }
        },
        "9946fbb8829046cf8ecf85b3cb1ba550": {
          "model_module": "@jupyter-widgets/controls",
          "model_name": "HBoxModel",
          "state": {
            "_view_name": "HBoxView",
            "_dom_classes": [],
            "_model_name": "HBoxModel",
            "_view_module": "@jupyter-widgets/controls",
            "_model_module_version": "1.5.0",
            "_view_count": null,
            "_view_module_version": "1.5.0",
            "box_style": "",
            "layout": "IPY_MODEL_d34dab01bb6147a79ed08ede8deb13cb",
            "_model_module": "@jupyter-widgets/controls",
            "children": [
              "IPY_MODEL_70182ee13fe04ac4b02646e6a35bd522",
              "IPY_MODEL_d8b7c1019e844965868462e0b25b1290"
            ]
          }
        },
        "d34dab01bb6147a79ed08ede8deb13cb": {
          "model_module": "@jupyter-widgets/base",
          "model_name": "LayoutModel",
          "state": {
            "_view_name": "LayoutView",
            "grid_template_rows": null,
            "right": null,
            "justify_content": null,
            "_view_module": "@jupyter-widgets/base",
            "overflow": null,
            "_model_module_version": "1.2.0",
            "_view_count": null,
            "flex_flow": null,
            "width": null,
            "min_width": null,
            "border": null,
            "align_items": null,
            "bottom": null,
            "_model_module": "@jupyter-widgets/base",
            "top": null,
            "grid_column": null,
            "overflow_y": null,
            "overflow_x": null,
            "grid_auto_flow": null,
            "grid_area": null,
            "grid_template_columns": null,
            "flex": null,
            "_model_name": "LayoutModel",
            "justify_items": null,
            "grid_row": null,
            "max_height": null,
            "align_content": null,
            "visibility": null,
            "align_self": null,
            "height": null,
            "min_height": null,
            "padding": null,
            "grid_auto_rows": null,
            "grid_gap": null,
            "max_width": null,
            "order": null,
            "_view_module_version": "1.2.0",
            "grid_template_areas": null,
            "object_position": null,
            "object_fit": null,
            "grid_auto_columns": null,
            "margin": null,
            "display": null,
            "left": null
          }
        },
        "70182ee13fe04ac4b02646e6a35bd522": {
          "model_module": "@jupyter-widgets/controls",
          "model_name": "FloatProgressModel",
          "state": {
            "_view_name": "ProgressView",
            "style": "IPY_MODEL_63cd76c1f576455994e042fcb3438ee1",
            "_dom_classes": [],
            "description": "100%",
            "_model_name": "FloatProgressModel",
            "bar_style": "success",
            "max": 50,
            "_view_module": "@jupyter-widgets/controls",
            "_model_module_version": "1.5.0",
            "value": 50,
            "_view_count": null,
            "_view_module_version": "1.5.0",
            "orientation": "horizontal",
            "min": 0,
            "description_tooltip": null,
            "_model_module": "@jupyter-widgets/controls",
            "layout": "IPY_MODEL_629ea199df8941668533cdb9a8eb11df"
          }
        },
        "d8b7c1019e844965868462e0b25b1290": {
          "model_module": "@jupyter-widgets/controls",
          "model_name": "HTMLModel",
          "state": {
            "_view_name": "HTMLView",
            "style": "IPY_MODEL_a44bc6985753491497ebf4386714b154",
            "_dom_classes": [],
            "description": "",
            "_model_name": "HTMLModel",
            "placeholder": "​",
            "_view_module": "@jupyter-widgets/controls",
            "_model_module_version": "1.5.0",
            "value": " 50/50 [37:43&lt;00:00, 45.27s/it]",
            "_view_count": null,
            "_view_module_version": "1.5.0",
            "description_tooltip": null,
            "_model_module": "@jupyter-widgets/controls",
            "layout": "IPY_MODEL_60a3fc3f997644e0a064859b2bc035c3"
          }
        },
        "63cd76c1f576455994e042fcb3438ee1": {
          "model_module": "@jupyter-widgets/controls",
          "model_name": "ProgressStyleModel",
          "state": {
            "_view_name": "StyleView",
            "_model_name": "ProgressStyleModel",
            "description_width": "initial",
            "_view_module": "@jupyter-widgets/base",
            "_model_module_version": "1.5.0",
            "_view_count": null,
            "_view_module_version": "1.2.0",
            "bar_color": null,
            "_model_module": "@jupyter-widgets/controls"
          }
        },
        "629ea199df8941668533cdb9a8eb11df": {
          "model_module": "@jupyter-widgets/base",
          "model_name": "LayoutModel",
          "state": {
            "_view_name": "LayoutView",
            "grid_template_rows": null,
            "right": null,
            "justify_content": null,
            "_view_module": "@jupyter-widgets/base",
            "overflow": null,
            "_model_module_version": "1.2.0",
            "_view_count": null,
            "flex_flow": null,
            "width": null,
            "min_width": null,
            "border": null,
            "align_items": null,
            "bottom": null,
            "_model_module": "@jupyter-widgets/base",
            "top": null,
            "grid_column": null,
            "overflow_y": null,
            "overflow_x": null,
            "grid_auto_flow": null,
            "grid_area": null,
            "grid_template_columns": null,
            "flex": null,
            "_model_name": "LayoutModel",
            "justify_items": null,
            "grid_row": null,
            "max_height": null,
            "align_content": null,
            "visibility": null,
            "align_self": null,
            "height": null,
            "min_height": null,
            "padding": null,
            "grid_auto_rows": null,
            "grid_gap": null,
            "max_width": null,
            "order": null,
            "_view_module_version": "1.2.0",
            "grid_template_areas": null,
            "object_position": null,
            "object_fit": null,
            "grid_auto_columns": null,
            "margin": null,
            "display": null,
            "left": null
          }
        },
        "a44bc6985753491497ebf4386714b154": {
          "model_module": "@jupyter-widgets/controls",
          "model_name": "DescriptionStyleModel",
          "state": {
            "_view_name": "StyleView",
            "_model_name": "DescriptionStyleModel",
            "description_width": "",
            "_view_module": "@jupyter-widgets/base",
            "_model_module_version": "1.5.0",
            "_view_count": null,
            "_view_module_version": "1.2.0",
            "_model_module": "@jupyter-widgets/controls"
          }
        },
        "60a3fc3f997644e0a064859b2bc035c3": {
          "model_module": "@jupyter-widgets/base",
          "model_name": "LayoutModel",
          "state": {
            "_view_name": "LayoutView",
            "grid_template_rows": null,
            "right": null,
            "justify_content": null,
            "_view_module": "@jupyter-widgets/base",
            "overflow": null,
            "_model_module_version": "1.2.0",
            "_view_count": null,
            "flex_flow": null,
            "width": null,
            "min_width": null,
            "border": null,
            "align_items": null,
            "bottom": null,
            "_model_module": "@jupyter-widgets/base",
            "top": null,
            "grid_column": null,
            "overflow_y": null,
            "overflow_x": null,
            "grid_auto_flow": null,
            "grid_area": null,
            "grid_template_columns": null,
            "flex": null,
            "_model_name": "LayoutModel",
            "justify_items": null,
            "grid_row": null,
            "max_height": null,
            "align_content": null,
            "visibility": null,
            "align_self": null,
            "height": null,
            "min_height": null,
            "padding": null,
            "grid_auto_rows": null,
            "grid_gap": null,
            "max_width": null,
            "order": null,
            "_view_module_version": "1.2.0",
            "grid_template_areas": null,
            "object_position": null,
            "object_fit": null,
            "grid_auto_columns": null,
            "margin": null,
            "display": null,
            "left": null
          }
        }
      }
    },
    "accelerator": "GPU"
  },
  "cells": [
    {
      "cell_type": "markdown",
      "metadata": {
        "id": "view-in-github",
        "colab_type": "text"
      },
      "source": [
        "<a href=\"https://colab.research.google.com/github/erezimm/ML-ML/blob/master/GNN_final_project.ipynb\" target=\"_parent\"><img src=\"https://colab.research.google.com/assets/colab-badge.svg\" alt=\"Open In Colab\"/></a>"
      ]
    },
    {
      "cell_type": "markdown",
      "metadata": {
        "id": "OCU4DoTLIIoO",
        "colab_type": "text"
      },
      "source": [
        "# Main notebook, to be run on Google Colab"
      ]
    },
    {
      "cell_type": "markdown",
      "metadata": {
        "id": "PWYU8-BTJ-XN",
        "colab_type": "text"
      },
      "source": [
        "### Import dependencies and download datasets"
      ]
    },
    {
      "cell_type": "code",
      "metadata": {
        "id": "L5E9Y_nnn3m8",
        "colab_type": "code",
        "colab": {}
      },
      "source": [
        "!pip install dgl\n",
        "\n",
        "import dgl\n",
        "import dgl.function as fn\n",
        "import torch\n",
        "import torch.nn as nn\n",
        "import torch.nn.functional as F\n",
        "from dgl import DGLGraph\n",
        "from torch.utils.data import Dataset, DataLoader\n",
        "import glob\n",
        "import json\n",
        "from tqdm.notebook import tqdm\n",
        "import torch.optim as optim\n",
        "import numpy as np\n",
        "import networkx as nx\n",
        "import astropy.io.ascii\n",
        "import torch.nn as nn\n",
        "import torch.nn.functional as F\n",
        "\n",
        "import matplotlib.pyplot as plt\n",
        "\n",
        "\n",
        "!wget -O data.zip https://github.com/erezimm/ML-ML/raw/master/data.zip\n",
        "!unzip -o -q data.zip\n",
        "training_path = '/content/training_set'\n",
        "validation_path = '/content/validation_set'"
      ],
      "execution_count": null,
      "outputs": []
    },
    {
      "cell_type": "markdown",
      "metadata": {
        "id": "ff2ASGtVn3nB",
        "colab_type": "text"
      },
      "source": [
        "### Class CustomDataset loads all files and converts them to a list of graphs\n",
        "\n",
        "Each node in a graph is a data point, i.e. node features are days since start, mag, magerr"
      ]
    },
    {
      "cell_type": "code",
      "metadata": {
        "id": "zSLI4uNYn3nB",
        "colab_type": "code",
        "colab": {}
      },
      "source": [
        "class CustomDataset(Dataset):\n",
        "    def __init__(self, path):\n",
        "        filelist = glob.glob(path+'/*')\n",
        "        \n",
        "        self.graphs = []\n",
        "        for fname in tqdm(filelist):\n",
        "            with open(fname) as f:\n",
        "                data = astropy.io.ascii.read(f.read())\n",
        "                times, mags, magerrs = data['col1'], data['col2'], data['col3']\n",
        "                zipped = list(zip(times, mags, magerrs))\n",
        "                zipped.sort(key=lambda tup: tup[0])\n",
        "                times, mags, magerrs = zip(*zipped)\n",
        "\n",
        "                n = len(times)\n",
        "                g = dgl.DGLGraph()\n",
        "                g.add_nodes(n)\n",
        "                g.ndata['time'] = torch.tensor(times)  # days\n",
        "                g.ndata['mag'] = torch.tensor(mags)\n",
        "                g.ndata['magerr'] = torch.tensor(magerrs)\n",
        "                g.add_edges([i for i in range(n)], [(i+1)%n for i in range(n)])\n",
        "                g.add_edges([i for i in range(n)], [(i-1)%n for i in range(n)])\n",
        "                \n",
        "                self.graphs.append(g)\n",
        "        \n",
        "    def __len__(self):\n",
        "        return len(self.graphs)\n",
        "\n",
        "    def __getitem__(self, idx):\n",
        "        return self.graphs[idx]#, self.graphs[idx].edata['on_path']"
      ],
      "execution_count": 7,
      "outputs": []
    },
    {
      "cell_type": "code",
      "metadata": {
        "id": "CLbSDYuan3nE",
        "colab_type": "code",
        "colab": {
          "base_uri": "https://localhost:8080/",
          "height": 487,
          "referenced_widgets": [
            "7a1f70be78b0481480f2494ac408099d",
            "cdfeb0eedbc64ce48152f43e44a62221",
            "e87dfa6738d54ed1a940ddabcc1fd126",
            "a05e5b6453c046c8a27f88de4de4ef0e",
            "6b64e9efc4c842e1a2fe1975f224e213",
            "be7e85b92cfa408897dfda678df05146",
            "2cc52794b8f74a9fb371a2b4365abc65",
            "37584083ce8140ae99ca2fd5badde410"
          ]
        },
        "outputId": "df1ce0a7-93a2-4369-b83d-0a879a43b673"
      },
      "source": [
        "train_ds = CustomDataset(training_path)\n",
        "# validation_ds = CustomDataset(validation_path)\n",
        "\n",
        "idx = 20\n",
        "nx.draw(dgl.to_networkx(train_ds[idx]))\n",
        "# print('# Data Points:', train_ds[idx].num_nodes())\n",
        "\n",
        "# print(train_ds[idx].ndata['time'])"
      ],
      "execution_count": 17,
      "outputs": [
        {
          "output_type": "display_data",
          "data": {
            "application/vnd.jupyter.widget-view+json": {
              "model_id": "7a1f70be78b0481480f2494ac408099d",
              "version_minor": 0,
              "version_major": 2
            },
            "text/plain": [
              "HBox(children=(FloatProgress(value=0.0), HTML(value='')))"
            ]
          },
          "metadata": {
            "tags": []
          }
        },
        {
          "output_type": "stream",
          "text": [
            "\n",
            "tensor([58216.2124, 58219.1708, 58219.1905, 58223.1677, 58223.1914, 58229.1801,\n",
            "        58232.1980, 58243.1612, 58246.2174, 58249.1592, 58258.1954, 58280.1801,\n",
            "        58284.1748, 58365.5074, 58374.5095, 58377.4647, 58380.4696, 58386.4456,\n",
            "        58389.5107, 58422.5173, 58425.4467, 58428.5121, 58431.3874, 58434.3671,\n",
            "        58437.3701, 58443.4113, 58447.4523, 58447.5133, 58450.3837, 58457.2625,\n",
            "        58465.4944, 58468.4901, 58471.2848, 58474.2969, 58480.4346],\n",
            "       dtype=torch.float64)\n"
          ],
          "name": "stdout"
        },
        {
          "output_type": "display_data",
          "data": {
            "image/png": "[encoded data removed]",
            "text/plain": [
              "<Figure size 432x288 with 1 Axes>"
            ]
          },
          "metadata": {
            "tags": []
          }
        }
      ]
    },
    {
      "cell_type": "code",
      "metadata": {
        "id": "KnD7mWfjn3nK",
        "colab_type": "code",
        "colab": {}
      },
      "source": [
        "def collate(samples):\n",
        "    # The input `samples` is a list, a batch of whatever comes out of your dataset object\n",
        "    graphs = [x[0] for x in samples]\n",
        "    labels = [x[1] for x in samples]\n",
        "    \n",
        "    batched_graph = dgl.batch(graphs,node_attrs=['time', 'mag', 'magerr'])\n",
        "    targets = torch.cat(labels)\n",
        "    \n",
        "    return batched_graph, targets.unsqueeze(1).float()"
      ],
      "execution_count": null,
      "outputs": []
    },
    {
      "cell_type": "markdown",
      "metadata": {
        "id": "FGDTIcKIuGW2",
        "colab_type": "text"
      },
      "source": [
        "### The Newtwork"
      ]
    },
    {
      "cell_type": "code",
      "metadata": {
        "id": "fs14d7QUn3nL",
        "colab_type": "code",
        "colab": {}
      },
      "source": [
        "n_ft = 3  # number of node features (time, mag, magerr)\n",
        "\n",
        "class EdgeNetwork(nn.Module):\n",
        "    def __init__(self, node_hidrep, edge_hidrep):\n",
        "        super(EdgeNetwork, self).__init__()\n",
        "        n_in = 2*(n_ft + node_hidrep) + edge_hidrep\n",
        "        \n",
        "        # params:\n",
        "        sizes = [n_in] + [] + [edge_hidrep]  # edit middle list, can be empty\n",
        "\n",
        "        # create networks:\n",
        "        layers = []\n",
        "        for i in range(len(sizes)-1):\n",
        "            layers.extend([nn.Linear(sizes[i], sizes[i+1]), nn.ReLU()])\n",
        "        self.network = nn.Sequential(*layers)\n",
        "    \n",
        "    def forward(self, x):\n",
        "        \n",
        "        #your input x is an object with the following properties:\n",
        "        # x.dst['node_features'], x.dst['node_hidden_state']\n",
        "        # x.src['node_features'], x.src['node_hidden_state']\n",
        "        # x.data['distance']\n",
        "        \n",
        "        #put them together with torch.cat\n",
        "\n",
        "        # print( x.dst['node_features'].shape, x.dst['node_hidden_state'].shape,\n",
        "        #                     x.src['node_features'].shape, x.src['node_hidden_state'].shape,\n",
        "        #                     x.data['distance'].shape)\n",
        "\n",
        "        input = torch.cat(( x.dst['time'], x.dst['mag'], x.dst['magerr'], x.dst['node_hidrep'],\n",
        "                            x.src['time'], x.src['mag'], x.src['magerr'], x.src['node_hidrep'],\n",
        "                            x.data['edge_hidrep'] ), dim=1)\n",
        "        \n",
        "        #use a neural network to create an edge hidden represetation - \n",
        "\n",
        "        output = self.network(input)\n",
        "\n",
        "        #you return a dictionary with what you want to \"send\" to the reciving node\n",
        "        return {'edge_hidrep': output }\n",
        "\n",
        "    \n",
        "class NodeNetwork(nn.Module):\n",
        "    def __init__(self, node_hidrep, edge_hidrep):\n",
        "        super(NodeNetwork, self).__init__()\n",
        "        n_in = 2*edge_hidrep + node_hidrep + n_ft\n",
        "\n",
        "        # params:\n",
        "        sizes = [n_in] + [] + [node_hidrep]  # edit middle list, can be empty\n",
        "\n",
        "        # create networks:\n",
        "        layers = []\n",
        "        for i in range(len(sizes)-1):\n",
        "            layers.extend([nn.Linear(sizes[i], sizes[i+1]), nn.ReLU()])\n",
        "        self.network = nn.Sequential(*layers)\n",
        "    \n",
        "    def forward(self, x):\n",
        "        \n",
        "        #this time your input x has:\n",
        "        # x.mailbox['edge hidden represetation'] -> this is what you send with the edge update function above - \n",
        "        # it will have the size of the node neighborhood - \n",
        "        # (Batch size, number of nodes in neighborhood, edge hidden rep size), so you need to sum/mean over dim=1 \n",
        "        # x.data['node_hidden_state'] and x.data['node_features'] (this is the existing state of your node)\n",
        "        # you need to torch.cat the message sum, node hidden state, and node features \n",
        "        #- and then apply some fully connected neural network\n",
        "        \n",
        "        input = torch.mean( x.mailbox['edge_hidrep'] , dim=1 )\n",
        "\n",
        "        # print( mb.shape, x.data['node_hidden_state'].shape, x.data['node_features'].shape )\n",
        "\n",
        "        input = torch.cat((mb, x.data['node_hidrep'], x.data['time'], x.data['mag'], x.data['magerr']), dim=1)\n",
        "        out = self.network(input)\n",
        "\n",
        "        # return a new hidden state for the node\n",
        "        return {'node_hidrep': out }\n",
        "\n",
        "\n",
        "class Classifier(nn.Module):\n",
        "    def __init__(self):\n",
        "        super(Classifier, self).__init__()\n",
        "\n",
        "        # params:\n",
        "        node_hidrep, edge_hidrep = 10, 10\n",
        "        sizes_nodeinit = [n_ft] + [] + [node_hidrep]  # edit middle list, can be empty\n",
        "        self.update_loop_length = 20\n",
        "\n",
        "        # create networks:\n",
        "        layers = []\n",
        "        for i in range(len(sizes_nodeinit)-1):\n",
        "            layers.extend([nn.Linear(sizes_nodeinit[i], sizes_nodeinit[i+1]), nn.ReLU()])\n",
        "        self.node_init = nn.Sequential(*layers)\n",
        "        self.edge_network = EdgeNetwork(node_hidrep, edge_hidrep)\n",
        "        self.node_network = NodeNetwork(node_hidrep, edge_hidrep)\n",
        "        \n",
        "    def forward(self, g):\n",
        "        g.ndata['node_hidrep'] = self.node_init(torch.cat((g.ndata['time'], g.ndata['mag'], g.ndata['magerr'])))\n",
        "        for i in range(self.update_loop_length):\n",
        "            g.update_all(self.edge_network, self.node_network)\n",
        "        \n",
        "        out = 0.5\n",
        "        for x in g.ndata['node_hidrep']:\n",
        "            out = max(out, torch.sum(x))\n",
        "        return out "
      ],
      "execution_count": null,
      "outputs": []
    },
    {
      "cell_type": "code",
      "metadata": {
        "id": "lWotzRtQn3nT",
        "colab_type": "code",
        "colab": {
          "base_uri": "https://localhost:8080/",
          "height": 34
        },
        "outputId": "ffc3f81c-c585-48d3-d141-5f0e1e5f0f88"
      },
      "source": [
        "if torch.cuda.is_available():\n",
        "    print('Cuda on')\n",
        "    device = torch.device('cuda')\n",
        "else:\n",
        "  print('No Cuda')\n",
        "  device = torch.device('cpu')\n",
        "\n",
        "net = Classifier()\n",
        "net.to(device)"
      ],
      "execution_count": null,
      "outputs": [
        {
          "output_type": "stream",
          "text": [
            "Cuda on\n"
          ],
          "name": "stdout"
        }
      ]
    },
    {
      "cell_type": "markdown",
      "metadata": {
        "id": "6x-ALDRlwBDo",
        "colab_type": "text"
      },
      "source": [
        "### Train"
      ]
    },
    {
      "cell_type": "code",
      "metadata": {
        "id": "YvADGO3ZvS9U",
        "colab_type": "code",
        "colab": {}
      },
      "source": [
        "loss_func = nn.BCEWithLogitsLoss()\n",
        "# optimizer = optim.SGD(net.parameters(), lr=0.01)\n",
        "optimizer = optim.Adam(net.parameters(), lr=0.001)"
      ],
      "execution_count": null,
      "outputs": []
    },
    {
      "cell_type": "code",
      "metadata": {
        "scrolled": false,
        "id": "E0-E3v84n3nU",
        "colab_type": "code",
        "colab": {
          "base_uri": "https://localhost:8080/",
          "height": 916,
          "referenced_widgets": [
            "9946fbb8829046cf8ecf85b3cb1ba550",
            "d34dab01bb6147a79ed08ede8deb13cb",
            "70182ee13fe04ac4b02646e6a35bd522",
            "d8b7c1019e844965868462e0b25b1290",
            "63cd76c1f576455994e042fcb3438ee1",
            "629ea199df8941668533cdb9a8eb11df",
            "a44bc6985753491497ebf4386714b154",
            "60a3fc3f997644e0a064859b2bc035c3"
          ]
        },
        "outputId": "099af2d9-d6ad-49da-c0c5-99d498ba8f50"
      },
      "source": [
        "data_loader = DataLoader(train_ds, batch_size=30, shuffle=True, collate_fn=collate)\n",
        "\n",
        "n_epochs = 50\n",
        "for epoch in tqdm(range(n_epochs)):\n",
        "    net.train()\n",
        "    losses = []\n",
        "    for x,y in data_loader:\n",
        "        if torch.cuda.is_available():\n",
        "            x = x.to(torch.device('cuda'))\n",
        "            y = y.cuda()\n",
        "\n",
        "        optimizer.zero_grad()\n",
        "        output = net(x)\n",
        "        # print(output.shape, y.shape)\n",
        "\n",
        "        loss = loss_func(output,y)\n",
        "\n",
        "        losses.append(float(loss))\n",
        "\n",
        "        loss.backward()\n",
        "        optimizer.step()\n",
        "    \n",
        "    print(epoch, ':', np.mean(np.array(losses)))      "
      ],
      "execution_count": null,
      "outputs": [
        {
          "output_type": "display_data",
          "data": {
            "application/vnd.jupyter.widget-view+json": {
              "model_id": "9946fbb8829046cf8ecf85b3cb1ba550",
              "version_minor": 0,
              "version_major": 2
            },
            "text/plain": [
              "HBox(children=(FloatProgress(value=0.0, max=50.0), HTML(value='')))"
            ]
          },
          "metadata": {
            "tags": []
          }
        },
        {
          "output_type": "stream",
          "text": [
            "0 : 0.18889014779807564\n",
            "1 : 0.12859327334932938\n",
            "2 : 0.18300606796662963\n",
            "3 : 0.10661299785454116\n",
            "4 : 0.07450672597094567\n",
            "5 : 0.061700045633057275\n",
            "6 : 0.05342918072832737\n",
            "7 : 0.04483702275790497\n",
            "8 : 0.04241149512281318\n",
            "9 : 0.03994260080894846\n",
            "10 : 0.038157781814699046\n",
            "11 : 0.03612382461534378\n",
            "12 : 0.035227170682506644\n",
            "13 : 0.036461643194277846\n",
            "14 : 0.03351317524553059\n",
            "15 : 0.0317531580755119\n",
            "16 : 0.03207600696436213\n",
            "17 : 0.16845567721014698\n",
            "18 : 0.14842726051539717\n",
            "19 : 0.13558591922332427\n",
            "20 : 0.12574673406110554\n",
            "21 : 0.10882317473342319\n",
            "22 : 0.08416957318961263\n",
            "23 : 0.06756624233669149\n",
            "24 : 0.05739786725178986\n",
            "25 : 0.04914927392261114\n",
            "26 : 0.04501121801262844\n",
            "27 : 0.04060989742942467\n",
            "28 : 0.038541307725837665\n",
            "29 : 0.0360854934109096\n",
            "30 : 0.03610043150991826\n",
            "31 : 0.03211393990291807\n",
            "32 : 0.033236738991460756\n",
            "33 : 0.0299152208500525\n",
            "34 : 0.028576401657631208\n",
            "35 : 0.027561111396602438\n",
            "36 : 0.03222312234498248\n",
            "37 : 0.02693658239559499\n",
            "38 : 0.025120232123909462\n",
            "39 : 0.02494457796701191\n",
            "40 : 0.024175145367751578\n",
            "41 : 0.02212530516874335\n",
            "42 : 0.022189488120008996\n",
            "43 : 0.02246479620922825\n",
            "44 : 0.03792467815411127\n",
            "45 : 0.029789492708190295\n",
            "46 : 0.02175254777664999\n",
            "47 : 0.021448799100855065\n",
            "48 : 0.019589763554370778\n",
            "49 : 0.020616146756062832\n",
            "\n"
          ],
          "name": "stdout"
        }
      ]
    },
    {
      "cell_type": "markdown",
      "metadata": {
        "id": "hUcd0CE9wIXq",
        "colab_type": "text"
      },
      "source": [
        "#### Evaluate"
      ]
    },
    {
      "cell_type": "code",
      "metadata": {
        "id": "3JpSCpbHn3nW",
        "colab_type": "code",
        "colab": {
          "base_uri": "https://localhost:8080/",
          "height": 418
        },
        "outputId": "b59f2d21-1075-48e9-d4bd-2e5a1511de24"
      },
      "source": [
        "from scipy.special import expit, logit\n",
        "\n",
        "fig,ax = plt.subplots(1,2,figsize=(6,3),dpi=150)\n",
        "\n",
        "ax[0].set_title('Target')\n",
        "ax[1].set_title('Model Prediction')\n",
        "\n",
        "net.eval()\n",
        "net.cpu()\n",
        "\n",
        "dgl_g = test_ds[5578][0]\n",
        "\n",
        "output_pred = net(dgl_g).data.numpy()\n",
        "\n",
        "nx_graph = dgl.to_networkx(dgl_g)\n",
        "pos = {i: dgl_g.ndata['node_features'][i][:2].data.numpy() for i in range(len(dgl_g.ndata['node_features']))} #nx.spring_layout(nx_graph)\n",
        "edge_list = [e for i,e in enumerate(nx_graph.edges) if dgl_g.edata['on_path'][i]==1]\n",
        "\n",
        "edge_widths = np.array([expit(output_pred[i][0]) for i in range(len(output_pred))])\n",
        "predicted_edge_list = [e for i,e in enumerate(nx_graph.edges) if expit(output_pred[i])[0]>=0.5]\n",
        "\n",
        "pos = nx.spring_layout(nx_graph)\n",
        "\n",
        "\n",
        "nx.draw( nx_graph ,pos=pos ,ax=ax[0] ,node_size=5,arrows=False)\n",
        "nx.draw_networkx_edges(nx_graph,pos=pos,edgelist=edge_list,width=2,edge_color='r',ax=ax[0],arrows=False)\n",
        "\n",
        "nx.draw( nx_graph ,pos=pos ,ax=ax[1] ,node_size=5,arrows=False)\n",
        "nx.draw_networkx_edges(nx_graph,pos=pos,edgelist=predicted_edge_list,width=2,edge_color='r',ax=ax[1],arrows=False)\n",
        "\n",
        "plt.show()"
      ],
      "execution_count": null,
      "outputs": [
        {
          "output_type": "display_data",
          "data": {
            "image/png": "[encoded data removed]",
            "text/plain": [
              "<Figure size 900x450 with 2 Axes>"
            ]
          },
          "metadata": {
            "tags": []
          }
        }
      ]
    },
    {
      "cell_type": "markdown",
      "metadata": {
        "id": "oovV-c2pn3nZ",
        "colab_type": "text"
      },
      "source": [
        "### Once you train your network - \n",
        "### you can evaluate on the test dataset, and compute the rate of false positive, false negative, etc,\n",
        "### most of the edges in the dataset have a label 0, so its quite easy to reach a high true negative rate\n",
        "### but train until you reach at least 60% true positive rate while maintaining a 90%+ true negative rate, and submit"
      ]
    },
    {
      "cell_type": "code",
      "metadata": {
        "id": "adepiHQ5n3nZ",
        "colab_type": "code",
        "colab": {}
      },
      "source": [
        "test_data_loader = DataLoader(test_ds, batch_size=30, shuffle=True,\n",
        "                         collate_fn=collate)"
      ],
      "execution_count": null,
      "outputs": []
    },
    {
      "cell_type": "code",
      "metadata": {
        "id": "XgrXh0Jdn3nb",
        "colab_type": "code",
        "colab": {
          "base_uri": "https://localhost:8080/",
          "height": 85
        },
        "outputId": "a602a156-1eee-43a8-f05c-808b9198428d"
      },
      "source": [
        "net.cpu()\n",
        "net.eval()\n",
        "\n",
        "true_positive = 0\n",
        "false_positive = 0\n",
        "true_negative = 0\n",
        "false_negative = 0\n",
        "total_positives = 0\n",
        "total_negatives = 0\n",
        "\n",
        "for i, (x,y) in enumerate(test_data_loader):\n",
        "        \n",
        "        y = y.data.numpy()\n",
        "\n",
        "        prediction = net(x).cpu().data.numpy()\n",
        "        \n",
        "        prediction[prediction >= 0.5] = 1\n",
        "        prediction[prediction <0.5] = 0\n",
        "        \n",
        "        total_positives+=len(np.where( y==1 )[0])\n",
        "        total_negatives+=len(np.where( y==0 )[0])\n",
        "        \n",
        "        true_positive+= len(np.where( (prediction==y) & (y==1) )[0])\n",
        "        true_negative+= len(np.where( (prediction==y) & (y==0) )[0])\n",
        "        false_positive+= len(np.where( (prediction!=y) & (y==0) )[0])\n",
        "        false_negative+= len(np.where( (prediction!=y) & (y==1) )[0])\n",
        "        \n",
        "        \n",
        "print('true positive: ', true_positive/total_positives)\n",
        "print(false_negative/total_positives)\n",
        "print('true negative: ', true_negative/total_negatives)\n",
        "print(false_positive/total_negatives)"
      ],
      "execution_count": null,
      "outputs": [
        {
          "output_type": "stream",
          "text": [
            "true positive:  0.9357230719242463\n",
            "0.0642769280757537\n",
            "true negative:  0.9957996516784319\n",
            "0.00420034832156813\n"
          ],
          "name": "stdout"
        }
      ]
    },
    {
      "cell_type": "code",
      "metadata": {
        "id": "2cVQVmottKTu",
        "colab_type": "code",
        "colab": {}
      },
      "source": [
        "torch.save(net.state_dict(), 'model1.pt')"
      ],
      "execution_count": null,
      "outputs": []
    },
    {
      "cell_type": "code",
      "metadata": {
        "id": "tn-DAc63qFfV",
        "colab_type": "code",
        "colab": {}
      },
      "source": [
        ""
      ],
      "execution_count": null,
      "outputs": []
    }
  ]
}