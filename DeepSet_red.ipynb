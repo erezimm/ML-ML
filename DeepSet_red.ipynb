{
  "nbformat": 4,
  "nbformat_minor": 0,
  "metadata": {
    "kernelspec": {
      "display_name": "Python 3",
      "language": "python",
      "name": "python3"
    },
    "language_info": {
      "codemirror_mode": {
        "name": "ipython",
        "version": 3
      },
      "file_extension": ".py",
      "mimetype": "text/x-python",
      "name": "python",
      "nbconvert_exporter": "python",
      "pygments_lexer": "ipython3",
      "version": "3.8.2"
    },
    "colab": {
      "name": "Copy of GNN final project.ipynb",
      "provenance": [],
      "collapsed_sections": [],
      "toc_visible": true,
      "include_colab_link": true
    },
    "accelerator": "GPU",
    "widgets": {
      "application/vnd.jupyter.widget-state+json": {
        "51cb8b640b3c4d2ba7d45b5982fbe0a6": {
          "model_module": "@jupyter-widgets/controls",
          "model_name": "HBoxModel",
          "state": {
            "_view_name": "HBoxView",
            "_dom_classes": [],
            "_model_name": "HBoxModel",
            "_view_module": "@jupyter-widgets/controls",
            "_model_module_version": "1.5.0",
            "_view_count": null,
            "_view_module_version": "1.5.0",
            "box_style": "",
            "layout": "IPY_MODEL_601e1ba5bfe8454da028025256bf8ae6",
            "_model_module": "@jupyter-widgets/controls",
            "children": [
              "IPY_MODEL_55912021cafd40b1a3e10831bc41bf01",
              "IPY_MODEL_c0df97b5904a4226aa57ce36004b80a9"
            ]
          }
        },
        "601e1ba5bfe8454da028025256bf8ae6": {
          "model_module": "@jupyter-widgets/base",
          "model_name": "LayoutModel",
          "state": {
            "_view_name": "LayoutView",
            "grid_template_rows": null,
            "right": null,
            "justify_content": null,
            "_view_module": "@jupyter-widgets/base",
            "overflow": null,
            "_model_module_version": "1.2.0",
            "_view_count": null,
            "flex_flow": null,
            "width": null,
            "min_width": null,
            "border": null,
            "align_items": null,
            "bottom": null,
            "_model_module": "@jupyter-widgets/base",
            "top": null,
            "grid_column": null,
            "overflow_y": null,
            "overflow_x": null,
            "grid_auto_flow": null,
            "grid_area": null,
            "grid_template_columns": null,
            "flex": null,
            "_model_name": "LayoutModel",
            "justify_items": null,
            "grid_row": null,
            "max_height": null,
            "align_content": null,
            "visibility": null,
            "align_self": null,
            "height": null,
            "min_height": null,
            "padding": null,
            "grid_auto_rows": null,
            "grid_gap": null,
            "max_width": null,
            "order": null,
            "_view_module_version": "1.2.0",
            "grid_template_areas": null,
            "object_position": null,
            "object_fit": null,
            "grid_auto_columns": null,
            "margin": null,
            "display": null,
            "left": null
          }
        },
        "55912021cafd40b1a3e10831bc41bf01": {
          "model_module": "@jupyter-widgets/controls",
          "model_name": "FloatProgressModel",
          "state": {
            "_view_name": "ProgressView",
            "style": "IPY_MODEL_0581706d99de40e189e62310b15d90ee",
            "_dom_classes": [],
            "description": "100%",
            "_model_name": "FloatProgressModel",
            "bar_style": "success",
            "max": 100,
            "_view_module": "@jupyter-widgets/controls",
            "_model_module_version": "1.5.0",
            "value": 100,
            "_view_count": null,
            "_view_module_version": "1.5.0",
            "orientation": "horizontal",
            "min": 0,
            "description_tooltip": null,
            "_model_module": "@jupyter-widgets/controls",
            "layout": "IPY_MODEL_842fdd173d674d76b03852b7cb4f5b65"
          }
        },
        "c0df97b5904a4226aa57ce36004b80a9": {
          "model_module": "@jupyter-widgets/controls",
          "model_name": "HTMLModel",
          "state": {
            "_view_name": "HTMLView",
            "style": "IPY_MODEL_3061233f98154533a4a3cbf693d54682",
            "_dom_classes": [],
            "description": "",
            "_model_name": "HTMLModel",
            "placeholder": "​",
            "_view_module": "@jupyter-widgets/controls",
            "_model_module_version": "1.5.0",
            "value": " 100/100 [04:38&lt;00:00,  2.78s/it]",
            "_view_count": null,
            "_view_module_version": "1.5.0",
            "description_tooltip": null,
            "_model_module": "@jupyter-widgets/controls",
            "layout": "IPY_MODEL_06e247cbf0ef4232bcfe8fa1931e04ed"
          }
        },
        "0581706d99de40e189e62310b15d90ee": {
          "model_module": "@jupyter-widgets/controls",
          "model_name": "ProgressStyleModel",
          "state": {
            "_view_name": "StyleView",
            "_model_name": "ProgressStyleModel",
            "description_width": "initial",
            "_view_module": "@jupyter-widgets/base",
            "_model_module_version": "1.5.0",
            "_view_count": null,
            "_view_module_version": "1.2.0",
            "bar_color": null,
            "_model_module": "@jupyter-widgets/controls"
          }
        },
        "842fdd173d674d76b03852b7cb4f5b65": {
          "model_module": "@jupyter-widgets/base",
          "model_name": "LayoutModel",
          "state": {
            "_view_name": "LayoutView",
            "grid_template_rows": null,
            "right": null,
            "justify_content": null,
            "_view_module": "@jupyter-widgets/base",
            "overflow": null,
            "_model_module_version": "1.2.0",
            "_view_count": null,
            "flex_flow": null,
            "width": null,
            "min_width": null,
            "border": null,
            "align_items": null,
            "bottom": null,
            "_model_module": "@jupyter-widgets/base",
            "top": null,
            "grid_column": null,
            "overflow_y": null,
            "overflow_x": null,
            "grid_auto_flow": null,
            "grid_area": null,
            "grid_template_columns": null,
            "flex": null,
            "_model_name": "LayoutModel",
            "justify_items": null,
            "grid_row": null,
            "max_height": null,
            "align_content": null,
            "visibility": null,
            "align_self": null,
            "height": null,
            "min_height": null,
            "padding": null,
            "grid_auto_rows": null,
            "grid_gap": null,
            "max_width": null,
            "order": null,
            "_view_module_version": "1.2.0",
            "grid_template_areas": null,
            "object_position": null,
            "object_fit": null,
            "grid_auto_columns": null,
            "margin": null,
            "display": null,
            "left": null
          }
        },
        "3061233f98154533a4a3cbf693d54682": {
          "model_module": "@jupyter-widgets/controls",
          "model_name": "DescriptionStyleModel",
          "state": {
            "_view_name": "StyleView",
            "_model_name": "DescriptionStyleModel",
            "description_width": "",
            "_view_module": "@jupyter-widgets/base",
            "_model_module_version": "1.5.0",
            "_view_count": null,
            "_view_module_version": "1.2.0",
            "_model_module": "@jupyter-widgets/controls"
          }
        },
        "06e247cbf0ef4232bcfe8fa1931e04ed": {
          "model_module": "@jupyter-widgets/base",
          "model_name": "LayoutModel",
          "state": {
            "_view_name": "LayoutView",
            "grid_template_rows": null,
            "right": null,
            "justify_content": null,
            "_view_module": "@jupyter-widgets/base",
            "overflow": null,
            "_model_module_version": "1.2.0",
            "_view_count": null,
            "flex_flow": null,
            "width": null,
            "min_width": null,
            "border": null,
            "align_items": null,
            "bottom": null,
            "_model_module": "@jupyter-widgets/base",
            "top": null,
            "grid_column": null,
            "overflow_y": null,
            "overflow_x": null,
            "grid_auto_flow": null,
            "grid_area": null,
            "grid_template_columns": null,
            "flex": null,
            "_model_name": "LayoutModel",
            "justify_items": null,
            "grid_row": null,
            "max_height": null,
            "align_content": null,
            "visibility": null,
            "align_self": null,
            "height": null,
            "min_height": null,
            "padding": null,
            "grid_auto_rows": null,
            "grid_gap": null,
            "max_width": null,
            "order": null,
            "_view_module_version": "1.2.0",
            "grid_template_areas": null,
            "object_position": null,
            "object_fit": null,
            "grid_auto_columns": null,
            "margin": null,
            "display": null,
            "left": null
          }
        },
        "ea389c667dc94537a78851dc58972765": {
          "model_module": "@jupyter-widgets/controls",
          "model_name": "HBoxModel",
          "state": {
            "_view_name": "HBoxView",
            "_dom_classes": [],
            "_model_name": "HBoxModel",
            "_view_module": "@jupyter-widgets/controls",
            "_model_module_version": "1.5.0",
            "_view_count": null,
            "_view_module_version": "1.5.0",
            "box_style": "",
            "layout": "IPY_MODEL_6667466e5a3b4c5ab788e113fbb46f7f",
            "_model_module": "@jupyter-widgets/controls",
            "children": [
              "IPY_MODEL_89501fd5d7204fa3a8884978d539eff2",
              "IPY_MODEL_c14cb9b2d5d74e1099f4b1400cc93c2e"
            ]
          }
        },
        "6667466e5a3b4c5ab788e113fbb46f7f": {
          "model_module": "@jupyter-widgets/base",
          "model_name": "LayoutModel",
          "state": {
            "_view_name": "LayoutView",
            "grid_template_rows": null,
            "right": null,
            "justify_content": null,
            "_view_module": "@jupyter-widgets/base",
            "overflow": null,
            "_model_module_version": "1.2.0",
            "_view_count": null,
            "flex_flow": null,
            "width": null,
            "min_width": null,
            "border": null,
            "align_items": null,
            "bottom": null,
            "_model_module": "@jupyter-widgets/base",
            "top": null,
            "grid_column": null,
            "overflow_y": null,
            "overflow_x": null,
            "grid_auto_flow": null,
            "grid_area": null,
            "grid_template_columns": null,
            "flex": null,
            "_model_name": "LayoutModel",
            "justify_items": null,
            "grid_row": null,
            "max_height": null,
            "align_content": null,
            "visibility": null,
            "align_self": null,
            "height": null,
            "min_height": null,
            "padding": null,
            "grid_auto_rows": null,
            "grid_gap": null,
            "max_width": null,
            "order": null,
            "_view_module_version": "1.2.0",
            "grid_template_areas": null,
            "object_position": null,
            "object_fit": null,
            "grid_auto_columns": null,
            "margin": null,
            "display": null,
            "left": null
          }
        },
        "89501fd5d7204fa3a8884978d539eff2": {
          "model_module": "@jupyter-widgets/controls",
          "model_name": "FloatProgressModel",
          "state": {
            "_view_name": "ProgressView",
            "style": "IPY_MODEL_940d11d11d254c0a95818a9ebddfc4a7",
            "_dom_classes": [],
            "description": "100%",
            "_model_name": "FloatProgressModel",
            "bar_style": "success",
            "max": 19,
            "_view_module": "@jupyter-widgets/controls",
            "_model_module_version": "1.5.0",
            "value": 19,
            "_view_count": null,
            "_view_module_version": "1.5.0",
            "orientation": "horizontal",
            "min": 0,
            "description_tooltip": null,
            "_model_module": "@jupyter-widgets/controls",
            "layout": "IPY_MODEL_e6ea6b930bb54ed29414e04c1a3fc98e"
          }
        },
        "c14cb9b2d5d74e1099f4b1400cc93c2e": {
          "model_module": "@jupyter-widgets/controls",
          "model_name": "HTMLModel",
          "state": {
            "_view_name": "HTMLView",
            "style": "IPY_MODEL_4e5f6eeeeacc495e87cc2473003ba366",
            "_dom_classes": [],
            "description": "",
            "_model_name": "HTMLModel",
            "placeholder": "​",
            "_view_module": "@jupyter-widgets/controls",
            "_model_module_version": "1.5.0",
            "value": " 19/19 [00:00&lt;00:00, 103.13it/s]",
            "_view_count": null,
            "_view_module_version": "1.5.0",
            "description_tooltip": null,
            "_model_module": "@jupyter-widgets/controls",
            "layout": "IPY_MODEL_17c441d3e8c54300a63628c3834e999c"
          }
        },
        "940d11d11d254c0a95818a9ebddfc4a7": {
          "model_module": "@jupyter-widgets/controls",
          "model_name": "ProgressStyleModel",
          "state": {
            "_view_name": "StyleView",
            "_model_name": "ProgressStyleModel",
            "description_width": "initial",
            "_view_module": "@jupyter-widgets/base",
            "_model_module_version": "1.5.0",
            "_view_count": null,
            "_view_module_version": "1.2.0",
            "bar_color": null,
            "_model_module": "@jupyter-widgets/controls"
          }
        },
        "e6ea6b930bb54ed29414e04c1a3fc98e": {
          "model_module": "@jupyter-widgets/base",
          "model_name": "LayoutModel",
          "state": {
            "_view_name": "LayoutView",
            "grid_template_rows": null,
            "right": null,
            "justify_content": null,
            "_view_module": "@jupyter-widgets/base",
            "overflow": null,
            "_model_module_version": "1.2.0",
            "_view_count": null,
            "flex_flow": null,
            "width": null,
            "min_width": null,
            "border": null,
            "align_items": null,
            "bottom": null,
            "_model_module": "@jupyter-widgets/base",
            "top": null,
            "grid_column": null,
            "overflow_y": null,
            "overflow_x": null,
            "grid_auto_flow": null,
            "grid_area": null,
            "grid_template_columns": null,
            "flex": null,
            "_model_name": "LayoutModel",
            "justify_items": null,
            "grid_row": null,
            "max_height": null,
            "align_content": null,
            "visibility": null,
            "align_self": null,
            "height": null,
            "min_height": null,
            "padding": null,
            "grid_auto_rows": null,
            "grid_gap": null,
            "max_width": null,
            "order": null,
            "_view_module_version": "1.2.0",
            "grid_template_areas": null,
            "object_position": null,
            "object_fit": null,
            "grid_auto_columns": null,
            "margin": null,
            "display": null,
            "left": null
          }
        },
        "4e5f6eeeeacc495e87cc2473003ba366": {
          "model_module": "@jupyter-widgets/controls",
          "model_name": "DescriptionStyleModel",
          "state": {
            "_view_name": "StyleView",
            "_model_name": "DescriptionStyleModel",
            "description_width": "",
            "_view_module": "@jupyter-widgets/base",
            "_model_module_version": "1.5.0",
            "_view_count": null,
            "_view_module_version": "1.2.0",
            "_model_module": "@jupyter-widgets/controls"
          }
        },
        "17c441d3e8c54300a63628c3834e999c": {
          "model_module": "@jupyter-widgets/base",
          "model_name": "LayoutModel",
          "state": {
            "_view_name": "LayoutView",
            "grid_template_rows": null,
            "right": null,
            "justify_content": null,
            "_view_module": "@jupyter-widgets/base",
            "overflow": null,
            "_model_module_version": "1.2.0",
            "_view_count": null,
            "flex_flow": null,
            "width": null,
            "min_width": null,
            "border": null,
            "align_items": null,
            "bottom": null,
            "_model_module": "@jupyter-widgets/base",
            "top": null,
            "grid_column": null,
            "overflow_y": null,
            "overflow_x": null,
            "grid_auto_flow": null,
            "grid_area": null,
            "grid_template_columns": null,
            "flex": null,
            "_model_name": "LayoutModel",
            "justify_items": null,
            "grid_row": null,
            "max_height": null,
            "align_content": null,
            "visibility": null,
            "align_self": null,
            "height": null,
            "min_height": null,
            "padding": null,
            "grid_auto_rows": null,
            "grid_gap": null,
            "max_width": null,
            "order": null,
            "_view_module_version": "1.2.0",
            "grid_template_areas": null,
            "object_position": null,
            "object_fit": null,
            "grid_auto_columns": null,
            "margin": null,
            "display": null,
            "left": null
          }
        }
      }
    }
  },
  "cells": [
    {
      "cell_type": "markdown",
      "metadata": {
        "id": "view-in-github",
        "colab_type": "text"
      },
      "source": [
        "<a href=\"https://colab.research.google.com/github/erezimm/ML-ML/blob/master/DeepSet_red.ipynb\" target=\"_parent\"><img src=\"https://colab.research.google.com/assets/colab-badge.svg\" alt=\"Open In Colab\"/></a>"
      ]
    },
    {
      "cell_type": "markdown",
      "metadata": {
        "id": "OCU4DoTLIIoO",
        "colab_type": "text"
      },
      "source": [
        "# Main notebook, to be run on Google Colab"
      ]
    },
    {
      "cell_type": "markdown",
      "metadata": {
        "id": "PWYU8-BTJ-XN",
        "colab_type": "text"
      },
      "source": [
        "## Import dependencies and download dataset"
      ]
    },
    {
      "cell_type": "code",
      "metadata": {
        "id": "L5E9Y_nnn3m8",
        "colab_type": "code",
        "colab": {
          "base_uri": "https://localhost:8080/",
          "height": 734
        },
        "outputId": "d2ce5744-2e07-41f7-b24f-79649d281d8d"
      },
      "source": [
        "!pip install dgl\n",
        "\n",
        "import glob\n",
        "import os\n",
        "import shutil\n",
        "from datetime import datetime\n",
        "\n",
        "import astropy.io.ascii\n",
        "import dgl\n",
        "import matplotlib.pyplot as plt\n",
        "import networkx as nx\n",
        "import numpy as np\n",
        "import torch\n",
        "import torch.nn as nn\n",
        "import torch.optim as optim\n",
        "from torch.utils.data import Dataset, DataLoader\n",
        "from tqdm.notebook import tqdm\n",
        "\n",
        "if not torch.cuda.is_available():\n",
        "    raise Exception('Cuda unavailable, turn it on under Runtime>Change runtime type>GPU')\n",
        "device = torch.device('cuda')\n",
        "\n",
        "training_path = '/content/training_set'\n",
        "validation_path = '/content/validation_set'\n",
        "for path in (training_path, validation_path):\n",
        "    if not os.path.isdir(path):\n",
        "        os.makedirs(path)\n",
        "\n",
        "!wget -O data.zip https://www.dropbox.com/s/w8dpzhfsz5odau4/data_r.zip?dl=0\n",
        "!unzip -o -q data.zip -d /content/\n",
        "data_path = '/content/data_r'\n",
        "microlist = glob.glob(data_path+'/microlensedconst_*')\n",
        "varlist = glob.glob(data_path+'/cleanvar_*')\n",
        "for typelist in (microlist, varlist):\n",
        "    for i, f in enumerate(typelist):\n",
        "        dest = training_path if i<len(microlist)/2 else validation_path\n",
        "        shutil.move(f, os.path.join(dest, os.path.basename(f)))"
      ],
      "execution_count": 1,
      "outputs": [
        {
          "output_type": "stream",
          "text": [
            "Collecting dgl\n",
            "\u001b[?25l  Downloading https://files.pythonhosted.org/packages/c5/b4/84e4ebd70ef3985181ef5d2d2a366a45af0e3cd18d249fb212ac03f683cf/dgl-0.4.3.post2-cp36-cp36m-manylinux1_x86_64.whl (3.0MB)\n",
            "\u001b[K     |████████████████████████████████| 3.0MB 2.8MB/s \n",
            "\u001b[?25hRequirement already satisfied: networkx>=2.1 in /usr/local/lib/python3.6/dist-packages (from dgl) (2.4)\n",
            "Requirement already satisfied: requests>=2.19.0 in /usr/local/lib/python3.6/dist-packages (from dgl) (2.23.0)\n",
            "Requirement already satisfied: numpy>=1.14.0 in /usr/local/lib/python3.6/dist-packages (from dgl) (1.18.5)\n",
            "Requirement already satisfied: scipy>=1.1.0 in /usr/local/lib/python3.6/dist-packages (from dgl) (1.4.1)\n",
            "Requirement already satisfied: decorator>=4.3.0 in /usr/local/lib/python3.6/dist-packages (from networkx>=2.1->dgl) (4.4.2)\n",
            "Requirement already satisfied: idna<3,>=2.5 in /usr/local/lib/python3.6/dist-packages (from requests>=2.19.0->dgl) (2.10)\n",
            "Requirement already satisfied: urllib3!=1.25.0,!=1.25.1,<1.26,>=1.21.1 in /usr/local/lib/python3.6/dist-packages (from requests>=2.19.0->dgl) (1.24.3)\n",
            "Requirement already satisfied: certifi>=2017.4.17 in /usr/local/lib/python3.6/dist-packages (from requests>=2.19.0->dgl) (2020.6.20)\n",
            "Requirement already satisfied: chardet<4,>=3.0.2 in /usr/local/lib/python3.6/dist-packages (from requests>=2.19.0->dgl) (3.0.4)\n",
            "Installing collected packages: dgl\n",
            "Successfully installed dgl-0.4.3.post2\n"
          ],
          "name": "stdout"
        },
        {
          "output_type": "stream",
          "text": [
            "DGL backend not selected or invalid.  Assuming PyTorch for now.\n",
            "Using backend: pytorch\n"
          ],
          "name": "stderr"
        },
        {
          "output_type": "stream",
          "text": [
            "Setting the default backend to \"pytorch\". You can change it in the ~/.dgl/config.json file or export the DGLBACKEND environment variable.  Valid options are: pytorch, mxnet, tensorflow (all lowercase)\n",
            "--2020-08-18 18:01:15--  https://www.dropbox.com/s/w8dpzhfsz5odau4/data_r.zip?dl=0\n",
            "Resolving www.dropbox.com (www.dropbox.com)... 162.125.5.1, 2620:100:601d:1::a27d:501\n",
            "Connecting to www.dropbox.com (www.dropbox.com)|162.125.5.1|:443... connected.\n",
            "HTTP request sent, awaiting response... 301 Moved Permanently\n",
            "Location: /s/raw/w8dpzhfsz5odau4/data_r.zip [following]\n",
            "--2020-08-18 18:01:16--  https://www.dropbox.com/s/raw/w8dpzhfsz5odau4/data_r.zip\n",
            "Reusing existing connection to www.dropbox.com:443.\n",
            "HTTP request sent, awaiting response... 302 Found\n",
            "Location: https://uca471f1b2cd021ce32fc00c07f3.dl.dropboxusercontent.com/cd/0/inline/A9tU4AmkrzpeH4FmB7SR_WM3DybV0QBT2bQ7rn1fjUs8V9PmffNdrLoSYZOtcnGRZDrHCTRp-kN4doLRLV8LaCa9td4pLLgva2pfUgevPEkVMYImq9TLgDrOw20B8ZDYKVY/file# [following]\n",
            "--2020-08-18 18:01:16--  https://uca471f1b2cd021ce32fc00c07f3.dl.dropboxusercontent.com/cd/0/inline/A9tU4AmkrzpeH4FmB7SR_WM3DybV0QBT2bQ7rn1fjUs8V9PmffNdrLoSYZOtcnGRZDrHCTRp-kN4doLRLV8LaCa9td4pLLgva2pfUgevPEkVMYImq9TLgDrOw20B8ZDYKVY/file\n",
            "Resolving uca471f1b2cd021ce32fc00c07f3.dl.dropboxusercontent.com (uca471f1b2cd021ce32fc00c07f3.dl.dropboxusercontent.com)... 162.125.5.15, 2620:100:601d:15::a27d:50f\n",
            "Connecting to uca471f1b2cd021ce32fc00c07f3.dl.dropboxusercontent.com (uca471f1b2cd021ce32fc00c07f3.dl.dropboxusercontent.com)|162.125.5.15|:443... connected.\n",
            "HTTP request sent, awaiting response... 302 Found\n",
            "Location: /cd/0/inline2/A9uxi-JdDU8aSv7xuUpMS_H2jeqM0-GOA2FgOrH1hMRM_UEx_TamBB-JcwlXwz_tqbmK_9jVv3aViBPRb_ENrauFGtzCT53JO5D2RSq-Ami7l5hVXuLwc9sU_OdgUNhepq_vIjew2P5sseIgi2iRHxu9Y2gZuY93L1D66ALC_GLzVr1EeCQEiLR7X43XJYjIdCnVkqZ2y_5ms_hZ6Q39aC_fU-7L-eQBQ8WxxEmYESv8u3zGOHpH_i-3RWYk4cyhuYvr29qSsJfeL457sqY3g3ubWloynKZovTeadDuCq8y9wkrJt3ini1laoMq4Tj62YQZEqoG4DTmh-3e-arc5O4Egojn4p_a5E7jjLhWpn8aBgQ/file [following]\n",
            "--2020-08-18 18:01:17--  https://uca471f1b2cd021ce32fc00c07f3.dl.dropboxusercontent.com/cd/0/inline2/A9uxi-JdDU8aSv7xuUpMS_H2jeqM0-GOA2FgOrH1hMRM_UEx_TamBB-JcwlXwz_tqbmK_9jVv3aViBPRb_ENrauFGtzCT53JO5D2RSq-Ami7l5hVXuLwc9sU_OdgUNhepq_vIjew2P5sseIgi2iRHxu9Y2gZuY93L1D66ALC_GLzVr1EeCQEiLR7X43XJYjIdCnVkqZ2y_5ms_hZ6Q39aC_fU-7L-eQBQ8WxxEmYESv8u3zGOHpH_i-3RWYk4cyhuYvr29qSsJfeL457sqY3g3ubWloynKZovTeadDuCq8y9wkrJt3ini1laoMq4Tj62YQZEqoG4DTmh-3e-arc5O4Egojn4p_a5E7jjLhWpn8aBgQ/file\n",
            "Reusing existing connection to uca471f1b2cd021ce32fc00c07f3.dl.dropboxusercontent.com:443.\n",
            "HTTP request sent, awaiting response... 200 OK\n",
            "Length: 26547761 (25M) [application/zip]\n",
            "Saving to: ‘data.zip’\n",
            "\n",
            "data.zip            100%[===================>]  25.32M  48.5MB/s    in 0.5s    \n",
            "\n",
            "2020-08-18 18:01:18 (48.5 MB/s) - ‘data.zip’ saved [26547761/26547761]\n",
            "\n"
          ],
          "name": "stdout"
        }
      ]
    },
    {
      "cell_type": "markdown",
      "metadata": {
        "id": "ff2ASGtVn3nB",
        "colab_type": "text"
      },
      "source": [
        "## Create Datasets\n",
        "Class CustomDataset loads all files and converts them to a list of graphs.\n",
        "Each node in a graph is a data point, i.e. node features are days since start, mag, magerr"
      ]
    },
    {
      "cell_type": "code",
      "metadata": {
        "id": "zSLI4uNYn3nB",
        "colab_type": "code",
        "colab": {}
      },
      "source": [
        "class CustomDataset(Dataset):\n",
        "    def __init__(self, path, allTrue=False):\n",
        "        filelist = glob.glob(path+'/*')\n",
        "        \n",
        "        self.graphs = []\n",
        "        self.isMicrolensed = []\n",
        "        for fname in tqdm(filelist):\n",
        "            filebasename = os.path.basename(fname)\n",
        "            if allTrue:\n",
        "                microlensed = torch.tensor([1])\n",
        "            elif filebasename.startswith('cleanvar'):\n",
        "                microlensed = torch.tensor([0])\n",
        "            elif filebasename.startswith('microlensedconst'):\n",
        "                microlensed = torch.tensor([1])\n",
        "            else:\n",
        "                raise Exception('Filename ' + fname + ' not clean_* or microlensed_*')\n",
        "            \n",
        "            with open(fname) as f:\n",
        "                data = astropy.io.ascii.read(f.read())\n",
        "                times, mags, magerrs = data['col1'], [], data['col3']\n",
        "                for m, err in zip(data['col2'], magerrs):\n",
        "                    mags.append(round(m, len(str(err).split('.')[1])))\n",
        "                zipped = list(zip(times, mags, magerrs))\n",
        "                zipped.sort(key=lambda tup: tup[0])\n",
        "                times, mags, magerrs = zip(*zipped)\n",
        "                times, mags, magerrs =torch.tensor(times), torch.tensor(mags), torch.tensor(magerrs)\n",
        "                \n",
        "                times = times - min(times)\n",
        "                flux = 10 ** (mags/(-2.5))\n",
        "                medflux = torch.median(flux)\n",
        "                flux = flux/medflux\n",
        "                fluxerr = flux * magerrs * np.log(10) * 0.4 / medflux\n",
        "\n",
        "                n = len(times)\n",
        "                g = dgl.DGLGraph()\n",
        "                g.add_nodes(n)\n",
        "                g.ndata['time'] = torch.tensor(times).float()  # days\n",
        "                g.ndata['mag'] = torch.tensor(flux).float()\n",
        "                g.ndata['magerr'] = torch.tensor(fluxerr).float()\n",
        "\n",
        "\n",
        "                #g.add_edges([i for i in range(n)], [(i+1)%n for i in range(n)])\n",
        "                #g.add_edges([i for i in range(n)], [(i-1)%n for i in range(n)])\n",
        "                \n",
        "                self.graphs.append(g)\n",
        "                self.isMicrolensed.append(microlensed)\n",
        "        \n",
        "    def __len__(self):\n",
        "        return len(self.graphs)\n",
        "\n",
        "    def __getitem__(self, idx):\n",
        "        return self.graphs[idx], self.isMicrolensed[idx]\n",
        "\n"
      ],
      "execution_count": 16,
      "outputs": []
    },
    {
      "cell_type": "code",
      "metadata": {
        "id": "1VEOQLokyQ4Y",
        "colab_type": "code",
        "colab": {}
      },
      "source": [
        "\n",
        "train_ds = CustomDataset(training_path)\n",
        "validation_ds = CustomDataset(validation_path)\n",
        "\n",
        "nx.draw(dgl.to_networkx(train_ds[20][0]))"
      ],
      "execution_count": null,
      "outputs": []
    },
    {
      "cell_type": "code",
      "metadata": {
        "id": "KnD7mWfjn3nK",
        "colab_type": "code",
        "colab": {}
      },
      "source": [
        "def collate(samples):\n",
        "    # The input `samples` is a list, a batch of whatever comes out of your dataset object\n",
        "    graphs = [x[0] for x in samples]\n",
        "    labels = [x[1] for x in samples]\n",
        "    \n",
        "    batched_graph = dgl.batch(graphs, node_attrs=['time', 'mag', 'magerr'])\n",
        "    targets = torch.cat(labels)\n",
        "    \n",
        "    return batched_graph, targets.unsqueeze(1).float()"
      ],
      "execution_count": 4,
      "outputs": []
    },
    {
      "cell_type": "markdown",
      "metadata": {
        "id": "FGDTIcKIuGW2",
        "colab_type": "text"
      },
      "source": [
        "## The Network"
      ]
    },
    {
      "cell_type": "code",
      "metadata": {
        "id": "soJyGlbvMErI",
        "colab_type": "code",
        "colab": {}
      },
      "source": [
        "layers = [10,10]  # hidden layers in the DeepSetLayer\n",
        "outputsize = 7  # length of the representation passed to the final network\n",
        "cllayers = [10,5,5]  # hidden layers in the final network (takes outputsize, returns a scalar which is the classification)"
      ],
      "execution_count": 5,
      "outputs": []
    },
    {
      "cell_type": "code",
      "metadata": {
        "id": "Xb2gAmYhiELn",
        "colab_type": "code",
        "colab": {}
      },
      "source": [
        "def build_layers(inp,out,sizes):\n",
        "    sizes = [inp]+sizes+[out]\n",
        "    layers = []\n",
        "    for i in range(len(sizes)-1):\n",
        "        layers.extend([nn.Linear(sizes[i], sizes[i+1]), nn.LeakyReLU()])\n",
        "    \n",
        "    return layers"
      ],
      "execution_count": 6,
      "outputs": []
    },
    {
      "cell_type": "code",
      "metadata": {
        "id": "iO90uxpOLy76",
        "colab_type": "code",
        "colab": {}
      },
      "source": [
        "# #Deep Set\n",
        "\n",
        "class DeepSet(nn.Module):\n",
        "\n",
        "    def __init__(self, config):\n",
        "        super(DeepSet, self).__init__()\n",
        "\n",
        "        self.config = config\n",
        "\n",
        "        self.layers = nn.ModuleList()\n",
        "\n",
        "        self.layers.append(DeepSetLayer(config['inputsize'], config['layers'][0], config['inputs'], config['output'] ))\n",
        "\n",
        "        n_layers = len(config['layers'])\n",
        "\n",
        "        for i in range(n_layers - 1):\n",
        "\n",
        "            self.layers.append(DeepSetLayer(config['inputsize']+ config['layers'][i],\n",
        "                                            config['layers'][i+1], \n",
        "                                            config['inputs'] + [config['output']], \n",
        "                                            config['output']))\n",
        "            \n",
        "\n",
        "        self.layers.append(DeepSetLayer(config['inputsize']+ config['layers'][-1],\n",
        "                                            config['outputsize'], \n",
        "                                            config['inputs'] + [config['output']],\n",
        "                                            config['output']))  \n",
        "\n",
        "        layers = build_layers(config['outputsize'], 2, config['cllayers'])  # OFEK chnaged to output=2\n",
        "        self.classifier = nn.Sequential(*(layers+ [nn.Softmax()]))  # OFEK added SoftMax\n",
        "    \n",
        "    def forward(self, g):\n",
        "\n",
        "        for layer in self.layers:\n",
        "            \n",
        "            g = layer(g) \n",
        "\n",
        "        mean_nodes= dgl.mean_nodes(g, 'node_embed', weight = None)\n",
        "        output = self.classifier(mean_nodes)\n",
        "\n",
        "\n",
        "        return output \n"
      ],
      "execution_count": 7,
      "outputs": []
    },
    {
      "cell_type": "code",
      "metadata": {
        "id": "2TODvj6AMLJP",
        "colab_type": "code",
        "colab": {}
      },
      "source": [
        "class DeepSetLayer(nn.Module):\n",
        "    def __init__(self, inputsize, outputsize, inputnames, outputname):\n",
        "        \n",
        "\n",
        "\n",
        "        super(DeepSetLayer,self).__init__()\n",
        "\n",
        "        self.inputs      = inputnames\n",
        "        self.outputname = outputname\n",
        "\n",
        "\n",
        "  \n",
        "\n",
        "        layers = build_layers(inputsize, outputsize, [int(0.5*(outputsize + inputsize)   )])\n",
        "\n",
        "        self.node_embedd = nn.Sequential(*layers)\n",
        "\n",
        "        layers = build_layers(outputsize + inputsize, outputsize,[ int( 0.5*(outputsize + inputsize)) ] )\n",
        "\n",
        "        self.node_update = nn.Sequential(*layers)\n",
        "\n",
        "\n",
        "\n",
        "    def forward(self, g):\n",
        "\n",
        "        gn = [g.ndata[inputname] for inputname in self.inputs]\n",
        "        unsqdim = max(max([len(n.shape) for n in gn]),2)\n",
        "        tocat = []\n",
        "        for n in gn:\n",
        "            t = n\n",
        "            for _ in range(unsqdim-len(n.shape)):\n",
        "                t = t.unsqueeze(-1)\n",
        "            tocat.append(t)\n",
        "            # print(t.shape)\n",
        "        node_data = torch.cat(tocat, dim=1)\n",
        "\n",
        "        g.ndata['node_embed'] = self.node_embedd(node_data)\n",
        "\n",
        "\n",
        "        node_sum = dgl.mean_nodes(g, 'node_embed', weight = None)  #Global representation of graph \n",
        "\n",
        "        g.ndata['mean_nodes'] = dgl.broadcast_nodes(g, node_sum)\n",
        "        \n",
        "        \n",
        "\n",
        "        gn = [g.ndata[inputname] for inputname in self.inputs] + [g.ndata['mean_nodes']]\n",
        "        unsqdim = max(max([len(n.shape) for n in gn]),2)\n",
        "        tocat = []\n",
        "        for n in gn:\n",
        "            t = n\n",
        "            for _ in range(unsqdim-len(n.shape)):\n",
        "                t = t.unsqueeze(-1)\n",
        "            tocat.append(t)\n",
        "            # print(t.shape)\n",
        "        node_update_input = torch.cat( tocat, dim=1  )\n",
        "\n",
        "        g.ndata[self.outputname] = self.node_update(node_update_input)\n",
        "\n",
        "\n",
        "        return g #contains global information \n"
      ],
      "execution_count": 8,
      "outputs": []
    },
    {
      "cell_type": "code",
      "metadata": {
        "id": "EZc6nI6TkmSC",
        "colab_type": "code",
        "colab": {
          "base_uri": "https://localhost:8080/",
          "height": 986
        },
        "outputId": "9d90317b-edf9-47ef-95f4-4514332828f6"
      },
      "source": [
        "net = DeepSet({'inputsize':3 , 'outputsize':outputsize, 'inputs':['time', 'mag', 'magerr'], 'output':'finalrep', 'layers':layers, 'cllayers':cllayers})\n",
        "net.to(device)"
      ],
      "execution_count": 9,
      "outputs": [
        {
          "output_type": "execute_result",
          "data": {
            "text/plain": [
              "DeepSet(\n",
              "  (layers): ModuleList(\n",
              "    (0): DeepSetLayer(\n",
              "      (node_embedd): Sequential(\n",
              "        (0): Linear(in_features=3, out_features=6, bias=True)\n",
              "        (1): LeakyReLU(negative_slope=0.01)\n",
              "        (2): Linear(in_features=6, out_features=10, bias=True)\n",
              "        (3): LeakyReLU(negative_slope=0.01)\n",
              "      )\n",
              "      (node_update): Sequential(\n",
              "        (0): Linear(in_features=13, out_features=6, bias=True)\n",
              "        (1): LeakyReLU(negative_slope=0.01)\n",
              "        (2): Linear(in_features=6, out_features=10, bias=True)\n",
              "        (3): LeakyReLU(negative_slope=0.01)\n",
              "      )\n",
              "    )\n",
              "    (1): DeepSetLayer(\n",
              "      (node_embedd): Sequential(\n",
              "        (0): Linear(in_features=13, out_features=11, bias=True)\n",
              "        (1): LeakyReLU(negative_slope=0.01)\n",
              "        (2): Linear(in_features=11, out_features=10, bias=True)\n",
              "        (3): LeakyReLU(negative_slope=0.01)\n",
              "      )\n",
              "      (node_update): Sequential(\n",
              "        (0): Linear(in_features=23, out_features=11, bias=True)\n",
              "        (1): LeakyReLU(negative_slope=0.01)\n",
              "        (2): Linear(in_features=11, out_features=10, bias=True)\n",
              "        (3): LeakyReLU(negative_slope=0.01)\n",
              "      )\n",
              "    )\n",
              "    (2): DeepSetLayer(\n",
              "      (node_embedd): Sequential(\n",
              "        (0): Linear(in_features=13, out_features=10, bias=True)\n",
              "        (1): LeakyReLU(negative_slope=0.01)\n",
              "        (2): Linear(in_features=10, out_features=7, bias=True)\n",
              "        (3): LeakyReLU(negative_slope=0.01)\n",
              "      )\n",
              "      (node_update): Sequential(\n",
              "        (0): Linear(in_features=20, out_features=10, bias=True)\n",
              "        (1): LeakyReLU(negative_slope=0.01)\n",
              "        (2): Linear(in_features=10, out_features=7, bias=True)\n",
              "        (3): LeakyReLU(negative_slope=0.01)\n",
              "      )\n",
              "    )\n",
              "  )\n",
              "  (classifier): Sequential(\n",
              "    (0): Linear(in_features=7, out_features=10, bias=True)\n",
              "    (1): LeakyReLU(negative_slope=0.01)\n",
              "    (2): Linear(in_features=10, out_features=5, bias=True)\n",
              "    (3): LeakyReLU(negative_slope=0.01)\n",
              "    (4): Linear(in_features=5, out_features=5, bias=True)\n",
              "    (5): LeakyReLU(negative_slope=0.01)\n",
              "    (6): Linear(in_features=5, out_features=2, bias=True)\n",
              "    (7): LeakyReLU(negative_slope=0.01)\n",
              "    (8): Softmax(dim=None)\n",
              "  )\n",
              ")"
            ]
          },
          "metadata": {
            "tags": []
          },
          "execution_count": 9
        }
      ]
    },
    {
      "cell_type": "markdown",
      "metadata": {
        "id": "6x-ALDRlwBDo",
        "colab_type": "text"
      },
      "source": [
        "## Train"
      ]
    },
    {
      "cell_type": "code",
      "metadata": {
        "id": "XgrXh0Jdn3nb",
        "colab_type": "code",
        "colab": {}
      },
      "source": [
        "def evaluate(net, validation_ds, allTrue=False):\n",
        "    test_data_loader = DataLoader(validation_ds, batch_size=1000, shuffle=True, collate_fn=collate)\n",
        "\n",
        "    net.cpu()\n",
        "    net.eval()\n",
        "\n",
        "    true_positive = 0\n",
        "    false_positive = 0\n",
        "    true_negative = 0\n",
        "    false_negative = 0\n",
        "    total_positives = 0\n",
        "    total_negatives = 0\n",
        "\n",
        "    for i, (x,y) in enumerate(test_data_loader):\n",
        "            y = y.data.numpy()\n",
        "            y = y.transpose()\n",
        "            prediction = net(x).cpu().data.numpy()\n",
        "            pred = (prediction[:,1]>prediction[:,0])\n",
        "            \n",
        "            total_positives+=len(np.where( y==1 )[0])\n",
        "            total_negatives+=len(np.where( y==0 )[0])\n",
        "            \n",
        "\n",
        "            true_positive+= len(np.where( (pred==1) & (y==1) )[0])\n",
        "            false_positive+= len(np.where( (pred==1) & (y==0) )[0])\n",
        "    # print(pred, prediction, y)\n",
        "    print('Probability of detection:', true_positive/total_positives)  # probability of recognizing a microlensing when you see it\n",
        "    if not allTrue:\n",
        "        print('Probability of false alarm:', false_positive/total_negatives)  # probability for misclassification of a variable star as microlensing"
      ],
      "execution_count": 19,
      "outputs": []
    },
    {
      "cell_type": "code",
      "metadata": {
        "id": "dBHUZcTcXPO5",
        "colab_type": "code",
        "colab": {
          "base_uri": "https://localhost:8080/",
          "height": 1000,
          "referenced_widgets": [
            "51cb8b640b3c4d2ba7d45b5982fbe0a6",
            "601e1ba5bfe8454da028025256bf8ae6",
            "55912021cafd40b1a3e10831bc41bf01",
            "c0df97b5904a4226aa57ce36004b80a9",
            "0581706d99de40e189e62310b15d90ee",
            "842fdd173d674d76b03852b7cb4f5b65",
            "3061233f98154533a4a3cbf693d54682",
            "06e247cbf0ef4232bcfe8fa1931e04ed"
          ]
        },
        "outputId": "1bfd58d6-4678-458f-9640-998a996f1a63"
      },
      "source": [
        "# options:\n",
        "# loss_func = nn.BCEWithLogitsLoss()\n",
        "# loss_func = nn.L1Loss()\n",
        "loss_func = nn.CrossEntropyLoss()\n",
        "#optimizer = optim.Adadelta(net.parameters(), lr=1)\n",
        "#optimizer = optim.SGD(net.parameters(), lr=0.01)\n",
        "optimizer = optim.Adam(net.parameters(), lr=0.001)\n",
        "exp_lr_scheduler = torch.optim.lr_scheduler.StepLR(optimizer, step_size=20, gamma=0.5)\n",
        "\n",
        "n_epochs = 100\n",
        "\n",
        "\n",
        "losses = []\n",
        "epoch_valid_loss=[]\n",
        "\n",
        "data_loader = DataLoader(train_ds, batch_size=1000, shuffle=True, collate_fn=collate)\n",
        "valid_dl = DataLoader(train_ds, batch_size=1000, shuffle=True, collate_fn=collate)\n",
        "for epoch in tqdm(range(n_epochs)):\n",
        "    net.train()\n",
        "    this_losses = []\n",
        "    for x,y in data_loader:\n",
        "        x, y = x.to(device), y.to(device)\n",
        "        optimizer.zero_grad()\n",
        "        output = net(x)\n",
        "        # print(output)\n",
        "        # output = torch.cat((1-output, output), dim=1)\n",
        "        # print(output)\n",
        "        loss = loss_func(output.squeeze(), y.long().squeeze())\n",
        "        this_losses.append(float(loss))\n",
        "        loss.backward()\n",
        "        optimizer.step()\n",
        "    \n",
        "    losses.append(np.mean(this_losses))\n",
        "\n",
        "    net.eval()\n",
        "    this_losses = []\n",
        "    for x,y in valid_dl:\n",
        "\n",
        "        x = x.to(device)\n",
        "        y = y.to(device)\n",
        "        pred = net(x)\n",
        "        valid_loss = loss_func(pred.squeeze(),y.long().squeeze())\n",
        "        this_losses.append(float(valid_loss))\n",
        "\n",
        "    epoch_valid_loss.append(np.mean(this_losses))\n",
        "\n",
        "    \n",
        "    print('Epoch:', epoch, 'trainloss:', round(losses[-1], 4), 'validloss:', round(epoch_valid_loss[-1],4))  # for some real-time indication (couldn't manage to get this to dynamically plot)\n",
        "\n",
        "\n",
        "# losses = []\n",
        "\n",
        "# data_loader = DataLoader(train_ds, batch_size=1000, shuffle=True, collate_fn=collate)\n",
        "# for epoch in tqdm(range(n_epochs)):\n",
        "#     net.train()\n",
        "#     this_losses = []\n",
        "#     for x,y in data_loader:\n",
        "#         x, y = x.to(device), y.to(device)\n",
        "#         optimizer.zero_grad()\n",
        "#         output = net(x)\n",
        "#         # print(output)\n",
        "#         # output = torch.cat((1-output, output), dim=1)\n",
        "#         # print(output)\n",
        "#         loss = loss_func(output.squeeze(), y.long().squeeze())\n",
        "#         this_losses.append(float(loss))\n",
        "#         loss.backward()\n",
        "#         optimizer.step()\n",
        "\n",
        "#     losses.append(np.mean(this_losses))\n",
        "#     print('Epoch:', epoch, 'Loss:', round(losses[-1], 4))  # for some real-time indication (couldn't manage to get this to dynamically plot)\n"
      ],
      "execution_count": 11,
      "outputs": [
        {
          "output_type": "display_data",
          "data": {
            "application/vnd.jupyter.widget-view+json": {
              "model_id": "51cb8b640b3c4d2ba7d45b5982fbe0a6",
              "version_minor": 0,
              "version_major": 2
            },
            "text/plain": [
              "HBox(children=(FloatProgress(value=0.0), HTML(value='')))"
            ]
          },
          "metadata": {
            "tags": []
          }
        },
        {
          "output_type": "stream",
          "text": [
            "/usr/local/lib/python3.6/dist-packages/torch/nn/modules/container.py:117: UserWarning: Implicit dimension choice for softmax has been deprecated. Change the call to include dim=X as an argument.\n",
            "  input = module(input)\n"
          ],
          "name": "stderr"
        },
        {
          "output_type": "stream",
          "text": [
            "Epoch: 0 trainloss: 0.66 validloss: 0.6464\n",
            "Epoch: 1 trainloss: 0.6467 validloss: 0.6467\n",
            "Epoch: 2 trainloss: 0.6466 validloss: 0.6465\n",
            "Epoch: 3 trainloss: 0.6466 validloss: 0.6464\n",
            "Epoch: 4 trainloss: 0.6466 validloss: 0.6465\n",
            "Epoch: 5 trainloss: 0.6465 validloss: 0.6463\n",
            "Epoch: 6 trainloss: 0.6463 validloss: 0.6463\n",
            "Epoch: 7 trainloss: 0.6463 validloss: 0.6463\n",
            "Epoch: 8 trainloss: 0.6464 validloss: 0.6463\n",
            "Epoch: 9 trainloss: 0.6463 validloss: 0.6463\n",
            "Epoch: 10 trainloss: 0.6464 validloss: 0.6467\n",
            "Epoch: 11 trainloss: 0.6468 validloss: 0.6464\n",
            "Epoch: 12 trainloss: 0.6462 validloss: 0.6462\n",
            "Epoch: 13 trainloss: 0.6463 validloss: 0.6462\n",
            "Epoch: 14 trainloss: 0.6463 validloss: 0.6464\n",
            "Epoch: 15 trainloss: 0.6465 validloss: 0.6461\n",
            "Epoch: 16 trainloss: 0.6461 validloss: 0.6461\n",
            "Epoch: 17 trainloss: 0.6462 validloss: 0.6461\n",
            "Epoch: 18 trainloss: 0.6461 validloss: 0.6459\n",
            "Epoch: 19 trainloss: 0.6458 validloss: 0.6456\n",
            "Epoch: 20 trainloss: 0.6454 validloss: 0.645\n",
            "Epoch: 21 trainloss: 0.6446 validloss: 0.6434\n",
            "Epoch: 22 trainloss: 0.6421 validloss: 0.6405\n",
            "Epoch: 23 trainloss: 0.6383 validloss: 0.6352\n",
            "Epoch: 24 trainloss: 0.629 validloss: 0.5762\n",
            "Epoch: 25 trainloss: 0.5463 validloss: 0.5008\n",
            "Epoch: 26 trainloss: 0.478 validloss: 0.4518\n",
            "Epoch: 27 trainloss: 0.4402 validloss: 0.448\n",
            "Epoch: 28 trainloss: 0.4634 validloss: 0.4543\n",
            "Epoch: 29 trainloss: 0.446 validloss: 0.4165\n",
            "Epoch: 30 trainloss: 0.4166 validloss: 0.4075\n",
            "Epoch: 31 trainloss: 0.4078 validloss: 0.4047\n",
            "Epoch: 32 trainloss: 0.405 validloss: 0.3988\n",
            "Epoch: 33 trainloss: 0.3983 validloss: 0.3996\n",
            "Epoch: 34 trainloss: 0.3953 validloss: 0.3936\n",
            "Epoch: 35 trainloss: 0.3949 validloss: 0.3893\n",
            "Epoch: 36 trainloss: 0.3917 validloss: 0.3884\n",
            "Epoch: 37 trainloss: 0.3931 validloss: 0.4095\n",
            "Epoch: 38 trainloss: 0.395 validloss: 0.3968\n",
            "Epoch: 39 trainloss: 0.3966 validloss: 0.4\n",
            "Epoch: 40 trainloss: 0.388 validloss: 0.388\n",
            "Epoch: 41 trainloss: 0.3874 validloss: 0.3906\n",
            "Epoch: 42 trainloss: 0.3892 validloss: 0.3874\n",
            "Epoch: 43 trainloss: 0.3851 validloss: 0.3864\n",
            "Epoch: 44 trainloss: 0.3951 validloss: 0.3927\n",
            "Epoch: 45 trainloss: 0.3896 validloss: 0.3872\n",
            "Epoch: 46 trainloss: 0.3874 validloss: 0.3832\n",
            "Epoch: 47 trainloss: 0.3882 validloss: 0.3905\n",
            "Epoch: 48 trainloss: 0.3848 validloss: 0.3836\n",
            "Epoch: 49 trainloss: 0.3846 validloss: 0.3864\n",
            "Epoch: 50 trainloss: 0.3845 validloss: 0.3812\n",
            "Epoch: 51 trainloss: 0.3927 validloss: 0.3929\n",
            "Epoch: 52 trainloss: 0.39 validloss: 0.3821\n",
            "Epoch: 53 trainloss: 0.3819 validloss: 0.3829\n",
            "Epoch: 54 trainloss: 0.3937 validloss: 0.3978\n",
            "Epoch: 55 trainloss: 0.3916 validloss: 0.4216\n",
            "Epoch: 56 trainloss: 0.3894 validloss: 0.3882\n",
            "Epoch: 57 trainloss: 0.3901 validloss: 0.3812\n",
            "Epoch: 58 trainloss: 0.3831 validloss: 0.3812\n",
            "Epoch: 59 trainloss: 0.3896 validloss: 0.392\n",
            "Epoch: 60 trainloss: 0.3866 validloss: 0.3808\n",
            "Epoch: 61 trainloss: 0.3818 validloss: 0.3809\n",
            "Epoch: 62 trainloss: 0.3822 validloss: 0.3809\n",
            "Epoch: 63 trainloss: 0.382 validloss: 0.3913\n",
            "Epoch: 64 trainloss: 0.382 validloss: 0.3806\n",
            "Epoch: 65 trainloss: 0.381 validloss: 0.3809\n",
            "Epoch: 66 trainloss: 0.3822 validloss: 0.3872\n",
            "Epoch: 67 trainloss: 0.3809 validloss: 0.391\n",
            "Epoch: 68 trainloss: 0.3828 validloss: 0.3833\n",
            "Epoch: 69 trainloss: 0.3814 validloss: 0.3888\n",
            "Epoch: 70 trainloss: 0.3907 validloss: 0.3832\n",
            "Epoch: 71 trainloss: 0.3854 validloss: 0.3808\n",
            "Epoch: 72 trainloss: 0.3872 validloss: 0.3849\n",
            "Epoch: 73 trainloss: 0.3874 validloss: 0.3756\n",
            "Epoch: 74 trainloss: 0.3819 validloss: 0.3766\n",
            "Epoch: 75 trainloss: 0.377 validloss: 0.3754\n",
            "Epoch: 76 trainloss: 0.3871 validloss: 0.3816\n",
            "Epoch: 77 trainloss: 0.3911 validloss: 0.3766\n",
            "Epoch: 78 trainloss: 0.3775 validloss: 0.3761\n",
            "Epoch: 79 trainloss: 0.3761 validloss: 0.3766\n",
            "Epoch: 80 trainloss: 0.3792 validloss: 0.3784\n",
            "Epoch: 81 trainloss: 0.3957 validloss: 0.4394\n",
            "Epoch: 82 trainloss: 0.4067 validloss: 0.3841\n",
            "Epoch: 83 trainloss: 0.3909 validloss: 0.4162\n",
            "Epoch: 84 trainloss: 0.3867 validloss: 0.3834\n",
            "Epoch: 85 trainloss: 0.3769 validloss: 0.3767\n",
            "Epoch: 86 trainloss: 0.3778 validloss: 0.3864\n",
            "Epoch: 87 trainloss: 0.3828 validloss: 0.3978\n",
            "Epoch: 88 trainloss: 0.3836 validloss: 0.3757\n",
            "Epoch: 89 trainloss: 0.3753 validloss: 0.3746\n",
            "Epoch: 90 trainloss: 0.3759 validloss: 0.3833\n",
            "Epoch: 91 trainloss: 0.3863 validloss: 0.3745\n",
            "Epoch: 92 trainloss: 0.3763 validloss: 0.3861\n",
            "Epoch: 93 trainloss: 0.378 validloss: 0.3752\n",
            "Epoch: 94 trainloss: 0.3766 validloss: 0.3766\n",
            "Epoch: 95 trainloss: 0.3784 validloss: 0.3796\n",
            "Epoch: 96 trainloss: 0.379 validloss: 0.3773\n",
            "Epoch: 97 trainloss: 0.3837 validloss: 0.3818\n",
            "Epoch: 98 trainloss: 0.3773 validloss: 0.4176\n",
            "Epoch: 99 trainloss: 0.3906 validloss: 0.3883\n",
            "\n"
          ],
          "name": "stdout"
        }
      ]
    },
    {
      "cell_type": "code",
      "metadata": {
        "id": "rU3-bAMS-D-I",
        "colab_type": "code",
        "colab": {
          "base_uri": "https://localhost:8080/",
          "height": 367
        },
        "outputId": "4e0810e3-30e0-498b-b1a6-2864697dfd86"
      },
      "source": [
        "  # plot the printed losses:\n",
        "losses = np.array(losses)\n",
        "plt.plot(losses[1:],label='training loss')\n",
        "plt.plot(epoch_valid_loss[1:],label='valid loss')\n",
        "plt.xlabel('Epoch')\n",
        "plt.legend()\n",
        "plt.grid()\n",
        "plt.show()\n",
        "\n",
        "evaluate(net, validation_ds)  # show P_D, P_FA TODO: CHANGE SU IT RUNS"
      ],
      "execution_count": 12,
      "outputs": [
        {
          "output_type": "display_data",
          "data": {
            "image/png": "[encoded data removed]",
            "text/plain": [
              "<Figure size 432x288 with 1 Axes>"
            ]
          },
          "metadata": {
            "tags": [],
            "needs_background": "light"
          }
        },
        {
          "output_type": "stream",
          "text": [
            "/usr/local/lib/python3.6/dist-packages/torch/nn/modules/container.py:117: UserWarning: Implicit dimension choice for softmax has been deprecated. Change the call to include dim=X as an argument.\n",
            "  input = module(input)\n"
          ],
          "name": "stderr"
        },
        {
          "output_type": "stream",
          "text": [
            "Probability of detection: 0.9573613126465007\n",
            "Probability of false alarm: 0.10949882799419577\n"
          ],
          "name": "stdout"
        }
      ]
    },
    {
      "cell_type": "markdown",
      "metadata": {
        "id": "2VfHxWg7aL98",
        "colab_type": "text"
      },
      "source": [
        "## Save\n",
        "Don't forget to download"
      ]
    },
    {
      "cell_type": "code",
      "metadata": {
        "id": "2cVQVmottKTu",
        "colab_type": "code",
        "colab": {}
      },
      "source": [
        "timestamp = datetime.now().strftime(\"%d-%m-%Y_%H-%M-%S\")\n",
        "torch.save(net.state_dict(), 'model_' + timestamp + '.pt')"
      ],
      "execution_count": 13,
      "outputs": []
    },
    {
      "cell_type": "code",
      "metadata": {
        "id": "eomLQW_E0eaY",
        "colab_type": "code",
        "colab": {
          "base_uri": "https://localhost:8080/",
          "height": 762,
          "referenced_widgets": [
            "ea389c667dc94537a78851dc58972765",
            "6667466e5a3b4c5ab788e113fbb46f7f",
            "89501fd5d7204fa3a8884978d539eff2",
            "c14cb9b2d5d74e1099f4b1400cc93c2e",
            "940d11d11d254c0a95818a9ebddfc4a7",
            "e6ea6b930bb54ed29414e04c1a3fc98e",
            "4e5f6eeeeacc495e87cc2473003ba366",
            "17c441d3e8c54300a63628c3834e999c"
          ]
        },
        "outputId": "9a3acb72-fe6f-45a0-da9d-3531ff13aaec"
      },
      "source": [
        "!wget -O /content/confirmed_microlensing.zip https://github.com/erezimm/ML-ML/raw/master/confirmed_microlensing.zip\n",
        "!unzip -o -q confirmed_microlensing.zip  -d /content/\n",
        "!mkdir -p /content/confirmed_microlensing/r /content/confirmed_microlensing/g\n",
        "!mv /content/confirmed_microlensing/*_r /content/confirmed_microlensing/r\n",
        "!mv /content/confirmed_microlensing/*_g /content/confirmed_microlensing/g\n",
        "\n",
        "data_path = '/content/confirmed_microlensing'\n",
        "rpath = data_path+'/r'\n",
        "gpath = data_path+'/g'\n",
        "# os.system('mkdir -p '+rpath+' '+gpath)\n",
        "\n",
        "# for f in glob.glob(data_path):\n",
        "#     if f.endswith('_r'):\n",
        "#         shutil.move(f, rpath)\n",
        "#     elif f.endswith('_g'):\n",
        "#         shutil.move(f, gpath)\n",
        "#     else:\n",
        "#         print(f)\n",
        "\n",
        "conf_ds = CustomDataset(gpath, allTrue=True)\n",
        "# print(len(conf_ds))\n",
        "nx.draw(dgl.to_networkx(conf_ds[2][0]))\n",
        "\n",
        "\n",
        "evaluate(net, conf_ds, allTrue=True)"
      ],
      "execution_count": 26,
      "outputs": [
        {
          "output_type": "stream",
          "text": [
            "--2020-08-18 18:29:59--  https://github.com/erezimm/ML-ML/raw/master/confirmed_microlensing.zip\n",
            "Resolving github.com (github.com)... 140.82.114.4\n",
            "Connecting to github.com (github.com)|140.82.114.4|:443... connected.\n",
            "HTTP request sent, awaiting response... 302 Found\n",
            "Location: https://raw.githubusercontent.com/erezimm/ML-ML/master/confirmed_microlensing.zip [following]\n",
            "--2020-08-18 18:29:59--  https://raw.githubusercontent.com/erezimm/ML-ML/master/confirmed_microlensing.zip\n",
            "Resolving raw.githubusercontent.com (raw.githubusercontent.com)... 151.101.0.133, 151.101.64.133, 151.101.128.133, ...\n",
            "Connecting to raw.githubusercontent.com (raw.githubusercontent.com)|151.101.0.133|:443... connected.\n",
            "HTTP request sent, awaiting response... 200 OK\n",
            "Length: 29720 (29K) [application/zip]\n",
            "Saving to: ‘/content/confirmed_microlensing.zip’\n",
            "\n",
            "\r          /content/   0%[                    ]       0  --.-KB/s               \r/content/confirmed_ 100%[===================>]  29.02K  --.-KB/s    in 0.01s   \n",
            "\n",
            "2020-08-18 18:29:59 (2.18 MB/s) - ‘/content/confirmed_microlensing.zip’ saved [29720/29720]\n",
            "\n"
          ],
          "name": "stdout"
        },
        {
          "output_type": "display_data",
          "data": {
            "application/vnd.jupyter.widget-view+json": {
              "model_id": "ea389c667dc94537a78851dc58972765",
              "version_minor": 0,
              "version_major": 2
            },
            "text/plain": [
              "HBox(children=(FloatProgress(value=0.0, max=19.0), HTML(value='')))"
            ]
          },
          "metadata": {
            "tags": []
          }
        },
        {
          "output_type": "stream",
          "text": [
            "/usr/local/lib/python3.6/dist-packages/ipykernel_launcher.py:37: UserWarning: To copy construct from a tensor, it is recommended to use sourceTensor.clone().detach() or sourceTensor.clone().detach().requires_grad_(True), rather than torch.tensor(sourceTensor).\n",
            "/usr/local/lib/python3.6/dist-packages/ipykernel_launcher.py:38: UserWarning: To copy construct from a tensor, it is recommended to use sourceTensor.clone().detach() or sourceTensor.clone().detach().requires_grad_(True), rather than torch.tensor(sourceTensor).\n",
            "/usr/local/lib/python3.6/dist-packages/ipykernel_launcher.py:39: UserWarning: To copy construct from a tensor, it is recommended to use sourceTensor.clone().detach() or sourceTensor.clone().detach().requires_grad_(True), rather than torch.tensor(sourceTensor).\n",
            "/usr/local/lib/python3.6/dist-packages/torch/nn/modules/container.py:117: UserWarning: Implicit dimension choice for softmax has been deprecated. Change the call to include dim=X as an argument.\n",
            "  input = module(input)\n"
          ],
          "name": "stderr"
        },
        {
          "output_type": "stream",
          "text": [
            "\n",
            "Probability of detection: 0.8421052631578947\n"
          ],
          "name": "stdout"
        },
        {
          "output_type": "display_data",
          "data": {
            "image/png": "[encoded data removed]",
            "text/plain": [
              "<Figure size 432x288 with 1 Axes>"
            ]
          },
          "metadata": {
            "tags": []
          }
        }
      ]
    }
  ]
}