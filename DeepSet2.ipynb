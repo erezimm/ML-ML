{
  "nbformat": 4,
  "nbformat_minor": 0,
  "metadata": {
    "kernelspec": {
      "display_name": "Python 3",
      "language": "python",
      "name": "python3"
    },
    "language_info": {
      "codemirror_mode": {
        "name": "ipython",
        "version": 3
      },
      "file_extension": ".py",
      "mimetype": "text/x-python",
      "name": "python",
      "nbconvert_exporter": "python",
      "pygments_lexer": "ipython3",
      "version": "3.8.2"
    },
    "colab": {
      "name": "Copy of GNN final project.ipynb",
      "provenance": [],
      "collapsed_sections": [],
      "include_colab_link": true
    },
    "accelerator": "GPU",
    "widgets": {
      "application/vnd.jupyter.widget-state+json": {
        "8ab7c39398c1412aa2b82897888476b5": {
          "model_module": "@jupyter-widgets/controls",
          "model_name": "HBoxModel",
          "state": {
            "_view_name": "HBoxView",
            "_dom_classes": [],
            "_model_name": "HBoxModel",
            "_view_module": "@jupyter-widgets/controls",
            "_model_module_version": "1.5.0",
            "_view_count": null,
            "_view_module_version": "1.5.0",
            "box_style": "",
            "layout": "IPY_MODEL_b705d327f6744b2d91f99f415db767da",
            "_model_module": "@jupyter-widgets/controls",
            "children": [
              "IPY_MODEL_ca1a989be60843c38eb14b5268a467b7",
              "IPY_MODEL_7a00b999439d43f384f1c297083f1f66"
            ]
          }
        },
        "b705d327f6744b2d91f99f415db767da": {
          "model_module": "@jupyter-widgets/base",
          "model_name": "LayoutModel",
          "state": {
            "_view_name": "LayoutView",
            "grid_template_rows": null,
            "right": null,
            "justify_content": null,
            "_view_module": "@jupyter-widgets/base",
            "overflow": null,
            "_model_module_version": "1.2.0",
            "_view_count": null,
            "flex_flow": null,
            "width": null,
            "min_width": null,
            "border": null,
            "align_items": null,
            "bottom": null,
            "_model_module": "@jupyter-widgets/base",
            "top": null,
            "grid_column": null,
            "overflow_y": null,
            "overflow_x": null,
            "grid_auto_flow": null,
            "grid_area": null,
            "grid_template_columns": null,
            "flex": null,
            "_model_name": "LayoutModel",
            "justify_items": null,
            "grid_row": null,
            "max_height": null,
            "align_content": null,
            "visibility": null,
            "align_self": null,
            "height": null,
            "min_height": null,
            "padding": null,
            "grid_auto_rows": null,
            "grid_gap": null,
            "max_width": null,
            "order": null,
            "_view_module_version": "1.2.0",
            "grid_template_areas": null,
            "object_position": null,
            "object_fit": null,
            "grid_auto_columns": null,
            "margin": null,
            "display": null,
            "left": null
          }
        },
        "ca1a989be60843c38eb14b5268a467b7": {
          "model_module": "@jupyter-widgets/controls",
          "model_name": "FloatProgressModel",
          "state": {
            "_view_name": "ProgressView",
            "style": "IPY_MODEL_610470a6f43c47059b84043ad3f4a207",
            "_dom_classes": [],
            "description": " 15%",
            "_model_name": "FloatProgressModel",
            "bar_style": "danger",
            "max": 1958645,
            "_view_module": "@jupyter-widgets/controls",
            "_model_module_version": "1.5.0",
            "value": 298895,
            "_view_count": null,
            "_view_module_version": "1.5.0",
            "orientation": "horizontal",
            "min": 0,
            "description_tooltip": null,
            "_model_module": "@jupyter-widgets/controls",
            "layout": "IPY_MODEL_40212432b8804b93aba4e9e4ccecfef7"
          }
        },
        "7a00b999439d43f384f1c297083f1f66": {
          "model_module": "@jupyter-widgets/controls",
          "model_name": "HTMLModel",
          "state": {
            "_view_name": "HTMLView",
            "style": "IPY_MODEL_e7b57779c48b47a5b985dfcf7bd8e3df",
            "_dom_classes": [],
            "description": "",
            "_model_name": "HTMLModel",
            "placeholder": "​",
            "_view_module": "@jupyter-widgets/controls",
            "_model_module_version": "1.5.0",
            "value": " 298895/1958645 [00:36&lt;02:07, 13004.39it/s]",
            "_view_count": null,
            "_view_module_version": "1.5.0",
            "description_tooltip": null,
            "_model_module": "@jupyter-widgets/controls",
            "layout": "IPY_MODEL_5a653bd2be1e4aa68b3f2c48fdc2890d"
          }
        },
        "610470a6f43c47059b84043ad3f4a207": {
          "model_module": "@jupyter-widgets/controls",
          "model_name": "ProgressStyleModel",
          "state": {
            "_view_name": "StyleView",
            "_model_name": "ProgressStyleModel",
            "description_width": "initial",
            "_view_module": "@jupyter-widgets/base",
            "_model_module_version": "1.5.0",
            "_view_count": null,
            "_view_module_version": "1.2.0",
            "bar_color": null,
            "_model_module": "@jupyter-widgets/controls"
          }
        },
        "40212432b8804b93aba4e9e4ccecfef7": {
          "model_module": "@jupyter-widgets/base",
          "model_name": "LayoutModel",
          "state": {
            "_view_name": "LayoutView",
            "grid_template_rows": null,
            "right": null,
            "justify_content": null,
            "_view_module": "@jupyter-widgets/base",
            "overflow": null,
            "_model_module_version": "1.2.0",
            "_view_count": null,
            "flex_flow": null,
            "width": null,
            "min_width": null,
            "border": null,
            "align_items": null,
            "bottom": null,
            "_model_module": "@jupyter-widgets/base",
            "top": null,
            "grid_column": null,
            "overflow_y": null,
            "overflow_x": null,
            "grid_auto_flow": null,
            "grid_area": null,
            "grid_template_columns": null,
            "flex": null,
            "_model_name": "LayoutModel",
            "justify_items": null,
            "grid_row": null,
            "max_height": null,
            "align_content": null,
            "visibility": null,
            "align_self": null,
            "height": null,
            "min_height": null,
            "padding": null,
            "grid_auto_rows": null,
            "grid_gap": null,
            "max_width": null,
            "order": null,
            "_view_module_version": "1.2.0",
            "grid_template_areas": null,
            "object_position": null,
            "object_fit": null,
            "grid_auto_columns": null,
            "margin": null,
            "display": null,
            "left": null
          }
        },
        "e7b57779c48b47a5b985dfcf7bd8e3df": {
          "model_module": "@jupyter-widgets/controls",
          "model_name": "DescriptionStyleModel",
          "state": {
            "_view_name": "StyleView",
            "_model_name": "DescriptionStyleModel",
            "description_width": "",
            "_view_module": "@jupyter-widgets/base",
            "_model_module_version": "1.5.0",
            "_view_count": null,
            "_view_module_version": "1.2.0",
            "_model_module": "@jupyter-widgets/controls"
          }
        },
        "5a653bd2be1e4aa68b3f2c48fdc2890d": {
          "model_module": "@jupyter-widgets/base",
          "model_name": "LayoutModel",
          "state": {
            "_view_name": "LayoutView",
            "grid_template_rows": null,
            "right": null,
            "justify_content": null,
            "_view_module": "@jupyter-widgets/base",
            "overflow": null,
            "_model_module_version": "1.2.0",
            "_view_count": null,
            "flex_flow": null,
            "width": null,
            "min_width": null,
            "border": null,
            "align_items": null,
            "bottom": null,
            "_model_module": "@jupyter-widgets/base",
            "top": null,
            "grid_column": null,
            "overflow_y": null,
            "overflow_x": null,
            "grid_auto_flow": null,
            "grid_area": null,
            "grid_template_columns": null,
            "flex": null,
            "_model_name": "LayoutModel",
            "justify_items": null,
            "grid_row": null,
            "max_height": null,
            "align_content": null,
            "visibility": null,
            "align_self": null,
            "height": null,
            "min_height": null,
            "padding": null,
            "grid_auto_rows": null,
            "grid_gap": null,
            "max_width": null,
            "order": null,
            "_view_module_version": "1.2.0",
            "grid_template_areas": null,
            "object_position": null,
            "object_fit": null,
            "grid_auto_columns": null,
            "margin": null,
            "display": null,
            "left": null
          }
        },
        "f8c324df0c8a4d569f4408dc1dd731e7": {
          "model_module": "@jupyter-widgets/controls",
          "model_name": "HBoxModel",
          "state": {
            "_view_name": "HBoxView",
            "_dom_classes": [],
            "_model_name": "HBoxModel",
            "_view_module": "@jupyter-widgets/controls",
            "_model_module_version": "1.5.0",
            "_view_count": null,
            "_view_module_version": "1.5.0",
            "box_style": "",
            "layout": "IPY_MODEL_21040dfdeb9442d3ac80b873358b385c",
            "_model_module": "@jupyter-widgets/controls",
            "children": [
              "IPY_MODEL_e1b3f9bb7f214d328366d66ebcd16c04",
              "IPY_MODEL_fc2d431cb71148edae0f5cb33a907749"
            ]
          }
        },
        "21040dfdeb9442d3ac80b873358b385c": {
          "model_module": "@jupyter-widgets/base",
          "model_name": "LayoutModel",
          "state": {
            "_view_name": "LayoutView",
            "grid_template_rows": null,
            "right": null,
            "justify_content": null,
            "_view_module": "@jupyter-widgets/base",
            "overflow": null,
            "_model_module_version": "1.2.0",
            "_view_count": null,
            "flex_flow": null,
            "width": null,
            "min_width": null,
            "border": null,
            "align_items": null,
            "bottom": null,
            "_model_module": "@jupyter-widgets/base",
            "top": null,
            "grid_column": null,
            "overflow_y": null,
            "overflow_x": null,
            "grid_auto_flow": null,
            "grid_area": null,
            "grid_template_columns": null,
            "flex": null,
            "_model_name": "LayoutModel",
            "justify_items": null,
            "grid_row": null,
            "max_height": null,
            "align_content": null,
            "visibility": null,
            "align_self": null,
            "height": null,
            "min_height": null,
            "padding": null,
            "grid_auto_rows": null,
            "grid_gap": null,
            "max_width": null,
            "order": null,
            "_view_module_version": "1.2.0",
            "grid_template_areas": null,
            "object_position": null,
            "object_fit": null,
            "grid_auto_columns": null,
            "margin": null,
            "display": null,
            "left": null
          }
        },
        "e1b3f9bb7f214d328366d66ebcd16c04": {
          "model_module": "@jupyter-widgets/controls",
          "model_name": "FloatProgressModel",
          "state": {
            "_view_name": "ProgressView",
            "style": "IPY_MODEL_c05cb110d1784323bad9ca2525a07a4d",
            "_dom_classes": [],
            "description": "100%",
            "_model_name": "FloatProgressModel",
            "bar_style": "success",
            "max": 75000,
            "_view_module": "@jupyter-widgets/controls",
            "_model_module_version": "1.5.0",
            "value": 75000,
            "_view_count": null,
            "_view_module_version": "1.5.0",
            "orientation": "horizontal",
            "min": 0,
            "description_tooltip": null,
            "_model_module": "@jupyter-widgets/controls",
            "layout": "IPY_MODEL_3a1ee70213334744acfbd6d336dc83b8"
          }
        },
        "fc2d431cb71148edae0f5cb33a907749": {
          "model_module": "@jupyter-widgets/controls",
          "model_name": "HTMLModel",
          "state": {
            "_view_name": "HTMLView",
            "style": "IPY_MODEL_73b0b2671b854ba9a611e153a745e841",
            "_dom_classes": [],
            "description": "",
            "_model_name": "HTMLModel",
            "placeholder": "​",
            "_view_module": "@jupyter-widgets/controls",
            "_model_module_version": "1.5.0",
            "value": " 75000/75000 [01:37&lt;00:00, 766.24it/s]",
            "_view_count": null,
            "_view_module_version": "1.5.0",
            "description_tooltip": null,
            "_model_module": "@jupyter-widgets/controls",
            "layout": "IPY_MODEL_36943d3d60eb4be09ca1612dd2dcdc1f"
          }
        },
        "c05cb110d1784323bad9ca2525a07a4d": {
          "model_module": "@jupyter-widgets/controls",
          "model_name": "ProgressStyleModel",
          "state": {
            "_view_name": "StyleView",
            "_model_name": "ProgressStyleModel",
            "description_width": "initial",
            "_view_module": "@jupyter-widgets/base",
            "_model_module_version": "1.5.0",
            "_view_count": null,
            "_view_module_version": "1.2.0",
            "bar_color": null,
            "_model_module": "@jupyter-widgets/controls"
          }
        },
        "3a1ee70213334744acfbd6d336dc83b8": {
          "model_module": "@jupyter-widgets/base",
          "model_name": "LayoutModel",
          "state": {
            "_view_name": "LayoutView",
            "grid_template_rows": null,
            "right": null,
            "justify_content": null,
            "_view_module": "@jupyter-widgets/base",
            "overflow": null,
            "_model_module_version": "1.2.0",
            "_view_count": null,
            "flex_flow": null,
            "width": null,
            "min_width": null,
            "border": null,
            "align_items": null,
            "bottom": null,
            "_model_module": "@jupyter-widgets/base",
            "top": null,
            "grid_column": null,
            "overflow_y": null,
            "overflow_x": null,
            "grid_auto_flow": null,
            "grid_area": null,
            "grid_template_columns": null,
            "flex": null,
            "_model_name": "LayoutModel",
            "justify_items": null,
            "grid_row": null,
            "max_height": null,
            "align_content": null,
            "visibility": null,
            "align_self": null,
            "height": null,
            "min_height": null,
            "padding": null,
            "grid_auto_rows": null,
            "grid_gap": null,
            "max_width": null,
            "order": null,
            "_view_module_version": "1.2.0",
            "grid_template_areas": null,
            "object_position": null,
            "object_fit": null,
            "grid_auto_columns": null,
            "margin": null,
            "display": null,
            "left": null
          }
        },
        "73b0b2671b854ba9a611e153a745e841": {
          "model_module": "@jupyter-widgets/controls",
          "model_name": "DescriptionStyleModel",
          "state": {
            "_view_name": "StyleView",
            "_model_name": "DescriptionStyleModel",
            "description_width": "",
            "_view_module": "@jupyter-widgets/base",
            "_model_module_version": "1.5.0",
            "_view_count": null,
            "_view_module_version": "1.2.0",
            "_model_module": "@jupyter-widgets/controls"
          }
        },
        "36943d3d60eb4be09ca1612dd2dcdc1f": {
          "model_module": "@jupyter-widgets/base",
          "model_name": "LayoutModel",
          "state": {
            "_view_name": "LayoutView",
            "grid_template_rows": null,
            "right": null,
            "justify_content": null,
            "_view_module": "@jupyter-widgets/base",
            "overflow": null,
            "_model_module_version": "1.2.0",
            "_view_count": null,
            "flex_flow": null,
            "width": null,
            "min_width": null,
            "border": null,
            "align_items": null,
            "bottom": null,
            "_model_module": "@jupyter-widgets/base",
            "top": null,
            "grid_column": null,
            "overflow_y": null,
            "overflow_x": null,
            "grid_auto_flow": null,
            "grid_area": null,
            "grid_template_columns": null,
            "flex": null,
            "_model_name": "LayoutModel",
            "justify_items": null,
            "grid_row": null,
            "max_height": null,
            "align_content": null,
            "visibility": null,
            "align_self": null,
            "height": null,
            "min_height": null,
            "padding": null,
            "grid_auto_rows": null,
            "grid_gap": null,
            "max_width": null,
            "order": null,
            "_view_module_version": "1.2.0",
            "grid_template_areas": null,
            "object_position": null,
            "object_fit": null,
            "grid_auto_columns": null,
            "margin": null,
            "display": null,
            "left": null
          }
        },
        "0cec8f0407bd42378b0cc98d6edc77ce": {
          "model_module": "@jupyter-widgets/controls",
          "model_name": "HBoxModel",
          "state": {
            "_view_name": "HBoxView",
            "_dom_classes": [],
            "_model_name": "HBoxModel",
            "_view_module": "@jupyter-widgets/controls",
            "_model_module_version": "1.5.0",
            "_view_count": null,
            "_view_module_version": "1.5.0",
            "box_style": "",
            "layout": "IPY_MODEL_65b2fd705631453cacdae28135d8b311",
            "_model_module": "@jupyter-widgets/controls",
            "children": [
              "IPY_MODEL_1513cbb394044d2aae9bd31fdc24d2d7",
              "IPY_MODEL_cbaa5e7d94424d1aaf7997d28a5e479e"
            ]
          }
        },
        "65b2fd705631453cacdae28135d8b311": {
          "model_module": "@jupyter-widgets/base",
          "model_name": "LayoutModel",
          "state": {
            "_view_name": "LayoutView",
            "grid_template_rows": null,
            "right": null,
            "justify_content": null,
            "_view_module": "@jupyter-widgets/base",
            "overflow": null,
            "_model_module_version": "1.2.0",
            "_view_count": null,
            "flex_flow": null,
            "width": null,
            "min_width": null,
            "border": null,
            "align_items": null,
            "bottom": null,
            "_model_module": "@jupyter-widgets/base",
            "top": null,
            "grid_column": null,
            "overflow_y": null,
            "overflow_x": null,
            "grid_auto_flow": null,
            "grid_area": null,
            "grid_template_columns": null,
            "flex": null,
            "_model_name": "LayoutModel",
            "justify_items": null,
            "grid_row": null,
            "max_height": null,
            "align_content": null,
            "visibility": null,
            "align_self": null,
            "height": null,
            "min_height": null,
            "padding": null,
            "grid_auto_rows": null,
            "grid_gap": null,
            "max_width": null,
            "order": null,
            "_view_module_version": "1.2.0",
            "grid_template_areas": null,
            "object_position": null,
            "object_fit": null,
            "grid_auto_columns": null,
            "margin": null,
            "display": null,
            "left": null
          }
        },
        "1513cbb394044d2aae9bd31fdc24d2d7": {
          "model_module": "@jupyter-widgets/controls",
          "model_name": "FloatProgressModel",
          "state": {
            "_view_name": "ProgressView",
            "style": "IPY_MODEL_55a7c63a25994e678b351522f9d8228a",
            "_dom_classes": [],
            "description": "100%",
            "_model_name": "FloatProgressModel",
            "bar_style": "success",
            "max": 75000,
            "_view_module": "@jupyter-widgets/controls",
            "_model_module_version": "1.5.0",
            "value": 75000,
            "_view_count": null,
            "_view_module_version": "1.5.0",
            "orientation": "horizontal",
            "min": 0,
            "description_tooltip": null,
            "_model_module": "@jupyter-widgets/controls",
            "layout": "IPY_MODEL_cd9fcf6f002d4b779b1293c35e2a288e"
          }
        },
        "cbaa5e7d94424d1aaf7997d28a5e479e": {
          "model_module": "@jupyter-widgets/controls",
          "model_name": "HTMLModel",
          "state": {
            "_view_name": "HTMLView",
            "style": "IPY_MODEL_a6f0c1bc29e1413a935397a94718473f",
            "_dom_classes": [],
            "description": "",
            "_model_name": "HTMLModel",
            "placeholder": "​",
            "_view_module": "@jupyter-widgets/controls",
            "_model_module_version": "1.5.0",
            "value": " 75000/75000 [03:46&lt;00:00, 331.11it/s]",
            "_view_count": null,
            "_view_module_version": "1.5.0",
            "description_tooltip": null,
            "_model_module": "@jupyter-widgets/controls",
            "layout": "IPY_MODEL_0e1b2a5093b24913b814e168ad275e80"
          }
        },
        "55a7c63a25994e678b351522f9d8228a": {
          "model_module": "@jupyter-widgets/controls",
          "model_name": "ProgressStyleModel",
          "state": {
            "_view_name": "StyleView",
            "_model_name": "ProgressStyleModel",
            "description_width": "initial",
            "_view_module": "@jupyter-widgets/base",
            "_model_module_version": "1.5.0",
            "_view_count": null,
            "_view_module_version": "1.2.0",
            "bar_color": null,
            "_model_module": "@jupyter-widgets/controls"
          }
        },
        "cd9fcf6f002d4b779b1293c35e2a288e": {
          "model_module": "@jupyter-widgets/base",
          "model_name": "LayoutModel",
          "state": {
            "_view_name": "LayoutView",
            "grid_template_rows": null,
            "right": null,
            "justify_content": null,
            "_view_module": "@jupyter-widgets/base",
            "overflow": null,
            "_model_module_version": "1.2.0",
            "_view_count": null,
            "flex_flow": null,
            "width": null,
            "min_width": null,
            "border": null,
            "align_items": null,
            "bottom": null,
            "_model_module": "@jupyter-widgets/base",
            "top": null,
            "grid_column": null,
            "overflow_y": null,
            "overflow_x": null,
            "grid_auto_flow": null,
            "grid_area": null,
            "grid_template_columns": null,
            "flex": null,
            "_model_name": "LayoutModel",
            "justify_items": null,
            "grid_row": null,
            "max_height": null,
            "align_content": null,
            "visibility": null,
            "align_self": null,
            "height": null,
            "min_height": null,
            "padding": null,
            "grid_auto_rows": null,
            "grid_gap": null,
            "max_width": null,
            "order": null,
            "_view_module_version": "1.2.0",
            "grid_template_areas": null,
            "object_position": null,
            "object_fit": null,
            "grid_auto_columns": null,
            "margin": null,
            "display": null,
            "left": null
          }
        },
        "a6f0c1bc29e1413a935397a94718473f": {
          "model_module": "@jupyter-widgets/controls",
          "model_name": "DescriptionStyleModel",
          "state": {
            "_view_name": "StyleView",
            "_model_name": "DescriptionStyleModel",
            "description_width": "",
            "_view_module": "@jupyter-widgets/base",
            "_model_module_version": "1.5.0",
            "_view_count": null,
            "_view_module_version": "1.2.0",
            "_model_module": "@jupyter-widgets/controls"
          }
        },
        "0e1b2a5093b24913b814e168ad275e80": {
          "model_module": "@jupyter-widgets/base",
          "model_name": "LayoutModel",
          "state": {
            "_view_name": "LayoutView",
            "grid_template_rows": null,
            "right": null,
            "justify_content": null,
            "_view_module": "@jupyter-widgets/base",
            "overflow": null,
            "_model_module_version": "1.2.0",
            "_view_count": null,
            "flex_flow": null,
            "width": null,
            "min_width": null,
            "border": null,
            "align_items": null,
            "bottom": null,
            "_model_module": "@jupyter-widgets/base",
            "top": null,
            "grid_column": null,
            "overflow_y": null,
            "overflow_x": null,
            "grid_auto_flow": null,
            "grid_area": null,
            "grid_template_columns": null,
            "flex": null,
            "_model_name": "LayoutModel",
            "justify_items": null,
            "grid_row": null,
            "max_height": null,
            "align_content": null,
            "visibility": null,
            "align_self": null,
            "height": null,
            "min_height": null,
            "padding": null,
            "grid_auto_rows": null,
            "grid_gap": null,
            "max_width": null,
            "order": null,
            "_view_module_version": "1.2.0",
            "grid_template_areas": null,
            "object_position": null,
            "object_fit": null,
            "grid_auto_columns": null,
            "margin": null,
            "display": null,
            "left": null
          }
        },
        "f6ef411a87254084a67766e6fe3f716c": {
          "model_module": "@jupyter-widgets/controls",
          "model_name": "HBoxModel",
          "state": {
            "_view_name": "HBoxView",
            "_dom_classes": [],
            "_model_name": "HBoxModel",
            "_view_module": "@jupyter-widgets/controls",
            "_model_module_version": "1.5.0",
            "_view_count": null,
            "_view_module_version": "1.5.0",
            "box_style": "",
            "layout": "IPY_MODEL_b0987fc84146442b9eaaab9ddf1bfb58",
            "_model_module": "@jupyter-widgets/controls",
            "children": [
              "IPY_MODEL_c588fdf089154e48ade08a6b28d7301e",
              "IPY_MODEL_aa0a03f07b6b4a1ebf92e5f161ff4a4b"
            ]
          }
        },
        "b0987fc84146442b9eaaab9ddf1bfb58": {
          "model_module": "@jupyter-widgets/base",
          "model_name": "LayoutModel",
          "state": {
            "_view_name": "LayoutView",
            "grid_template_rows": null,
            "right": null,
            "justify_content": null,
            "_view_module": "@jupyter-widgets/base",
            "overflow": null,
            "_model_module_version": "1.2.0",
            "_view_count": null,
            "flex_flow": null,
            "width": null,
            "min_width": null,
            "border": null,
            "align_items": null,
            "bottom": null,
            "_model_module": "@jupyter-widgets/base",
            "top": null,
            "grid_column": null,
            "overflow_y": null,
            "overflow_x": null,
            "grid_auto_flow": null,
            "grid_area": null,
            "grid_template_columns": null,
            "flex": null,
            "_model_name": "LayoutModel",
            "justify_items": null,
            "grid_row": null,
            "max_height": null,
            "align_content": null,
            "visibility": null,
            "align_self": null,
            "height": null,
            "min_height": null,
            "padding": null,
            "grid_auto_rows": null,
            "grid_gap": null,
            "max_width": null,
            "order": null,
            "_view_module_version": "1.2.0",
            "grid_template_areas": null,
            "object_position": null,
            "object_fit": null,
            "grid_auto_columns": null,
            "margin": null,
            "display": null,
            "left": null
          }
        },
        "c588fdf089154e48ade08a6b28d7301e": {
          "model_module": "@jupyter-widgets/controls",
          "model_name": "FloatProgressModel",
          "state": {
            "_view_name": "ProgressView",
            "style": "IPY_MODEL_37ff6fb2369b4bb1be8a1990e2d601a6",
            "_dom_classes": [],
            "description": "  5%",
            "_model_name": "FloatProgressModel",
            "bar_style": "danger",
            "max": 100,
            "_view_module": "@jupyter-widgets/controls",
            "_model_module_version": "1.5.0",
            "value": 5,
            "_view_count": null,
            "_view_module_version": "1.5.0",
            "orientation": "horizontal",
            "min": 0,
            "description_tooltip": null,
            "_model_module": "@jupyter-widgets/controls",
            "layout": "IPY_MODEL_d033d39eb3d84e2f90740fb4c612aded"
          }
        },
        "aa0a03f07b6b4a1ebf92e5f161ff4a4b": {
          "model_module": "@jupyter-widgets/controls",
          "model_name": "HTMLModel",
          "state": {
            "_view_name": "HTMLView",
            "style": "IPY_MODEL_93f944836b73425087190c9aa3717b22",
            "_dom_classes": [],
            "description": "",
            "_model_name": "HTMLModel",
            "placeholder": "​",
            "_view_module": "@jupyter-widgets/controls",
            "_model_module_version": "1.5.0",
            "value": " 5/100 [01:13&lt;22:20, 14.11s/it]",
            "_view_count": null,
            "_view_module_version": "1.5.0",
            "description_tooltip": null,
            "_model_module": "@jupyter-widgets/controls",
            "layout": "IPY_MODEL_7f428703c30342a2a740716686184889"
          }
        },
        "37ff6fb2369b4bb1be8a1990e2d601a6": {
          "model_module": "@jupyter-widgets/controls",
          "model_name": "ProgressStyleModel",
          "state": {
            "_view_name": "StyleView",
            "_model_name": "ProgressStyleModel",
            "description_width": "initial",
            "_view_module": "@jupyter-widgets/base",
            "_model_module_version": "1.5.0",
            "_view_count": null,
            "_view_module_version": "1.2.0",
            "bar_color": null,
            "_model_module": "@jupyter-widgets/controls"
          }
        },
        "d033d39eb3d84e2f90740fb4c612aded": {
          "model_module": "@jupyter-widgets/base",
          "model_name": "LayoutModel",
          "state": {
            "_view_name": "LayoutView",
            "grid_template_rows": null,
            "right": null,
            "justify_content": null,
            "_view_module": "@jupyter-widgets/base",
            "overflow": null,
            "_model_module_version": "1.2.0",
            "_view_count": null,
            "flex_flow": null,
            "width": null,
            "min_width": null,
            "border": null,
            "align_items": null,
            "bottom": null,
            "_model_module": "@jupyter-widgets/base",
            "top": null,
            "grid_column": null,
            "overflow_y": null,
            "overflow_x": null,
            "grid_auto_flow": null,
            "grid_area": null,
            "grid_template_columns": null,
            "flex": null,
            "_model_name": "LayoutModel",
            "justify_items": null,
            "grid_row": null,
            "max_height": null,
            "align_content": null,
            "visibility": null,
            "align_self": null,
            "height": null,
            "min_height": null,
            "padding": null,
            "grid_auto_rows": null,
            "grid_gap": null,
            "max_width": null,
            "order": null,
            "_view_module_version": "1.2.0",
            "grid_template_areas": null,
            "object_position": null,
            "object_fit": null,
            "grid_auto_columns": null,
            "margin": null,
            "display": null,
            "left": null
          }
        },
        "93f944836b73425087190c9aa3717b22": {
          "model_module": "@jupyter-widgets/controls",
          "model_name": "DescriptionStyleModel",
          "state": {
            "_view_name": "StyleView",
            "_model_name": "DescriptionStyleModel",
            "description_width": "",
            "_view_module": "@jupyter-widgets/base",
            "_model_module_version": "1.5.0",
            "_view_count": null,
            "_view_module_version": "1.2.0",
            "_model_module": "@jupyter-widgets/controls"
          }
        },
        "7f428703c30342a2a740716686184889": {
          "model_module": "@jupyter-widgets/base",
          "model_name": "LayoutModel",
          "state": {
            "_view_name": "LayoutView",
            "grid_template_rows": null,
            "right": null,
            "justify_content": null,
            "_view_module": "@jupyter-widgets/base",
            "overflow": null,
            "_model_module_version": "1.2.0",
            "_view_count": null,
            "flex_flow": null,
            "width": null,
            "min_width": null,
            "border": null,
            "align_items": null,
            "bottom": null,
            "_model_module": "@jupyter-widgets/base",
            "top": null,
            "grid_column": null,
            "overflow_y": null,
            "overflow_x": null,
            "grid_auto_flow": null,
            "grid_area": null,
            "grid_template_columns": null,
            "flex": null,
            "_model_name": "LayoutModel",
            "justify_items": null,
            "grid_row": null,
            "max_height": null,
            "align_content": null,
            "visibility": null,
            "align_self": null,
            "height": null,
            "min_height": null,
            "padding": null,
            "grid_auto_rows": null,
            "grid_gap": null,
            "max_width": null,
            "order": null,
            "_view_module_version": "1.2.0",
            "grid_template_areas": null,
            "object_position": null,
            "object_fit": null,
            "grid_auto_columns": null,
            "margin": null,
            "display": null,
            "left": null
          }
        }
      }
    }
  },
  "cells": [
    {
      "cell_type": "markdown",
      "metadata": {
        "id": "view-in-github",
        "colab_type": "text"
      },
      "source": [
        "<a href=\"https://colab.research.google.com/github/erezimm/ML-ML/blob/master/DeepSet2.ipynb\" target=\"_parent\"><img src=\"https://colab.research.google.com/assets/colab-badge.svg\" alt=\"Open In Colab\"/></a>"
      ]
    },
    {
      "cell_type": "markdown",
      "metadata": {
        "id": "OCU4DoTLIIoO",
        "colab_type": "text"
      },
      "source": [
        "# Main notebook, to be run on Google Colab"
      ]
    },
    {
      "cell_type": "markdown",
      "metadata": {
        "id": "PWYU8-BTJ-XN",
        "colab_type": "text"
      },
      "source": [
        "## Import dependencies and download dataset"
      ]
    },
    {
      "cell_type": "code",
      "metadata": {
        "id": "L5E9Y_nnn3m8",
        "colab_type": "code",
        "colab": {
          "base_uri": "https://localhost:8080/",
          "height": 564
        },
        "outputId": "396e6882-204d-40bb-835b-f625e67ff4c6"
      },
      "source": [
        "!pip install dgl\n",
        "\n",
        "import glob\n",
        "import os\n",
        "import shutil\n",
        "from datetime import datetime\n",
        "\n",
        "import astropy.io.ascii\n",
        "import dgl\n",
        "import matplotlib.pyplot as plt\n",
        "import networkx as nx\n",
        "import numpy as np\n",
        "import torch\n",
        "import torch.nn as nn\n",
        "import torch.optim as optim\n",
        "from torch.utils.data import Dataset, DataLoader\n",
        "from tqdm.notebook import tqdm\n",
        "\n",
        "if not torch.cuda.is_available():\n",
        "    raise Exception('Cuda unavailable, turn it on under Runtime>Change runtime type>GPU')\n",
        "device = torch.device('cuda')\n",
        "\n",
        "!wget -O /content/master https://www.dropbox.com/s/8mplpd13feqijag/master?dl=1\n",
        "\n",
        "\n",
        "\n",
        "# validation_path = '/content/valid/data'\n",
        "# training_path = '/content/train/data'\n",
        "# data_path = '/content/data/data'\n",
        "# microlist = glob.glob(data_path+'/microlensedconst_*')\n",
        "# varlist = glob.glob(data_path+'/cleanvar_*')\n",
        "# for typelist in (microlist, varlist):\n",
        "#     for i, f in enumerate(typelist):\n",
        "#         dest = training_path if i<len(microlist)/2 else validation_path\n",
        "#         shutil.move(f, os.path.join(dest, os.path.basename(f)))"
      ],
      "execution_count": 3,
      "outputs": [
        {
          "output_type": "stream",
          "text": [
            "Requirement already satisfied: dgl in /usr/local/lib/python3.6/dist-packages (0.4.3.post2)\n",
            "Requirement already satisfied: networkx>=2.1 in /usr/local/lib/python3.6/dist-packages (from dgl) (2.4)\n",
            "Requirement already satisfied: requests>=2.19.0 in /usr/local/lib/python3.6/dist-packages (from dgl) (2.23.0)\n",
            "Requirement already satisfied: scipy>=1.1.0 in /usr/local/lib/python3.6/dist-packages (from dgl) (1.4.1)\n",
            "Requirement already satisfied: numpy>=1.14.0 in /usr/local/lib/python3.6/dist-packages (from dgl) (1.18.5)\n",
            "Requirement already satisfied: decorator>=4.3.0 in /usr/local/lib/python3.6/dist-packages (from networkx>=2.1->dgl) (4.4.2)\n",
            "Requirement already satisfied: urllib3!=1.25.0,!=1.25.1,<1.26,>=1.21.1 in /usr/local/lib/python3.6/dist-packages (from requests>=2.19.0->dgl) (1.24.3)\n",
            "Requirement already satisfied: chardet<4,>=3.0.2 in /usr/local/lib/python3.6/dist-packages (from requests>=2.19.0->dgl) (3.0.4)\n",
            "Requirement already satisfied: certifi>=2017.4.17 in /usr/local/lib/python3.6/dist-packages (from requests>=2.19.0->dgl) (2020.6.20)\n",
            "Requirement already satisfied: idna<3,>=2.5 in /usr/local/lib/python3.6/dist-packages (from requests>=2.19.0->dgl) (2.10)\n"
          ],
          "name": "stdout"
        },
        {
          "output_type": "stream",
          "text": [
            "Using backend: pytorch\n"
          ],
          "name": "stderr"
        },
        {
          "output_type": "stream",
          "text": [
            "--2020-08-18 13:40:03--  https://www.dropbox.com/s/8mplpd13feqijag/master?dl=1\n",
            "Resolving www.dropbox.com (www.dropbox.com)... 162.125.5.1, 2620:100:601d:1::a27d:501\n",
            "Connecting to www.dropbox.com (www.dropbox.com)|162.125.5.1|:443... connected.\n",
            "HTTP request sent, awaiting response... 301 Moved Permanently\n",
            "Location: /s/dl/8mplpd13feqijag/master [following]\n",
            "--2020-08-18 13:40:04--  https://www.dropbox.com/s/dl/8mplpd13feqijag/master\n",
            "Reusing existing connection to www.dropbox.com:443.\n",
            "HTTP request sent, awaiting response... 302 Found\n",
            "Location: https://ucd820f28d757dc2227f86df5b47.dl.dropboxusercontent.com/cd/0/get/A9uIxK4pHhVthMCJ4RzmER9YKOzGqzSS1q1ilPYhCZghR6VLS5pRsRG27IiB5HxjbwsAWA9XOg_9eXF9bD9VAH0P37noRMQYWtmRkGbiXpEiKG0KeeqTb0JUTMZvBvYrWJQ/file?dl=1# [following]\n",
            "--2020-08-18 13:40:04--  https://ucd820f28d757dc2227f86df5b47.dl.dropboxusercontent.com/cd/0/get/A9uIxK4pHhVthMCJ4RzmER9YKOzGqzSS1q1ilPYhCZghR6VLS5pRsRG27IiB5HxjbwsAWA9XOg_9eXF9bD9VAH0P37noRMQYWtmRkGbiXpEiKG0KeeqTb0JUTMZvBvYrWJQ/file?dl=1\n",
            "Resolving ucd820f28d757dc2227f86df5b47.dl.dropboxusercontent.com (ucd820f28d757dc2227f86df5b47.dl.dropboxusercontent.com)... 162.125.5.15, 2620:100:601d:15::a27d:50f\n",
            "Connecting to ucd820f28d757dc2227f86df5b47.dl.dropboxusercontent.com (ucd820f28d757dc2227f86df5b47.dl.dropboxusercontent.com)|162.125.5.15|:443... connected.\n",
            "HTTP request sent, awaiting response... 200 OK\n",
            "Length: 2349268959 (2.2G) [application/binary]\n",
            "Saving to: ‘/content/master’\n",
            "\n",
            "/content/master     100%[===================>]   2.19G  68.8MB/s    in 36s     \n",
            "\n",
            "2020-08-18 13:40:41 (62.2 MB/s) - ‘/content/master’ saved [2349268959/2349268959]\n",
            "\n"
          ],
          "name": "stdout"
        }
      ]
    },
    {
      "cell_type": "code",
      "metadata": {
        "id": "C9UGhWZOmUYs",
        "colab_type": "code",
        "colab": {
          "base_uri": "https://localhost:8080/",
          "height": 66,
          "referenced_widgets": [
            "8ab7c39398c1412aa2b82897888476b5",
            "b705d327f6744b2d91f99f415db767da",
            "ca1a989be60843c38eb14b5268a467b7",
            "7a00b999439d43f384f1c297083f1f66",
            "610470a6f43c47059b84043ad3f4a207",
            "40212432b8804b93aba4e9e4ccecfef7",
            "e7b57779c48b47a5b985dfcf7bd8e3df",
            "5a653bd2be1e4aa68b3f2c48fdc2890d"
          ]
        },
        "outputId": "9d2989be-5084-4347-d2d4-f85a4cf94e2c"
      },
      "source": [
        "N = 75000\n",
        "truelist, falselist = [], []\n",
        "with open('/content/master','r') as f:\n",
        "    for datum in tqdm(f.read().split('---\\n')):\n",
        "        if len(falselist)>=2*N and len(truelist)>=2*N:\n",
        "            break\n",
        "        times, mags, magerrs = [],[],[]\n",
        "        for i, l in enumerate(datum.splitlines()):\n",
        "            if i>0:\n",
        "                t,mag,magerr = l.split()\n",
        "                t,mag,magerr = float(t),float(mag),float(magerr)\n",
        "                times.append(t)\n",
        "                mags.append(mag)\n",
        "                magerrs.append(magerr)\n",
        "        if datum.startswith('microlensed\\n') and len(truelist)<2*N: \n",
        "            truelist.append((times, mags, magerrs))\n",
        "        elif len(falselist)<2*N: \n",
        "            falselist.append((times, mags, magerrs))\n",
        "\n",
        "print('Microlensed:',len(truelist),'Non:',len(falselist))\n",
        "\n",
        "\n",
        "\n",
        "true1, false1 = truelist[:N], falselist[:N]\n",
        "true2, false2 = truelist[N:], falselist[N:]\n",
        "del truelist\n",
        "del falselist"
      ],
      "execution_count": 20,
      "outputs": [
        {
          "output_type": "display_data",
          "data": {
            "application/vnd.jupyter.widget-view+json": {
              "model_id": "8ab7c39398c1412aa2b82897888476b5",
              "version_minor": 0,
              "version_major": 2
            },
            "text/plain": [
              "HBox(children=(FloatProgress(value=0.0, max=1958645.0), HTML(value='')))"
            ]
          },
          "metadata": {
            "tags": []
          }
        },
        {
          "output_type": "stream",
          "text": [
            "Microlensed: 150000 Non: 150000\n"
          ],
          "name": "stdout"
        }
      ]
    },
    {
      "cell_type": "markdown",
      "metadata": {
        "id": "ff2ASGtVn3nB",
        "colab_type": "text"
      },
      "source": [
        "## Create Datasets\n",
        "Class CustomDataset loads all files and converts them to a list of graphs.\n",
        "Each node in a graph is a data point, i.e. node features are days since start, mag, magerr"
      ]
    },
    {
      "cell_type": "code",
      "metadata": {
        "id": "gieg9XH9wSdq",
        "colab_type": "code",
        "colab": {
          "base_uri": "https://localhost:8080/",
          "height": 34
        },
        "outputId": "c36cd547-ff9d-426a-e039-3a1109b6d4da"
      },
      "source": [
        "a=[1,2,3,4,5,6]\n",
        "a[2:4]"
      ],
      "execution_count": 21,
      "outputs": [
        {
          "output_type": "execute_result",
          "data": {
            "text/plain": [
              "[3, 4]"
            ]
          },
          "metadata": {
            "tags": []
          },
          "execution_count": 21
        }
      ]
    },
    {
      "cell_type": "code",
      "metadata": {
        "id": "zSLI4uNYn3nB",
        "colab_type": "code",
        "colab": {
          "base_uri": "https://localhost:8080/",
          "height": 505,
          "referenced_widgets": [
            "f8c324df0c8a4d569f4408dc1dd731e7",
            "21040dfdeb9442d3ac80b873358b385c",
            "e1b3f9bb7f214d328366d66ebcd16c04",
            "fc2d431cb71148edae0f5cb33a907749",
            "c05cb110d1784323bad9ca2525a07a4d",
            "3a1ee70213334744acfbd6d336dc83b8",
            "73b0b2671b854ba9a611e153a745e841",
            "36943d3d60eb4be09ca1612dd2dcdc1f",
            "0cec8f0407bd42378b0cc98d6edc77ce",
            "65b2fd705631453cacdae28135d8b311",
            "1513cbb394044d2aae9bd31fdc24d2d7",
            "cbaa5e7d94424d1aaf7997d28a5e479e",
            "55a7c63a25994e678b351522f9d8228a",
            "cd9fcf6f002d4b779b1293c35e2a288e",
            "a6f0c1bc29e1413a935397a94718473f",
            "0e1b2a5093b24913b814e168ad275e80"
          ]
        },
        "outputId": "7002f228-12fc-4ee8-db6c-09b9b7d12d92"
      },
      "source": [
        "class CustomDataset(Dataset):\n",
        "    def __init__(self, truelist,falselist):\n",
        "        self.graphs = []\n",
        "        self.isMicrolensed = []\n",
        "\n",
        "        listdict = {True:truelist, False:falselist}\n",
        "        for k in (False, True):\n",
        "            for times, mags, magerrs in tqdm(listdict[k]):\n",
        "                times, mags, magerrs =torch.tensor(times), torch.tensor(mags), torch.tensor(magerrs)\n",
        "\n",
        "                if len(times)==0:\n",
        "                    continue\n",
        "\n",
        "                times = times - min(times)\n",
        "                flux = 10 ** (mags/(-2.5))\n",
        "                medflux = torch.median(flux)\n",
        "                flux = flux/medflux\n",
        "                fluxerr = flux * magerrs * np.log(10) * 0.4 / medflux\n",
        "\n",
        "                n = len(times)\n",
        "                g = dgl.DGLGraph()\n",
        "                g.add_nodes(n)\n",
        "                g.ndata['time'] = torch.tensor(times).float()  # days\n",
        "                g.ndata['mag'] = torch.tensor(flux).float()\n",
        "                g.ndata['magerr'] = torch.tensor(fluxerr).float()\n",
        "\n",
        "\n",
        "                #g.add_edges([i for i in range(n)], [(i+1)%n for i in range(n)])\n",
        "                #g.add_edges([i for i in range(n)], [(i-1)%n for i in range(n)])\n",
        "                \n",
        "                self.graphs.append(g)\n",
        "                self.isMicrolensed.append(torch.tensor([1]) if k else torch.tensor([0]))\n",
        "        \n",
        "    def __len__(self):\n",
        "        return len(self.graphs)\n",
        "\n",
        "    def __getitem__(self, idx):\n",
        "        return self.graphs[idx], self.isMicrolensed[idx]\n",
        "\n",
        "\n",
        "\n",
        "train_ds = CustomDataset(true1, false1)\n",
        "del true1\n",
        "del false1\n",
        "\n",
        "nx.draw(dgl.to_networkx(train_ds[20][0]))\n",
        "\n",
        "trainflags = [0+a for _, a in train_ds]\n",
        "print('train:', sum(trainflags), len(trainflags)-sum(trainflags))\n",
        "\n"
      ],
      "execution_count": 22,
      "outputs": [
        {
          "output_type": "display_data",
          "data": {
            "application/vnd.jupyter.widget-view+json": {
              "model_id": "f8c324df0c8a4d569f4408dc1dd731e7",
              "version_minor": 0,
              "version_major": 2
            },
            "text/plain": [
              "HBox(children=(FloatProgress(value=0.0, max=75000.0), HTML(value='')))"
            ]
          },
          "metadata": {
            "tags": []
          }
        },
        {
          "output_type": "stream",
          "text": [
            "/usr/local/lib/python3.6/dist-packages/ipykernel_launcher.py:23: UserWarning: To copy construct from a tensor, it is recommended to use sourceTensor.clone().detach() or sourceTensor.clone().detach().requires_grad_(True), rather than torch.tensor(sourceTensor).\n",
            "/usr/local/lib/python3.6/dist-packages/ipykernel_launcher.py:24: UserWarning: To copy construct from a tensor, it is recommended to use sourceTensor.clone().detach() or sourceTensor.clone().detach().requires_grad_(True), rather than torch.tensor(sourceTensor).\n",
            "/usr/local/lib/python3.6/dist-packages/ipykernel_launcher.py:25: UserWarning: To copy construct from a tensor, it is recommended to use sourceTensor.clone().detach() or sourceTensor.clone().detach().requires_grad_(True), rather than torch.tensor(sourceTensor).\n"
          ],
          "name": "stderr"
        },
        {
          "output_type": "stream",
          "text": [
            "\n"
          ],
          "name": "stdout"
        },
        {
          "output_type": "display_data",
          "data": {
            "application/vnd.jupyter.widget-view+json": {
              "model_id": "0cec8f0407bd42378b0cc98d6edc77ce",
              "version_minor": 0,
              "version_major": 2
            },
            "text/plain": [
              "HBox(children=(FloatProgress(value=0.0, max=75000.0), HTML(value='')))"
            ]
          },
          "metadata": {
            "tags": []
          }
        },
        {
          "output_type": "stream",
          "text": [
            "\n",
            "train: tensor([75000]) tensor([74999])\n"
          ],
          "name": "stdout"
        },
        {
          "output_type": "display_data",
          "data": {
            "image/png": "[encoded data removed]",
            "text/plain": [
              "<Figure size 432x288 with 1 Axes>"
            ]
          },
          "metadata": {
            "tags": []
          }
        }
      ]
    },
    {
      "cell_type": "code",
      "metadata": {
        "id": "KnD7mWfjn3nK",
        "colab_type": "code",
        "colab": {}
      },
      "source": [
        "def collate(samples):\n",
        "    # The input `samples` is a list, a batch of whatever comes out of your dataset object\n",
        "    graphs = [x[0] for x in samples]\n",
        "    labels = [x[1] for x in samples]\n",
        "    \n",
        "    batched_graph = dgl.batch(graphs, node_attrs=['time', 'mag', 'magerr'])\n",
        "    targets = torch.cat(labels)\n",
        "\n",
        "    return batched_graph, targets.unsqueeze(1).float()"
      ],
      "execution_count": 23,
      "outputs": []
    },
    {
      "cell_type": "markdown",
      "metadata": {
        "id": "FGDTIcKIuGW2",
        "colab_type": "text"
      },
      "source": [
        "## The Network"
      ]
    },
    {
      "cell_type": "code",
      "metadata": {
        "id": "soJyGlbvMErI",
        "colab_type": "code",
        "colab": {}
      },
      "source": [
        "layers = [10,10]  # hidden layers in the DeepSetLayer\n",
        "outputsize = 7  # length of the representation passed to the final network\n",
        "cllayers = [10,5,5]  # hidden layers in the final network (takes outputsize, returns a scalar which is the classification)"
      ],
      "execution_count": 24,
      "outputs": []
    },
    {
      "cell_type": "code",
      "metadata": {
        "id": "Xb2gAmYhiELn",
        "colab_type": "code",
        "colab": {}
      },
      "source": [
        "def build_layers(inp,out,sizes):\n",
        "    sizes = [inp]+sizes+[out]\n",
        "    layers = []\n",
        "    for i in range(len(sizes)-1):\n",
        "        layers.extend([nn.Linear(sizes[i], sizes[i+1]), nn.LeakyReLU()])\n",
        "    \n",
        "    return layers"
      ],
      "execution_count": 25,
      "outputs": []
    },
    {
      "cell_type": "code",
      "metadata": {
        "id": "iO90uxpOLy76",
        "colab_type": "code",
        "colab": {}
      },
      "source": [
        "# #Deep Set\n",
        "\n",
        "class DeepSet(nn.Module):\n",
        "\n",
        "    def __init__(self, config):\n",
        "        super(DeepSet, self).__init__()\n",
        "\n",
        "        self.config = config\n",
        "\n",
        "        self.layers = nn.ModuleList()\n",
        "\n",
        "        self.layers.append(DeepSetLayer(config['inputsize'], config['layers'][0], config['inputs'], config['output'] ))\n",
        "\n",
        "        n_layers = len(config['layers'])\n",
        "\n",
        "        for i in range(n_layers - 1):\n",
        "\n",
        "            self.layers.append(DeepSetLayer(config['inputsize']+ config['layers'][i],\n",
        "                                            config['layers'][i+1], \n",
        "                                            config['inputs'] + [config['output']], \n",
        "                                            config['output']))\n",
        "            \n",
        "\n",
        "        self.layers.append(DeepSetLayer(config['inputsize']+ config['layers'][-1],\n",
        "                                            config['outputsize'], \n",
        "                                            config['inputs'] + [config['output']],\n",
        "                                            config['output']))  \n",
        "\n",
        "        layers = build_layers(config['outputsize'], 2, config['cllayers'])  # OFEK chnaged to output=2\n",
        "        self.classifier = nn.Sequential(*(layers+ [nn.Softmax()]))  # OFEK added SoftMax\n",
        "    \n",
        "    def forward(self, g):\n",
        "\n",
        "        for layer in self.layers:\n",
        "            \n",
        "            g = layer(g) \n",
        "\n",
        "        mean_nodes= dgl.mean_nodes(g, 'node_embed', weight = None)\n",
        "        output = self.classifier(mean_nodes)\n",
        "\n",
        "\n",
        "        return output \n"
      ],
      "execution_count": 26,
      "outputs": []
    },
    {
      "cell_type": "code",
      "metadata": {
        "id": "2TODvj6AMLJP",
        "colab_type": "code",
        "colab": {}
      },
      "source": [
        "class DeepSetLayer(nn.Module):\n",
        "    def __init__(self, inputsize, outputsize, inputnames, outputname):\n",
        "        \n",
        "\n",
        "\n",
        "        super(DeepSetLayer,self).__init__()\n",
        "\n",
        "        self.inputs      = inputnames\n",
        "        self.outputname = outputname\n",
        "\n",
        "\n",
        "  \n",
        "\n",
        "        layers = build_layers(inputsize, outputsize, [int(0.5*(outputsize + inputsize)   )])\n",
        "\n",
        "        self.node_embedd = nn.Sequential(*layers)\n",
        "\n",
        "        layers = build_layers(outputsize + inputsize, outputsize,[ int( 0.5*(outputsize + inputsize)) ] )\n",
        "\n",
        "        self.node_update = nn.Sequential(*layers)\n",
        "\n",
        "\n",
        "\n",
        "    def forward(self, g):\n",
        "\n",
        "        gn = [g.ndata[inputname] for inputname in self.inputs]\n",
        "        unsqdim = max(max([len(n.shape) for n in gn]),2)\n",
        "        tocat = []\n",
        "        for n in gn:\n",
        "            t = n\n",
        "            for _ in range(unsqdim-len(n.shape)):\n",
        "                t = t.unsqueeze(-1)\n",
        "            tocat.append(t)\n",
        "            # print(t.shape)\n",
        "        node_data = torch.cat(tocat, dim=1)\n",
        "\n",
        "        g.ndata['node_embed'] = self.node_embedd(node_data)\n",
        "\n",
        "\n",
        "        node_sum = dgl.mean_nodes(g, 'node_embed', weight = None)  #Global representation of graph \n",
        "\n",
        "        g.ndata['mean_nodes'] = dgl.broadcast_nodes(g, node_sum)\n",
        "        \n",
        "        \n",
        "\n",
        "        gn = [g.ndata[inputname] for inputname in self.inputs] + [g.ndata['mean_nodes']]\n",
        "        unsqdim = max(max([len(n.shape) for n in gn]),2)\n",
        "        tocat = []\n",
        "        for n in gn:\n",
        "            t = n\n",
        "            for _ in range(unsqdim-len(n.shape)):\n",
        "                t = t.unsqueeze(-1)\n",
        "            tocat.append(t)\n",
        "            # print(t.shape)\n",
        "        node_update_input = torch.cat( tocat, dim=1  )\n",
        "\n",
        "        g.ndata[self.outputname] = self.node_update(node_update_input)\n",
        "\n",
        "\n",
        "        return g #contains global information \n"
      ],
      "execution_count": 27,
      "outputs": []
    },
    {
      "cell_type": "code",
      "metadata": {
        "id": "EZc6nI6TkmSC",
        "colab_type": "code",
        "colab": {
          "base_uri": "https://localhost:8080/",
          "height": 986
        },
        "outputId": "8b8fe07c-fd85-4133-e9be-7ec6d93f7104"
      },
      "source": [
        "net = DeepSet({'inputsize':3 , 'outputsize':outputsize, 'inputs':['time', 'mag', 'magerr'], 'output':'finalrep', 'layers':layers, 'cllayers':cllayers})\n",
        "net.to(device)"
      ],
      "execution_count": 47,
      "outputs": [
        {
          "output_type": "execute_result",
          "data": {
            "text/plain": [
              "DeepSet(\n",
              "  (layers): ModuleList(\n",
              "    (0): DeepSetLayer(\n",
              "      (node_embedd): Sequential(\n",
              "        (0): Linear(in_features=3, out_features=6, bias=True)\n",
              "        (1): LeakyReLU(negative_slope=0.01)\n",
              "        (2): Linear(in_features=6, out_features=10, bias=True)\n",
              "        (3): LeakyReLU(negative_slope=0.01)\n",
              "      )\n",
              "      (node_update): Sequential(\n",
              "        (0): Linear(in_features=13, out_features=6, bias=True)\n",
              "        (1): LeakyReLU(negative_slope=0.01)\n",
              "        (2): Linear(in_features=6, out_features=10, bias=True)\n",
              "        (3): LeakyReLU(negative_slope=0.01)\n",
              "      )\n",
              "    )\n",
              "    (1): DeepSetLayer(\n",
              "      (node_embedd): Sequential(\n",
              "        (0): Linear(in_features=13, out_features=11, bias=True)\n",
              "        (1): LeakyReLU(negative_slope=0.01)\n",
              "        (2): Linear(in_features=11, out_features=10, bias=True)\n",
              "        (3): LeakyReLU(negative_slope=0.01)\n",
              "      )\n",
              "      (node_update): Sequential(\n",
              "        (0): Linear(in_features=23, out_features=11, bias=True)\n",
              "        (1): LeakyReLU(negative_slope=0.01)\n",
              "        (2): Linear(in_features=11, out_features=10, bias=True)\n",
              "        (3): LeakyReLU(negative_slope=0.01)\n",
              "      )\n",
              "    )\n",
              "    (2): DeepSetLayer(\n",
              "      (node_embedd): Sequential(\n",
              "        (0): Linear(in_features=13, out_features=10, bias=True)\n",
              "        (1): LeakyReLU(negative_slope=0.01)\n",
              "        (2): Linear(in_features=10, out_features=7, bias=True)\n",
              "        (3): LeakyReLU(negative_slope=0.01)\n",
              "      )\n",
              "      (node_update): Sequential(\n",
              "        (0): Linear(in_features=20, out_features=10, bias=True)\n",
              "        (1): LeakyReLU(negative_slope=0.01)\n",
              "        (2): Linear(in_features=10, out_features=7, bias=True)\n",
              "        (3): LeakyReLU(negative_slope=0.01)\n",
              "      )\n",
              "    )\n",
              "  )\n",
              "  (classifier): Sequential(\n",
              "    (0): Linear(in_features=7, out_features=10, bias=True)\n",
              "    (1): LeakyReLU(negative_slope=0.01)\n",
              "    (2): Linear(in_features=10, out_features=5, bias=True)\n",
              "    (3): LeakyReLU(negative_slope=0.01)\n",
              "    (4): Linear(in_features=5, out_features=5, bias=True)\n",
              "    (5): LeakyReLU(negative_slope=0.01)\n",
              "    (6): Linear(in_features=5, out_features=2, bias=True)\n",
              "    (7): LeakyReLU(negative_slope=0.01)\n",
              "    (8): Softmax(dim=None)\n",
              "  )\n",
              ")"
            ]
          },
          "metadata": {
            "tags": []
          },
          "execution_count": 47
        }
      ]
    },
    {
      "cell_type": "code",
      "metadata": {
        "id": "XgrXh0Jdn3nb",
        "colab_type": "code",
        "colab": {}
      },
      "source": [
        "def evaluate(net, validation_ds):\n",
        "    test_data_loader = DataLoader(validation_ds, batch_size=1000, shuffle=True, collate_fn=collate)\n",
        "\n",
        "    net.cpu()\n",
        "    net.eval()\n",
        "\n",
        "    true_positive = 0\n",
        "    false_positive = 0\n",
        "    true_negative = 0\n",
        "    false_negative = 0\n",
        "    total_positives = 0\n",
        "    total_negatives = 0\n",
        "\n",
        "    for i, (x,y) in enumerate(test_data_loader):\n",
        "            y = y.data.numpy()\n",
        "            y = y.transpose()\n",
        "            prediction = net(x).cpu().data.numpy()\n",
        "            pred = (prediction[:,1]>prediction[:,0])\n",
        "            \n",
        "            total_positives+=len(np.where( y==1 )[0])\n",
        "            total_negatives+=len(np.where( y==0 )[0])\n",
        "            \n",
        "\n",
        "            true_positive+= len(np.where( (pred==1) & (y==1) )[0])\n",
        "            false_positive+= len(np.where( (pred==1) & (y==0) )[0])\n",
        "    # print(pred, prediction, y)\n",
        "    print('Probability of detection:', true_positive/total_positives)  # probability of recognizing a microlensing when you see it\n",
        "    print('Probability of false alarm:', false_positive/total_negatives)  # probability for misclassification of a variable star as microlensing"
      ],
      "execution_count": 48,
      "outputs": []
    },
    {
      "cell_type": "markdown",
      "metadata": {
        "id": "6x-ALDRlwBDo",
        "colab_type": "text"
      },
      "source": [
        "## Train"
      ]
    },
    {
      "cell_type": "code",
      "metadata": {
        "id": "dBHUZcTcXPO5",
        "colab_type": "code",
        "colab": {
          "base_uri": "https://localhost:8080/",
          "height": 545,
          "referenced_widgets": [
            "f6ef411a87254084a67766e6fe3f716c",
            "b0987fc84146442b9eaaab9ddf1bfb58",
            "c588fdf089154e48ade08a6b28d7301e",
            "aa0a03f07b6b4a1ebf92e5f161ff4a4b",
            "37ff6fb2369b4bb1be8a1990e2d601a6",
            "d033d39eb3d84e2f90740fb4c612aded",
            "93f944836b73425087190c9aa3717b22",
            "7f428703c30342a2a740716686184889"
          ]
        },
        "outputId": "e8bbe187-2370-47f3-a5b3-1bee9583fa3d"
      },
      "source": [
        "# options:\n",
        "# loss_func = nn.BCEWithLogitsLoss()\n",
        "# loss_func = nn.L1Loss()\n",
        "loss_func = nn.CrossEntropyLoss()\n",
        "#optimizer = optim.Adadelta(net.parameters(), lr=1)\n",
        "#optimizer = optim.SGD(net.parameters(), lr=0.01)\n",
        "optimizer = optim.Adam(net.parameters(), lr=0.0001)\n",
        "exp_lr_scheduler = torch.optim.lr_scheduler.StepLR(optimizer, step_size=20, gamma=0.5)\n",
        "\n",
        "n_epochs = 100\n",
        "\n",
        "losses = []\n",
        "\n",
        "data_loader = DataLoader(train_ds, batch_size=5000, shuffle=True, collate_fn=collate)\n",
        "for epoch in tqdm(range(n_epochs)):\n",
        "    net.train()\n",
        "    this_losses = []\n",
        "    for x,y in data_loader:\n",
        "        x, y = x.to(device), y.to(device)\n",
        "        optimizer.zero_grad()\n",
        "        output = net(x)\n",
        "        # print(output)\n",
        "        # output = torch.cat((1-output, output), dim=1)\n",
        "        # print(output)\n",
        "        loss = loss_func(output.squeeze(), y.long().squeeze())\n",
        "        this_losses.append(float(loss))\n",
        "        loss.backward()\n",
        "        optimizer.step()\n",
        "\n",
        "    losses.append(np.mean(this_losses))\n",
        "    print('Epoch:', epoch, 'Loss:', round(losses[-1], 4))  # for some real-time indication (couldn't manage to get this to dynamically plot)\n"
      ],
      "execution_count": 49,
      "outputs": [
        {
          "output_type": "display_data",
          "data": {
            "application/vnd.jupyter.widget-view+json": {
              "model_id": "f6ef411a87254084a67766e6fe3f716c",
              "version_minor": 0,
              "version_major": 2
            },
            "text/plain": [
              "HBox(children=(FloatProgress(value=0.0), HTML(value='')))"
            ]
          },
          "metadata": {
            "tags": []
          }
        },
        {
          "output_type": "stream",
          "text": [
            "/usr/local/lib/python3.6/dist-packages/torch/nn/modules/container.py:117: UserWarning: Implicit dimension choice for softmax has been deprecated. Change the call to include dim=X as an argument.\n",
            "  input = module(input)\n"
          ],
          "name": "stderr"
        },
        {
          "output_type": "stream",
          "text": [
            "Epoch: 0 Loss: 0.8133\n",
            "Epoch: 1 Loss: 0.8133\n",
            "Epoch: 2 Loss: 0.8133\n",
            "Epoch: 3 Loss: 0.8133\n",
            "Epoch: 4 Loss: 0.8133\n"
          ],
          "name": "stdout"
        },
        {
          "output_type": "error",
          "ename": "KeyboardInterrupt",
          "evalue": "ignored",
          "traceback": [
            "\u001b[0;31m---------------------------------------------------------------------------\u001b[0m",
            "\u001b[0;31mKeyboardInterrupt\u001b[0m                         Traceback (most recent call last)",
            "\u001b[0;32m<ipython-input-49-d66781f73f02>\u001b[0m in \u001b[0;36m<module>\u001b[0;34m()\u001b[0m\n\u001b[1;32m     16\u001b[0m     \u001b[0mnet\u001b[0m\u001b[0;34m.\u001b[0m\u001b[0mtrain\u001b[0m\u001b[0;34m(\u001b[0m\u001b[0;34m)\u001b[0m\u001b[0;34m\u001b[0m\u001b[0;34m\u001b[0m\u001b[0m\n\u001b[1;32m     17\u001b[0m     \u001b[0mthis_losses\u001b[0m \u001b[0;34m=\u001b[0m \u001b[0;34m[\u001b[0m\u001b[0;34m]\u001b[0m\u001b[0;34m\u001b[0m\u001b[0;34m\u001b[0m\u001b[0m\n\u001b[0;32m---> 18\u001b[0;31m     \u001b[0;32mfor\u001b[0m \u001b[0mx\u001b[0m\u001b[0;34m,\u001b[0m\u001b[0my\u001b[0m \u001b[0;32min\u001b[0m \u001b[0mdata_loader\u001b[0m\u001b[0;34m:\u001b[0m\u001b[0;34m\u001b[0m\u001b[0;34m\u001b[0m\u001b[0m\n\u001b[0m\u001b[1;32m     19\u001b[0m         \u001b[0mx\u001b[0m\u001b[0;34m,\u001b[0m \u001b[0my\u001b[0m \u001b[0;34m=\u001b[0m \u001b[0mx\u001b[0m\u001b[0;34m.\u001b[0m\u001b[0mto\u001b[0m\u001b[0;34m(\u001b[0m\u001b[0mdevice\u001b[0m\u001b[0;34m)\u001b[0m\u001b[0;34m,\u001b[0m \u001b[0my\u001b[0m\u001b[0;34m.\u001b[0m\u001b[0mto\u001b[0m\u001b[0;34m(\u001b[0m\u001b[0mdevice\u001b[0m\u001b[0;34m)\u001b[0m\u001b[0;34m\u001b[0m\u001b[0;34m\u001b[0m\u001b[0m\n\u001b[1;32m     20\u001b[0m         \u001b[0moptimizer\u001b[0m\u001b[0;34m.\u001b[0m\u001b[0mzero_grad\u001b[0m\u001b[0;34m(\u001b[0m\u001b[0;34m)\u001b[0m\u001b[0;34m\u001b[0m\u001b[0;34m\u001b[0m\u001b[0m\n",
            "\u001b[0;32m/usr/local/lib/python3.6/dist-packages/torch/utils/data/dataloader.py\u001b[0m in \u001b[0;36m__next__\u001b[0;34m(self)\u001b[0m\n\u001b[1;32m    361\u001b[0m \u001b[0;34m\u001b[0m\u001b[0m\n\u001b[1;32m    362\u001b[0m     \u001b[0;32mdef\u001b[0m \u001b[0m__next__\u001b[0m\u001b[0;34m(\u001b[0m\u001b[0mself\u001b[0m\u001b[0;34m)\u001b[0m\u001b[0;34m:\u001b[0m\u001b[0;34m\u001b[0m\u001b[0;34m\u001b[0m\u001b[0m\n\u001b[0;32m--> 363\u001b[0;31m         \u001b[0mdata\u001b[0m \u001b[0;34m=\u001b[0m \u001b[0mself\u001b[0m\u001b[0;34m.\u001b[0m\u001b[0m_next_data\u001b[0m\u001b[0;34m(\u001b[0m\u001b[0;34m)\u001b[0m\u001b[0;34m\u001b[0m\u001b[0;34m\u001b[0m\u001b[0m\n\u001b[0m\u001b[1;32m    364\u001b[0m         \u001b[0mself\u001b[0m\u001b[0;34m.\u001b[0m\u001b[0m_num_yielded\u001b[0m \u001b[0;34m+=\u001b[0m \u001b[0;36m1\u001b[0m\u001b[0;34m\u001b[0m\u001b[0;34m\u001b[0m\u001b[0m\n\u001b[1;32m    365\u001b[0m         \u001b[0;32mif\u001b[0m \u001b[0mself\u001b[0m\u001b[0;34m.\u001b[0m\u001b[0m_dataset_kind\u001b[0m \u001b[0;34m==\u001b[0m \u001b[0m_DatasetKind\u001b[0m\u001b[0;34m.\u001b[0m\u001b[0mIterable\u001b[0m \u001b[0;32mand\u001b[0m\u001b[0;31m \u001b[0m\u001b[0;31m\\\u001b[0m\u001b[0;34m\u001b[0m\u001b[0;34m\u001b[0m\u001b[0m\n",
            "\u001b[0;32m/usr/local/lib/python3.6/dist-packages/torch/utils/data/dataloader.py\u001b[0m in \u001b[0;36m_next_data\u001b[0;34m(self)\u001b[0m\n\u001b[1;32m    401\u001b[0m     \u001b[0;32mdef\u001b[0m \u001b[0m_next_data\u001b[0m\u001b[0;34m(\u001b[0m\u001b[0mself\u001b[0m\u001b[0;34m)\u001b[0m\u001b[0;34m:\u001b[0m\u001b[0;34m\u001b[0m\u001b[0;34m\u001b[0m\u001b[0m\n\u001b[1;32m    402\u001b[0m         \u001b[0mindex\u001b[0m \u001b[0;34m=\u001b[0m \u001b[0mself\u001b[0m\u001b[0;34m.\u001b[0m\u001b[0m_next_index\u001b[0m\u001b[0;34m(\u001b[0m\u001b[0;34m)\u001b[0m  \u001b[0;31m# may raise StopIteration\u001b[0m\u001b[0;34m\u001b[0m\u001b[0;34m\u001b[0m\u001b[0m\n\u001b[0;32m--> 403\u001b[0;31m         \u001b[0mdata\u001b[0m \u001b[0;34m=\u001b[0m \u001b[0mself\u001b[0m\u001b[0;34m.\u001b[0m\u001b[0m_dataset_fetcher\u001b[0m\u001b[0;34m.\u001b[0m\u001b[0mfetch\u001b[0m\u001b[0;34m(\u001b[0m\u001b[0mindex\u001b[0m\u001b[0;34m)\u001b[0m  \u001b[0;31m# may raise StopIteration\u001b[0m\u001b[0;34m\u001b[0m\u001b[0;34m\u001b[0m\u001b[0m\n\u001b[0m\u001b[1;32m    404\u001b[0m         \u001b[0;32mif\u001b[0m \u001b[0mself\u001b[0m\u001b[0;34m.\u001b[0m\u001b[0m_pin_memory\u001b[0m\u001b[0;34m:\u001b[0m\u001b[0;34m\u001b[0m\u001b[0;34m\u001b[0m\u001b[0m\n\u001b[1;32m    405\u001b[0m             \u001b[0mdata\u001b[0m \u001b[0;34m=\u001b[0m \u001b[0m_utils\u001b[0m\u001b[0;34m.\u001b[0m\u001b[0mpin_memory\u001b[0m\u001b[0;34m.\u001b[0m\u001b[0mpin_memory\u001b[0m\u001b[0;34m(\u001b[0m\u001b[0mdata\u001b[0m\u001b[0;34m)\u001b[0m\u001b[0;34m\u001b[0m\u001b[0;34m\u001b[0m\u001b[0m\n",
            "\u001b[0;32m/usr/local/lib/python3.6/dist-packages/torch/utils/data/_utils/fetch.py\u001b[0m in \u001b[0;36mfetch\u001b[0;34m(self, possibly_batched_index)\u001b[0m\n\u001b[1;32m     45\u001b[0m         \u001b[0;32melse\u001b[0m\u001b[0;34m:\u001b[0m\u001b[0;34m\u001b[0m\u001b[0;34m\u001b[0m\u001b[0m\n\u001b[1;32m     46\u001b[0m             \u001b[0mdata\u001b[0m \u001b[0;34m=\u001b[0m \u001b[0mself\u001b[0m\u001b[0;34m.\u001b[0m\u001b[0mdataset\u001b[0m\u001b[0;34m[\u001b[0m\u001b[0mpossibly_batched_index\u001b[0m\u001b[0;34m]\u001b[0m\u001b[0;34m\u001b[0m\u001b[0;34m\u001b[0m\u001b[0m\n\u001b[0;32m---> 47\u001b[0;31m         \u001b[0;32mreturn\u001b[0m \u001b[0mself\u001b[0m\u001b[0;34m.\u001b[0m\u001b[0mcollate_fn\u001b[0m\u001b[0;34m(\u001b[0m\u001b[0mdata\u001b[0m\u001b[0;34m)\u001b[0m\u001b[0;34m\u001b[0m\u001b[0;34m\u001b[0m\u001b[0m\n\u001b[0m",
            "\u001b[0;32m<ipython-input-23-edcf567be700>\u001b[0m in \u001b[0;36mcollate\u001b[0;34m(samples)\u001b[0m\n\u001b[1;32m      4\u001b[0m     \u001b[0mlabels\u001b[0m \u001b[0;34m=\u001b[0m \u001b[0;34m[\u001b[0m\u001b[0mx\u001b[0m\u001b[0;34m[\u001b[0m\u001b[0;36m1\u001b[0m\u001b[0;34m]\u001b[0m \u001b[0;32mfor\u001b[0m \u001b[0mx\u001b[0m \u001b[0;32min\u001b[0m \u001b[0msamples\u001b[0m\u001b[0;34m]\u001b[0m\u001b[0;34m\u001b[0m\u001b[0;34m\u001b[0m\u001b[0m\n\u001b[1;32m      5\u001b[0m \u001b[0;34m\u001b[0m\u001b[0m\n\u001b[0;32m----> 6\u001b[0;31m     \u001b[0mbatched_graph\u001b[0m \u001b[0;34m=\u001b[0m \u001b[0mdgl\u001b[0m\u001b[0;34m.\u001b[0m\u001b[0mbatch\u001b[0m\u001b[0;34m(\u001b[0m\u001b[0mgraphs\u001b[0m\u001b[0;34m,\u001b[0m \u001b[0mnode_attrs\u001b[0m\u001b[0;34m=\u001b[0m\u001b[0;34m[\u001b[0m\u001b[0;34m'time'\u001b[0m\u001b[0;34m,\u001b[0m \u001b[0;34m'mag'\u001b[0m\u001b[0;34m,\u001b[0m \u001b[0;34m'magerr'\u001b[0m\u001b[0;34m]\u001b[0m\u001b[0;34m)\u001b[0m\u001b[0;34m\u001b[0m\u001b[0;34m\u001b[0m\u001b[0m\n\u001b[0m\u001b[1;32m      7\u001b[0m     \u001b[0mtargets\u001b[0m \u001b[0;34m=\u001b[0m \u001b[0mtorch\u001b[0m\u001b[0;34m.\u001b[0m\u001b[0mcat\u001b[0m\u001b[0;34m(\u001b[0m\u001b[0mlabels\u001b[0m\u001b[0;34m)\u001b[0m\u001b[0;34m\u001b[0m\u001b[0;34m\u001b[0m\u001b[0m\n\u001b[1;32m      8\u001b[0m \u001b[0;34m\u001b[0m\u001b[0m\n",
            "\u001b[0;32m/usr/local/lib/python3.6/dist-packages/dgl/graph.py\u001b[0m in \u001b[0;36mbatch\u001b[0;34m(graph_list, node_attrs, edge_attrs)\u001b[0m\n\u001b[1;32m   4205\u001b[0m         \u001b[0mbatch_size\u001b[0m \u001b[0;34m+=\u001b[0m \u001b[0mgrh\u001b[0m\u001b[0;34m.\u001b[0m\u001b[0mbatch_size\u001b[0m\u001b[0;34m\u001b[0m\u001b[0;34m\u001b[0m\u001b[0m\n\u001b[1;32m   4206\u001b[0m         \u001b[0mbatch_num_nodes\u001b[0m \u001b[0;34m+=\u001b[0m \u001b[0mgrh\u001b[0m\u001b[0;34m.\u001b[0m\u001b[0mbatch_num_nodes\u001b[0m\u001b[0;34m\u001b[0m\u001b[0;34m\u001b[0m\u001b[0m\n\u001b[0;32m-> 4207\u001b[0;31m         \u001b[0mbatch_num_edges\u001b[0m \u001b[0;34m+=\u001b[0m \u001b[0mgrh\u001b[0m\u001b[0;34m.\u001b[0m\u001b[0mbatch_num_edges\u001b[0m\u001b[0;34m\u001b[0m\u001b[0;34m\u001b[0m\u001b[0m\n\u001b[0m\u001b[1;32m   4208\u001b[0m \u001b[0;34m\u001b[0m\u001b[0m\n\u001b[1;32m   4209\u001b[0m     return DGLGraph(graph_data=batched_index,\n",
            "\u001b[0;32m/usr/local/lib/python3.6/dist-packages/dgl/graph.py\u001b[0m in \u001b[0;36mbatch_num_edges\u001b[0;34m(self)\u001b[0m\n\u001b[1;32m   2178\u001b[0m             \u001b[0;32mreturn\u001b[0m \u001b[0mself\u001b[0m\u001b[0;34m.\u001b[0m\u001b[0m_batch_num_nodes\u001b[0m\u001b[0;34m\u001b[0m\u001b[0;34m\u001b[0m\u001b[0m\n\u001b[1;32m   2179\u001b[0m \u001b[0;34m\u001b[0m\u001b[0m\n\u001b[0;32m-> 2180\u001b[0;31m     \u001b[0;34m@\u001b[0m\u001b[0mproperty\u001b[0m\u001b[0;34m\u001b[0m\u001b[0;34m\u001b[0m\u001b[0m\n\u001b[0m\u001b[1;32m   2181\u001b[0m     \u001b[0;32mdef\u001b[0m \u001b[0mbatch_num_edges\u001b[0m\u001b[0;34m(\u001b[0m\u001b[0mself\u001b[0m\u001b[0;34m)\u001b[0m\u001b[0;34m:\u001b[0m\u001b[0;34m\u001b[0m\u001b[0;34m\u001b[0m\u001b[0m\n\u001b[1;32m   2182\u001b[0m         \"\"\"Number of edges of each graph in this batch.\n",
            "\u001b[0;31mKeyboardInterrupt\u001b[0m: "
          ]
        }
      ]
    },
    {
      "cell_type": "code",
      "metadata": {
        "id": "rU3-bAMS-D-I",
        "colab_type": "code",
        "colab": {}
      },
      "source": [
        "# plot the printed losses:\n",
        "losses = np.array(losses)\n",
        "plt.plot(losses[1:],label='training loss')\n",
        "plt.xlabel('Epoch')\n",
        "plt.legend()\n",
        "plt.grid()\n",
        "plt.show()\n",
        "\n",
        "\n"
      ],
      "execution_count": null,
      "outputs": []
    },
    {
      "cell_type": "code",
      "metadata": {
        "id": "fqbES4Njy_3t",
        "colab_type": "code",
        "colab": {}
      },
      "source": [
        "del train_ds\n",
        "validation_ds = CustomDataset(true2, false2)\n",
        "del true2\n",
        "del false2\n",
        "\n",
        "nx.draw(dgl.to_networkx(validation_ds[20][0]))\n",
        "validflags = [0+a for _, a in validation_ds]\n",
        "print('valid:', sum(validflags), len(validflags)-sum(validflags))\n",
        "evaluate(net, validation_ds)"
      ],
      "execution_count": null,
      "outputs": []
    },
    {
      "cell_type": "markdown",
      "metadata": {
        "id": "2VfHxWg7aL98",
        "colab_type": "text"
      },
      "source": [
        "## Save\n",
        "Don't forget to download"
      ]
    },
    {
      "cell_type": "code",
      "metadata": {
        "id": "2cVQVmottKTu",
        "colab_type": "code",
        "colab": {}
      },
      "source": [
        "timestamp = datetime.now().strftime(\"%d-%m-%Y_%H-%M-%S\")\n",
        "torch.save(net.state_dict(), 'model_' + timestamp + '.pt')"
      ],
      "execution_count": null,
      "outputs": []
    },
    {
      "cell_type": "markdown",
      "metadata": {
        "id": "kaftBfKLtXQw",
        "colab_type": "text"
      },
      "source": [
        "## Validate on the confirmed microlensing events"
      ]
    },
    {
      "cell_type": "code",
      "metadata": {
        "id": "_Dq-zCyjtl4m",
        "colab_type": "code",
        "colab": {}
      },
      "source": [
        "!wget -O /content/confirmed_microlensing.zip https://github.com/erezimm/ML-ML/raw/master/confirmed_microlensing.zip\n",
        "!unzip -q -d /content/ confirmed_microlensing.zip"
      ],
      "execution_count": null,
      "outputs": []
    },
    {
      "cell_type": "code",
      "metadata": {
        "id": "A63etHcZtbTu",
        "colab_type": "code",
        "colab": {}
      },
      "source": [
        "class CustomDatasetPATH(Dataset):\n",
        "    def __init__(self, path):\n",
        "        filelist = glob.glob(path+'/*')\n",
        "        self.graphs = []\n",
        "        self.isMicrolensed = []\n",
        "        for fname in tqdm(filelist):\n",
        "            filebasename = os.path.basename(fname)\n",
        "            if filebasename.startswith('cleanvar'):\n",
        "                microlensed = torch.tensor([0])\n",
        "            elif filebasename.startswith('microlensedconst'):\n",
        "                microlensed = torch.tensor([1])\n",
        "            else:\n",
        "                microlensed = torch.tensor([1])\n",
        "            with open(fname) as f:\n",
        "                data = astropy.io.ascii.read(f.read())\n",
        "                times, mags, magerrs = data['col1'], [], data['col3']\n",
        "                for m, err in zip(data['col2'], magerrs):\n",
        "                    mags.append(round(m, len(str(err).split('.')[1])))\n",
        "                zipped = list(zip(times, mags, magerrs))\n",
        "                zipped.sort(key=lambda tup: tup[0])\n",
        "                times, mags, magerrs = zip(*zipped)\n",
        "                times, mags, magerrs =torch.tensor(times), torch.tensor(mags), torch.tensor(magerrs)\n",
        "                times = times - min(times)\n",
        "                flux = 10 ** (mags/(-2.5))\n",
        "                medflux = torch.median(flux)\n",
        "                flux = flux/medflux\n",
        "                fluxerr = flux * magerrs * np.log(10) * 0.4 / medflux\n",
        "                n = len(times)\n",
        "                g = dgl.DGLGraph()\n",
        "                g.add_nodes(n)\n",
        "                g.ndata['time'] = torch.tensor(times).float()  # days\n",
        "                g.ndata['mag'] = torch.tensor(flux).float()\n",
        "                g.ndata['magerr'] = torch.tensor(fluxerr).float()\n",
        "                #g.add_edges([i for i in range(n)], [(i+1)%n for i in range(n)])\n",
        "                #g.add_edges([i for i in range(n)], [(i-1)%n for i in range(n)])\n",
        "                self.graphs.append(g)\n",
        "                self.isMicrolensed.append(microlensed)\n",
        "    def __len__(self):\n",
        "        return len(self.graphs)\n",
        "    def __getitem__(self, idx):\n",
        "        return self.graphs[idx], self.isMicrolensed[idx]\n",
        "\n",
        "conf_ds = CustomDataset('content/confirmed_microlensing')\n",
        "nx.draw(dgl.to_networkx(conf_ds[20][0]))\n",
        "\n"
      ],
      "execution_count": null,
      "outputs": []
    },
    {
      "cell_type": "code",
      "metadata": {
        "id": "9v4w4pHl6zLp",
        "colab_type": "code",
        "colab": {}
      },
      "source": [
        "evaluate(net, conf_ds)"
      ],
      "execution_count": null,
      "outputs": []
    }
  ]
}